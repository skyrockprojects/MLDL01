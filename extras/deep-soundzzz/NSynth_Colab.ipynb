{
  "nbformat": 4,
  "nbformat_minor": 0,
  "metadata": {
    "colab": {
      "name": "NSynth_Colab.ipynb",
      "version": "0.3.2",
      "views": {},
      "default_view": {},
      "provenance": [
        {
          "file_id": "/piper/depot/google3/learning/brain/research/magenta/models/nsynth/nsynth.ipynb",
          "timestamp": 1521737809688
        },
        {
          "file_id": "1v6KaLXVEtZATEpDuWePF2b_U8tJxDcO3",
          "timestamp": 1521070460872
        }
      ],
      "collapsed_sections": []
    },
    "kernelspec": {
      "display_name": "Python 2",
      "language": "python",
      "name": "python2"
    },
    "accelerator": "GPU"
  },
  "cells": [
    {
      "metadata": {
        "id": "zRmlJYze_29V",
        "colab_type": "text"
      },
      "cell_type": "markdown",
      "source": [
        "Copyright 2017 Google LLC.\n",
        "\n",
        "Licensed under the Apache License, Version 2.0 (the \"License\");\n",
        "you may not use this file except in compliance with the License.\n",
        "You may obtain a copy of the License at\n",
        "\n",
        "https://www.apache.org/licenses/LICENSE-2.0\n",
        "\n",
        "Unless required by applicable law or agreed to in writing, software\n",
        "distributed under the License is distributed on an \"AS IS\" BASIS,\n",
        "WITHOUT WARRANTIES OR CONDITIONS OF ANY KIND, either express or implied.\n",
        "See the License for the specific language governing permissions and\n",
        "limitations under the License.\n",
        "\n"
      ]
    },
    {
      "metadata": {
        "id": "2Axg7pBLtt3V",
        "colab_type": "text"
      },
      "cell_type": "markdown",
      "source": [
        "# E-Z NSynth (NOTE: USE PYTHON 2 W/ GPU)\n",
        "\n",
        "Adapted from: __Neural Audio Synthesis of Musical Notes with WaveNet Autoencoders, ICML 2017__\n",
        "\n",
        "Jesse Engel, Cinjon Resnick, Adam Roberts, Sander Dieleman, Douglas Eck, Karen Simonyan, Mohammad Norouzi\n",
        "\n",
        "# PLUS PARAG MITAL'S NOTEBOOK: https://github.com/tensorflow/magenta-demos/blob/master/jupyter-notebooks/NSynth.ipynb\n",
        "\n",
        "\n",
        "### Other Resources:\n",
        "* [Original Blog Post](https://magenta.tensorflow.org/nsynth)\n",
        "* [NSynth Instrument](https://magenta.tensorflow.org/nsynth-instrument)\n",
        "* [ArXiv Paper](https://arxiv.org/abs/1704.01279)\n",
        "* [Github Code](https://github.com/tensorflow/magenta/tree/master/magenta/models/nsynth)\n",
        "\n"
      ]
    },
    {
      "metadata": {
        "id": "e-2av9upRi0z",
        "colab_type": "text"
      },
      "cell_type": "markdown",
      "source": [
        "# Setup Environment\n",
        "\n",
        "We need to start downloading and choosing a pretrained NSynth model to use. Transfers several GBs, may take a minute or two. Just click Play..."
      ]
    },
    {
      "metadata": {
        "id": "ZA7tNz2zAWvn",
        "colab_type": "code",
        "colab": {
          "autoexec": {
            "startup": false,
            "wait_interval": 0
          },
          "base_uri": "https://localhost:8080/",
          "height": 343
        },
        "cellView": "both",
        "outputId": "891650b1-9a7a-4967-ec91-3814e9ea83fc",
        "executionInfo": {
          "status": "ok",
          "timestamp": 1532865194777,
          "user_tz": -480,
          "elapsed": 131308,
          "user": {
            "displayName": "",
            "photoUrl": "",
            "userId": ""
          }
        }
      },
      "cell_type": "code",
      "source": [
        "#@title Setup Environment\n",
        "#@test {\"output\": \"ignore\"}\n",
        "\n",
        "\n",
        "# Install magenta\n",
        "print('Installing Magenta...\\n')\n",
        "!pip install -q magenta\n",
        "print('Installing ffmpeg...\\n')\n",
        "!echo \"Yes\" | apt-get install ffmpeg > /dev/null\n",
        "\n",
        "\n",
        "print('Downloading Pretrained Models...\\n')\n",
        "# Copy checkpoints from google cloud\n",
        "# Copying 1GB, takes a minute\n",
        "print('Getting Instruments Model...\\n')\n",
        "!gsutil -q -m cp -R gs://download.magenta.tensorflow.org/models/nsynth/wavenet-ckpt.tar /content/\n",
        "print('Getting Voices Model...\\n')\n",
        "!gsutil -q -m cp -R gs://download.magenta.tensorflow.org/models/nsynth/wavenet-voice-ckpt.tar.gz /content/\n",
        "!cd /content/\n",
        "!tar -xvf wavenet-ckpt.tar > /dev/null\n",
        "!tar -xvf wavenet-voice-ckpt.tar.gz > /dev/null\n",
        "\n",
        "\n",
        "print('Importing Modules...\\n')\n",
        "# Load modules and helper functions\n",
        "import os\n",
        "import numpy as np\n",
        "import matplotlib.pyplot as plt\n",
        "from IPython.display import Audio\n",
        "%matplotlib inline\n",
        "\n",
        "from google.colab import files\n",
        "from magenta.models.nsynth import utils\n",
        "from magenta.models.nsynth.wavenet import fastgen\n",
        "from magenta.music.notebook_utils import colab_play as play\n",
        "\n",
        "def upload(sample_length, sr):\n",
        "  '''Upload a .wav file.'''\n",
        "  filemap = files.upload()\n",
        "  file_list, audio_list = [], []\n",
        "  for key, value in filemap.iteritems():\n",
        "    fname = os.path.join('/content/', key)\n",
        "    with open(fname, 'w') as f:\n",
        "      f.write(value)\n",
        "    audio = utils.load_audio(fname, sample_length=sample_length, sr=sr)\n",
        "    file_list.append(fname)\n",
        "    audio_list.append(audio)\n",
        "  return file_list, audio_list\n",
        "\n",
        "download = files.download\n",
        "\n",
        "get_name = lambda f: os.path.splitext(os.path.basename(f))[0]\n",
        "\n",
        "print('Sucess!! Environment is now setup.')\n"
      ],
      "execution_count": 1,
      "outputs": [
        {
          "output_type": "stream",
          "text": [
            "Installing Magenta...\n",
            "\n",
            "Installing ffmpeg...\n",
            "\n",
            "Extracting templates from packages: 100%\n",
            "Downloading Pretrained Models...\n",
            "\n",
            "Getting Instruments Model...\n",
            "\n",
            "Getting Voices Model...\n",
            "\n",
            "Importing Modules...\n",
            "\n",
            "WARNING:tensorflow:From /usr/local/lib/python2.7/dist-packages/magenta/models/nsynth/wavenet/masked.py:116: __init__ (from tensorflow.python.ops.init_ops) is deprecated and will be removed in a future version.\n",
            "Instructions for updating:\n",
            "Use tf.initializers.variance_scaling instead with distribution=uniform to get equivalent behavior.\n",
            "Sucess!! Environment is now setup.\n"
          ],
          "name": "stdout"
        }
      ]
    },
    {
      "metadata": {
        "id": "QyAT8mQhX1Gq",
        "colab_type": "text"
      },
      "cell_type": "markdown",
      "source": [
        "We have two pretrained models to choose from. One trained on the individual instrument notes of the [NSynth Dataset](https://magenta.tensorflow.org/datasets/nsynth) (\"Instruments\"), and another trained on a variety of voices in the wild for an art project (\"Voices\", mixture of singing and speaking). The Instruments model was trained on a larger quantity of data, so tends to generalize a bit better. Neither reconstructs audio perfectly, but both add their own unique character to sounds. Explore them both and see what you like!"
      ]
    },
    {
      "metadata": {
        "id": "gSXXL26bLDCy",
        "colab_type": "code",
        "colab": {
          "autoexec": {
            "startup": false,
            "wait_interval": 0
          },
          "base_uri": "https://localhost:8080/",
          "height": 35
        },
        "cellView": "form",
        "outputId": "5de3b701-b97d-43b1-d6b0-3decc7be3cfd",
        "executionInfo": {
          "status": "ok",
          "timestamp": 1532865195576,
          "user_tz": -480,
          "elapsed": 773,
          "user": {
            "displayName": "",
            "photoUrl": "",
            "userId": ""
          }
        }
      },
      "cell_type": "code",
      "source": [
        "#@title Choose a Model { vertical-output: true, run: \"auto\" }\n",
        "Model = \"Instruments\" #@param [\"Instruments\", \"Voices\"] {type:\"string\"}\n",
        "ckpts = {'Instruments': '/content/wavenet-ckpt/model.ckpt-200000',\n",
        "         'Voices': '/content/wavenet-voice-ckpt/model.ckpt-200000'}\n",
        "\n",
        "ckpt_path = ckpts[Model]\n",
        "print('Using model pretrained on %s.' % Model)"
      ],
      "execution_count": 2,
      "outputs": [
        {
          "output_type": "stream",
          "text": [
            "Using model pretrained on Instruments.\n"
          ],
          "name": "stdout"
        }
      ]
    },
    {
      "metadata": {
        "id": "LTAkswTOcgAp",
        "colab_type": "text"
      },
      "cell_type": "markdown",
      "source": [
        "# Load Sound Files\n",
        "\n",
        "Now it's time for you to load your own sound files for processing. You can use either `.wav` files or `.mp3` files, but in either case they will be converted to `.wav`. All files will be downsampled to 16kHz and cropped / silence padded to `Length` seconds as the input and output to the algorithm.\n",
        "\n",
        "Don't have sounds? You can downloaded free sounds from freesound.org For example:\n",
        "* https://freesound.org/people/MustardPlug/sounds/395058/\n",
        "* https://freesound.org/people/cms4f/sounds/159119/\n",
        "* https://freesound.org/people/juskiddink/sounds/60055/\n",
        "* https://freesound.org/people/Audeption/sounds/418526/\n",
        "* https://freesound.org/people/Jagadamba/sounds/255878/\n",
        "\n",
        "\n",
        "Keep in mind, with the cloud GPU synthesis takes around 4 minutes / 1 second of length."
      ]
    },
    {
      "metadata": {
        "id": "CnSCiX0kA2-5",
        "colab_type": "code",
        "colab": {
          "autoexec": {
            "startup": false,
            "wait_interval": 0
          }
        },
        "cellView": "both"
      },
      "cell_type": "code",
      "source": [
        "#@title Set Sound Length (in Seconds) { vertical-output: true, run: \"auto\" }\n",
        "Length = 2.0 #@param {type:\"number\"}\n",
        "SR = 16000\n",
        "SAMPLE_LENGTH = int(SR * Length)"
      ],
      "execution_count": 0,
      "outputs": []
    },
    {
      "metadata": {
        "id": "c9IufW4mtPAU",
        "colab_type": "text"
      },
      "cell_type": "markdown",
      "source": [
        "Put all your sound files into a single folder and maker sure to select all the files you want to reconstruct / interpolate between. **(Ctrl/Cmd/Shift Click)**"
      ]
    },
    {
      "metadata": {
        "id": "mPwQYyYgBkdp",
        "colab_type": "code",
        "colab": {
          "autoexec": {
            "startup": false,
            "wait_interval": 0
          },
          "resources": {
            "http://localhost:8080/nbextensions/google.colab/files.js": {
              "data": "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",
              "ok": true,
              "headers": [
                [
                  "content-type",
                  "application/javascript"
                ]
              ],
              "status": 200,
              "status_text": ""
            }
          },
          "base_uri": "https://localhost:8080/",
          "height": 71
        },
        "cellView": "both",
        "outputId": "599fae56-a658-44a2-ebb2-360fbdec5aaa",
        "executionInfo": {
          "status": "ok",
          "timestamp": 1532866618772,
          "user_tz": -480,
          "elapsed": 12009,
          "user": {
            "displayName": "",
            "photoUrl": "",
            "userId": ""
          }
        }
      },
      "cell_type": "code",
      "source": [
        "#@title Upload sound files (.wav, .mp3)\n",
        "\n",
        "try:\n",
        "  file_list, audio_list = upload(sample_length=SAMPLE_LENGTH, sr=SR)\n",
        "  names = [get_name(f) for f in file_list]\n",
        "  # Pad and peak normalize\n",
        "  for i in range(len(audio_list)):\n",
        "    audio_list[i] = audio_list[i] / np.abs(audio_list[i]).max()\n",
        "\n",
        "    if len(audio_list[i]) < SAMPLE_LENGTH:\n",
        "      padding = SAMPLE_LENGTH - len(audio_list[i])\n",
        "      audio_list[i] = np.pad(audio_list[i], (0, padding), 'constant')\n",
        "\n",
        "  audio_list = np.array(audio_list)\n",
        "except Exception as e:\n",
        "  print('Upload Cancelled')\n",
        "  print(e)"
      ],
      "execution_count": 12,
      "outputs": [
        {
          "output_type": "display_data",
          "data": {
            "text/plain": [
              "<IPython.core.display.HTML object>"
            ],
            "text/html": [
              "\n",
              "     <input type=\"file\" id=\"files-47cca586-9fba-4e73-878c-e5642241922b\" name=\"files[]\" multiple disabled />\n",
              "     <output id=\"result-47cca586-9fba-4e73-878c-e5642241922b\">\n",
              "      Upload widget is only available when the cell has been executed in the\n",
              "      current browser session. Please rerun this cell to enable.\n",
              "      </output>\n",
              "      <script src=\"/nbextensions/google.colab/files.js\"></script> "
            ]
          },
          "metadata": {
            "tags": []
          }
        },
        {
          "output_type": "stream",
          "text": [
            "Saving TASCAM_0030S12.wav to TASCAM_0030S12.wav\n"
          ],
          "name": "stdout"
        }
      ]
    },
    {
      "metadata": {
        "id": "bQKDlAdW_qKn",
        "colab_type": "text"
      },
      "cell_type": "markdown",
      "source": [
        "# Encode\n",
        "\n",
        "Next we need to encode the audio. This should be relatively fast on a GPU, we will also create interpolations (the midpoints between each encoding) from which to re-synthesize audio."
      ]
    },
    {
      "metadata": {
        "id": "SSr-7vuH_29l",
        "colab_type": "code",
        "colab": {
          "autoexec": {
            "startup": false,
            "wait_interval": 0
          },
          "base_uri": "https://localhost:8080/",
          "height": 71
        },
        "cellView": "both",
        "outputId": "c243ed2d-586c-4143-afdb-79cae1236cf7",
        "executionInfo": {
          "status": "ok",
          "timestamp": 1532866645080,
          "user_tz": -480,
          "elapsed": 9466,
          "user": {
            "displayName": "",
            "photoUrl": "",
            "userId": ""
          }
        }
      },
      "cell_type": "code",
      "source": [
        "#@title Generate Encodings\n",
        "audio = np.array(audio_list)\n",
        "z = fastgen.encode(audio, ckpt_path, SAMPLE_LENGTH)\n",
        "print('Encoded %d files' % z.shape[0])\n",
        "\n",
        "\n",
        "# Start with reconstructions\n",
        "z_list = [z_ for z_ in z]\n",
        "name_list = ['recon_' + name_ for name_ in names]\n",
        "\n",
        "# Add all the mean interpolations\n",
        "n = len(names)\n",
        "for i in range(n - 1):\n",
        "  for j in range(i + 1, n):\n",
        "    new_z = (z[i] + z[j]) / 2.0\n",
        "    new_name = 'interp_' + names[i] + '_X_'+ names[j]\n",
        "    z_list.append(new_z)\n",
        "    name_list.append(new_name)\n",
        "\n",
        "print(\"%d total: %d reconstructions and %d interpolations\" % (len(name_list), n, len(name_list) - n))"
      ],
      "execution_count": 13,
      "outputs": [
        {
          "output_type": "stream",
          "text": [
            "INFO:tensorflow:Restoring parameters from /content/wavenet-ckpt/model.ckpt-200000\n",
            "Encoded 1 files\n",
            "1 total: 1 reconstructions and 0 interpolations\n"
          ],
          "name": "stdout"
        }
      ]
    },
    {
      "metadata": {
        "id": "hKR6CGUe_290",
        "colab_type": "text"
      },
      "cell_type": "markdown",
      "source": [
        "For fun, we can take a look at the encoding of our audio files. They are compressed representations of the audio but have some structure in their own right, (16 numbers, kind of like 16 channels of audio, so there are 16 different lines, colors are arbitrary). "
      ]
    },
    {
      "metadata": {
        "id": "7Cawft23_290",
        "colab_type": "code",
        "colab": {
          "autoexec": {
            "startup": false,
            "wait_interval": 0
          },
          "base_uri": "https://localhost:8080/",
          "height": 618
        },
        "cellView": "both",
        "outputId": "5fcbb360-63b5-4423-b9c9-b5efb43fda58",
        "executionInfo": {
          "status": "ok",
          "timestamp": 1532866672354,
          "user_tz": -480,
          "elapsed": 1274,
          "user": {
            "displayName": "",
            "photoUrl": "",
            "userId": ""
          }
        }
      },
      "cell_type": "code",
      "source": [
        "#@title Visualize Audio and Encoding { vertical-output: true, run: \"auto\" }\n",
        "SoundFile = 0 #@param {type:\"slider\", min:0, max:10, step:1}\n",
        "file_number = SoundFile\n",
        "\n",
        "try:\n",
        "  print(names[file_number])\n",
        "  play(audio_list[file_number], sample_rate=SR)\n",
        "  # fig, axs = plt.subplots(2, 1, figsize=(12, 10))\n",
        "  plt.figure()\n",
        "  plt.plot(audio_list[file_number])\n",
        "  plt.title('Audio Signal')\n",
        "\n",
        "  plt.figure()\n",
        "  plt.plot(z_list[file_number])\n",
        "  plt.title('NSynth Encoding')\n",
        "except Exception as e:\n",
        "  print e"
      ],
      "execution_count": 14,
      "outputs": [
        {
          "output_type": "stream",
          "text": [
            "TASCAM_0030S12\n"
          ],
          "name": "stdout"
        },
        {
          "output_type": "display_data",
          "data": {
            "text/plain": [
              "<IPython.core.display.HTML object>"
            ],
            "text/html": [
              "<div id=\"id_3\"> </div>"
            ]
          },
          "metadata": {
            "tags": []
          }
        },
        {
          "output_type": "display_data",
          "data": {
            "image/png": "[encoded data removed]",
            "text/plain": [
              "<matplotlib.figure.Figure at 0x7f778e309e10>"
            ]
          },
          "metadata": {
            "tags": []
          }
        },
        {
          "output_type": "display_data",
          "data": {
            "image/png": "[encoded data removed]",
            "text/plain": [
              "<matplotlib.figure.Figure at 0x7f778d6c3c50>"
            ]
          },
          "metadata": {
            "tags": []
          }
        }
      ]
    },
    {
      "metadata": {
        "id": "NGQfWut8U8QS",
        "colab_type": "text"
      },
      "cell_type": "markdown",
      "source": [
        "# Synthesize\n",
        "\n",
        "On the GPU, this should take about 4 minutes per 1 second of audio per a batch."
      ]
    },
    {
      "metadata": {
        "id": "3Eh71eovH4NZ",
        "colab_type": "code",
        "colab": {
          "autoexec": {
            "startup": false,
            "wait_interval": 0
          },
          "base_uri": "https://localhost:8080/",
          "height": 5993
        },
        "cellView": "both",
        "outputId": "bfa60c0d-c8cb-46c0-9ee5-1dc7e467b2d3",
        "executionInfo": {
          "status": "ok",
          "timestamp": 1532867661104,
          "user_tz": -480,
          "elapsed": 979282,
          "user": {
            "displayName": "",
            "photoUrl": "",
            "userId": ""
          }
        }
      },
      "cell_type": "code",
      "source": [
        "#@title Synthesize Interpolations\n",
        "print('Total Iterations to Complete: %d\\n' % SAMPLE_LENGTH)\n",
        "\n",
        "encodings = np.array(z_list)\n",
        "save_paths = ['/content/' + name + '.wav' for name in name_list]\n",
        "fastgen.synthesize(encodings,\n",
        "                   save_paths=save_paths,\n",
        "                   checkpoint_path=ckpt_path,\n",
        "                   samples_per_save=int(SAMPLE_LENGTH / 10))"
      ],
      "execution_count": 15,
      "outputs": [
        {
          "output_type": "stream",
          "text": [
            "Total Iterations to Complete: 32000\n",
            "\n",
            "INFO:tensorflow:Restoring parameters from /content/wavenet-ckpt/model.ckpt-200000\n",
            "INFO:tensorflow:Sample: 0\n",
            "INFO:tensorflow:Saving: /content/recon_TASCAM_0030S12.wav\n",
            "INFO:tensorflow:Sample: 100\n",
            "INFO:tensorflow:Sample: 200\n",
            "INFO:tensorflow:Sample: 300\n",
            "INFO:tensorflow:Sample: 400\n",
            "INFO:tensorflow:Sample: 500\n",
            "INFO:tensorflow:Sample: 600\n",
            "INFO:tensorflow:Sample: 700\n",
            "INFO:tensorflow:Sample: 800\n",
            "INFO:tensorflow:Sample: 900\n",
            "INFO:tensorflow:Sample: 1000\n",
            "INFO:tensorflow:Sample: 1100\n",
            "INFO:tensorflow:Sample: 1200\n",
            "INFO:tensorflow:Sample: 1300\n",
            "INFO:tensorflow:Sample: 1400\n",
            "INFO:tensorflow:Sample: 1500\n",
            "INFO:tensorflow:Sample: 1600\n",
            "INFO:tensorflow:Sample: 1700\n",
            "INFO:tensorflow:Sample: 1800\n",
            "INFO:tensorflow:Sample: 1900\n",
            "INFO:tensorflow:Sample: 2000\n",
            "INFO:tensorflow:Sample: 2100\n",
            "INFO:tensorflow:Sample: 2200\n",
            "INFO:tensorflow:Sample: 2300\n",
            "INFO:tensorflow:Sample: 2400\n",
            "INFO:tensorflow:Sample: 2500\n",
            "INFO:tensorflow:Sample: 2600\n",
            "INFO:tensorflow:Sample: 2700\n",
            "INFO:tensorflow:Sample: 2800\n",
            "INFO:tensorflow:Sample: 2900\n",
            "INFO:tensorflow:Sample: 3000\n",
            "INFO:tensorflow:Sample: 3100\n",
            "INFO:tensorflow:Sample: 3200\n",
            "INFO:tensorflow:Saving: /content/recon_TASCAM_0030S12.wav\n",
            "INFO:tensorflow:Sample: 3300\n",
            "INFO:tensorflow:Sample: 3400\n",
            "INFO:tensorflow:Sample: 3500\n",
            "INFO:tensorflow:Sample: 3600\n",
            "INFO:tensorflow:Sample: 3700\n",
            "INFO:tensorflow:Sample: 3800\n",
            "INFO:tensorflow:Sample: 3900\n",
            "INFO:tensorflow:Sample: 4000\n",
            "INFO:tensorflow:Sample: 4100\n",
            "INFO:tensorflow:Sample: 4200\n",
            "INFO:tensorflow:Sample: 4300\n",
            "INFO:tensorflow:Sample: 4400\n",
            "INFO:tensorflow:Sample: 4500\n",
            "INFO:tensorflow:Sample: 4600\n",
            "INFO:tensorflow:Sample: 4700\n",
            "INFO:tensorflow:Sample: 4800\n",
            "INFO:tensorflow:Sample: 4900\n",
            "INFO:tensorflow:Sample: 5000\n",
            "INFO:tensorflow:Sample: 5100\n",
            "INFO:tensorflow:Sample: 5200\n",
            "INFO:tensorflow:Sample: 5300\n",
            "INFO:tensorflow:Sample: 5400\n",
            "INFO:tensorflow:Sample: 5500\n",
            "INFO:tensorflow:Sample: 5600\n",
            "INFO:tensorflow:Sample: 5700\n",
            "INFO:tensorflow:Sample: 5800\n",
            "INFO:tensorflow:Sample: 5900\n",
            "INFO:tensorflow:Sample: 6000\n",
            "INFO:tensorflow:Sample: 6100\n",
            "INFO:tensorflow:Sample: 6200\n",
            "INFO:tensorflow:Sample: 6300\n",
            "INFO:tensorflow:Sample: 6400\n",
            "INFO:tensorflow:Saving: /content/recon_TASCAM_0030S12.wav\n",
            "INFO:tensorflow:Sample: 6500\n",
            "INFO:tensorflow:Sample: 6600\n",
            "INFO:tensorflow:Sample: 6700\n",
            "INFO:tensorflow:Sample: 6800\n",
            "INFO:tensorflow:Sample: 6900\n",
            "INFO:tensorflow:Sample: 7000\n",
            "INFO:tensorflow:Sample: 7100\n",
            "INFO:tensorflow:Sample: 7200\n",
            "INFO:tensorflow:Sample: 7300\n"
          ],
          "name": "stdout"
        },
        {
          "output_type": "stream",
          "text": [
            "INFO:tensorflow:Sample: 7400\n",
            "INFO:tensorflow:Sample: 7500\n",
            "INFO:tensorflow:Sample: 7600\n",
            "INFO:tensorflow:Sample: 7700\n",
            "INFO:tensorflow:Sample: 7800\n",
            "INFO:tensorflow:Sample: 7900\n",
            "INFO:tensorflow:Sample: 8000\n",
            "INFO:tensorflow:Sample: 8100\n",
            "INFO:tensorflow:Sample: 8200\n",
            "INFO:tensorflow:Sample: 8300\n",
            "INFO:tensorflow:Sample: 8400\n",
            "INFO:tensorflow:Sample: 8500\n",
            "INFO:tensorflow:Sample: 8600\n",
            "INFO:tensorflow:Sample: 8700\n",
            "INFO:tensorflow:Sample: 8800\n",
            "INFO:tensorflow:Sample: 8900\n",
            "INFO:tensorflow:Sample: 9000\n",
            "INFO:tensorflow:Sample: 9100\n",
            "INFO:tensorflow:Sample: 9200\n",
            "INFO:tensorflow:Sample: 9300\n",
            "INFO:tensorflow:Sample: 9400\n",
            "INFO:tensorflow:Sample: 9500\n",
            "INFO:tensorflow:Sample: 9600\n",
            "INFO:tensorflow:Saving: /content/recon_TASCAM_0030S12.wav\n",
            "INFO:tensorflow:Sample: 9700\n",
            "INFO:tensorflow:Sample: 9800\n",
            "INFO:tensorflow:Sample: 9900\n",
            "INFO:tensorflow:Sample: 10000\n",
            "INFO:tensorflow:Sample: 10100\n",
            "INFO:tensorflow:Sample: 10200\n",
            "INFO:tensorflow:Sample: 10300\n",
            "INFO:tensorflow:Sample: 10400\n",
            "INFO:tensorflow:Sample: 10500\n",
            "INFO:tensorflow:Sample: 10600\n",
            "INFO:tensorflow:Sample: 10700\n",
            "INFO:tensorflow:Sample: 10800\n",
            "INFO:tensorflow:Sample: 10900\n",
            "INFO:tensorflow:Sample: 11000\n",
            "INFO:tensorflow:Sample: 11100\n",
            "INFO:tensorflow:Sample: 11200\n",
            "INFO:tensorflow:Sample: 11300\n",
            "INFO:tensorflow:Sample: 11400\n",
            "INFO:tensorflow:Sample: 11500\n",
            "INFO:tensorflow:Sample: 11600\n",
            "INFO:tensorflow:Sample: 11700\n",
            "INFO:tensorflow:Sample: 11800\n",
            "INFO:tensorflow:Sample: 11900\n",
            "INFO:tensorflow:Sample: 12000\n",
            "INFO:tensorflow:Sample: 12100\n",
            "INFO:tensorflow:Sample: 12200\n",
            "INFO:tensorflow:Sample: 12300\n",
            "INFO:tensorflow:Sample: 12400\n",
            "INFO:tensorflow:Sample: 12500\n",
            "INFO:tensorflow:Sample: 12600\n",
            "INFO:tensorflow:Sample: 12700\n",
            "INFO:tensorflow:Sample: 12800\n",
            "INFO:tensorflow:Saving: /content/recon_TASCAM_0030S12.wav\n",
            "INFO:tensorflow:Sample: 12900\n",
            "INFO:tensorflow:Sample: 13000\n",
            "INFO:tensorflow:Sample: 13100\n",
            "INFO:tensorflow:Sample: 13200\n",
            "INFO:tensorflow:Sample: 13300\n",
            "INFO:tensorflow:Sample: 13400\n",
            "INFO:tensorflow:Sample: 13500\n",
            "INFO:tensorflow:Sample: 13600\n",
            "INFO:tensorflow:Sample: 13700\n",
            "INFO:tensorflow:Sample: 13800\n",
            "INFO:tensorflow:Sample: 13900\n",
            "INFO:tensorflow:Sample: 14000\n",
            "INFO:tensorflow:Sample: 14100\n",
            "INFO:tensorflow:Sample: 14200\n",
            "INFO:tensorflow:Sample: 14300\n",
            "INFO:tensorflow:Sample: 14400\n",
            "INFO:tensorflow:Sample: 14500\n",
            "INFO:tensorflow:Sample: 14600\n",
            "INFO:tensorflow:Sample: 14700\n",
            "INFO:tensorflow:Sample: 14800\n",
            "INFO:tensorflow:Sample: 14900\n",
            "INFO:tensorflow:Sample: 15000\n",
            "INFO:tensorflow:Sample: 15100\n"
          ],
          "name": "stdout"
        },
        {
          "output_type": "stream",
          "text": [
            "INFO:tensorflow:Sample: 15200\n",
            "INFO:tensorflow:Sample: 15300\n",
            "INFO:tensorflow:Sample: 15400\n",
            "INFO:tensorflow:Sample: 15500\n",
            "INFO:tensorflow:Sample: 15600\n",
            "INFO:tensorflow:Sample: 15700\n",
            "INFO:tensorflow:Sample: 15800\n",
            "INFO:tensorflow:Sample: 15900\n",
            "INFO:tensorflow:Sample: 16000\n",
            "INFO:tensorflow:Saving: /content/recon_TASCAM_0030S12.wav\n",
            "INFO:tensorflow:Sample: 16100\n",
            "INFO:tensorflow:Sample: 16200\n",
            "INFO:tensorflow:Sample: 16300\n",
            "INFO:tensorflow:Sample: 16400\n",
            "INFO:tensorflow:Sample: 16500\n",
            "INFO:tensorflow:Sample: 16600\n",
            "INFO:tensorflow:Sample: 16700\n",
            "INFO:tensorflow:Sample: 16800\n",
            "INFO:tensorflow:Sample: 16900\n",
            "INFO:tensorflow:Sample: 17000\n",
            "INFO:tensorflow:Sample: 17100\n",
            "INFO:tensorflow:Sample: 17200\n",
            "INFO:tensorflow:Sample: 17300\n",
            "INFO:tensorflow:Sample: 17400\n",
            "INFO:tensorflow:Sample: 17500\n",
            "INFO:tensorflow:Sample: 17600\n",
            "INFO:tensorflow:Sample: 17700\n",
            "INFO:tensorflow:Sample: 17800\n",
            "INFO:tensorflow:Sample: 17900\n",
            "INFO:tensorflow:Sample: 18000\n",
            "INFO:tensorflow:Sample: 18100\n",
            "INFO:tensorflow:Sample: 18200\n",
            "INFO:tensorflow:Sample: 18300\n",
            "INFO:tensorflow:Sample: 18400\n",
            "INFO:tensorflow:Sample: 18500\n",
            "INFO:tensorflow:Sample: 18600\n",
            "INFO:tensorflow:Sample: 18700\n",
            "INFO:tensorflow:Sample: 18800\n",
            "INFO:tensorflow:Sample: 18900\n",
            "INFO:tensorflow:Sample: 19000\n",
            "INFO:tensorflow:Sample: 19100\n",
            "INFO:tensorflow:Sample: 19200\n",
            "INFO:tensorflow:Saving: /content/recon_TASCAM_0030S12.wav\n",
            "INFO:tensorflow:Sample: 19300\n",
            "INFO:tensorflow:Sample: 19400\n",
            "INFO:tensorflow:Sample: 19500\n",
            "INFO:tensorflow:Sample: 19600\n",
            "INFO:tensorflow:Sample: 19700\n",
            "INFO:tensorflow:Sample: 19800\n",
            "INFO:tensorflow:Sample: 19900\n",
            "INFO:tensorflow:Sample: 20000\n",
            "INFO:tensorflow:Sample: 20100\n",
            "INFO:tensorflow:Sample: 20200\n",
            "INFO:tensorflow:Sample: 20300\n",
            "INFO:tensorflow:Sample: 20400\n",
            "INFO:tensorflow:Sample: 20500\n",
            "INFO:tensorflow:Sample: 20600\n",
            "INFO:tensorflow:Sample: 20700\n",
            "INFO:tensorflow:Sample: 20800\n",
            "INFO:tensorflow:Sample: 20900\n",
            "INFO:tensorflow:Sample: 21000\n",
            "INFO:tensorflow:Sample: 21100\n",
            "INFO:tensorflow:Sample: 21200\n",
            "INFO:tensorflow:Sample: 21300\n",
            "INFO:tensorflow:Sample: 21400\n",
            "INFO:tensorflow:Sample: 21500\n",
            "INFO:tensorflow:Sample: 21600\n",
            "INFO:tensorflow:Sample: 21700\n",
            "INFO:tensorflow:Sample: 21800\n",
            "INFO:tensorflow:Sample: 21900\n",
            "INFO:tensorflow:Sample: 22000\n",
            "INFO:tensorflow:Sample: 22100\n",
            "INFO:tensorflow:Sample: 22200\n",
            "INFO:tensorflow:Sample: 22300\n",
            "INFO:tensorflow:Sample: 22400\n",
            "INFO:tensorflow:Saving: /content/recon_TASCAM_0030S12.wav\n",
            "INFO:tensorflow:Sample: 22500\n",
            "INFO:tensorflow:Sample: 22600\n",
            "INFO:tensorflow:Sample: 22700\n"
          ],
          "name": "stdout"
        },
        {
          "output_type": "stream",
          "text": [
            "INFO:tensorflow:Sample: 22800\n",
            "INFO:tensorflow:Sample: 22900\n",
            "INFO:tensorflow:Sample: 23000\n",
            "INFO:tensorflow:Sample: 23100\n",
            "INFO:tensorflow:Sample: 23200\n",
            "INFO:tensorflow:Sample: 23300\n",
            "INFO:tensorflow:Sample: 23400\n",
            "INFO:tensorflow:Sample: 23500\n",
            "INFO:tensorflow:Sample: 23600\n",
            "INFO:tensorflow:Sample: 23700\n",
            "INFO:tensorflow:Sample: 23800\n",
            "INFO:tensorflow:Sample: 23900\n",
            "INFO:tensorflow:Sample: 24000\n",
            "INFO:tensorflow:Sample: 24100\n",
            "INFO:tensorflow:Sample: 24200\n",
            "INFO:tensorflow:Sample: 24300\n",
            "INFO:tensorflow:Sample: 24400\n",
            "INFO:tensorflow:Sample: 24500\n",
            "INFO:tensorflow:Sample: 24600\n",
            "INFO:tensorflow:Sample: 24700\n",
            "INFO:tensorflow:Sample: 24800\n",
            "INFO:tensorflow:Sample: 24900\n",
            "INFO:tensorflow:Sample: 25000\n",
            "INFO:tensorflow:Sample: 25100\n",
            "INFO:tensorflow:Sample: 25200\n",
            "INFO:tensorflow:Sample: 25300\n",
            "INFO:tensorflow:Sample: 25400\n",
            "INFO:tensorflow:Sample: 25500\n",
            "INFO:tensorflow:Sample: 25600\n",
            "INFO:tensorflow:Saving: /content/recon_TASCAM_0030S12.wav\n",
            "INFO:tensorflow:Sample: 25700\n",
            "INFO:tensorflow:Sample: 25800\n",
            "INFO:tensorflow:Sample: 25900\n",
            "INFO:tensorflow:Sample: 26000\n",
            "INFO:tensorflow:Sample: 26100\n",
            "INFO:tensorflow:Sample: 26200\n",
            "INFO:tensorflow:Sample: 26300\n",
            "INFO:tensorflow:Sample: 26400\n",
            "INFO:tensorflow:Sample: 26500\n",
            "INFO:tensorflow:Sample: 26600\n",
            "INFO:tensorflow:Sample: 26700\n",
            "INFO:tensorflow:Sample: 26800\n",
            "INFO:tensorflow:Sample: 26900\n",
            "INFO:tensorflow:Sample: 27000\n",
            "INFO:tensorflow:Sample: 27100\n",
            "INFO:tensorflow:Sample: 27200\n",
            "INFO:tensorflow:Sample: 27300\n",
            "INFO:tensorflow:Sample: 27400\n",
            "INFO:tensorflow:Sample: 27500\n",
            "INFO:tensorflow:Sample: 27600\n",
            "INFO:tensorflow:Sample: 27700\n",
            "INFO:tensorflow:Sample: 27800\n",
            "INFO:tensorflow:Sample: 27900\n",
            "INFO:tensorflow:Sample: 28000\n",
            "INFO:tensorflow:Sample: 28100\n",
            "INFO:tensorflow:Sample: 28200\n",
            "INFO:tensorflow:Sample: 28300\n",
            "INFO:tensorflow:Sample: 28400\n",
            "INFO:tensorflow:Sample: 28500\n",
            "INFO:tensorflow:Sample: 28600\n",
            "INFO:tensorflow:Sample: 28700\n",
            "INFO:tensorflow:Sample: 28800\n",
            "INFO:tensorflow:Saving: /content/recon_TASCAM_0030S12.wav\n",
            "INFO:tensorflow:Sample: 28900\n",
            "INFO:tensorflow:Sample: 29000\n",
            "INFO:tensorflow:Sample: 29100\n",
            "INFO:tensorflow:Sample: 29200\n",
            "INFO:tensorflow:Sample: 29300\n",
            "INFO:tensorflow:Sample: 29400\n",
            "INFO:tensorflow:Sample: 29500\n",
            "INFO:tensorflow:Sample: 29600\n",
            "INFO:tensorflow:Sample: 29700\n",
            "INFO:tensorflow:Sample: 29800\n",
            "INFO:tensorflow:Sample: 29900\n",
            "INFO:tensorflow:Sample: 30000\n",
            "INFO:tensorflow:Sample: 30100\n",
            "INFO:tensorflow:Sample: 30200\n",
            "INFO:tensorflow:Sample: 30300\n",
            "INFO:tensorflow:Sample: 30400\n",
            "INFO:tensorflow:Sample: 30500\n"
          ],
          "name": "stdout"
        },
        {
          "output_type": "stream",
          "text": [
            "INFO:tensorflow:Sample: 30600\n",
            "INFO:tensorflow:Sample: 30700\n",
            "INFO:tensorflow:Sample: 30800\n",
            "INFO:tensorflow:Sample: 30900\n",
            "INFO:tensorflow:Sample: 31000\n",
            "INFO:tensorflow:Sample: 31100\n",
            "INFO:tensorflow:Sample: 31200\n",
            "INFO:tensorflow:Sample: 31300\n",
            "INFO:tensorflow:Sample: 31400\n",
            "INFO:tensorflow:Sample: 31500\n",
            "INFO:tensorflow:Sample: 31600\n",
            "INFO:tensorflow:Sample: 31700\n",
            "INFO:tensorflow:Saving: /content/recon_TASCAM_0030S12.wav\n"
          ],
          "name": "stdout"
        }
      ]
    },
    {
      "metadata": {
        "id": "Cm4Yz4VvPyRX",
        "colab_type": "code",
        "colab": {
          "autoexec": {
            "startup": false,
            "wait_interval": 0
          },
          "base_uri": "https://localhost:8080/",
          "height": 35
        },
        "cellView": "both",
        "outputId": "43e9630c-1002-4c16-c933-0f0aa4e03aca",
        "executionInfo": {
          "status": "ok",
          "timestamp": 1532867724955,
          "user_tz": -480,
          "elapsed": 19082,
          "user": {
            "displayName": "",
            "photoUrl": "",
            "userId": ""
          }
        }
      },
      "cell_type": "code",
      "source": [
        "#@title Download Interpolations\n",
        "for fname in save_paths:\n",
        "  print('Downloading: %s' % fname.split('/')[-1])\n",
        "  download(fname)"
      ],
      "execution_count": 18,
      "outputs": [
        {
          "output_type": "stream",
          "text": [
            "Downloading: recon_TASCAM_0030S12.wav\n"
          ],
          "name": "stdout"
        }
      ]
    },
    {
      "metadata": {
        "id": "ToDMo5PbC78w",
        "colab_type": "code",
        "colab": {
          "autoexec": {
            "startup": false,
            "wait_interval": 0
          },
          "base_uri": "https://localhost:8080/",
          "height": 239
        },
        "cellView": "both",
        "outputId": "06063a1f-49f3-4b08-a21d-474ed346d88b",
        "executionInfo": {
          "status": "ok",
          "timestamp": 1532867749721,
          "user_tz": -480,
          "elapsed": 9201,
          "user": {
            "displayName": "",
            "photoUrl": "",
            "userId": ""
          }
        }
      },
      "cell_type": "code",
      "source": [
        "#@title Listen to the outputs\n",
        "\n",
        "print(\"Originals:\\n\")\n",
        "for fname in file_list:\n",
        "  synth_audio = utils.load_audio(fname,\n",
        "                                 sample_length=SAMPLE_LENGTH,\n",
        "                                 sr=SR)\n",
        "  print(get_name(fname))\n",
        "  play(synth_audio, sample_rate=SR)\n",
        "\n",
        "for i, fname in enumerate(save_paths):\n",
        "  if i == 0:\n",
        "    print(\"Reconstructions:\\n\")\n",
        "  if i == len(file_list):\n",
        "    print(\"Interpolations:\\n\")\n",
        "  synth_audio = utils.load_audio(fname,\n",
        "                                 sample_length=SAMPLE_LENGTH,\n",
        "                                 sr=SR)\n",
        "  print(get_name(fname))\n",
        "  play(synth_audio, sample_rate=SR)"
      ],
      "execution_count": 19,
      "outputs": [
        {
          "output_type": "stream",
          "text": [
            "Originals:\n",
            "\n",
            "TASCAM_0030S12\n"
          ],
          "name": "stdout"
        },
        {
          "output_type": "display_data",
          "data": {
            "text/plain": [
              "<IPython.core.display.HTML object>"
            ],
            "text/html": [
              "<div id=\"id_4\"> </div>"
            ]
          },
          "metadata": {
            "tags": []
          }
        },
        {
          "output_type": "stream",
          "text": [
            "Reconstructions:\n",
            "\n",
            "recon_TASCAM_0030S12\n"
          ],
          "name": "stdout"
        },
        {
          "output_type": "display_data",
          "data": {
            "text/plain": [
              "<IPython.core.display.HTML object>"
            ],
            "text/html": [
              "<div id=\"id_5\"> </div>"
            ]
          },
          "metadata": {
            "tags": []
          }
        }
      ]
    },
    {
      "metadata": {
        "id": "dVtqgSzM5ifM",
        "colab_type": "code",
        "colab": {
          "autoexec": {
            "startup": false,
            "wait_interval": 0
          }
        }
      },
      "cell_type": "code",
      "source": [
        "\n",
        "\n",
        "# use image interpolation to stretch the encoding: (pip install scikit-image)\n",
        "try:\n",
        "    from skimage.transform import resize\n",
        "except ImportError:\n",
        "    !pip install scikit-image\n",
        "    from skimage.transform import resize"
      ],
      "execution_count": 0,
      "outputs": []
    },
    {
      "metadata": {
        "id": "-uK62cTdBNJV",
        "colab_type": "text"
      },
      "cell_type": "markdown",
      "source": [
        "Here's a utility function to help you stretch your own encoding. It uses skimage.transform and will retain the range of values. Images typically only have a range of 0-1, but the encodings aren't actually images so we'll keep track of their min/max in order to stretch them like images."
      ]
    },
    {
      "metadata": {
        "id": "ZSQ39CFGBTKp",
        "colab_type": "code",
        "colab": {
          "autoexec": {
            "startup": false,
            "wait_interval": 0
          }
        }
      },
      "cell_type": "code",
      "source": [
        "def timestretch(encodings, factor):\n",
        "    min_encoding, max_encoding = z.min(), z.max()\n",
        "    encodings_norm = (encodings - min_encoding) / (max_encoding - min_encoding)\n",
        "    timestretches = []\n",
        "    for encoding_i in encodings_norm:\n",
        "        stretched = resize(encoding_i, (int(encoding_i.shape[0] * factor), encoding_i.shape[1]), mode='reflect')\n",
        "        stretched = (stretched * (max_encoding - min_encoding)) + min_encoding\n",
        "        timestretches.append(stretched)\n",
        "    return np.array(timestretches)"
      ],
      "execution_count": 0,
      "outputs": []
    },
    {
      "metadata": {
        "id": "tL2jIWgHBcSA",
        "colab_type": "code",
        "colab": {
          "autoexec": {
            "startup": false,
            "wait_interval": 0
          }
        }
      },
      "cell_type": "code",
      "source": [
        "z_encoding_slower = timestretch(encodings, 1.5)\n",
        "z_encoding_faster = timestretch(encodings, 0.5)"
      ],
      "execution_count": 0,
      "outputs": []
    },
    {
      "metadata": {
        "id": "z5PJP1LhJeLf",
        "colab_type": "code",
        "colab": {
          "autoexec": {
            "startup": false,
            "wait_interval": 0
          },
          "base_uri": "https://localhost:8080/",
          "height": 461
        },
        "outputId": "9962f863-8976-4df9-9f3b-107d0f472861",
        "executionInfo": {
          "status": "ok",
          "timestamp": 1532869945242,
          "user_tz": -480,
          "elapsed": 1421,
          "user": {
            "displayName": "",
            "photoUrl": "",
            "userId": ""
          }
        }
      },
      "cell_type": "code",
      "source": [
        "fig, axs = plt.subplots(3, 1, figsize=(10, 7), sharex=True, sharey=True)\n",
        "axs[0].plot(z[0]); \n",
        "axs[0].set_title('Encoding (Normal Speed)')\n",
        "axs[1].plot(z_encoding_faster[0]);\n",
        "axs[1].set_title('Encoding (Faster))')\n",
        "axs[2].plot(z_encoding_slower[0]);\n",
        "axs[2].set_title('Encoding (Slower)')"
      ],
      "execution_count": 29,
      "outputs": [
        {
          "output_type": "execute_result",
          "data": {
            "text/plain": [
              "Text(0.5,1,u'Encoding (Slower)')"
            ]
          },
          "metadata": {
            "tags": []
          },
          "execution_count": 29
        },
        {
          "output_type": "display_data",
          "data": {
            "image/png": "[encoded data removed]",
            "text/plain": [
              "<matplotlib.figure.Figure at 0x7f778ef9e350>"
            ]
          },
          "metadata": {
            "tags": []
          }
        }
      ]
    },
    {
      "metadata": {
        "id": "DDfCV0qSLAnS",
        "colab_type": "code",
        "colab": {
          "autoexec": {
            "startup": false,
            "wait_interval": 0
          },
          "base_uri": "https://localhost:8080/",
          "height": 3005
        },
        "outputId": "91917fca-dc23-4080-ae23-08d5d901e2e7",
        "executionInfo": {
          "status": "ok",
          "timestamp": 1532871345247,
          "user_tz": -480,
          "elapsed": 496062,
          "user": {
            "displayName": "",
            "photoUrl": "",
            "userId": ""
          }
        }
      },
      "cell_type": "code",
      "source": [
        "# TO-DO - build all in function w/flags for which processing to apply to batches\n",
        "# Start with reconstructions\n",
        "z_list = [z_ for z_ in z]\n",
        "name_list = ['fast_stretch_' + name_ for name_ in names]\n",
        "\n",
        "# Add all the mean interpolations\n",
        "n = len(names)\n",
        "for i in range(n - 1):\n",
        "  for j in range(i + 1, n):\n",
        "    new_z = (z[i] + z[j]) / 2.0\n",
        "    new_name = 'interp_' + names[i] + '_X_'+ names[j]\n",
        "    z_list.append(new_z)\n",
        "    name_list.append(new_name)\n",
        "\n",
        "save_paths = ['/content/' + name + '.wav' for name in name_list]    \n",
        "\n",
        "fastgen.synthesize(z_encoding_faster, save_paths=save_paths,\n",
        "                   checkpoint_path=ckpt_path,\n",
        "                   samples_per_save=int(SAMPLE_LENGTH / 10))"
      ],
      "execution_count": 35,
      "outputs": [
        {
          "output_type": "stream",
          "text": [
            "INFO:tensorflow:Restoring parameters from /content/wavenet-ckpt/model.ckpt-200000\n",
            "INFO:tensorflow:Sample: 0\n",
            "INFO:tensorflow:Saving: /content/fast_stretch_TASCAM_0030S12.wav\n",
            "INFO:tensorflow:Sample: 100\n",
            "INFO:tensorflow:Sample: 200\n",
            "INFO:tensorflow:Sample: 300\n",
            "INFO:tensorflow:Sample: 400\n",
            "INFO:tensorflow:Sample: 500\n",
            "INFO:tensorflow:Sample: 600\n",
            "INFO:tensorflow:Sample: 700\n",
            "INFO:tensorflow:Sample: 800\n",
            "INFO:tensorflow:Sample: 900\n",
            "INFO:tensorflow:Sample: 1000\n",
            "INFO:tensorflow:Sample: 1100\n",
            "INFO:tensorflow:Sample: 1200\n",
            "INFO:tensorflow:Sample: 1300\n",
            "INFO:tensorflow:Sample: 1400\n",
            "INFO:tensorflow:Sample: 1500\n",
            "INFO:tensorflow:Sample: 1600\n",
            "INFO:tensorflow:Sample: 1700\n",
            "INFO:tensorflow:Sample: 1800\n",
            "INFO:tensorflow:Sample: 1900\n",
            "INFO:tensorflow:Sample: 2000\n",
            "INFO:tensorflow:Sample: 2100\n",
            "INFO:tensorflow:Sample: 2200\n",
            "INFO:tensorflow:Sample: 2300\n",
            "INFO:tensorflow:Sample: 2400\n",
            "INFO:tensorflow:Sample: 2500\n",
            "INFO:tensorflow:Sample: 2600\n",
            "INFO:tensorflow:Sample: 2700\n",
            "INFO:tensorflow:Sample: 2800\n",
            "INFO:tensorflow:Sample: 2900\n",
            "INFO:tensorflow:Sample: 3000\n",
            "INFO:tensorflow:Sample: 3100\n",
            "INFO:tensorflow:Sample: 3200\n",
            "INFO:tensorflow:Saving: /content/fast_stretch_TASCAM_0030S12.wav\n",
            "INFO:tensorflow:Sample: 3300\n",
            "INFO:tensorflow:Sample: 3400\n",
            "INFO:tensorflow:Sample: 3500\n",
            "INFO:tensorflow:Sample: 3600\n",
            "INFO:tensorflow:Sample: 3700\n",
            "INFO:tensorflow:Sample: 3800\n",
            "INFO:tensorflow:Sample: 3900\n",
            "INFO:tensorflow:Sample: 4000\n",
            "INFO:tensorflow:Sample: 4100\n",
            "INFO:tensorflow:Sample: 4200\n",
            "INFO:tensorflow:Sample: 4300\n",
            "INFO:tensorflow:Sample: 4400\n",
            "INFO:tensorflow:Sample: 4500\n",
            "INFO:tensorflow:Sample: 4600\n",
            "INFO:tensorflow:Sample: 4700\n",
            "INFO:tensorflow:Sample: 4800\n",
            "INFO:tensorflow:Sample: 4900\n",
            "INFO:tensorflow:Sample: 5000\n",
            "INFO:tensorflow:Sample: 5100\n",
            "INFO:tensorflow:Sample: 5200\n",
            "INFO:tensorflow:Sample: 5300\n",
            "INFO:tensorflow:Sample: 5400\n",
            "INFO:tensorflow:Sample: 5500\n",
            "INFO:tensorflow:Sample: 5600\n",
            "INFO:tensorflow:Sample: 5700\n",
            "INFO:tensorflow:Sample: 5800\n",
            "INFO:tensorflow:Sample: 5900\n",
            "INFO:tensorflow:Sample: 6000\n",
            "INFO:tensorflow:Sample: 6100\n",
            "INFO:tensorflow:Sample: 6200\n",
            "INFO:tensorflow:Sample: 6300\n",
            "INFO:tensorflow:Sample: 6400\n",
            "INFO:tensorflow:Saving: /content/fast_stretch_TASCAM_0030S12.wav\n",
            "INFO:tensorflow:Sample: 6500\n",
            "INFO:tensorflow:Sample: 6600\n",
            "INFO:tensorflow:Sample: 6700\n",
            "INFO:tensorflow:Sample: 6800\n",
            "INFO:tensorflow:Sample: 6900\n",
            "INFO:tensorflow:Sample: 7000\n",
            "INFO:tensorflow:Sample: 7100\n",
            "INFO:tensorflow:Sample: 7200\n",
            "INFO:tensorflow:Sample: 7300\n",
            "INFO:tensorflow:Sample: 7400\n"
          ],
          "name": "stdout"
        },
        {
          "output_type": "stream",
          "text": [
            "INFO:tensorflow:Sample: 7500\n",
            "INFO:tensorflow:Sample: 7600\n",
            "INFO:tensorflow:Sample: 7700\n",
            "INFO:tensorflow:Sample: 7800\n",
            "INFO:tensorflow:Sample: 7900\n",
            "INFO:tensorflow:Sample: 8000\n",
            "INFO:tensorflow:Sample: 8100\n",
            "INFO:tensorflow:Sample: 8200\n",
            "INFO:tensorflow:Sample: 8300\n",
            "INFO:tensorflow:Sample: 8400\n",
            "INFO:tensorflow:Sample: 8500\n",
            "INFO:tensorflow:Sample: 8600\n",
            "INFO:tensorflow:Sample: 8700\n",
            "INFO:tensorflow:Sample: 8800\n",
            "INFO:tensorflow:Sample: 8900\n",
            "INFO:tensorflow:Sample: 9000\n",
            "INFO:tensorflow:Sample: 9100\n",
            "INFO:tensorflow:Sample: 9200\n",
            "INFO:tensorflow:Sample: 9300\n",
            "INFO:tensorflow:Sample: 9400\n",
            "INFO:tensorflow:Sample: 9500\n",
            "INFO:tensorflow:Sample: 9600\n",
            "INFO:tensorflow:Saving: /content/fast_stretch_TASCAM_0030S12.wav\n",
            "INFO:tensorflow:Sample: 9700\n",
            "INFO:tensorflow:Sample: 9800\n",
            "INFO:tensorflow:Sample: 9900\n",
            "INFO:tensorflow:Sample: 10000\n",
            "INFO:tensorflow:Sample: 10100\n",
            "INFO:tensorflow:Sample: 10200\n",
            "INFO:tensorflow:Sample: 10300\n",
            "INFO:tensorflow:Sample: 10400\n",
            "INFO:tensorflow:Sample: 10500\n",
            "INFO:tensorflow:Sample: 10600\n",
            "INFO:tensorflow:Sample: 10700\n",
            "INFO:tensorflow:Sample: 10800\n",
            "INFO:tensorflow:Sample: 10900\n",
            "INFO:tensorflow:Sample: 11000\n",
            "INFO:tensorflow:Sample: 11100\n",
            "INFO:tensorflow:Sample: 11200\n",
            "INFO:tensorflow:Sample: 11300\n",
            "INFO:tensorflow:Sample: 11400\n",
            "INFO:tensorflow:Sample: 11500\n",
            "INFO:tensorflow:Sample: 11600\n",
            "INFO:tensorflow:Sample: 11700\n",
            "INFO:tensorflow:Sample: 11800\n",
            "INFO:tensorflow:Sample: 11900\n",
            "INFO:tensorflow:Sample: 12000\n",
            "INFO:tensorflow:Sample: 12100\n",
            "INFO:tensorflow:Sample: 12200\n",
            "INFO:tensorflow:Sample: 12300\n",
            "INFO:tensorflow:Sample: 12400\n",
            "INFO:tensorflow:Sample: 12500\n",
            "INFO:tensorflow:Sample: 12600\n",
            "INFO:tensorflow:Sample: 12700\n",
            "INFO:tensorflow:Sample: 12800\n",
            "INFO:tensorflow:Saving: /content/fast_stretch_TASCAM_0030S12.wav\n",
            "INFO:tensorflow:Sample: 12900\n",
            "INFO:tensorflow:Sample: 13000\n",
            "INFO:tensorflow:Sample: 13100\n",
            "INFO:tensorflow:Sample: 13200\n",
            "INFO:tensorflow:Sample: 13300\n",
            "INFO:tensorflow:Sample: 13400\n",
            "INFO:tensorflow:Sample: 13500\n",
            "INFO:tensorflow:Sample: 13600\n",
            "INFO:tensorflow:Sample: 13700\n",
            "INFO:tensorflow:Sample: 13800\n",
            "INFO:tensorflow:Sample: 13900\n",
            "INFO:tensorflow:Sample: 14000\n",
            "INFO:tensorflow:Sample: 14100\n",
            "INFO:tensorflow:Sample: 14200\n",
            "INFO:tensorflow:Sample: 14300\n",
            "INFO:tensorflow:Sample: 14400\n",
            "INFO:tensorflow:Sample: 14500\n",
            "INFO:tensorflow:Sample: 14600\n",
            "INFO:tensorflow:Sample: 14700\n",
            "INFO:tensorflow:Sample: 14800\n",
            "INFO:tensorflow:Sample: 14900\n",
            "INFO:tensorflow:Sample: 15000\n",
            "INFO:tensorflow:Sample: 15100\n",
            "INFO:tensorflow:Sample: 15200\n"
          ],
          "name": "stdout"
        },
        {
          "output_type": "stream",
          "text": [
            "INFO:tensorflow:Sample: 15300\n",
            "INFO:tensorflow:Sample: 15400\n",
            "INFO:tensorflow:Sample: 15500\n",
            "INFO:tensorflow:Sample: 15600\n",
            "INFO:tensorflow:Sample: 15700\n",
            "INFO:tensorflow:Sample: 15800\n",
            "INFO:tensorflow:Saving: /content/fast_stretch_TASCAM_0030S12.wav\n"
          ],
          "name": "stdout"
        }
      ]
    },
    {
      "metadata": {
        "id": "YyJh10W0Qz5q",
        "colab_type": "code",
        "colab": {
          "autoexec": {
            "startup": false,
            "wait_interval": 0
          },
          "base_uri": "https://localhost:8080/",
          "height": 35
        },
        "outputId": "36e9160e-6750-4f63-ca7f-70deb1f21603",
        "executionInfo": {
          "status": "ok",
          "timestamp": 1532871562469,
          "user_tz": -480,
          "elapsed": 2008,
          "user": {
            "displayName": "",
            "photoUrl": "",
            "userId": ""
          }
        }
      },
      "cell_type": "code",
      "source": [
        "for fname in save_paths:\n",
        "  print('Downloading: %s' % fname.split('/')[-1])\n",
        "  download(fname)"
      ],
      "execution_count": 36,
      "outputs": [
        {
          "output_type": "stream",
          "text": [
            "Downloading: fast_stretch_TASCAM_0030S12.wav\n"
          ],
          "name": "stdout"
        }
      ]
    },
    {
      "metadata": {
        "id": "uw2rcjD3Q-W6",
        "colab_type": "code",
        "colab": {
          "autoexec": {
            "startup": false,
            "wait_interval": 0
          },
          "base_uri": "https://localhost:8080/",
          "height": 239
        },
        "outputId": "2d8513c0-88dd-4963-a138-c45d1beca80d",
        "executionInfo": {
          "status": "ok",
          "timestamp": 1532871733687,
          "user_tz": -480,
          "elapsed": 1396,
          "user": {
            "displayName": "",
            "photoUrl": "",
            "userId": ""
          }
        }
      },
      "cell_type": "code",
      "source": [
        "print(\"Originals:\\n\")\n",
        "for fname in file_list:\n",
        "  synth_audio = utils.load_audio(fname,\n",
        "                                 sample_length=SAMPLE_LENGTH,\n",
        "                                 sr=SR)\n",
        "  print(get_name(fname))\n",
        "  play(synth_audio, sample_rate=SR)\n",
        "\n",
        "for i, fname in enumerate(save_paths):\n",
        "  if i == 0:\n",
        "    print(\"Reconstructions:\\n\")\n",
        "  if i == len(file_list):\n",
        "    print(\"Interpolations:\\n\")\n",
        "  synth_audio = utils.load_audio(fname,\n",
        "                                 sample_length=SAMPLE_LENGTH,\n",
        "                                 sr=SR)\n",
        "  print(get_name(fname))\n",
        "  play(synth_audio, sample_rate=SR)"
      ],
      "execution_count": 37,
      "outputs": [
        {
          "output_type": "stream",
          "text": [
            "Originals:\n",
            "\n",
            "TASCAM_0030S12\n"
          ],
          "name": "stdout"
        },
        {
          "output_type": "display_data",
          "data": {
            "text/plain": [
              "<IPython.core.display.HTML object>"
            ],
            "text/html": [
              "<div id=\"id_6\"> </div>"
            ]
          },
          "metadata": {
            "tags": []
          }
        },
        {
          "output_type": "stream",
          "text": [
            "Reconstructions:\n",
            "\n",
            "fast_stretch_TASCAM_0030S12\n"
          ],
          "name": "stdout"
        },
        {
          "output_type": "display_data",
          "data": {
            "text/plain": [
              "<IPython.core.display.HTML object>"
            ],
            "text/html": [
              "<div id=\"id_7\"> </div>"
            ]
          },
          "metadata": {
            "tags": []
          }
        }
      ]
    },
    {
      "metadata": {
        "id": "AKSXhbAMOHH_",
        "colab_type": "code",
        "colab": {
          "autoexec": {
            "startup": false,
            "wait_interval": 0
          },
          "base_uri": "https://localhost:8080/",
          "height": 8909
        },
        "outputId": "5ced4822-979e-4514-caee-da4c1c965f69",
        "executionInfo": {
          "status": "ok",
          "timestamp": 1532873236483,
          "user_tz": -480,
          "elapsed": 1476072,
          "user": {
            "displayName": "",
            "photoUrl": "",
            "userId": ""
          }
        }
      },
      "cell_type": "code",
      "source": [
        "# TO-DO - build all in function w/flags for which processing to apply to batches\n",
        "# Start with reconstructions\n",
        "z_list = [z_ for z_ in z]\n",
        "name_list = ['slow_stretch_' + name_ for name_ in names]\n",
        "\n",
        "# Add all the mean interpolations\n",
        "n = len(names)\n",
        "for i in range(n - 1):\n",
        "  for j in range(i + 1, n):\n",
        "    new_z = (z[i] + z[j]) / 2.0\n",
        "    new_name = 'interp_' + names[i] + '_X_'+ names[j]\n",
        "    z_list.append(new_z)\n",
        "    name_list.append(new_name)\n",
        "\n",
        "save_paths = ['/content/' + name + '.wav' for name in name_list]    \n",
        "\n",
        "fastgen.synthesize(z_encoding_slower, save_paths=save_paths,\n",
        "                   checkpoint_path=ckpt_path,\n",
        "                   samples_per_save=int(SAMPLE_LENGTH / 10))"
      ],
      "execution_count": 38,
      "outputs": [
        {
          "output_type": "stream",
          "text": [
            "INFO:tensorflow:Restoring parameters from /content/wavenet-ckpt/model.ckpt-200000\n",
            "INFO:tensorflow:Sample: 0\n",
            "INFO:tensorflow:Saving: /content/slow_stretch_TASCAM_0030S12.wav\n",
            "INFO:tensorflow:Sample: 100\n",
            "INFO:tensorflow:Sample: 200\n",
            "INFO:tensorflow:Sample: 300\n",
            "INFO:tensorflow:Sample: 400\n",
            "INFO:tensorflow:Sample: 500\n",
            "INFO:tensorflow:Sample: 600\n",
            "INFO:tensorflow:Sample: 700\n",
            "INFO:tensorflow:Sample: 800\n",
            "INFO:tensorflow:Sample: 900\n",
            "INFO:tensorflow:Sample: 1000\n",
            "INFO:tensorflow:Sample: 1100\n",
            "INFO:tensorflow:Sample: 1200\n",
            "INFO:tensorflow:Sample: 1300\n",
            "INFO:tensorflow:Sample: 1400\n",
            "INFO:tensorflow:Sample: 1500\n",
            "INFO:tensorflow:Sample: 1600\n",
            "INFO:tensorflow:Sample: 1700\n",
            "INFO:tensorflow:Sample: 1800\n",
            "INFO:tensorflow:Sample: 1900\n",
            "INFO:tensorflow:Sample: 2000\n",
            "INFO:tensorflow:Sample: 2100\n",
            "INFO:tensorflow:Sample: 2200\n",
            "INFO:tensorflow:Sample: 2300\n",
            "INFO:tensorflow:Sample: 2400\n",
            "INFO:tensorflow:Sample: 2500\n",
            "INFO:tensorflow:Sample: 2600\n",
            "INFO:tensorflow:Sample: 2700\n",
            "INFO:tensorflow:Sample: 2800\n",
            "INFO:tensorflow:Sample: 2900\n",
            "INFO:tensorflow:Sample: 3000\n",
            "INFO:tensorflow:Sample: 3100\n",
            "INFO:tensorflow:Sample: 3200\n",
            "INFO:tensorflow:Saving: /content/slow_stretch_TASCAM_0030S12.wav\n",
            "INFO:tensorflow:Sample: 3300\n",
            "INFO:tensorflow:Sample: 3400\n",
            "INFO:tensorflow:Sample: 3500\n",
            "INFO:tensorflow:Sample: 3600\n",
            "INFO:tensorflow:Sample: 3700\n",
            "INFO:tensorflow:Sample: 3800\n",
            "INFO:tensorflow:Sample: 3900\n",
            "INFO:tensorflow:Sample: 4000\n",
            "INFO:tensorflow:Sample: 4100\n",
            "INFO:tensorflow:Sample: 4200\n",
            "INFO:tensorflow:Sample: 4300\n",
            "INFO:tensorflow:Sample: 4400\n",
            "INFO:tensorflow:Sample: 4500\n",
            "INFO:tensorflow:Sample: 4600\n",
            "INFO:tensorflow:Sample: 4700\n",
            "INFO:tensorflow:Sample: 4800\n",
            "INFO:tensorflow:Sample: 4900\n",
            "INFO:tensorflow:Sample: 5000\n",
            "INFO:tensorflow:Sample: 5100\n",
            "INFO:tensorflow:Sample: 5200\n",
            "INFO:tensorflow:Sample: 5300\n",
            "INFO:tensorflow:Sample: 5400\n",
            "INFO:tensorflow:Sample: 5500\n",
            "INFO:tensorflow:Sample: 5600\n",
            "INFO:tensorflow:Sample: 5700\n",
            "INFO:tensorflow:Sample: 5800\n",
            "INFO:tensorflow:Sample: 5900\n",
            "INFO:tensorflow:Sample: 6000\n",
            "INFO:tensorflow:Sample: 6100\n",
            "INFO:tensorflow:Sample: 6200\n",
            "INFO:tensorflow:Sample: 6300\n",
            "INFO:tensorflow:Sample: 6400\n",
            "INFO:tensorflow:Saving: /content/slow_stretch_TASCAM_0030S12.wav\n",
            "INFO:tensorflow:Sample: 6500\n",
            "INFO:tensorflow:Sample: 6600\n",
            "INFO:tensorflow:Sample: 6700\n",
            "INFO:tensorflow:Sample: 6800\n",
            "INFO:tensorflow:Sample: 6900\n",
            "INFO:tensorflow:Sample: 7000\n",
            "INFO:tensorflow:Sample: 7100\n",
            "INFO:tensorflow:Sample: 7200\n",
            "INFO:tensorflow:Sample: 7300\n",
            "INFO:tensorflow:Sample: 7400\n"
          ],
          "name": "stdout"
        },
        {
          "output_type": "stream",
          "text": [
            "INFO:tensorflow:Sample: 7500\n",
            "INFO:tensorflow:Sample: 7600\n",
            "INFO:tensorflow:Sample: 7700\n",
            "INFO:tensorflow:Sample: 7800\n",
            "INFO:tensorflow:Sample: 7900\n",
            "INFO:tensorflow:Sample: 8000\n",
            "INFO:tensorflow:Sample: 8100\n",
            "INFO:tensorflow:Sample: 8200\n",
            "INFO:tensorflow:Sample: 8300\n",
            "INFO:tensorflow:Sample: 8400\n",
            "INFO:tensorflow:Sample: 8500\n",
            "INFO:tensorflow:Sample: 8600\n",
            "INFO:tensorflow:Sample: 8700\n",
            "INFO:tensorflow:Sample: 8800\n",
            "INFO:tensorflow:Sample: 8900\n",
            "INFO:tensorflow:Sample: 9000\n",
            "INFO:tensorflow:Sample: 9100\n",
            "INFO:tensorflow:Sample: 9200\n",
            "INFO:tensorflow:Sample: 9300\n",
            "INFO:tensorflow:Sample: 9400\n",
            "INFO:tensorflow:Sample: 9500\n",
            "INFO:tensorflow:Sample: 9600\n",
            "INFO:tensorflow:Saving: /content/slow_stretch_TASCAM_0030S12.wav\n",
            "INFO:tensorflow:Sample: 9700\n",
            "INFO:tensorflow:Sample: 9800\n",
            "INFO:tensorflow:Sample: 9900\n",
            "INFO:tensorflow:Sample: 10000\n",
            "INFO:tensorflow:Sample: 10100\n",
            "INFO:tensorflow:Sample: 10200\n",
            "INFO:tensorflow:Sample: 10300\n",
            "INFO:tensorflow:Sample: 10400\n",
            "INFO:tensorflow:Sample: 10500\n",
            "INFO:tensorflow:Sample: 10600\n",
            "INFO:tensorflow:Sample: 10700\n",
            "INFO:tensorflow:Sample: 10800\n",
            "INFO:tensorflow:Sample: 10900\n",
            "INFO:tensorflow:Sample: 11000\n",
            "INFO:tensorflow:Sample: 11100\n",
            "INFO:tensorflow:Sample: 11200\n",
            "INFO:tensorflow:Sample: 11300\n",
            "INFO:tensorflow:Sample: 11400\n",
            "INFO:tensorflow:Sample: 11500\n",
            "INFO:tensorflow:Sample: 11600\n",
            "INFO:tensorflow:Sample: 11700\n",
            "INFO:tensorflow:Sample: 11800\n",
            "INFO:tensorflow:Sample: 11900\n",
            "INFO:tensorflow:Sample: 12000\n",
            "INFO:tensorflow:Sample: 12100\n",
            "INFO:tensorflow:Sample: 12200\n",
            "INFO:tensorflow:Sample: 12300\n",
            "INFO:tensorflow:Sample: 12400\n",
            "INFO:tensorflow:Sample: 12500\n",
            "INFO:tensorflow:Sample: 12600\n",
            "INFO:tensorflow:Sample: 12700\n",
            "INFO:tensorflow:Sample: 12800\n",
            "INFO:tensorflow:Saving: /content/slow_stretch_TASCAM_0030S12.wav\n",
            "INFO:tensorflow:Sample: 12900\n",
            "INFO:tensorflow:Sample: 13000\n",
            "INFO:tensorflow:Sample: 13100\n",
            "INFO:tensorflow:Sample: 13200\n",
            "INFO:tensorflow:Sample: 13300\n",
            "INFO:tensorflow:Sample: 13400\n",
            "INFO:tensorflow:Sample: 13500\n",
            "INFO:tensorflow:Sample: 13600\n",
            "INFO:tensorflow:Sample: 13700\n",
            "INFO:tensorflow:Sample: 13800\n",
            "INFO:tensorflow:Sample: 13900\n",
            "INFO:tensorflow:Sample: 14000\n",
            "INFO:tensorflow:Sample: 14100\n",
            "INFO:tensorflow:Sample: 14200\n",
            "INFO:tensorflow:Sample: 14300\n",
            "INFO:tensorflow:Sample: 14400\n",
            "INFO:tensorflow:Sample: 14500\n",
            "INFO:tensorflow:Sample: 14600\n",
            "INFO:tensorflow:Sample: 14700\n",
            "INFO:tensorflow:Sample: 14800\n",
            "INFO:tensorflow:Sample: 14900\n",
            "INFO:tensorflow:Sample: 15000\n",
            "INFO:tensorflow:Sample: 15100\n",
            "INFO:tensorflow:Sample: 15200\n"
          ],
          "name": "stdout"
        },
        {
          "output_type": "stream",
          "text": [
            "INFO:tensorflow:Sample: 15300\n",
            "INFO:tensorflow:Sample: 15400\n",
            "INFO:tensorflow:Sample: 15500\n",
            "INFO:tensorflow:Sample: 15600\n",
            "INFO:tensorflow:Sample: 15700\n",
            "INFO:tensorflow:Sample: 15800\n",
            "INFO:tensorflow:Sample: 15900\n",
            "INFO:tensorflow:Sample: 16000\n",
            "INFO:tensorflow:Saving: /content/slow_stretch_TASCAM_0030S12.wav\n",
            "INFO:tensorflow:Sample: 16100\n",
            "INFO:tensorflow:Sample: 16200\n",
            "INFO:tensorflow:Sample: 16300\n",
            "INFO:tensorflow:Sample: 16400\n",
            "INFO:tensorflow:Sample: 16500\n",
            "INFO:tensorflow:Sample: 16600\n",
            "INFO:tensorflow:Sample: 16700\n",
            "INFO:tensorflow:Sample: 16800\n",
            "INFO:tensorflow:Sample: 16900\n",
            "INFO:tensorflow:Sample: 17000\n",
            "INFO:tensorflow:Sample: 17100\n",
            "INFO:tensorflow:Sample: 17200\n",
            "INFO:tensorflow:Sample: 17300\n",
            "INFO:tensorflow:Sample: 17400\n",
            "INFO:tensorflow:Sample: 17500\n",
            "INFO:tensorflow:Sample: 17600\n",
            "INFO:tensorflow:Sample: 17700\n",
            "INFO:tensorflow:Sample: 17800\n",
            "INFO:tensorflow:Sample: 17900\n",
            "INFO:tensorflow:Sample: 18000\n",
            "INFO:tensorflow:Sample: 18100\n",
            "INFO:tensorflow:Sample: 18200\n",
            "INFO:tensorflow:Sample: 18300\n",
            "INFO:tensorflow:Sample: 18400\n",
            "INFO:tensorflow:Sample: 18500\n",
            "INFO:tensorflow:Sample: 18600\n",
            "INFO:tensorflow:Sample: 18700\n",
            "INFO:tensorflow:Sample: 18800\n",
            "INFO:tensorflow:Sample: 18900\n",
            "INFO:tensorflow:Sample: 19000\n",
            "INFO:tensorflow:Sample: 19100\n",
            "INFO:tensorflow:Sample: 19200\n",
            "INFO:tensorflow:Saving: /content/slow_stretch_TASCAM_0030S12.wav\n",
            "INFO:tensorflow:Sample: 19300\n",
            "INFO:tensorflow:Sample: 19400\n",
            "INFO:tensorflow:Sample: 19500\n",
            "INFO:tensorflow:Sample: 19600\n",
            "INFO:tensorflow:Sample: 19700\n",
            "INFO:tensorflow:Sample: 19800\n",
            "INFO:tensorflow:Sample: 19900\n",
            "INFO:tensorflow:Sample: 20000\n",
            "INFO:tensorflow:Sample: 20100\n",
            "INFO:tensorflow:Sample: 20200\n",
            "INFO:tensorflow:Sample: 20300\n",
            "INFO:tensorflow:Sample: 20400\n",
            "INFO:tensorflow:Sample: 20500\n",
            "INFO:tensorflow:Sample: 20600\n",
            "INFO:tensorflow:Sample: 20700\n",
            "INFO:tensorflow:Sample: 20800\n",
            "INFO:tensorflow:Sample: 20900\n",
            "INFO:tensorflow:Sample: 21000\n",
            "INFO:tensorflow:Sample: 21100\n",
            "INFO:tensorflow:Sample: 21200\n",
            "INFO:tensorflow:Sample: 21300\n",
            "INFO:tensorflow:Sample: 21400\n",
            "INFO:tensorflow:Sample: 21500\n",
            "INFO:tensorflow:Sample: 21600\n",
            "INFO:tensorflow:Sample: 21700\n",
            "INFO:tensorflow:Sample: 21800\n",
            "INFO:tensorflow:Sample: 21900\n",
            "INFO:tensorflow:Sample: 22000\n",
            "INFO:tensorflow:Sample: 22100\n",
            "INFO:tensorflow:Sample: 22200\n",
            "INFO:tensorflow:Sample: 22300\n",
            "INFO:tensorflow:Sample: 22400\n",
            "INFO:tensorflow:Saving: /content/slow_stretch_TASCAM_0030S12.wav\n",
            "INFO:tensorflow:Sample: 22500\n",
            "INFO:tensorflow:Sample: 22600\n",
            "INFO:tensorflow:Sample: 22700\n",
            "INFO:tensorflow:Sample: 22800\n"
          ],
          "name": "stdout"
        },
        {
          "output_type": "stream",
          "text": [
            "INFO:tensorflow:Sample: 22900\n",
            "INFO:tensorflow:Sample: 23000\n",
            "INFO:tensorflow:Sample: 23100\n",
            "INFO:tensorflow:Sample: 23200\n",
            "INFO:tensorflow:Sample: 23300\n",
            "INFO:tensorflow:Sample: 23400\n",
            "INFO:tensorflow:Sample: 23500\n",
            "INFO:tensorflow:Sample: 23600\n",
            "INFO:tensorflow:Sample: 23700\n",
            "INFO:tensorflow:Sample: 23800\n",
            "INFO:tensorflow:Sample: 23900\n",
            "INFO:tensorflow:Sample: 24000\n",
            "INFO:tensorflow:Sample: 24100\n",
            "INFO:tensorflow:Sample: 24200\n",
            "INFO:tensorflow:Sample: 24300\n",
            "INFO:tensorflow:Sample: 24400\n",
            "INFO:tensorflow:Sample: 24500\n",
            "INFO:tensorflow:Sample: 24600\n",
            "INFO:tensorflow:Sample: 24700\n",
            "INFO:tensorflow:Sample: 24800\n",
            "INFO:tensorflow:Sample: 24900\n",
            "INFO:tensorflow:Sample: 25000\n",
            "INFO:tensorflow:Sample: 25100\n",
            "INFO:tensorflow:Sample: 25200\n",
            "INFO:tensorflow:Sample: 25300\n",
            "INFO:tensorflow:Sample: 25400\n",
            "INFO:tensorflow:Sample: 25500\n",
            "INFO:tensorflow:Sample: 25600\n",
            "INFO:tensorflow:Saving: /content/slow_stretch_TASCAM_0030S12.wav\n",
            "INFO:tensorflow:Sample: 25700\n",
            "INFO:tensorflow:Sample: 25800\n",
            "INFO:tensorflow:Sample: 25900\n",
            "INFO:tensorflow:Sample: 26000\n",
            "INFO:tensorflow:Sample: 26100\n",
            "INFO:tensorflow:Sample: 26200\n",
            "INFO:tensorflow:Sample: 26300\n",
            "INFO:tensorflow:Sample: 26400\n",
            "INFO:tensorflow:Sample: 26500\n",
            "INFO:tensorflow:Sample: 26600\n",
            "INFO:tensorflow:Sample: 26700\n",
            "INFO:tensorflow:Sample: 26800\n",
            "INFO:tensorflow:Sample: 26900\n",
            "INFO:tensorflow:Sample: 27000\n",
            "INFO:tensorflow:Sample: 27100\n",
            "INFO:tensorflow:Sample: 27200\n",
            "INFO:tensorflow:Sample: 27300\n",
            "INFO:tensorflow:Sample: 27400\n",
            "INFO:tensorflow:Sample: 27500\n",
            "INFO:tensorflow:Sample: 27600\n",
            "INFO:tensorflow:Sample: 27700\n",
            "INFO:tensorflow:Sample: 27800\n",
            "INFO:tensorflow:Sample: 27900\n",
            "INFO:tensorflow:Sample: 28000\n",
            "INFO:tensorflow:Sample: 28100\n",
            "INFO:tensorflow:Sample: 28200\n",
            "INFO:tensorflow:Sample: 28300\n",
            "INFO:tensorflow:Sample: 28400\n",
            "INFO:tensorflow:Sample: 28500\n",
            "INFO:tensorflow:Sample: 28600\n",
            "INFO:tensorflow:Sample: 28700\n",
            "INFO:tensorflow:Sample: 28800\n",
            "INFO:tensorflow:Saving: /content/slow_stretch_TASCAM_0030S12.wav\n",
            "INFO:tensorflow:Sample: 28900\n",
            "INFO:tensorflow:Sample: 29000\n",
            "INFO:tensorflow:Sample: 29100\n",
            "INFO:tensorflow:Sample: 29200\n",
            "INFO:tensorflow:Sample: 29300\n",
            "INFO:tensorflow:Sample: 29400\n",
            "INFO:tensorflow:Sample: 29500\n",
            "INFO:tensorflow:Sample: 29600\n",
            "INFO:tensorflow:Sample: 29700\n",
            "INFO:tensorflow:Sample: 29800\n",
            "INFO:tensorflow:Sample: 29900\n",
            "INFO:tensorflow:Sample: 30000\n",
            "INFO:tensorflow:Sample: 30100\n",
            "INFO:tensorflow:Sample: 30200\n",
            "INFO:tensorflow:Sample: 30300\n",
            "INFO:tensorflow:Sample: 30400\n",
            "INFO:tensorflow:Sample: 30500\n",
            "INFO:tensorflow:Sample: 30600\n"
          ],
          "name": "stdout"
        },
        {
          "output_type": "stream",
          "text": [
            "INFO:tensorflow:Sample: 30700\n",
            "INFO:tensorflow:Sample: 30800\n",
            "INFO:tensorflow:Sample: 30900\n",
            "INFO:tensorflow:Sample: 31000\n",
            "INFO:tensorflow:Sample: 31100\n",
            "INFO:tensorflow:Sample: 31200\n",
            "INFO:tensorflow:Sample: 31300\n",
            "INFO:tensorflow:Sample: 31400\n",
            "INFO:tensorflow:Sample: 31500\n",
            "INFO:tensorflow:Sample: 31600\n",
            "INFO:tensorflow:Sample: 31700\n",
            "INFO:tensorflow:Sample: 31800\n",
            "INFO:tensorflow:Sample: 31900\n",
            "INFO:tensorflow:Sample: 32000\n",
            "INFO:tensorflow:Saving: /content/slow_stretch_TASCAM_0030S12.wav\n",
            "INFO:tensorflow:Sample: 32100\n",
            "INFO:tensorflow:Sample: 32200\n",
            "INFO:tensorflow:Sample: 32300\n",
            "INFO:tensorflow:Sample: 32400\n",
            "INFO:tensorflow:Sample: 32500\n",
            "INFO:tensorflow:Sample: 32600\n",
            "INFO:tensorflow:Sample: 32700\n",
            "INFO:tensorflow:Sample: 32800\n",
            "INFO:tensorflow:Sample: 32900\n",
            "INFO:tensorflow:Sample: 33000\n",
            "INFO:tensorflow:Sample: 33100\n",
            "INFO:tensorflow:Sample: 33200\n",
            "INFO:tensorflow:Sample: 33300\n",
            "INFO:tensorflow:Sample: 33400\n",
            "INFO:tensorflow:Sample: 33500\n",
            "INFO:tensorflow:Sample: 33600\n",
            "INFO:tensorflow:Sample: 33700\n",
            "INFO:tensorflow:Sample: 33800\n",
            "INFO:tensorflow:Sample: 33900\n",
            "INFO:tensorflow:Sample: 34000\n",
            "INFO:tensorflow:Sample: 34100\n",
            "INFO:tensorflow:Sample: 34200\n",
            "INFO:tensorflow:Sample: 34300\n",
            "INFO:tensorflow:Sample: 34400\n",
            "INFO:tensorflow:Sample: 34500\n",
            "INFO:tensorflow:Sample: 34600\n",
            "INFO:tensorflow:Sample: 34700\n",
            "INFO:tensorflow:Sample: 34800\n",
            "INFO:tensorflow:Sample: 34900\n",
            "INFO:tensorflow:Sample: 35000\n",
            "INFO:tensorflow:Sample: 35100\n",
            "INFO:tensorflow:Sample: 35200\n",
            "INFO:tensorflow:Saving: /content/slow_stretch_TASCAM_0030S12.wav\n",
            "INFO:tensorflow:Sample: 35300\n",
            "INFO:tensorflow:Sample: 35400\n",
            "INFO:tensorflow:Sample: 35500\n",
            "INFO:tensorflow:Sample: 35600\n",
            "INFO:tensorflow:Sample: 35700\n",
            "INFO:tensorflow:Sample: 35800\n",
            "INFO:tensorflow:Sample: 35900\n",
            "INFO:tensorflow:Sample: 36000\n",
            "INFO:tensorflow:Sample: 36100\n",
            "INFO:tensorflow:Sample: 36200\n",
            "INFO:tensorflow:Sample: 36300\n",
            "INFO:tensorflow:Sample: 36400\n",
            "INFO:tensorflow:Sample: 36500\n",
            "INFO:tensorflow:Sample: 36600\n",
            "INFO:tensorflow:Sample: 36700\n",
            "INFO:tensorflow:Sample: 36800\n",
            "INFO:tensorflow:Sample: 36900\n",
            "INFO:tensorflow:Sample: 37000\n",
            "INFO:tensorflow:Sample: 37100\n",
            "INFO:tensorflow:Sample: 37200\n",
            "INFO:tensorflow:Sample: 37300\n",
            "INFO:tensorflow:Sample: 37400\n",
            "INFO:tensorflow:Sample: 37500\n",
            "INFO:tensorflow:Sample: 37600\n",
            "INFO:tensorflow:Sample: 37700\n",
            "INFO:tensorflow:Sample: 37800\n",
            "INFO:tensorflow:Sample: 37900\n",
            "INFO:tensorflow:Sample: 38000\n",
            "INFO:tensorflow:Sample: 38100\n",
            "INFO:tensorflow:Sample: 38200\n",
            "INFO:tensorflow:Sample: 38300\n"
          ],
          "name": "stdout"
        },
        {
          "output_type": "stream",
          "text": [
            "INFO:tensorflow:Sample: 38400\n",
            "INFO:tensorflow:Saving: /content/slow_stretch_TASCAM_0030S12.wav\n",
            "INFO:tensorflow:Sample: 38500\n",
            "INFO:tensorflow:Sample: 38600\n",
            "INFO:tensorflow:Sample: 38700\n",
            "INFO:tensorflow:Sample: 38800\n",
            "INFO:tensorflow:Sample: 38900\n",
            "INFO:tensorflow:Sample: 39000\n",
            "INFO:tensorflow:Sample: 39100\n",
            "INFO:tensorflow:Sample: 39200\n",
            "INFO:tensorflow:Sample: 39300\n",
            "INFO:tensorflow:Sample: 39400\n",
            "INFO:tensorflow:Sample: 39500\n",
            "INFO:tensorflow:Sample: 39600\n",
            "INFO:tensorflow:Sample: 39700\n",
            "INFO:tensorflow:Sample: 39800\n",
            "INFO:tensorflow:Sample: 39900\n",
            "INFO:tensorflow:Sample: 40000\n",
            "INFO:tensorflow:Sample: 40100\n",
            "INFO:tensorflow:Sample: 40200\n",
            "INFO:tensorflow:Sample: 40300\n",
            "INFO:tensorflow:Sample: 40400\n",
            "INFO:tensorflow:Sample: 40500\n",
            "INFO:tensorflow:Sample: 40600\n",
            "INFO:tensorflow:Sample: 40700\n",
            "INFO:tensorflow:Sample: 40800\n",
            "INFO:tensorflow:Sample: 40900\n",
            "INFO:tensorflow:Sample: 41000\n",
            "INFO:tensorflow:Sample: 41100\n",
            "INFO:tensorflow:Sample: 41200\n",
            "INFO:tensorflow:Sample: 41300\n",
            "INFO:tensorflow:Sample: 41400\n",
            "INFO:tensorflow:Sample: 41500\n",
            "INFO:tensorflow:Sample: 41600\n",
            "INFO:tensorflow:Saving: /content/slow_stretch_TASCAM_0030S12.wav\n",
            "INFO:tensorflow:Sample: 41700\n",
            "INFO:tensorflow:Sample: 41800\n",
            "INFO:tensorflow:Sample: 41900\n",
            "INFO:tensorflow:Sample: 42000\n",
            "INFO:tensorflow:Sample: 42100\n",
            "INFO:tensorflow:Sample: 42200\n",
            "INFO:tensorflow:Sample: 42300\n",
            "INFO:tensorflow:Sample: 42400\n",
            "INFO:tensorflow:Sample: 42500\n",
            "INFO:tensorflow:Sample: 42600\n",
            "INFO:tensorflow:Sample: 42700\n",
            "INFO:tensorflow:Sample: 42800\n",
            "INFO:tensorflow:Sample: 42900\n",
            "INFO:tensorflow:Sample: 43000\n",
            "INFO:tensorflow:Sample: 43100\n",
            "INFO:tensorflow:Sample: 43200\n",
            "INFO:tensorflow:Sample: 43300\n",
            "INFO:tensorflow:Sample: 43400\n",
            "INFO:tensorflow:Sample: 43500\n",
            "INFO:tensorflow:Sample: 43600\n",
            "INFO:tensorflow:Sample: 43700\n",
            "INFO:tensorflow:Sample: 43800\n",
            "INFO:tensorflow:Sample: 43900\n",
            "INFO:tensorflow:Sample: 44000\n",
            "INFO:tensorflow:Sample: 44100\n",
            "INFO:tensorflow:Sample: 44200\n",
            "INFO:tensorflow:Sample: 44300\n",
            "INFO:tensorflow:Sample: 44400\n",
            "INFO:tensorflow:Sample: 44500\n",
            "INFO:tensorflow:Sample: 44600\n",
            "INFO:tensorflow:Sample: 44700\n",
            "INFO:tensorflow:Sample: 44800\n",
            "INFO:tensorflow:Saving: /content/slow_stretch_TASCAM_0030S12.wav\n",
            "INFO:tensorflow:Sample: 44900\n",
            "INFO:tensorflow:Sample: 45000\n",
            "INFO:tensorflow:Sample: 45100\n",
            "INFO:tensorflow:Sample: 45200\n",
            "INFO:tensorflow:Sample: 45300\n",
            "INFO:tensorflow:Sample: 45400\n",
            "INFO:tensorflow:Sample: 45500\n",
            "INFO:tensorflow:Sample: 45600\n",
            "INFO:tensorflow:Sample: 45700\n",
            "INFO:tensorflow:Sample: 45800\n",
            "INFO:tensorflow:Sample: 45900\n"
          ],
          "name": "stdout"
        },
        {
          "output_type": "stream",
          "text": [
            "INFO:tensorflow:Sample: 46000\n",
            "INFO:tensorflow:Sample: 46100\n",
            "INFO:tensorflow:Sample: 46200\n",
            "INFO:tensorflow:Sample: 46300\n",
            "INFO:tensorflow:Sample: 46400\n",
            "INFO:tensorflow:Sample: 46500\n",
            "INFO:tensorflow:Sample: 46600\n",
            "INFO:tensorflow:Sample: 46700\n",
            "INFO:tensorflow:Sample: 46800\n",
            "INFO:tensorflow:Sample: 46900\n",
            "INFO:tensorflow:Sample: 47000\n",
            "INFO:tensorflow:Sample: 47100\n",
            "INFO:tensorflow:Sample: 47200\n",
            "INFO:tensorflow:Sample: 47300\n",
            "INFO:tensorflow:Sample: 47400\n",
            "INFO:tensorflow:Sample: 47500\n",
            "INFO:tensorflow:Sample: 47600\n",
            "INFO:tensorflow:Saving: /content/slow_stretch_TASCAM_0030S12.wav\n"
          ],
          "name": "stdout"
        }
      ]
    },
    {
      "metadata": {
        "id": "E_qO4uKjSKIg",
        "colab_type": "code",
        "colab": {
          "autoexec": {
            "startup": false,
            "wait_interval": 0
          },
          "base_uri": "https://localhost:8080/",
          "height": 35
        },
        "outputId": "29531b70-1652-46b1-8010-e8984b810028",
        "executionInfo": {
          "status": "ok",
          "timestamp": 1532873286744,
          "user_tz": -480,
          "elapsed": 1944,
          "user": {
            "displayName": "",
            "photoUrl": "",
            "userId": ""
          }
        }
      },
      "cell_type": "code",
      "source": [
        "for fname in save_paths:\n",
        "  print('Downloading: %s' % fname.split('/')[-1])\n",
        "  download(fname)"
      ],
      "execution_count": 39,
      "outputs": [
        {
          "output_type": "stream",
          "text": [
            "Downloading: slow_stretch_TASCAM_0030S12.wav\n"
          ],
          "name": "stdout"
        }
      ]
    },
    {
      "metadata": {
        "id": "ZynQ1Lc4SKYr",
        "colab_type": "code",
        "colab": {
          "autoexec": {
            "startup": false,
            "wait_interval": 0
          },
          "base_uri": "https://localhost:8080/",
          "height": 239
        },
        "outputId": "ec238b36-42af-4baa-c8ac-fb7021d2ad87",
        "executionInfo": {
          "status": "ok",
          "timestamp": 1532873293656,
          "user_tz": -480,
          "elapsed": 914,
          "user": {
            "displayName": "",
            "photoUrl": "",
            "userId": ""
          }
        }
      },
      "cell_type": "code",
      "source": [
        "print(\"Originals:\\n\")\n",
        "for fname in file_list:\n",
        "  synth_audio = utils.load_audio(fname,\n",
        "                                 sample_length=SAMPLE_LENGTH,\n",
        "                                 sr=SR)\n",
        "  print(get_name(fname))\n",
        "  play(synth_audio, sample_rate=SR)\n",
        "\n",
        "for i, fname in enumerate(save_paths):\n",
        "  if i == 0:\n",
        "    print(\"Reconstructions:\\n\")\n",
        "  if i == len(file_list):\n",
        "    print(\"Interpolations:\\n\")\n",
        "  synth_audio = utils.load_audio(fname,\n",
        "                                 sample_length=SAMPLE_LENGTH,\n",
        "                                 sr=SR)\n",
        "  print(get_name(fname))\n",
        "  play(synth_audio, sample_rate=SR)"
      ],
      "execution_count": 40,
      "outputs": [
        {
          "output_type": "stream",
          "text": [
            "Originals:\n",
            "\n",
            "TASCAM_0030S12\n"
          ],
          "name": "stdout"
        },
        {
          "output_type": "display_data",
          "data": {
            "text/plain": [
              "<IPython.core.display.HTML object>"
            ],
            "text/html": [
              "<div id=\"id_8\"> </div>"
            ]
          },
          "metadata": {
            "tags": []
          }
        },
        {
          "output_type": "stream",
          "text": [
            "Reconstructions:\n",
            "\n",
            "slow_stretch_TASCAM_0030S12\n"
          ],
          "name": "stdout"
        },
        {
          "output_type": "display_data",
          "data": {
            "text/plain": [
              "<IPython.core.display.HTML object>"
            ],
            "text/html": [
              "<div id=\"id_9\"> </div>"
            ]
          },
          "metadata": {
            "tags": []
          }
        }
      ]
    },
    {
      "metadata": {
        "id": "8q3G1WDYOxkM",
        "colab_type": "text"
      },
      "cell_type": "markdown",
      "source": [
        "Part 3: Interpolating Sounds\n",
        "Now let's try something more experimental. NSynth released plenty of great examples of what happens when you mix the embeddings of different sounds: https://magenta.tensorflow.org/nsynth-instrument. We'll do the same by combining the original + the fast_stretch with the slow_stretch. To do this we have to concatenate z and z_encoding_faster so they have the same dimension as z_encoding_slower. Otherwise, if your files had the same sizes already you can just simply add them and divide (e.g. (file_1 + file_2)/2.)"
      ]
    },
    {
      "metadata": {
        "id": "tjHwFRuXO51C",
        "colab_type": "code",
        "colab": {
          "autoexec": {
            "startup": false,
            "wait_interval": 0
          },
          "base_uri": "https://localhost:8080/",
          "height": 316
        },
        "outputId": "62d43438-ad4b-4ad8-9c95-e892385c12ac",
        "executionInfo": {
          "status": "ok",
          "timestamp": 1532873977210,
          "user_tz": -480,
          "elapsed": 10163,
          "user": {
            "displayName": "",
            "photoUrl": "",
            "userId": ""
          }
        }
      },
      "cell_type": "code",
      "source": [
        "# TO-DO Change so this is interpolated between well-generalized voice and poorly generalized voice\n",
        "# Concatenate along axis 1 because this axis contains sample lengths\n",
        "z_mix = (np.concatenate((z, z_encoding_faster), axis=1) + z_encoding_slower) / 2.0\n",
        "fastgen.encode(audio, ckpt_path, SAMPLE_LENGTH)\n",
        "plt.figure()\n",
        "plt.plot(z_mix[0])\n",
        "plt.title('z_interpolated')\n"
      ],
      "execution_count": 49,
      "outputs": [
        {
          "output_type": "stream",
          "text": [
            "INFO:tensorflow:Restoring parameters from /content/wavenet-ckpt/model.ckpt-200000\n"
          ],
          "name": "stdout"
        },
        {
          "output_type": "execute_result",
          "data": {
            "text/plain": [
              "Text(0.5,1,u'z_interpolated')"
            ]
          },
          "metadata": {
            "tags": []
          },
          "execution_count": 49
        },
        {
          "output_type": "display_data",
          "data": {
            "image/png": "[encoded data removed]",
            "text/plain": [
              "<matplotlib.figure.Figure at 0x7f77eb288a50>"
            ]
          },
          "metadata": {
            "tags": []
          }
        }
      ]
    },
    {
      "metadata": {
        "id": "9ZvZT_NHQXcH",
        "colab_type": "code",
        "colab": {
          "autoexec": {
            "startup": false,
            "wait_interval": 0
          },
          "base_uri": "https://localhost:8080/",
          "height": 8909
        },
        "outputId": "cb0d17e7-f691-4951-e790-bbbdd5843155",
        "executionInfo": {
          "status": "ok",
          "timestamp": 1532875610140,
          "user_tz": -480,
          "elapsed": 1486366,
          "user": {
            "displayName": "",
            "photoUrl": "",
            "userId": ""
          }
        }
      },
      "cell_type": "code",
      "source": [
        "# TO-DO - build all in function w/flags for which processing to apply to batches\n",
        "# Start with reconstructions\n",
        "z_list = [z_ for z_ in z]\n",
        "name_list = ['z_stretches_interp' + name_ for name_ in names]\n",
        "\n",
        "# Add all the mean interpolations\n",
        "n = len(names)\n",
        "for i in range(n - 1):\n",
        "  for j in range(i + 1, n):\n",
        "    new_z = (z[i] + z[j]) / 2.0\n",
        "    new_name = 'interp_' + names[i] + '_X_'+ names[j]\n",
        "    z_list.append(new_z)\n",
        "    name_list.append(new_name)\n",
        "\n",
        "save_paths = ['/content/' + name + '.wav' for name in name_list]    \n",
        "\n",
        "fastgen.synthesize(z_mix, save_paths=save_paths,\n",
        "                   checkpoint_path=ckpt_path,\n",
        "                   samples_per_save=int(SAMPLE_LENGTH / 10))"
      ],
      "execution_count": 50,
      "outputs": [
        {
          "output_type": "stream",
          "text": [
            "INFO:tensorflow:Restoring parameters from /content/wavenet-ckpt/model.ckpt-200000\n",
            "INFO:tensorflow:Sample: 0\n",
            "INFO:tensorflow:Saving: /content/z_stretches_interpTASCAM_0030S12.wav\n",
            "INFO:tensorflow:Sample: 100\n",
            "INFO:tensorflow:Sample: 200\n",
            "INFO:tensorflow:Sample: 300\n",
            "INFO:tensorflow:Sample: 400\n",
            "INFO:tensorflow:Sample: 500\n",
            "INFO:tensorflow:Sample: 600\n",
            "INFO:tensorflow:Sample: 700\n",
            "INFO:tensorflow:Sample: 800\n",
            "INFO:tensorflow:Sample: 900\n",
            "INFO:tensorflow:Sample: 1000\n",
            "INFO:tensorflow:Sample: 1100\n",
            "INFO:tensorflow:Sample: 1200\n",
            "INFO:tensorflow:Sample: 1300\n",
            "INFO:tensorflow:Sample: 1400\n",
            "INFO:tensorflow:Sample: 1500\n",
            "INFO:tensorflow:Sample: 1600\n",
            "INFO:tensorflow:Sample: 1700\n",
            "INFO:tensorflow:Sample: 1800\n",
            "INFO:tensorflow:Sample: 1900\n",
            "INFO:tensorflow:Sample: 2000\n",
            "INFO:tensorflow:Sample: 2100\n",
            "INFO:tensorflow:Sample: 2200\n",
            "INFO:tensorflow:Sample: 2300\n",
            "INFO:tensorflow:Sample: 2400\n",
            "INFO:tensorflow:Sample: 2500\n",
            "INFO:tensorflow:Sample: 2600\n",
            "INFO:tensorflow:Sample: 2700\n",
            "INFO:tensorflow:Sample: 2800\n",
            "INFO:tensorflow:Sample: 2900\n",
            "INFO:tensorflow:Sample: 3000\n",
            "INFO:tensorflow:Sample: 3100\n",
            "INFO:tensorflow:Sample: 3200\n",
            "INFO:tensorflow:Saving: /content/z_stretches_interpTASCAM_0030S12.wav\n",
            "INFO:tensorflow:Sample: 3300\n",
            "INFO:tensorflow:Sample: 3400\n",
            "INFO:tensorflow:Sample: 3500\n",
            "INFO:tensorflow:Sample: 3600\n",
            "INFO:tensorflow:Sample: 3700\n",
            "INFO:tensorflow:Sample: 3800\n",
            "INFO:tensorflow:Sample: 3900\n",
            "INFO:tensorflow:Sample: 4000\n",
            "INFO:tensorflow:Sample: 4100\n",
            "INFO:tensorflow:Sample: 4200\n",
            "INFO:tensorflow:Sample: 4300\n",
            "INFO:tensorflow:Sample: 4400\n",
            "INFO:tensorflow:Sample: 4500\n",
            "INFO:tensorflow:Sample: 4600\n",
            "INFO:tensorflow:Sample: 4700\n",
            "INFO:tensorflow:Sample: 4800\n",
            "INFO:tensorflow:Sample: 4900\n",
            "INFO:tensorflow:Sample: 5000\n",
            "INFO:tensorflow:Sample: 5100\n",
            "INFO:tensorflow:Sample: 5200\n",
            "INFO:tensorflow:Sample: 5300\n",
            "INFO:tensorflow:Sample: 5400\n",
            "INFO:tensorflow:Sample: 5500\n",
            "INFO:tensorflow:Sample: 5600\n",
            "INFO:tensorflow:Sample: 5700\n",
            "INFO:tensorflow:Sample: 5800\n",
            "INFO:tensorflow:Sample: 5900\n",
            "INFO:tensorflow:Sample: 6000\n",
            "INFO:tensorflow:Sample: 6100\n",
            "INFO:tensorflow:Sample: 6200\n",
            "INFO:tensorflow:Sample: 6300\n",
            "INFO:tensorflow:Sample: 6400\n",
            "INFO:tensorflow:Saving: /content/z_stretches_interpTASCAM_0030S12.wav\n",
            "INFO:tensorflow:Sample: 6500\n",
            "INFO:tensorflow:Sample: 6600\n",
            "INFO:tensorflow:Sample: 6700\n",
            "INFO:tensorflow:Sample: 6800\n",
            "INFO:tensorflow:Sample: 6900\n",
            "INFO:tensorflow:Sample: 7000\n",
            "INFO:tensorflow:Sample: 7100\n",
            "INFO:tensorflow:Sample: 7200\n",
            "INFO:tensorflow:Sample: 7300\n"
          ],
          "name": "stdout"
        },
        {
          "output_type": "stream",
          "text": [
            "INFO:tensorflow:Sample: 7400\n",
            "INFO:tensorflow:Sample: 7500\n",
            "INFO:tensorflow:Sample: 7600\n",
            "INFO:tensorflow:Sample: 7700\n",
            "INFO:tensorflow:Sample: 7800\n",
            "INFO:tensorflow:Sample: 7900\n",
            "INFO:tensorflow:Sample: 8000\n",
            "INFO:tensorflow:Sample: 8100\n",
            "INFO:tensorflow:Sample: 8200\n",
            "INFO:tensorflow:Sample: 8300\n",
            "INFO:tensorflow:Sample: 8400\n",
            "INFO:tensorflow:Sample: 8500\n",
            "INFO:tensorflow:Sample: 8600\n",
            "INFO:tensorflow:Sample: 8700\n",
            "INFO:tensorflow:Sample: 8800\n",
            "INFO:tensorflow:Sample: 8900\n",
            "INFO:tensorflow:Sample: 9000\n",
            "INFO:tensorflow:Sample: 9100\n",
            "INFO:tensorflow:Sample: 9200\n",
            "INFO:tensorflow:Sample: 9300\n",
            "INFO:tensorflow:Sample: 9400\n",
            "INFO:tensorflow:Sample: 9500\n",
            "INFO:tensorflow:Sample: 9600\n",
            "INFO:tensorflow:Saving: /content/z_stretches_interpTASCAM_0030S12.wav\n",
            "INFO:tensorflow:Sample: 9700\n",
            "INFO:tensorflow:Sample: 9800\n",
            "INFO:tensorflow:Sample: 9900\n",
            "INFO:tensorflow:Sample: 10000\n",
            "INFO:tensorflow:Sample: 10100\n",
            "INFO:tensorflow:Sample: 10200\n",
            "INFO:tensorflow:Sample: 10300\n",
            "INFO:tensorflow:Sample: 10400\n",
            "INFO:tensorflow:Sample: 10500\n",
            "INFO:tensorflow:Sample: 10600\n",
            "INFO:tensorflow:Sample: 10700\n",
            "INFO:tensorflow:Sample: 10800\n",
            "INFO:tensorflow:Sample: 10900\n",
            "INFO:tensorflow:Sample: 11000\n",
            "INFO:tensorflow:Sample: 11100\n",
            "INFO:tensorflow:Sample: 11200\n",
            "INFO:tensorflow:Sample: 11300\n",
            "INFO:tensorflow:Sample: 11400\n",
            "INFO:tensorflow:Sample: 11500\n",
            "INFO:tensorflow:Sample: 11600\n",
            "INFO:tensorflow:Sample: 11700\n",
            "INFO:tensorflow:Sample: 11800\n",
            "INFO:tensorflow:Sample: 11900\n",
            "INFO:tensorflow:Sample: 12000\n",
            "INFO:tensorflow:Sample: 12100\n",
            "INFO:tensorflow:Sample: 12200\n",
            "INFO:tensorflow:Sample: 12300\n",
            "INFO:tensorflow:Sample: 12400\n",
            "INFO:tensorflow:Sample: 12500\n",
            "INFO:tensorflow:Sample: 12600\n",
            "INFO:tensorflow:Sample: 12700\n",
            "INFO:tensorflow:Sample: 12800\n",
            "INFO:tensorflow:Saving: /content/z_stretches_interpTASCAM_0030S12.wav\n",
            "INFO:tensorflow:Sample: 12900\n",
            "INFO:tensorflow:Sample: 13000\n",
            "INFO:tensorflow:Sample: 13100\n",
            "INFO:tensorflow:Sample: 13200\n",
            "INFO:tensorflow:Sample: 13300\n",
            "INFO:tensorflow:Sample: 13400\n",
            "INFO:tensorflow:Sample: 13500\n",
            "INFO:tensorflow:Sample: 13600\n",
            "INFO:tensorflow:Sample: 13700\n",
            "INFO:tensorflow:Sample: 13800\n",
            "INFO:tensorflow:Sample: 13900\n",
            "INFO:tensorflow:Sample: 14000\n",
            "INFO:tensorflow:Sample: 14100\n",
            "INFO:tensorflow:Sample: 14200\n",
            "INFO:tensorflow:Sample: 14300\n",
            "INFO:tensorflow:Sample: 14400\n",
            "INFO:tensorflow:Sample: 14500\n",
            "INFO:tensorflow:Sample: 14600\n",
            "INFO:tensorflow:Sample: 14700\n",
            "INFO:tensorflow:Sample: 14800\n",
            "INFO:tensorflow:Sample: 14900\n",
            "INFO:tensorflow:Sample: 15000\n",
            "INFO:tensorflow:Sample: 15100\n"
          ],
          "name": "stdout"
        },
        {
          "output_type": "stream",
          "text": [
            "INFO:tensorflow:Sample: 15200\n",
            "INFO:tensorflow:Sample: 15300\n",
            "INFO:tensorflow:Sample: 15400\n",
            "INFO:tensorflow:Sample: 15500\n",
            "INFO:tensorflow:Sample: 15600\n",
            "INFO:tensorflow:Sample: 15700\n",
            "INFO:tensorflow:Sample: 15800\n",
            "INFO:tensorflow:Sample: 15900\n",
            "INFO:tensorflow:Sample: 16000\n",
            "INFO:tensorflow:Saving: /content/z_stretches_interpTASCAM_0030S12.wav\n",
            "INFO:tensorflow:Sample: 16100\n",
            "INFO:tensorflow:Sample: 16200\n",
            "INFO:tensorflow:Sample: 16300\n",
            "INFO:tensorflow:Sample: 16400\n",
            "INFO:tensorflow:Sample: 16500\n",
            "INFO:tensorflow:Sample: 16600\n",
            "INFO:tensorflow:Sample: 16700\n",
            "INFO:tensorflow:Sample: 16800\n",
            "INFO:tensorflow:Sample: 16900\n",
            "INFO:tensorflow:Sample: 17000\n",
            "INFO:tensorflow:Sample: 17100\n",
            "INFO:tensorflow:Sample: 17200\n",
            "INFO:tensorflow:Sample: 17300\n",
            "INFO:tensorflow:Sample: 17400\n",
            "INFO:tensorflow:Sample: 17500\n",
            "INFO:tensorflow:Sample: 17600\n",
            "INFO:tensorflow:Sample: 17700\n",
            "INFO:tensorflow:Sample: 17800\n",
            "INFO:tensorflow:Sample: 17900\n",
            "INFO:tensorflow:Sample: 18000\n",
            "INFO:tensorflow:Sample: 18100\n",
            "INFO:tensorflow:Sample: 18200\n",
            "INFO:tensorflow:Sample: 18300\n",
            "INFO:tensorflow:Sample: 18400\n",
            "INFO:tensorflow:Sample: 18500\n",
            "INFO:tensorflow:Sample: 18600\n",
            "INFO:tensorflow:Sample: 18700\n",
            "INFO:tensorflow:Sample: 18800\n",
            "INFO:tensorflow:Sample: 18900\n",
            "INFO:tensorflow:Sample: 19000\n",
            "INFO:tensorflow:Sample: 19100\n",
            "INFO:tensorflow:Sample: 19200\n",
            "INFO:tensorflow:Saving: /content/z_stretches_interpTASCAM_0030S12.wav\n",
            "INFO:tensorflow:Sample: 19300\n",
            "INFO:tensorflow:Sample: 19400\n",
            "INFO:tensorflow:Sample: 19500\n",
            "INFO:tensorflow:Sample: 19600\n",
            "INFO:tensorflow:Sample: 19700\n",
            "INFO:tensorflow:Sample: 19800\n",
            "INFO:tensorflow:Sample: 19900\n",
            "INFO:tensorflow:Sample: 20000\n",
            "INFO:tensorflow:Sample: 20100\n",
            "INFO:tensorflow:Sample: 20200\n",
            "INFO:tensorflow:Sample: 20300\n",
            "INFO:tensorflow:Sample: 20400\n",
            "INFO:tensorflow:Sample: 20500\n",
            "INFO:tensorflow:Sample: 20600\n",
            "INFO:tensorflow:Sample: 20700\n",
            "INFO:tensorflow:Sample: 20800\n",
            "INFO:tensorflow:Sample: 20900\n",
            "INFO:tensorflow:Sample: 21000\n",
            "INFO:tensorflow:Sample: 21100\n",
            "INFO:tensorflow:Sample: 21200\n",
            "INFO:tensorflow:Sample: 21300\n",
            "INFO:tensorflow:Sample: 21400\n",
            "INFO:tensorflow:Sample: 21500\n",
            "INFO:tensorflow:Sample: 21600\n",
            "INFO:tensorflow:Sample: 21700\n",
            "INFO:tensorflow:Sample: 21800\n",
            "INFO:tensorflow:Sample: 21900\n",
            "INFO:tensorflow:Sample: 22000\n",
            "INFO:tensorflow:Sample: 22100\n",
            "INFO:tensorflow:Sample: 22200\n",
            "INFO:tensorflow:Sample: 22300\n",
            "INFO:tensorflow:Sample: 22400\n",
            "INFO:tensorflow:Saving: /content/z_stretches_interpTASCAM_0030S12.wav\n",
            "INFO:tensorflow:Sample: 22500\n",
            "INFO:tensorflow:Sample: 22600\n",
            "INFO:tensorflow:Sample: 22700\n"
          ],
          "name": "stdout"
        },
        {
          "output_type": "stream",
          "text": [
            "INFO:tensorflow:Sample: 22800\n",
            "INFO:tensorflow:Sample: 22900\n",
            "INFO:tensorflow:Sample: 23000\n",
            "INFO:tensorflow:Sample: 23100\n",
            "INFO:tensorflow:Sample: 23200\n",
            "INFO:tensorflow:Sample: 23300\n",
            "INFO:tensorflow:Sample: 23400\n",
            "INFO:tensorflow:Sample: 23500\n",
            "INFO:tensorflow:Sample: 23600\n",
            "INFO:tensorflow:Sample: 23700\n",
            "INFO:tensorflow:Sample: 23800\n",
            "INFO:tensorflow:Sample: 23900\n",
            "INFO:tensorflow:Sample: 24000\n",
            "INFO:tensorflow:Sample: 24100\n",
            "INFO:tensorflow:Sample: 24200\n",
            "INFO:tensorflow:Sample: 24300\n",
            "INFO:tensorflow:Sample: 24400\n",
            "INFO:tensorflow:Sample: 24500\n",
            "INFO:tensorflow:Sample: 24600\n",
            "INFO:tensorflow:Sample: 24700\n",
            "INFO:tensorflow:Sample: 24800\n",
            "INFO:tensorflow:Sample: 24900\n",
            "INFO:tensorflow:Sample: 25000\n",
            "INFO:tensorflow:Sample: 25100\n",
            "INFO:tensorflow:Sample: 25200\n",
            "INFO:tensorflow:Sample: 25300\n",
            "INFO:tensorflow:Sample: 25400\n",
            "INFO:tensorflow:Sample: 25500\n",
            "INFO:tensorflow:Sample: 25600\n",
            "INFO:tensorflow:Saving: /content/z_stretches_interpTASCAM_0030S12.wav\n",
            "INFO:tensorflow:Sample: 25700\n",
            "INFO:tensorflow:Sample: 25800\n",
            "INFO:tensorflow:Sample: 25900\n",
            "INFO:tensorflow:Sample: 26000\n",
            "INFO:tensorflow:Sample: 26100\n",
            "INFO:tensorflow:Sample: 26200\n",
            "INFO:tensorflow:Sample: 26300\n",
            "INFO:tensorflow:Sample: 26400\n",
            "INFO:tensorflow:Sample: 26500\n",
            "INFO:tensorflow:Sample: 26600\n",
            "INFO:tensorflow:Sample: 26700\n",
            "INFO:tensorflow:Sample: 26800\n",
            "INFO:tensorflow:Sample: 26900\n",
            "INFO:tensorflow:Sample: 27000\n",
            "INFO:tensorflow:Sample: 27100\n",
            "INFO:tensorflow:Sample: 27200\n",
            "INFO:tensorflow:Sample: 27300\n",
            "INFO:tensorflow:Sample: 27400\n",
            "INFO:tensorflow:Sample: 27500\n",
            "INFO:tensorflow:Sample: 27600\n",
            "INFO:tensorflow:Sample: 27700\n",
            "INFO:tensorflow:Sample: 27800\n",
            "INFO:tensorflow:Sample: 27900\n",
            "INFO:tensorflow:Sample: 28000\n",
            "INFO:tensorflow:Sample: 28100\n",
            "INFO:tensorflow:Sample: 28200\n",
            "INFO:tensorflow:Sample: 28300\n",
            "INFO:tensorflow:Sample: 28400\n",
            "INFO:tensorflow:Sample: 28500\n",
            "INFO:tensorflow:Sample: 28600\n",
            "INFO:tensorflow:Sample: 28700\n",
            "INFO:tensorflow:Sample: 28800\n",
            "INFO:tensorflow:Saving: /content/z_stretches_interpTASCAM_0030S12.wav\n",
            "INFO:tensorflow:Sample: 28900\n",
            "INFO:tensorflow:Sample: 29000\n",
            "INFO:tensorflow:Sample: 29100\n",
            "INFO:tensorflow:Sample: 29200\n",
            "INFO:tensorflow:Sample: 29300\n",
            "INFO:tensorflow:Sample: 29400\n",
            "INFO:tensorflow:Sample: 29500\n",
            "INFO:tensorflow:Sample: 29600\n",
            "INFO:tensorflow:Sample: 29700\n",
            "INFO:tensorflow:Sample: 29800\n",
            "INFO:tensorflow:Sample: 29900\n",
            "INFO:tensorflow:Sample: 30000\n",
            "INFO:tensorflow:Sample: 30100\n",
            "INFO:tensorflow:Sample: 30200\n",
            "INFO:tensorflow:Sample: 30300\n",
            "INFO:tensorflow:Sample: 30400\n",
            "INFO:tensorflow:Sample: 30500\n"
          ],
          "name": "stdout"
        },
        {
          "output_type": "stream",
          "text": [
            "INFO:tensorflow:Sample: 30600\n",
            "INFO:tensorflow:Sample: 30700\n",
            "INFO:tensorflow:Sample: 30800\n",
            "INFO:tensorflow:Sample: 30900\n",
            "INFO:tensorflow:Sample: 31000\n",
            "INFO:tensorflow:Sample: 31100\n",
            "INFO:tensorflow:Sample: 31200\n",
            "INFO:tensorflow:Sample: 31300\n",
            "INFO:tensorflow:Sample: 31400\n",
            "INFO:tensorflow:Sample: 31500\n",
            "INFO:tensorflow:Sample: 31600\n",
            "INFO:tensorflow:Sample: 31700\n",
            "INFO:tensorflow:Sample: 31800\n",
            "INFO:tensorflow:Sample: 31900\n",
            "INFO:tensorflow:Sample: 32000\n",
            "INFO:tensorflow:Saving: /content/z_stretches_interpTASCAM_0030S12.wav\n",
            "INFO:tensorflow:Sample: 32100\n",
            "INFO:tensorflow:Sample: 32200\n",
            "INFO:tensorflow:Sample: 32300\n",
            "INFO:tensorflow:Sample: 32400\n",
            "INFO:tensorflow:Sample: 32500\n",
            "INFO:tensorflow:Sample: 32600\n",
            "INFO:tensorflow:Sample: 32700\n",
            "INFO:tensorflow:Sample: 32800\n",
            "INFO:tensorflow:Sample: 32900\n",
            "INFO:tensorflow:Sample: 33000\n",
            "INFO:tensorflow:Sample: 33100\n",
            "INFO:tensorflow:Sample: 33200\n",
            "INFO:tensorflow:Sample: 33300\n",
            "INFO:tensorflow:Sample: 33400\n",
            "INFO:tensorflow:Sample: 33500\n",
            "INFO:tensorflow:Sample: 33600\n",
            "INFO:tensorflow:Sample: 33700\n",
            "INFO:tensorflow:Sample: 33800\n",
            "INFO:tensorflow:Sample: 33900\n",
            "INFO:tensorflow:Sample: 34000\n",
            "INFO:tensorflow:Sample: 34100\n",
            "INFO:tensorflow:Sample: 34200\n",
            "INFO:tensorflow:Sample: 34300\n",
            "INFO:tensorflow:Sample: 34400\n",
            "INFO:tensorflow:Sample: 34500\n",
            "INFO:tensorflow:Sample: 34600\n",
            "INFO:tensorflow:Sample: 34700\n",
            "INFO:tensorflow:Sample: 34800\n",
            "INFO:tensorflow:Sample: 34900\n",
            "INFO:tensorflow:Sample: 35000\n",
            "INFO:tensorflow:Sample: 35100\n",
            "INFO:tensorflow:Sample: 35200\n",
            "INFO:tensorflow:Saving: /content/z_stretches_interpTASCAM_0030S12.wav\n",
            "INFO:tensorflow:Sample: 35300\n",
            "INFO:tensorflow:Sample: 35400\n",
            "INFO:tensorflow:Sample: 35500\n",
            "INFO:tensorflow:Sample: 35600\n",
            "INFO:tensorflow:Sample: 35700\n",
            "INFO:tensorflow:Sample: 35800\n",
            "INFO:tensorflow:Sample: 35900\n",
            "INFO:tensorflow:Sample: 36000\n",
            "INFO:tensorflow:Sample: 36100\n",
            "INFO:tensorflow:Sample: 36200\n",
            "INFO:tensorflow:Sample: 36300\n",
            "INFO:tensorflow:Sample: 36400\n",
            "INFO:tensorflow:Sample: 36500\n",
            "INFO:tensorflow:Sample: 36600\n",
            "INFO:tensorflow:Sample: 36700\n",
            "INFO:tensorflow:Sample: 36800\n",
            "INFO:tensorflow:Sample: 36900\n",
            "INFO:tensorflow:Sample: 37000\n",
            "INFO:tensorflow:Sample: 37100\n",
            "INFO:tensorflow:Sample: 37200\n",
            "INFO:tensorflow:Sample: 37300\n",
            "INFO:tensorflow:Sample: 37400\n",
            "INFO:tensorflow:Sample: 37500\n",
            "INFO:tensorflow:Sample: 37600\n",
            "INFO:tensorflow:Sample: 37700\n",
            "INFO:tensorflow:Sample: 37800\n",
            "INFO:tensorflow:Sample: 37900\n",
            "INFO:tensorflow:Sample: 38000\n",
            "INFO:tensorflow:Sample: 38100\n",
            "INFO:tensorflow:Sample: 38200\n"
          ],
          "name": "stdout"
        },
        {
          "output_type": "stream",
          "text": [
            "INFO:tensorflow:Sample: 38300\n",
            "INFO:tensorflow:Sample: 38400\n",
            "INFO:tensorflow:Saving: /content/z_stretches_interpTASCAM_0030S12.wav\n",
            "INFO:tensorflow:Sample: 38500\n",
            "INFO:tensorflow:Sample: 38600\n",
            "INFO:tensorflow:Sample: 38700\n",
            "INFO:tensorflow:Sample: 38800\n",
            "INFO:tensorflow:Sample: 38900\n",
            "INFO:tensorflow:Sample: 39000\n",
            "INFO:tensorflow:Sample: 39100\n",
            "INFO:tensorflow:Sample: 39200\n",
            "INFO:tensorflow:Sample: 39300\n",
            "INFO:tensorflow:Sample: 39400\n",
            "INFO:tensorflow:Sample: 39500\n",
            "INFO:tensorflow:Sample: 39600\n",
            "INFO:tensorflow:Sample: 39700\n",
            "INFO:tensorflow:Sample: 39800\n",
            "INFO:tensorflow:Sample: 39900\n",
            "INFO:tensorflow:Sample: 40000\n",
            "INFO:tensorflow:Sample: 40100\n",
            "INFO:tensorflow:Sample: 40200\n",
            "INFO:tensorflow:Sample: 40300\n",
            "INFO:tensorflow:Sample: 40400\n",
            "INFO:tensorflow:Sample: 40500\n",
            "INFO:tensorflow:Sample: 40600\n",
            "INFO:tensorflow:Sample: 40700\n",
            "INFO:tensorflow:Sample: 40800\n",
            "INFO:tensorflow:Sample: 40900\n",
            "INFO:tensorflow:Sample: 41000\n",
            "INFO:tensorflow:Sample: 41100\n",
            "INFO:tensorflow:Sample: 41200\n",
            "INFO:tensorflow:Sample: 41300\n",
            "INFO:tensorflow:Sample: 41400\n",
            "INFO:tensorflow:Sample: 41500\n",
            "INFO:tensorflow:Sample: 41600\n",
            "INFO:tensorflow:Saving: /content/z_stretches_interpTASCAM_0030S12.wav\n",
            "INFO:tensorflow:Sample: 41700\n",
            "INFO:tensorflow:Sample: 41800\n",
            "INFO:tensorflow:Sample: 41900\n",
            "INFO:tensorflow:Sample: 42000\n",
            "INFO:tensorflow:Sample: 42100\n",
            "INFO:tensorflow:Sample: 42200\n",
            "INFO:tensorflow:Sample: 42300\n",
            "INFO:tensorflow:Sample: 42400\n",
            "INFO:tensorflow:Sample: 42500\n",
            "INFO:tensorflow:Sample: 42600\n",
            "INFO:tensorflow:Sample: 42700\n",
            "INFO:tensorflow:Sample: 42800\n",
            "INFO:tensorflow:Sample: 42900\n",
            "INFO:tensorflow:Sample: 43000\n",
            "INFO:tensorflow:Sample: 43100\n",
            "INFO:tensorflow:Sample: 43200\n",
            "INFO:tensorflow:Sample: 43300\n",
            "INFO:tensorflow:Sample: 43400\n",
            "INFO:tensorflow:Sample: 43500\n",
            "INFO:tensorflow:Sample: 43600\n",
            "INFO:tensorflow:Sample: 43700\n",
            "INFO:tensorflow:Sample: 43800\n",
            "INFO:tensorflow:Sample: 43900\n",
            "INFO:tensorflow:Sample: 44000\n",
            "INFO:tensorflow:Sample: 44100\n",
            "INFO:tensorflow:Sample: 44200\n",
            "INFO:tensorflow:Sample: 44300\n",
            "INFO:tensorflow:Sample: 44400\n",
            "INFO:tensorflow:Sample: 44500\n",
            "INFO:tensorflow:Sample: 44600\n",
            "INFO:tensorflow:Sample: 44700\n",
            "INFO:tensorflow:Sample: 44800\n",
            "INFO:tensorflow:Saving: /content/z_stretches_interpTASCAM_0030S12.wav\n",
            "INFO:tensorflow:Sample: 44900\n",
            "INFO:tensorflow:Sample: 45000\n",
            "INFO:tensorflow:Sample: 45100\n",
            "INFO:tensorflow:Sample: 45200\n",
            "INFO:tensorflow:Sample: 45300\n",
            "INFO:tensorflow:Sample: 45400\n",
            "INFO:tensorflow:Sample: 45500\n",
            "INFO:tensorflow:Sample: 45600\n",
            "INFO:tensorflow:Sample: 45700\n"
          ],
          "name": "stdout"
        },
        {
          "output_type": "stream",
          "text": [
            "INFO:tensorflow:Sample: 45800\n",
            "INFO:tensorflow:Sample: 45900\n",
            "INFO:tensorflow:Sample: 46000\n",
            "INFO:tensorflow:Sample: 46100\n",
            "INFO:tensorflow:Sample: 46200\n",
            "INFO:tensorflow:Sample: 46300\n",
            "INFO:tensorflow:Sample: 46400\n",
            "INFO:tensorflow:Sample: 46500\n",
            "INFO:tensorflow:Sample: 46600\n",
            "INFO:tensorflow:Sample: 46700\n",
            "INFO:tensorflow:Sample: 46800\n",
            "INFO:tensorflow:Sample: 46900\n",
            "INFO:tensorflow:Sample: 47000\n",
            "INFO:tensorflow:Sample: 47100\n",
            "INFO:tensorflow:Sample: 47200\n",
            "INFO:tensorflow:Sample: 47300\n",
            "INFO:tensorflow:Sample: 47400\n",
            "INFO:tensorflow:Sample: 47500\n",
            "INFO:tensorflow:Sample: 47600\n",
            "INFO:tensorflow:Saving: /content/z_stretches_interpTASCAM_0030S12.wav\n"
          ],
          "name": "stdout"
        }
      ]
    },
    {
      "metadata": {
        "id": "wGt-2xNFbJ8H",
        "colab_type": "code",
        "colab": {
          "autoexec": {
            "startup": false,
            "wait_interval": 0
          },
          "base_uri": "https://localhost:8080/",
          "height": 35
        },
        "outputId": "563d8aa6-1f79-452a-8182-fcd594e87b45",
        "executionInfo": {
          "status": "ok",
          "timestamp": 1532875622932,
          "user_tz": -480,
          "elapsed": 2206,
          "user": {
            "displayName": "",
            "photoUrl": "",
            "userId": ""
          }
        }
      },
      "cell_type": "code",
      "source": [
        "for fname in save_paths:\n",
        "  print('Downloading: %s' % fname.split('/')[-1])\n",
        "  download(fname)"
      ],
      "execution_count": 51,
      "outputs": [
        {
          "output_type": "stream",
          "text": [
            "Downloading: z_stretches_interpTASCAM_0030S12.wav\n"
          ],
          "name": "stdout"
        }
      ]
    },
    {
      "metadata": {
        "id": "zKQk8APmbLMS",
        "colab_type": "code",
        "colab": {
          "autoexec": {
            "startup": false,
            "wait_interval": 0
          },
          "base_uri": "https://localhost:8080/",
          "height": 239
        },
        "outputId": "e0d92a8a-be75-44af-94ea-75ec93081480",
        "executionInfo": {
          "status": "ok",
          "timestamp": 1532875635617,
          "user_tz": -480,
          "elapsed": 1204,
          "user": {
            "displayName": "",
            "photoUrl": "",
            "userId": ""
          }
        }
      },
      "cell_type": "code",
      "source": [
        "print(\"Originals:\\n\")\n",
        "for fname in file_list:\n",
        "  synth_audio = utils.load_audio(fname,\n",
        "                                 sample_length=SAMPLE_LENGTH,\n",
        "                                 sr=SR)\n",
        "  print(get_name(fname))\n",
        "  play(synth_audio, sample_rate=SR)\n",
        "\n",
        "for i, fname in enumerate(save_paths):\n",
        "  if i == 0:\n",
        "    print(\"Reconstructions:\\n\")\n",
        "  if i == len(file_list):\n",
        "    print(\"Interpolations:\\n\")\n",
        "  synth_audio = utils.load_audio(fname,\n",
        "                                 sample_length=SAMPLE_LENGTH,\n",
        "                                 sr=SR)\n",
        "  print(get_name(fname))\n",
        "  play(synth_audio, sample_rate=SR)"
      ],
      "execution_count": 52,
      "outputs": [
        {
          "output_type": "stream",
          "text": [
            "Originals:\n",
            "\n",
            "TASCAM_0030S12\n"
          ],
          "name": "stdout"
        },
        {
          "output_type": "display_data",
          "data": {
            "text/plain": [
              "<IPython.core.display.HTML object>"
            ],
            "text/html": [
              "<div id=\"id_10\"> </div>"
            ]
          },
          "metadata": {
            "tags": []
          }
        },
        {
          "output_type": "stream",
          "text": [
            "Reconstructions:\n",
            "\n",
            "z_stretches_interpTASCAM_0030S12\n"
          ],
          "name": "stdout"
        },
        {
          "output_type": "display_data",
          "data": {
            "text/plain": [
              "<IPython.core.display.HTML object>"
            ],
            "text/html": [
              "<div id=\"id_11\"> </div>"
            ]
          },
          "metadata": {
            "tags": []
          }
        }
      ]
    },
    {
      "metadata": {
        "id": "6A__68LYbj8v",
        "colab_type": "code",
        "colab": {
          "autoexec": {
            "startup": false,
            "wait_interval": 0
          },
          "base_uri": "https://localhost:8080/",
          "height": 1367
        },
        "outputId": "84dbf48a-6689-4de2-8a3c-7f04e86b2b29",
        "executionInfo": {
          "status": "ok",
          "timestamp": 1532877903526,
          "user_tz": -480,
          "elapsed": 632,
          "user": {
            "displayName": "",
            "photoUrl": "",
            "userId": ""
          }
        }
      },
      "cell_type": "code",
      "source": [
        "help(fastgen)"
      ],
      "execution_count": 53,
      "outputs": [
        {
          "output_type": "stream",
          "text": [
            "Help on module magenta.models.nsynth.wavenet.fastgen in magenta.models.nsynth.wavenet:\n",
            "\n",
            "NAME\n",
            "    magenta.models.nsynth.wavenet.fastgen - Utilities for \"fast\" wavenet generation with queues.\n",
            "\n",
            "FILE\n",
            "    /usr/local/lib/python2.7/dist-packages/magenta/models/nsynth/wavenet/fastgen.py\n",
            "\n",
            "DESCRIPTION\n",
            "    For more information, see:\n",
            "    \n",
            "    Ramachandran, P., Le Paine, T., Khorrami, P., Babaeizadeh, M.,\n",
            "    Chang, S., Zhang, Y., ... Huang, T. (2017).\n",
            "    Fast Generation For Convolutional Autoregressive Models, 1-5.\n",
            "\n",
            "FUNCTIONS\n",
            "    encode(wav_data, checkpoint_path, sample_length=64000)\n",
            "        Generate an array of embeddings from an array of audio.\n",
            "        \n",
            "        Args:\n",
            "          wav_data: Numpy array [batch_size, sample_length]\n",
            "          checkpoint_path: Location of the pretrained model.\n",
            "          sample_length: The total length of the final wave file, padded with 0s.\n",
            "        Returns:\n",
            "          encoding: a [mb, 125, 16] encoding (for 64000 sample audio file).\n",
            "    \n",
            "    load_batch(files, sample_length=64000)\n",
            "        Load a batch of data from either .wav or .npy files.\n",
            "        \n",
            "        Args:\n",
            "          files: A list of filepaths to .wav or .npy files\n",
            "          sample_length: Maximum sample length\n",
            "        \n",
            "        Returns:\n",
            "          batch_data: A padded array of audio or embeddings [batch, length, (dims)]\n",
            "    \n",
            "    load_fastgen_nsynth(batch_size=1)\n",
            "        Load the NSynth fast generation network.\n",
            "        \n",
            "        Args:\n",
            "          batch_size: Batch size number of observations to process. [1]\n",
            "        Returns:\n",
            "          graph: The network as a dict with input placeholder in {\"X\"}\n",
            "    \n",
            "    load_nsynth(batch_size=1, sample_length=64000)\n",
            "        Load the NSynth autoencoder network.\n",
            "        \n",
            "        Args:\n",
            "          batch_size: Batch size number of observations to process. [1]\n",
            "          sample_length: Number of samples in the input audio. [64000]\n",
            "        Returns:\n",
            "          graph: The network as a dict with input placeholder in {\"X\"}\n",
            "    \n",
            "    sample_categorical(pmf)\n",
            "        Sample from a categorical distribution.\n",
            "        \n",
            "        Args:\n",
            "          pmf: Probablity mass function. Output of a softmax over categories.\n",
            "            Array of shape [batch_size, number of categories]. Rows sum to 1.\n",
            "        \n",
            "        Returns:\n",
            "          idxs: Array of size [batch_size, 1]. Integer of category sampled.\n",
            "    \n",
            "    save_batch(batch_audio, batch_save_paths)\n",
            "    \n",
            "    synthesize(encodings, save_paths, checkpoint_path='model.ckpt-200000', samples_per_save=1000)\n",
            "        Synthesize audio from an array of embeddings.\n",
            "        \n",
            "        Args:\n",
            "          encodings: Numpy array with shape [batch_size, time, dim].\n",
            "          save_paths: Iterable of output file names.\n",
            "          checkpoint_path: Location of the pretrained model. [model.ckpt-200000]\n",
            "          samples_per_save: Save files after every amount of generated samples.\n",
            "\n",
            "\n"
          ],
          "name": "stdout"
        }
      ]
    },
    {
      "metadata": {
        "id": "F8ay8Lbgpaji",
        "colab_type": "code",
        "colab": {
          "autoexec": {
            "startup": false,
            "wait_interval": 0
          },
          "base_uri": "https://localhost:8080/",
          "height": 35
        },
        "outputId": "b3abe157-4c90-45b0-de7f-497a2fb5e55c",
        "executionInfo": {
          "status": "ok",
          "timestamp": 1532881954311,
          "user_tz": -480,
          "elapsed": 804,
          "user": {
            "displayName": "",
            "photoUrl": "",
            "userId": ""
          }
        }
      },
      "cell_type": "code",
      "source": [
        "# TO-DO: see wavenet utils.py for possibly linearly mapping samples to closest embeddings\n",
        "\n",
        "fastgen.sample_categorical(utils.load_audio(fname,\n",
        "                                 sample_length=SAMPLE_LENGTH,\n",
        "                                 sr=SR))"
      ],
      "execution_count": 63,
      "outputs": [
        {
          "output_type": "execute_result",
          "data": {
            "text/plain": [
              "array([[7220.]])"
            ]
          },
          "metadata": {
            "tags": []
          },
          "execution_count": 63
        }
      ]
    },
    {
      "metadata": {
        "id": "Bd9bNh2d2U5F",
        "colab_type": "code",
        "colab": {
          "autoexec": {
            "startup": false,
            "wait_interval": 0
          },
          "base_uri": "https://localhost:8080/",
          "height": 298
        },
        "outputId": "12869750-c776-4cc9-f67b-f5e143f03969",
        "executionInfo": {
          "status": "ok",
          "timestamp": 1532881519912,
          "user_tz": -480,
          "elapsed": 1108,
          "user": {
            "displayName": "",
            "photoUrl": "",
            "userId": ""
          }
        }
      },
      "cell_type": "code",
      "source": [
        "spectgram = utils.specgram(utils.load_audio(fname,\n",
        "                                 sample_length=SAMPLE_LENGTH,\n",
        "                                 sr=SR))\n",
        "\n",
        "plt.figure()\n",
        "plt.plot(spectgram[0])\n",
        "plt.title('spectragram')"
      ],
      "execution_count": 61,
      "outputs": [
        {
          "output_type": "execute_result",
          "data": {
            "text/plain": [
              "Text(0.5,1,u'spectragram')"
            ]
          },
          "metadata": {
            "tags": []
          },
          "execution_count": 61
        },
        {
          "output_type": "display_data",
          "data": {
            "image/png": "[encoded data removed]",
            "text/plain": [
              "<matplotlib.figure.Figure at 0x7f778772a850>"
            ]
          },
          "metadata": {
            "tags": []
          }
        }
      ]
    }
  ]
}