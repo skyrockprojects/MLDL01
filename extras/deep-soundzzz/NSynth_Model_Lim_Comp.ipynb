{
  "nbformat": 4,
  "nbformat_minor": 0,
  "metadata": {
    "colab": {
      "name": "NSynth_Model_Lim_Comp.ipynb",
      "version": "0.3.2",
      "views": {},
      "default_view": {},
      "provenance": [
        {
          "file_id": "/piper/depot/google3/learning/brain/research/magenta/models/nsynth/nsynth.ipynb",
          "timestamp": 1521737809688
        },
        {
          "file_id": "1v6KaLXVEtZATEpDuWePF2b_U8tJxDcO3",
          "timestamp": 1521070460872
        }
      ],
      "collapsed_sections": []
    },
    "kernelspec": {
      "display_name": "Python 2",
      "language": "python",
      "name": "python2"
    },
    "accelerator": "GPU"
  },
  "cells": [
    {
      "metadata": {
        "id": "zRmlJYze_29V",
        "colab_type": "text"
      },
      "cell_type": "markdown",
      "source": [
        "Here we will use the samples of students articulating vowels and mimicking instrument and animal sounds. We hypothesized that though NSynth was trained on both instruments and voices, it would not be able to generalize particularly well on voices imitating instruments, and would be even worse with voices imitating animals, as animal sounds were not part of either NSynths voice or instrument datasets. Now let's found out how our assumptions fared..\n"
      ]
    },
    {
      "metadata": {
        "id": "2Axg7pBLtt3V",
        "colab_type": "text"
      },
      "cell_type": "markdown",
      "source": [
        "# E-Z NSynth (NOTE: USE PYTHON 2 W/ GPU)\n",
        "\n",
        "\n"
      ]
    },
    {
      "metadata": {
        "id": "e-2av9upRi0z",
        "colab_type": "text"
      },
      "cell_type": "markdown",
      "source": [
        "# Setup Environment\n",
        "\n",
        "We need to start downloading and choosing a pretrained NSynth model to use. "
      ]
    },
    {
      "metadata": {
        "id": "ZA7tNz2zAWvn",
        "colab_type": "code",
        "colab": {
          "autoexec": {
            "startup": false,
            "wait_interval": 0
          },
          "base_uri": "https://localhost:8080/",
          "height": 251
        },
        "cellView": "both",
        "outputId": "63655795-1c22-4653-98dc-12b1b6d80a58",
        "executionInfo": {
          "status": "ok",
          "timestamp": 1533818463310,
          "user_tz": -480,
          "elapsed": 54160,
          "user": {
            "displayName": "Jonathan Sherman",
            "photoUrl": "https://lh3.googleusercontent.com/a/default-user=s128",
            "userId": "117611389617249139234"
          }
        }
      },
      "cell_type": "code",
      "source": [
        "#@title Setup Environment\n",
        "#@test {\"output\": \"ignore\"}\n",
        "\n",
        "\n",
        "# Install magenta\n",
        "print('Installing Magenta...\\n')\n",
        "!pip install -q magenta\n",
        "print('Installing ffmpeg...\\n')\n",
        "!echo \"Yes\" | apt-get install ffmpeg > /dev/null\n",
        "\n",
        "\n",
        "print('Downloading Pretrained Models...\\n')\n",
        "# Copy checkpoints from google cloud\n",
        "# Copying 1GB, takes a minute\n",
        "print('Getting Instruments Model...\\n')\n",
        "!gsutil -q -m cp -R gs://download.magenta.tensorflow.org/models/nsynth/wavenet-ckpt.tar /content/\n",
        "print('Getting Voices Model...\\n')\n",
        "!gsutil -q -m cp -R gs://download.magenta.tensorflow.org/models/nsynth/wavenet-voice-ckpt.tar.gz /content/\n",
        "!cd /content/\n",
        "!tar -xvf wavenet-ckpt.tar > /dev/null\n",
        "!tar -xvf wavenet-voice-ckpt.tar.gz > /dev/null\n",
        "\n",
        "\n",
        "print('Importing Modules...\\n')\n",
        "# Load modules and helper functions\n",
        "import tensorflow as tf\n",
        "import os\n",
        "import numpy as np\n",
        "import matplotlib.pyplot as plt\n",
        "from scipy import stats\n",
        "from IPython.display import Audio\n",
        "%matplotlib inline\n",
        "\n",
        "from google.colab import files\n",
        "from magenta.models.nsynth import utils\n",
        "from magenta.models.nsynth.wavenet import fastgen\n",
        "from magenta.music.notebook_utils import colab_play as play\n",
        "import librosa\n",
        "\n",
        "print('Sucess!! Magenta environment is now setup.')\n"
      ],
      "execution_count": 114,
      "outputs": [
        {
          "output_type": "stream",
          "text": [
            "Installing Magenta...\n",
            "\n",
            "Installing ffmpeg...\n",
            "\n",
            "Downloading Pretrained Models...\n",
            "\n",
            "Getting Instruments Model...\n",
            "\n",
            "Getting Voices Model...\n",
            "\n",
            "Importing Modules...\n",
            "\n",
            "Sucess!! Magenta environment is now setup.\n"
          ],
          "name": "stdout"
        }
      ]
    },
    {
      "metadata": {
        "id": "33eI67IUG-lG",
        "colab_type": "code",
        "colab": {
          "autoexec": {
            "startup": false,
            "wait_interval": 0
          },
          "base_uri": "https://localhost:8080/",
          "height": 73
        },
        "outputId": "67cfe0ac-1679-4ae0-f6c8-2f2ab905516d",
        "executionInfo": {
          "status": "ok",
          "timestamp": 1533818615863,
          "user_tz": -480,
          "elapsed": 644,
          "user": {
            "displayName": "Jonathan Sherman",
            "photoUrl": "https://lh3.googleusercontent.com/a/default-user=s128",
            "userId": "117611389617249139234"
          }
        }
      },
      "cell_type": "code",
      "source": [
        "#@title Choose a Model { vertical-output: true, run: \"auto\" }\n",
        "Model = \"Both\" #@param [\"Instruments\", \"Voices\", \"Both\"] {type:\"string\"}\n",
        "ckpts = {'Instruments': '/content/wavenet-ckpt/model.ckpt-200000',\n",
        "         'Voices': '/content/wavenet-voice-ckpt/model.ckpt-200000'}\n",
        "\n",
        "if Model == \"Both\":\n",
        "  ckpt_path = [ckpts[key] for key in ckpts]\n",
        "  print(ckpt_path)\n",
        "  #for key in ckpts:\n",
        "    #print(ckpts[key])\n",
        "    #ckpts_path[key.split(',') for key in key]\n",
        "else:\n",
        "  ckpt_path = ckpts[Model]\n",
        "  print(ckpt_path)\n",
        "print('Using model pretrained on %s.' % Model)"
      ],
      "execution_count": 115,
      "outputs": [
        {
          "output_type": "stream",
          "text": [
            "['/content/wavenet-ckpt/model.ckpt-200000', '/content/wavenet-voice-ckpt/model.ckpt-200000']\n",
            "Using model pretrained on Both.\n"
          ],
          "name": "stdout"
        }
      ]
    },
    {
      "metadata": {
        "id": "UXrJd2zBG8oA",
        "colab_type": "code",
        "colab": {
          "autoexec": {
            "startup": false,
            "wait_interval": 0
          },
          "base_uri": "https://localhost:8080/",
          "height": 35
        },
        "outputId": "ea1e56e2-7a08-4880-f478-06c3a916f66b",
        "executionInfo": {
          "status": "ok",
          "timestamp": 1533521170373,
          "user_tz": -480,
          "elapsed": 615,
          "user": {
            "displayName": "Jonathan Sherman",
            "photoUrl": "https://lh3.googleusercontent.com/a/default-user=s128",
            "userId": "105267990690274350185"
          }
        }
      },
      "cell_type": "code",
      "source": [
        "print(ckpt_path)"
      ],
      "execution_count": 0,
      "outputs": [
        {
          "output_type": "stream",
          "text": [
            "['/content/wavenet-ckpt/model.ckpt-200000', '/content/wavenet-voice-ckpt/model.ckpt-200000']\n"
          ],
          "name": "stdout"
        }
      ]
    },
    {
      "metadata": {
        "id": "IpAPT-IzzZSP",
        "colab_type": "text"
      },
      "cell_type": "markdown",
      "source": [
        "Helper functions, variables and parameters for uploading wav files or npy embeddings"
      ]
    },
    {
      "metadata": {
        "id": "R3ReZqTZAE2w",
        "colab_type": "code",
        "colab": {
          "autoexec": {
            "startup": false,
            "wait_interval": 0
          }
        }
      },
      "cell_type": "code",
      "source": [
        "def upload_wav(sample_length, sr):\n",
        "  '''Upload a .wav file.'''\n",
        "  filemap = files.upload()\n",
        "  file_list, audio_list = [], []\n",
        "  for key, value in filemap.iteritems():\n",
        "    fname = os.path.join('/content/', key)\n",
        "    with open(fname, 'w') as f:\n",
        "      f.write(value)\n",
        "    audio = utils.load_audio(fname, sample_length=sample_length, sr=sr)\n",
        "    file_list.append(fname)\n",
        "    audio_list.append(audio)\n",
        "  return file_list, audio_list\n",
        "\n",
        "def upload_npy():\n",
        "  '''Upload an .npy file. No need for content'''\n",
        "  filemap = files.upload()\n",
        "  name_list, file_list, enc_list = [], [], []\n",
        "  for fname, value in filemap.items():\n",
        "    with open(fname, 'wb') as f:\n",
        "      f.write(value)\n",
        "    name_list.append(str(os.path.splitext(fname)[0]))\n",
        "    file_list.append(str(fname))\n",
        "    enc_list.append(np.load(str(fname)))   \n",
        "  return name_list, file_list, enc_list\n",
        "\n",
        "\n",
        "download = files.download\n",
        "get_name = lambda f: os.path.splitext(os.path.basename(f))[0]\n",
        "\n",
        "#Set Sound Length (in Seconds) { vertical-output: true, run: \"auto\" }\n",
        "Length = 3.0\n",
        "SR = 16000\n",
        "SAMPLE_LENGTH = int(SR * Length)"
      ],
      "execution_count": 0,
      "outputs": []
    },
    {
      "metadata": {
        "id": "c9IufW4mtPAU",
        "colab_type": "text"
      },
      "cell_type": "markdown",
      "source": [
        "Put all your sound files into a single folder and maker sure to select all the files you want to reconstruct / interpolate between. **(Ctrl/Cmd/Shift Click)**"
      ]
    },
    {
      "metadata": {
        "id": "mPwQYyYgBkdp",
        "colab_type": "code",
        "colab": {
          "autoexec": {
            "startup": false,
            "wait_interval": 0
          },
          "resources": {
            "http://localhost:8080/nbextensions/google.colab/files.js": {
              "data": "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",
              "ok": true,
              "headers": [
                [
                  "content-type",
                  "application/javascript"
                ]
              ],
              "status": 200,
              "status_text": ""
            }
          },
          "base_uri": "https://localhost:8080/",
          "height": 412
        },
        "cellView": "both",
        "outputId": "4d831eac-a043-4d53-fa43-11c109befcd3",
        "executionInfo": {
          "status": "ok",
          "timestamp": 1533819239623,
          "user_tz": -480,
          "elapsed": 39824,
          "user": {
            "displayName": "Jonathan Sherman",
            "photoUrl": "https://lh3.googleusercontent.com/a/default-user=s128",
            "userId": "117611389617249139234"
          }
        }
      },
      "cell_type": "code",
      "source": [
        "#@title Upload sound files (.wav, .mp3), encode and save/download embeddings\n",
        "def up_enc_save(encode=True, interp='comp'):\n",
        " \n",
        "  file_list, audio_list = upload_wav(sample_length=SAMPLE_LENGTH, sr=SR)\n",
        "  names = [str(get_name(name)) for name in file_list]\n",
        "  print(names)\n",
        "  # Pad and peak normalize\n",
        "  for i in range(len(audio_list)):\n",
        "    audio_list[i] = audio_list[i] / np.abs(audio_list[i]).max()\n",
        "\n",
        "    if len(audio_list[i]) > SAMPLE_LENGTH:\n",
        "      audio_list[i], _ = librosa.effects.trim(audio_list[i])\n",
        "      print(\"trim \",i,librosa.get_duration(audio_list[i]))\n",
        "\n",
        "    if len(audio_list[i]) <= SAMPLE_LENGTH:\n",
        "      audio_list[i], _ = librosa.effects.trim(audio_list[i])\n",
        "      print(\"trim \",i,librosa.get_duration(audio_list[i]))\n",
        "      padding = SAMPLE_LENGTH - len(audio_list[i])\n",
        "      audio_list[i] = np.pad(audio_list[i], (0, padding), 'constant')\n",
        "      print(\"pad \",i,librosa.get_duration(audio_list[i]))\n",
        "\n",
        "  audio_list = np.array(audio_list)\n",
        "\n",
        "  if encode is True:\n",
        "    print('encode')\n",
        "    audio = np.array(audio_list)\n",
        "    z = []\n",
        "    for i in range(len(ckpt_path)):\n",
        "      print(i)\n",
        "      if i == 0:\n",
        "        z = fastgen.encode(audio, ckpt_path[i], SAMPLE_LENGTH)\n",
        "        name_list = ['recon_i_' + name_ for name_ in names]\n",
        "      if i > 0:\n",
        "        z = np.append(z, fastgen.encode(audio, ckpt_path[i], SAMPLE_LENGTH), axis=0)\n",
        "        for name_ in names:\n",
        "          name_list.append('recon_v_' + name_)\n",
        "    print('Encoded %d files' % z.shape[0])\n",
        "\n",
        "    # Start with reconstructions\n",
        "    encodings = [z_ for z_ in z]\n",
        "    if interp == 'comp':\n",
        "      # Add all the mean interpolations\n",
        "      n = len(name_list)\n",
        "      n_split = n/2\n",
        "      for i in range(n_split):\n",
        "        new_z = (z[i] + z[i+n_split]) / 2.0\n",
        "        new_name = 'interp_' + name_list[i] + '_X_'+ name_list[i+n_split]\n",
        "        encodings.append(new_z)\n",
        "        name_list.append(new_name)\n",
        "    \n",
        "    if interp == 'all':\n",
        "      # Add all the mean interpolations\n",
        "      n = len(name_list)\n",
        "      for i in range(n - 1):\n",
        "        for j in range(i + 1, n):\n",
        "          new_z = (z[i] + z[j]) / 2.0\n",
        "          new_name = 'interp_' + name_list[i] + '_X_'+ name_list[j]\n",
        "          encodings.append(new_z)\n",
        "          name_list.append(new_name)\n",
        "\n",
        "      print(\"%d total: %d reconstructions and %d interpolations\" % (len(name_list), n, len(name_list) - n))\n",
        "\n",
        "  #if encode is True and save is True:\n",
        "  file_list = []\n",
        "  save_path = 'embeddings'\n",
        "  for num, (wavfile, enc) in enumerate(zip(name_list, encodings)):\n",
        "    filename = \"%s_embeddings.npy\" % wavfile\n",
        "    file_list.append(filename)\n",
        "    np.save(filename, enc)\n",
        "    print('downloaded %s' % (filename))\n",
        "    download(filename)\n",
        "      \n",
        "  return file_list, name_list, encodings, audio_list\n",
        "\n",
        "file_list, name_list, encodings, audio_list = up_enc_save()"
      ],
      "execution_count": 118,
      "outputs": [
        {
          "output_type": "display_data",
          "data": {
            "text/plain": [
              "<IPython.core.display.HTML object>"
            ],
            "text/html": [
              "\n",
              "     <input type=\"file\" id=\"files-a50f3fb5-e8ae-4bbb-9cee-8f4e93df7eda\" name=\"files[]\" multiple disabled />\n",
              "     <output id=\"result-a50f3fb5-e8ae-4bbb-9cee-8f4e93df7eda\">\n",
              "      Upload widget is only available when the cell has been executed in the\n",
              "      current browser session. Please rerun this cell to enable.\n",
              "      </output>\n",
              "      <script src=\"/nbextensions/google.colab/files.js\"></script> "
            ]
          },
          "metadata": {
            "tags": []
          }
        },
        {
          "output_type": "stream",
          "text": [
            "Saving TASCAM_0097S12.wav to TASCAM_0097S12 (1).wav\n",
            "Saving TASCAM_0096S12.wav to TASCAM_0096S12 (2).wav\n",
            "['TASCAM_0097S12', 'TASCAM_0096S12']\n",
            "('trim ', 0, 2.17687074829932)\n",
            "('pad ', 0, 2.17687074829932)\n",
            "('trim ', 1, 1.3061224489795917)\n",
            "('pad ', 1, 2.17687074829932)\n",
            "encode\n",
            "0\n",
            "INFO:tensorflow:Restoring parameters from /content/wavenet-ckpt/model.ckpt-200000\n",
            "1\n",
            "INFO:tensorflow:Restoring parameters from /content/wavenet-voice-ckpt/model.ckpt-200000\n",
            "Encoded 4 files\n",
            "downloaded recon_i_TASCAM_0097S12_embeddings.npy\n",
            "downloaded recon_i_TASCAM_0096S12_embeddings.npy\n",
            "downloaded recon_v_TASCAM_0097S12_embeddings.npy\n",
            "downloaded recon_v_TASCAM_0096S12_embeddings.npy\n",
            "downloaded interp_recon_i_TASCAM_0097S12_X_recon_v_TASCAM_0097S12_embeddings.npy\n",
            "downloaded interp_recon_i_TASCAM_0096S12_X_recon_v_TASCAM_0096S12_embeddings.npy\n"
          ],
          "name": "stdout"
        }
      ]
    },
    {
      "metadata": {
        "id": "qp_aROHROLCs",
        "colab_type": "code",
        "colab": {
          "autoexec": {
            "startup": false,
            "wait_interval": 0
          },
          "base_uri": "https://localhost:8080/",
          "height": 73
        },
        "outputId": "3aee8268-4b2e-4d51-bd4e-cb5d250df930",
        "executionInfo": {
          "status": "ok",
          "timestamp": 1533817276888,
          "user_tz": -480,
          "elapsed": 424,
          "user": {
            "displayName": "Jonathan Sherman",
            "photoUrl": "https://lh3.googleusercontent.com/a/default-user=s128",
            "userId": "117611389617249139234"
          }
        }
      },
      "cell_type": "code",
      "source": [
        "print(name_list)\n",
        "print(file_list)\n"
      ],
      "execution_count": 95,
      "outputs": [
        {
          "output_type": "stream",
          "text": [
            "['recon_i_TASCAM_0071S12', 'recon_i_TASCAM_0070S12', 'recon_v_TASCAM_0071S12', 'recon_v_TASCAM_0070S12', 'interp_recon_i_TASCAM_0071S12_X_recon_v_TASCAM_0071S12', 'interp_recon_i_TASCAM_0070S12_X_recon_v_TASCAM_0070S12']\n",
            "['recon_i_TASCAM_0071S12_embeddings.npy', 'recon_i_TASCAM_0070S12_embeddings.npy', 'recon_v_TASCAM_0071S12_embeddings.npy', 'recon_v_TASCAM_0070S12_embeddings.npy', 'interp_recon_i_TASCAM_0071S12_X_recon_v_TASCAM_0071S12_embeddings.npy', 'interp_recon_i_TASCAM_0070S12_X_recon_v_TASCAM_0070S12_embeddings.npy']\n"
          ],
          "name": "stdout"
        }
      ]
    },
    {
      "metadata": {
        "id": "hKR6CGUe_290",
        "colab_type": "text"
      },
      "cell_type": "markdown",
      "source": [
        "We can take a look at the encoding of our npy embeddings. They are compressed representations of the audio but have some structure in their own right, (16 numbers, kind of like 16 channels of audio, so there are 16 different lines, colors are arbitrary). "
      ]
    },
    {
      "metadata": {
        "id": "7Cawft23_290",
        "colab_type": "code",
        "colab": {
          "autoexec": {
            "startup": false,
            "wait_interval": 0
          },
          "base_uri": "https://localhost:8080/",
          "height": 318
        },
        "cellView": "both",
        "outputId": "2ab01ca3-2778-47cc-c476-e5d7a5227da4",
        "executionInfo": {
          "status": "ok",
          "timestamp": 1533819395851,
          "user_tz": -480,
          "elapsed": 724,
          "user": {
            "displayName": "Jonathan Sherman",
            "photoUrl": "https://lh3.googleusercontent.com/a/default-user=s128",
            "userId": "117611389617249139234"
          }
        }
      },
      "cell_type": "code",
      "source": [
        "#@title Visualize Audio and Encoding { vertical-output: true, run: \"auto\" }\n",
        "SoundFile = 4 #@param {type:\"slider\", min:0, max:10, step:1}\n",
        "file_number = SoundFile\n",
        "\n",
        "try:\n",
        "  print(file_list[file_number])\n",
        "\n",
        "  plt.figure()\n",
        "  plt.plot(encodings[file_number])\n",
        "  plt.title('NSynth Encoding')\n",
        "except Exception as e:\n",
        "  print e"
      ],
      "execution_count": 120,
      "outputs": [
        {
          "output_type": "stream",
          "text": [
            "interp_recon_i_TASCAM_0097S12_X_recon_v_TASCAM_0097S12_embeddings.npy\n"
          ],
          "name": "stdout"
        },
        {
          "output_type": "display_data",
          "data": {
            "image/png": "[encoded data removed]",
            "text/plain": [
              "<matplotlib.figure.Figure at 0x7f88fc047710>"
            ]
          },
          "metadata": {
            "tags": []
          }
        }
      ]
    },
    {
      "metadata": {
        "id": "Ae14OptQ-N-f",
        "colab_type": "code",
        "colab": {
          "autoexec": {
            "startup": false,
            "wait_interval": 0
          },
          "resources": {
            "http://localhost:8080/nbextensions/google.colab/files.js": {
              "data": "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",
              "ok": true,
              "headers": [
                [
                  "content-type",
                  "application/javascript"
                ]
              ],
              "status": 200,
              "status_text": ""
            }
          },
          "base_uri": "https://localhost:8080/",
          "height": 19886
        },
        "outputId": "e66b8f6e-e3ab-44a0-ebdc-04235a9dcc02",
        "executionInfo": {
          "status": "ok",
          "timestamp": 1533822540295,
          "user_tz": -480,
          "elapsed": 3120709,
          "user": {
            "displayName": "Jonathan Sherman",
            "photoUrl": "https://lh3.googleusercontent.com/a/default-user=s128",
            "userId": "117611389617249139234"
          }
        }
      },
      "cell_type": "code",
      "source": [
        "#@title Synthesize Interpolations from Local Storage\n",
        "print('Total Iterations to Complete: %d\\n' % SAMPLE_LENGTH)\n",
        "\n",
        "name_list, file_list, encodings = upload_npy()\n",
        "encodings = np.array(encodings)\n",
        "for i in range(len(ckpt_path)):\n",
        "  if i == 0:\n",
        "    save_paths = ['/content/' + name + '_i.wav' for name in name_list]\n",
        "    fastgen.synthesize(encodings,\n",
        "                   save_paths=save_paths,\n",
        "                   checkpoint_path=ckpt_path[i],\n",
        "                   samples_per_save=int(SAMPLE_LENGTH / 10))\n",
        "  if i > 0:\n",
        "    for name in name_list:\n",
        "      save_paths.append('/content/' + name + '_v.wav')\n",
        "    split_paths = len(save_paths)/2\n",
        "    fastgen.synthesize(encodings,\n",
        "                       save_paths=save_paths[split_paths:],\n",
        "                       checkpoint_path=ckpt_path[i],\n",
        "                       samples_per_save=int(SAMPLE_LENGTH / 10))"
      ],
      "execution_count": 121,
      "outputs": [
        {
          "output_type": "stream",
          "text": [
            "Total Iterations to Complete: 48000\n",
            "\n"
          ],
          "name": "stdout"
        },
        {
          "output_type": "display_data",
          "data": {
            "text/plain": [
              "<IPython.core.display.HTML object>"
            ],
            "text/html": [
              "\n",
              "     <input type=\"file\" id=\"files-f456f9c4-4252-4aee-a883-75dab098b318\" name=\"files[]\" multiple disabled />\n",
              "     <output id=\"result-f456f9c4-4252-4aee-a883-75dab098b318\">\n",
              "      Upload widget is only available when the cell has been executed in the\n",
              "      current browser session. Please rerun this cell to enable.\n",
              "      </output>\n",
              "      <script src=\"/nbextensions/google.colab/files.js\"></script> "
            ]
          },
          "metadata": {
            "tags": []
          }
        },
        {
          "output_type": "stream",
          "text": [
            "Saving interp_recon_i_TASCAM_0096S12_X_recon_v_TASCAM_0096S12_embeddings.npy to interp_recon_i_TASCAM_0096S12_X_recon_v_TASCAM_0096S12_embeddings (1).npy\n",
            "Saving interp_recon_i_TASCAM_0097S12_X_recon_v_TASCAM_0097S12_embeddings.npy to interp_recon_i_TASCAM_0097S12_X_recon_v_TASCAM_0097S12_embeddings (1).npy\n",
            "Saving recon_v_TASCAM_0096S12_embeddings.npy to recon_v_TASCAM_0096S12_embeddings (1).npy\n",
            "Saving recon_i_TASCAM_0096S12_embeddings.npy to recon_i_TASCAM_0096S12_embeddings (1).npy\n",
            "Saving recon_v_TASCAM_0097S12_embeddings.npy to recon_v_TASCAM_0097S12_embeddings (1).npy\n",
            "Saving recon_i_TASCAM_0097S12_embeddings.npy to recon_i_TASCAM_0097S12_embeddings (1).npy\n",
            "INFO:tensorflow:Restoring parameters from /content/wavenet-ckpt/model.ckpt-200000\n",
            "INFO:tensorflow:Sample: 0\n",
            "INFO:tensorflow:Saving: /content/interp_recon_i_TASCAM_0097S12_X_recon_v_TASCAM_0097S12_embeddings_i.wav\n",
            "INFO:tensorflow:Saving: /content/recon_v_TASCAM_0097S12_embeddings_i.wav\n",
            "INFO:tensorflow:Saving: /content/interp_recon_i_TASCAM_0096S12_X_recon_v_TASCAM_0096S12_embeddings_i.wav\n",
            "INFO:tensorflow:Saving: /content/recon_i_TASCAM_0097S12_embeddings_i.wav\n",
            "INFO:tensorflow:Saving: /content/recon_v_TASCAM_0096S12_embeddings_i.wav\n",
            "INFO:tensorflow:Saving: /content/recon_i_TASCAM_0096S12_embeddings_i.wav\n",
            "INFO:tensorflow:Sample: 100\n",
            "INFO:tensorflow:Sample: 200\n",
            "INFO:tensorflow:Sample: 300\n",
            "INFO:tensorflow:Sample: 400\n",
            "INFO:tensorflow:Sample: 500\n",
            "INFO:tensorflow:Sample: 600\n",
            "INFO:tensorflow:Sample: 700\n",
            "INFO:tensorflow:Sample: 800\n",
            "INFO:tensorflow:Sample: 900\n",
            "INFO:tensorflow:Sample: 1000\n",
            "INFO:tensorflow:Sample: 1100\n",
            "INFO:tensorflow:Sample: 1200\n",
            "INFO:tensorflow:Sample: 1300\n",
            "INFO:tensorflow:Sample: 1400\n",
            "INFO:tensorflow:Sample: 1500\n",
            "INFO:tensorflow:Sample: 1600\n",
            "INFO:tensorflow:Sample: 1700\n",
            "INFO:tensorflow:Sample: 1800\n",
            "INFO:tensorflow:Sample: 1900\n",
            "INFO:tensorflow:Sample: 2000\n",
            "INFO:tensorflow:Sample: 2100\n",
            "INFO:tensorflow:Sample: 2200\n",
            "INFO:tensorflow:Sample: 2300\n",
            "INFO:tensorflow:Sample: 2400\n",
            "INFO:tensorflow:Sample: 2500\n",
            "INFO:tensorflow:Sample: 2600\n",
            "INFO:tensorflow:Sample: 2700\n",
            "INFO:tensorflow:Sample: 2800\n",
            "INFO:tensorflow:Sample: 2900\n",
            "INFO:tensorflow:Sample: 3000\n",
            "INFO:tensorflow:Sample: 3100\n",
            "INFO:tensorflow:Sample: 3200\n",
            "INFO:tensorflow:Sample: 3300\n",
            "INFO:tensorflow:Sample: 3400\n",
            "INFO:tensorflow:Sample: 3500\n",
            "INFO:tensorflow:Sample: 3600\n",
            "INFO:tensorflow:Sample: 3700\n",
            "INFO:tensorflow:Sample: 3800\n",
            "INFO:tensorflow:Sample: 3900\n",
            "INFO:tensorflow:Sample: 4000\n",
            "INFO:tensorflow:Sample: 4100\n",
            "INFO:tensorflow:Sample: 4200\n",
            "INFO:tensorflow:Sample: 4300\n",
            "INFO:tensorflow:Sample: 4400\n",
            "INFO:tensorflow:Sample: 4500\n",
            "INFO:tensorflow:Sample: 4600\n",
            "INFO:tensorflow:Sample: 4700\n",
            "INFO:tensorflow:Sample: 4800\n",
            "INFO:tensorflow:Saving: /content/interp_recon_i_TASCAM_0097S12_X_recon_v_TASCAM_0097S12_embeddings_i.wav\n",
            "INFO:tensorflow:Saving: /content/recon_v_TASCAM_0097S12_embeddings_i.wav\n",
            "INFO:tensorflow:Saving: /content/interp_recon_i_TASCAM_0096S12_X_recon_v_TASCAM_0096S12_embeddings_i.wav\n",
            "INFO:tensorflow:Saving: /content/recon_i_TASCAM_0097S12_embeddings_i.wav\n",
            "INFO:tensorflow:Saving: /content/recon_v_TASCAM_0096S12_embeddings_i.wav\n",
            "INFO:tensorflow:Saving: /content/recon_i_TASCAM_0096S12_embeddings_i.wav\n",
            "INFO:tensorflow:Sample: 4900\n",
            "INFO:tensorflow:Sample: 5000\n",
            "INFO:tensorflow:Sample: 5100\n",
            "INFO:tensorflow:Sample: 5200\n",
            "INFO:tensorflow:Sample: 5300\n",
            "INFO:tensorflow:Sample: 5400\n",
            "INFO:tensorflow:Sample: 5500\n",
            "INFO:tensorflow:Sample: 5600\n",
            "INFO:tensorflow:Sample: 5700\n",
            "INFO:tensorflow:Sample: 5800\n",
            "INFO:tensorflow:Sample: 5900\n",
            "INFO:tensorflow:Sample: 6000\n",
            "INFO:tensorflow:Sample: 6100\n",
            "INFO:tensorflow:Sample: 6200\n",
            "INFO:tensorflow:Sample: 6300\n",
            "INFO:tensorflow:Sample: 6400\n",
            "INFO:tensorflow:Sample: 6500\n",
            "INFO:tensorflow:Sample: 6600\n",
            "INFO:tensorflow:Sample: 6700\n",
            "INFO:tensorflow:Sample: 6800\n",
            "INFO:tensorflow:Sample: 6900\n",
            "INFO:tensorflow:Sample: 7000\n",
            "INFO:tensorflow:Sample: 7100\n",
            "INFO:tensorflow:Sample: 7200\n",
            "INFO:tensorflow:Sample: 7300\n",
            "INFO:tensorflow:Sample: 7400\n",
            "INFO:tensorflow:Sample: 7500\n",
            "INFO:tensorflow:Sample: 7600\n",
            "INFO:tensorflow:Sample: 7700\n",
            "INFO:tensorflow:Sample: 7800\n",
            "INFO:tensorflow:Sample: 7900\n",
            "INFO:tensorflow:Sample: 8000\n",
            "INFO:tensorflow:Sample: 8100\n",
            "INFO:tensorflow:Sample: 8200\n",
            "INFO:tensorflow:Sample: 8300\n",
            "INFO:tensorflow:Sample: 8400\n",
            "INFO:tensorflow:Sample: 8500\n",
            "INFO:tensorflow:Sample: 8600\n",
            "INFO:tensorflow:Sample: 8700\n",
            "INFO:tensorflow:Sample: 8800\n",
            "INFO:tensorflow:Sample: 8900\n",
            "INFO:tensorflow:Sample: 9000\n",
            "INFO:tensorflow:Sample: 9100\n",
            "INFO:tensorflow:Sample: 9200\n",
            "INFO:tensorflow:Sample: 9300\n",
            "INFO:tensorflow:Sample: 9400\n",
            "INFO:tensorflow:Sample: 9500\n",
            "INFO:tensorflow:Sample: 9600\n",
            "INFO:tensorflow:Saving: /content/interp_recon_i_TASCAM_0097S12_X_recon_v_TASCAM_0097S12_embeddings_i.wav\n",
            "INFO:tensorflow:Saving: /content/recon_v_TASCAM_0097S12_embeddings_i.wav\n",
            "INFO:tensorflow:Saving: /content/interp_recon_i_TASCAM_0096S12_X_recon_v_TASCAM_0096S12_embeddings_i.wav\n",
            "INFO:tensorflow:Saving: /content/recon_i_TASCAM_0097S12_embeddings_i.wav\n",
            "INFO:tensorflow:Saving: /content/recon_v_TASCAM_0096S12_embeddings_i.wav\n",
            "INFO:tensorflow:Saving: /content/recon_i_TASCAM_0096S12_embeddings_i.wav\n",
            "INFO:tensorflow:Sample: 9700\n",
            "INFO:tensorflow:Sample: 9800\n",
            "INFO:tensorflow:Sample: 9900\n",
            "INFO:tensorflow:Sample: 10000\n",
            "INFO:tensorflow:Sample: 10100\n",
            "INFO:tensorflow:Sample: 10200\n",
            "INFO:tensorflow:Sample: 10300\n",
            "INFO:tensorflow:Sample: 10400\n",
            "INFO:tensorflow:Sample: 10500\n",
            "INFO:tensorflow:Sample: 10600\n",
            "INFO:tensorflow:Sample: 10700\n",
            "INFO:tensorflow:Sample: 10800\n",
            "INFO:tensorflow:Sample: 10900\n",
            "INFO:tensorflow:Sample: 11000\n",
            "INFO:tensorflow:Sample: 11100\n",
            "INFO:tensorflow:Sample: 11200\n",
            "INFO:tensorflow:Sample: 11300\n",
            "INFO:tensorflow:Sample: 11400\n",
            "INFO:tensorflow:Sample: 11500\n",
            "INFO:tensorflow:Sample: 11600\n",
            "INFO:tensorflow:Sample: 11700\n",
            "INFO:tensorflow:Sample: 11800\n",
            "INFO:tensorflow:Sample: 11900\n",
            "INFO:tensorflow:Sample: 12000\n",
            "INFO:tensorflow:Sample: 12100\n",
            "INFO:tensorflow:Sample: 12200\n",
            "INFO:tensorflow:Sample: 12300\n",
            "INFO:tensorflow:Sample: 12400\n",
            "INFO:tensorflow:Sample: 12500\n",
            "INFO:tensorflow:Sample: 12600\n",
            "INFO:tensorflow:Sample: 12700\n",
            "INFO:tensorflow:Sample: 12800\n",
            "INFO:tensorflow:Sample: 12900\n",
            "INFO:tensorflow:Sample: 13000\n",
            "INFO:tensorflow:Sample: 13100\n",
            "INFO:tensorflow:Sample: 13200\n",
            "INFO:tensorflow:Sample: 13300\n",
            "INFO:tensorflow:Sample: 13400\n",
            "INFO:tensorflow:Sample: 13500\n",
            "INFO:tensorflow:Sample: 13600\n",
            "INFO:tensorflow:Sample: 13700\n",
            "INFO:tensorflow:Sample: 13800\n",
            "INFO:tensorflow:Sample: 13900\n",
            "INFO:tensorflow:Sample: 14000\n",
            "INFO:tensorflow:Sample: 14100\n",
            "INFO:tensorflow:Sample: 14200\n",
            "INFO:tensorflow:Sample: 14300\n",
            "INFO:tensorflow:Sample: 14400\n",
            "INFO:tensorflow:Saving: /content/interp_recon_i_TASCAM_0097S12_X_recon_v_TASCAM_0097S12_embeddings_i.wav\n",
            "INFO:tensorflow:Saving: /content/recon_v_TASCAM_0097S12_embeddings_i.wav\n",
            "INFO:tensorflow:Saving: /content/interp_recon_i_TASCAM_0096S12_X_recon_v_TASCAM_0096S12_embeddings_i.wav\n",
            "INFO:tensorflow:Saving: /content/recon_i_TASCAM_0097S12_embeddings_i.wav\n",
            "INFO:tensorflow:Saving: /content/recon_v_TASCAM_0096S12_embeddings_i.wav\n",
            "INFO:tensorflow:Saving: /content/recon_i_TASCAM_0096S12_embeddings_i.wav\n",
            "INFO:tensorflow:Sample: 14500\n",
            "INFO:tensorflow:Sample: 14600\n",
            "INFO:tensorflow:Sample: 14700\n",
            "INFO:tensorflow:Sample: 14800\n",
            "INFO:tensorflow:Sample: 14900\n",
            "INFO:tensorflow:Sample: 15000\n",
            "INFO:tensorflow:Sample: 15100\n",
            "INFO:tensorflow:Sample: 15200\n",
            "INFO:tensorflow:Sample: 15300\n",
            "INFO:tensorflow:Sample: 15400\n",
            "INFO:tensorflow:Sample: 15500\n",
            "INFO:tensorflow:Sample: 15600\n",
            "INFO:tensorflow:Sample: 15700\n",
            "INFO:tensorflow:Sample: 15800\n",
            "INFO:tensorflow:Sample: 15900\n",
            "INFO:tensorflow:Sample: 16000\n",
            "INFO:tensorflow:Sample: 16100\n",
            "INFO:tensorflow:Sample: 16200\n",
            "INFO:tensorflow:Sample: 16300\n",
            "INFO:tensorflow:Sample: 16400\n",
            "INFO:tensorflow:Sample: 16500\n",
            "INFO:tensorflow:Sample: 16600\n",
            "INFO:tensorflow:Sample: 16700\n",
            "INFO:tensorflow:Sample: 16800\n",
            "INFO:tensorflow:Sample: 16900\n",
            "INFO:tensorflow:Sample: 17000\n",
            "INFO:tensorflow:Sample: 17100\n",
            "INFO:tensorflow:Sample: 17200\n",
            "INFO:tensorflow:Sample: 17300\n",
            "INFO:tensorflow:Sample: 17400\n",
            "INFO:tensorflow:Sample: 17500\n",
            "INFO:tensorflow:Sample: 17600\n",
            "INFO:tensorflow:Sample: 17700\n",
            "INFO:tensorflow:Sample: 17800\n",
            "INFO:tensorflow:Sample: 17900\n",
            "INFO:tensorflow:Sample: 18000\n",
            "INFO:tensorflow:Sample: 18100\n",
            "INFO:tensorflow:Sample: 18200\n",
            "INFO:tensorflow:Sample: 18300\n",
            "INFO:tensorflow:Sample: 18400\n",
            "INFO:tensorflow:Sample: 18500\n",
            "INFO:tensorflow:Sample: 18600\n",
            "INFO:tensorflow:Sample: 18700\n",
            "INFO:tensorflow:Sample: 18800\n",
            "INFO:tensorflow:Sample: 18900\n",
            "INFO:tensorflow:Sample: 19000\n",
            "INFO:tensorflow:Sample: 19100\n",
            "INFO:tensorflow:Sample: 19200\n",
            "INFO:tensorflow:Saving: /content/interp_recon_i_TASCAM_0097S12_X_recon_v_TASCAM_0097S12_embeddings_i.wav\n",
            "INFO:tensorflow:Saving: /content/recon_v_TASCAM_0097S12_embeddings_i.wav\n",
            "INFO:tensorflow:Saving: /content/interp_recon_i_TASCAM_0096S12_X_recon_v_TASCAM_0096S12_embeddings_i.wav\n",
            "INFO:tensorflow:Saving: /content/recon_i_TASCAM_0097S12_embeddings_i.wav\n",
            "INFO:tensorflow:Saving: /content/recon_v_TASCAM_0096S12_embeddings_i.wav\n",
            "INFO:tensorflow:Saving: /content/recon_i_TASCAM_0096S12_embeddings_i.wav\n",
            "INFO:tensorflow:Sample: 19300\n",
            "INFO:tensorflow:Sample: 19400\n",
            "INFO:tensorflow:Sample: 19500\n",
            "INFO:tensorflow:Sample: 19600\n",
            "INFO:tensorflow:Sample: 19700\n",
            "INFO:tensorflow:Sample: 19800\n",
            "INFO:tensorflow:Sample: 19900\n",
            "INFO:tensorflow:Sample: 20000\n",
            "INFO:tensorflow:Sample: 20100\n",
            "INFO:tensorflow:Sample: 20200\n",
            "INFO:tensorflow:Sample: 20300\n",
            "INFO:tensorflow:Sample: 20400\n",
            "INFO:tensorflow:Sample: 20500\n",
            "INFO:tensorflow:Sample: 20600\n",
            "INFO:tensorflow:Sample: 20700\n",
            "INFO:tensorflow:Sample: 20800\n",
            "INFO:tensorflow:Sample: 20900\n",
            "INFO:tensorflow:Sample: 21000\n",
            "INFO:tensorflow:Sample: 21100\n",
            "INFO:tensorflow:Sample: 21200\n",
            "INFO:tensorflow:Sample: 21300\n",
            "INFO:tensorflow:Sample: 21400\n",
            "INFO:tensorflow:Sample: 21500\n",
            "INFO:tensorflow:Sample: 21600\n",
            "INFO:tensorflow:Sample: 21700\n",
            "INFO:tensorflow:Sample: 21800\n",
            "INFO:tensorflow:Sample: 21900\n",
            "INFO:tensorflow:Sample: 22000\n",
            "INFO:tensorflow:Sample: 22100\n",
            "INFO:tensorflow:Sample: 22200\n",
            "INFO:tensorflow:Sample: 22300\n",
            "INFO:tensorflow:Sample: 22400\n",
            "INFO:tensorflow:Sample: 22500\n",
            "INFO:tensorflow:Sample: 22600\n",
            "INFO:tensorflow:Sample: 22700\n",
            "INFO:tensorflow:Sample: 22800\n",
            "INFO:tensorflow:Sample: 22900\n",
            "INFO:tensorflow:Sample: 23000\n",
            "INFO:tensorflow:Sample: 23100\n",
            "INFO:tensorflow:Sample: 23200\n",
            "INFO:tensorflow:Sample: 23300\n",
            "INFO:tensorflow:Sample: 23400\n",
            "INFO:tensorflow:Sample: 23500\n",
            "INFO:tensorflow:Sample: 23600\n",
            "INFO:tensorflow:Sample: 23700\n",
            "INFO:tensorflow:Sample: 23800\n",
            "INFO:tensorflow:Sample: 23900\n",
            "INFO:tensorflow:Sample: 24000\n",
            "INFO:tensorflow:Saving: /content/interp_recon_i_TASCAM_0097S12_X_recon_v_TASCAM_0097S12_embeddings_i.wav\n",
            "INFO:tensorflow:Saving: /content/recon_v_TASCAM_0097S12_embeddings_i.wav\n",
            "INFO:tensorflow:Saving: /content/interp_recon_i_TASCAM_0096S12_X_recon_v_TASCAM_0096S12_embeddings_i.wav\n",
            "INFO:tensorflow:Saving: /content/recon_i_TASCAM_0097S12_embeddings_i.wav\n",
            "INFO:tensorflow:Saving: /content/recon_v_TASCAM_0096S12_embeddings_i.wav\n",
            "INFO:tensorflow:Saving: /content/recon_i_TASCAM_0096S12_embeddings_i.wav\n",
            "INFO:tensorflow:Sample: 24100\n",
            "INFO:tensorflow:Sample: 24200\n",
            "INFO:tensorflow:Sample: 24300\n",
            "INFO:tensorflow:Sample: 24400\n",
            "INFO:tensorflow:Sample: 24500\n",
            "INFO:tensorflow:Sample: 24600\n",
            "INFO:tensorflow:Sample: 24700\n",
            "INFO:tensorflow:Sample: 24800\n",
            "INFO:tensorflow:Sample: 24900\n",
            "INFO:tensorflow:Sample: 25000\n",
            "INFO:tensorflow:Sample: 25100\n",
            "INFO:tensorflow:Sample: 25200\n",
            "INFO:tensorflow:Sample: 25300\n",
            "INFO:tensorflow:Sample: 25400\n",
            "INFO:tensorflow:Sample: 25500\n",
            "INFO:tensorflow:Sample: 25600\n",
            "INFO:tensorflow:Sample: 25700\n",
            "INFO:tensorflow:Sample: 25800\n",
            "INFO:tensorflow:Sample: 25900\n",
            "INFO:tensorflow:Sample: 26000\n",
            "INFO:tensorflow:Sample: 26100\n",
            "INFO:tensorflow:Sample: 26200\n",
            "INFO:tensorflow:Sample: 26300\n",
            "INFO:tensorflow:Sample: 26400\n",
            "INFO:tensorflow:Sample: 26500\n",
            "INFO:tensorflow:Sample: 26600\n",
            "INFO:tensorflow:Sample: 26700\n",
            "INFO:tensorflow:Sample: 26800\n",
            "INFO:tensorflow:Sample: 26900\n",
            "INFO:tensorflow:Sample: 27000\n",
            "INFO:tensorflow:Sample: 27100\n",
            "INFO:tensorflow:Sample: 27200\n",
            "INFO:tensorflow:Sample: 27300\n",
            "INFO:tensorflow:Sample: 27400\n",
            "INFO:tensorflow:Sample: 27500\n",
            "INFO:tensorflow:Sample: 27600\n",
            "INFO:tensorflow:Sample: 27700\n",
            "INFO:tensorflow:Sample: 27800\n",
            "INFO:tensorflow:Sample: 27900\n",
            "INFO:tensorflow:Sample: 28000\n",
            "INFO:tensorflow:Sample: 28100\n",
            "INFO:tensorflow:Sample: 28200\n",
            "INFO:tensorflow:Sample: 28300\n",
            "INFO:tensorflow:Sample: 28400\n",
            "INFO:tensorflow:Sample: 28500\n",
            "INFO:tensorflow:Sample: 28600\n",
            "INFO:tensorflow:Sample: 28700\n",
            "INFO:tensorflow:Sample: 28800\n",
            "INFO:tensorflow:Saving: /content/interp_recon_i_TASCAM_0097S12_X_recon_v_TASCAM_0097S12_embeddings_i.wav\n",
            "INFO:tensorflow:Saving: /content/recon_v_TASCAM_0097S12_embeddings_i.wav\n",
            "INFO:tensorflow:Saving: /content/interp_recon_i_TASCAM_0096S12_X_recon_v_TASCAM_0096S12_embeddings_i.wav\n",
            "INFO:tensorflow:Saving: /content/recon_i_TASCAM_0097S12_embeddings_i.wav\n",
            "INFO:tensorflow:Saving: /content/recon_v_TASCAM_0096S12_embeddings_i.wav\n",
            "INFO:tensorflow:Saving: /content/recon_i_TASCAM_0096S12_embeddings_i.wav\n",
            "INFO:tensorflow:Sample: 28900\n",
            "INFO:tensorflow:Sample: 29000\n",
            "INFO:tensorflow:Sample: 29100\n",
            "INFO:tensorflow:Sample: 29200\n",
            "INFO:tensorflow:Sample: 29300\n",
            "INFO:tensorflow:Sample: 29400\n",
            "INFO:tensorflow:Sample: 29500\n",
            "INFO:tensorflow:Sample: 29600\n",
            "INFO:tensorflow:Sample: 29700\n",
            "INFO:tensorflow:Sample: 29800\n",
            "INFO:tensorflow:Sample: 29900\n",
            "INFO:tensorflow:Sample: 30000\n",
            "INFO:tensorflow:Sample: 30100\n",
            "INFO:tensorflow:Sample: 30200\n",
            "INFO:tensorflow:Sample: 30300\n",
            "INFO:tensorflow:Sample: 30400\n",
            "INFO:tensorflow:Sample: 30500\n",
            "INFO:tensorflow:Sample: 30600\n",
            "INFO:tensorflow:Sample: 30700\n",
            "INFO:tensorflow:Sample: 30800\n",
            "INFO:tensorflow:Sample: 30900\n",
            "INFO:tensorflow:Sample: 31000\n",
            "INFO:tensorflow:Sample: 31100\n",
            "INFO:tensorflow:Sample: 31200\n",
            "INFO:tensorflow:Sample: 31300\n",
            "INFO:tensorflow:Sample: 31400\n",
            "INFO:tensorflow:Sample: 31500\n",
            "INFO:tensorflow:Sample: 31600\n",
            "INFO:tensorflow:Sample: 31700\n",
            "INFO:tensorflow:Sample: 31800\n",
            "INFO:tensorflow:Sample: 31900\n",
            "INFO:tensorflow:Sample: 32000\n",
            "INFO:tensorflow:Sample: 32100\n",
            "INFO:tensorflow:Sample: 32200\n",
            "INFO:tensorflow:Sample: 32300\n",
            "INFO:tensorflow:Sample: 32400\n",
            "INFO:tensorflow:Sample: 32500\n",
            "INFO:tensorflow:Sample: 32600\n",
            "INFO:tensorflow:Sample: 32700\n",
            "INFO:tensorflow:Sample: 32800\n",
            "INFO:tensorflow:Sample: 32900\n",
            "INFO:tensorflow:Sample: 33000\n",
            "INFO:tensorflow:Sample: 33100\n",
            "INFO:tensorflow:Sample: 33200\n",
            "INFO:tensorflow:Sample: 33300\n",
            "INFO:tensorflow:Sample: 33400\n",
            "INFO:tensorflow:Sample: 33500\n",
            "INFO:tensorflow:Sample: 33600\n",
            "INFO:tensorflow:Saving: /content/interp_recon_i_TASCAM_0097S12_X_recon_v_TASCAM_0097S12_embeddings_i.wav\n",
            "INFO:tensorflow:Saving: /content/recon_v_TASCAM_0097S12_embeddings_i.wav\n",
            "INFO:tensorflow:Saving: /content/interp_recon_i_TASCAM_0096S12_X_recon_v_TASCAM_0096S12_embeddings_i.wav\n",
            "INFO:tensorflow:Saving: /content/recon_i_TASCAM_0097S12_embeddings_i.wav\n",
            "INFO:tensorflow:Saving: /content/recon_v_TASCAM_0096S12_embeddings_i.wav\n",
            "INFO:tensorflow:Saving: /content/recon_i_TASCAM_0096S12_embeddings_i.wav\n",
            "INFO:tensorflow:Sample: 33700\n",
            "INFO:tensorflow:Sample: 33800\n",
            "INFO:tensorflow:Sample: 33900\n",
            "INFO:tensorflow:Sample: 34000\n",
            "INFO:tensorflow:Sample: 34100\n",
            "INFO:tensorflow:Sample: 34200\n",
            "INFO:tensorflow:Sample: 34300\n",
            "INFO:tensorflow:Sample: 34400\n",
            "INFO:tensorflow:Sample: 34500\n",
            "INFO:tensorflow:Sample: 34600\n",
            "INFO:tensorflow:Sample: 34700\n",
            "INFO:tensorflow:Sample: 34800\n",
            "INFO:tensorflow:Sample: 34900\n",
            "INFO:tensorflow:Sample: 35000\n",
            "INFO:tensorflow:Sample: 35100\n",
            "INFO:tensorflow:Sample: 35200\n",
            "INFO:tensorflow:Sample: 35300\n",
            "INFO:tensorflow:Sample: 35400\n",
            "INFO:tensorflow:Sample: 35500\n",
            "INFO:tensorflow:Sample: 35600\n",
            "INFO:tensorflow:Sample: 35700\n",
            "INFO:tensorflow:Sample: 35800\n",
            "INFO:tensorflow:Sample: 35900\n",
            "INFO:tensorflow:Sample: 36000\n",
            "INFO:tensorflow:Sample: 36100\n",
            "INFO:tensorflow:Sample: 36200\n",
            "INFO:tensorflow:Sample: 36300\n",
            "INFO:tensorflow:Sample: 36400\n",
            "INFO:tensorflow:Sample: 36500\n",
            "INFO:tensorflow:Sample: 36600\n",
            "INFO:tensorflow:Sample: 36700\n",
            "INFO:tensorflow:Sample: 36800\n",
            "INFO:tensorflow:Sample: 36900\n",
            "INFO:tensorflow:Sample: 37000\n",
            "INFO:tensorflow:Sample: 37100\n",
            "INFO:tensorflow:Sample: 37200\n",
            "INFO:tensorflow:Sample: 37300\n",
            "INFO:tensorflow:Sample: 37400\n",
            "INFO:tensorflow:Sample: 37500\n",
            "INFO:tensorflow:Sample: 37600\n",
            "INFO:tensorflow:Sample: 37700\n",
            "INFO:tensorflow:Sample: 37800\n",
            "INFO:tensorflow:Sample: 37900\n",
            "INFO:tensorflow:Sample: 38000\n",
            "INFO:tensorflow:Sample: 38100\n",
            "INFO:tensorflow:Sample: 38200\n",
            "INFO:tensorflow:Sample: 38300\n",
            "INFO:tensorflow:Sample: 38400\n",
            "INFO:tensorflow:Saving: /content/interp_recon_i_TASCAM_0097S12_X_recon_v_TASCAM_0097S12_embeddings_i.wav\n",
            "INFO:tensorflow:Saving: /content/recon_v_TASCAM_0097S12_embeddings_i.wav\n",
            "INFO:tensorflow:Saving: /content/interp_recon_i_TASCAM_0096S12_X_recon_v_TASCAM_0096S12_embeddings_i.wav\n",
            "INFO:tensorflow:Saving: /content/recon_i_TASCAM_0097S12_embeddings_i.wav\n",
            "INFO:tensorflow:Saving: /content/recon_v_TASCAM_0096S12_embeddings_i.wav\n",
            "INFO:tensorflow:Saving: /content/recon_i_TASCAM_0096S12_embeddings_i.wav\n",
            "INFO:tensorflow:Sample: 38500\n",
            "INFO:tensorflow:Sample: 38600\n",
            "INFO:tensorflow:Sample: 38700\n",
            "INFO:tensorflow:Sample: 38800\n",
            "INFO:tensorflow:Sample: 38900\n",
            "INFO:tensorflow:Sample: 39000\n",
            "INFO:tensorflow:Sample: 39100\n",
            "INFO:tensorflow:Sample: 39200\n",
            "INFO:tensorflow:Sample: 39300\n",
            "INFO:tensorflow:Sample: 39400\n",
            "INFO:tensorflow:Sample: 39500\n",
            "INFO:tensorflow:Sample: 39600\n",
            "INFO:tensorflow:Sample: 39700\n",
            "INFO:tensorflow:Sample: 39800\n",
            "INFO:tensorflow:Sample: 39900\n",
            "INFO:tensorflow:Sample: 40000\n",
            "INFO:tensorflow:Sample: 40100\n",
            "INFO:tensorflow:Sample: 40200\n",
            "INFO:tensorflow:Sample: 40300\n",
            "INFO:tensorflow:Sample: 40400\n",
            "INFO:tensorflow:Sample: 40500\n",
            "INFO:tensorflow:Sample: 40600\n",
            "INFO:tensorflow:Sample: 40700\n",
            "INFO:tensorflow:Sample: 40800\n",
            "INFO:tensorflow:Sample: 40900\n",
            "INFO:tensorflow:Sample: 41000\n",
            "INFO:tensorflow:Sample: 41100\n",
            "INFO:tensorflow:Sample: 41200\n",
            "INFO:tensorflow:Sample: 41300\n",
            "INFO:tensorflow:Sample: 41400\n",
            "INFO:tensorflow:Sample: 41500\n",
            "INFO:tensorflow:Sample: 41600\n",
            "INFO:tensorflow:Sample: 41700\n",
            "INFO:tensorflow:Sample: 41800\n",
            "INFO:tensorflow:Sample: 41900\n",
            "INFO:tensorflow:Sample: 42000\n",
            "INFO:tensorflow:Sample: 42100\n",
            "INFO:tensorflow:Sample: 42200\n",
            "INFO:tensorflow:Sample: 42300\n",
            "INFO:tensorflow:Sample: 42400\n",
            "INFO:tensorflow:Sample: 42500\n",
            "INFO:tensorflow:Sample: 42600\n",
            "INFO:tensorflow:Sample: 42700\n",
            "INFO:tensorflow:Sample: 42800\n",
            "INFO:tensorflow:Sample: 42900\n",
            "INFO:tensorflow:Sample: 43000\n",
            "INFO:tensorflow:Sample: 43100\n",
            "INFO:tensorflow:Sample: 43200\n",
            "INFO:tensorflow:Saving: /content/interp_recon_i_TASCAM_0097S12_X_recon_v_TASCAM_0097S12_embeddings_i.wav\n",
            "INFO:tensorflow:Saving: /content/recon_v_TASCAM_0097S12_embeddings_i.wav\n",
            "INFO:tensorflow:Saving: /content/interp_recon_i_TASCAM_0096S12_X_recon_v_TASCAM_0096S12_embeddings_i.wav\n",
            "INFO:tensorflow:Saving: /content/recon_i_TASCAM_0097S12_embeddings_i.wav\n",
            "INFO:tensorflow:Saving: /content/recon_v_TASCAM_0096S12_embeddings_i.wav\n",
            "INFO:tensorflow:Saving: /content/recon_i_TASCAM_0096S12_embeddings_i.wav\n",
            "INFO:tensorflow:Sample: 43300\n",
            "INFO:tensorflow:Sample: 43400\n",
            "INFO:tensorflow:Sample: 43500\n",
            "INFO:tensorflow:Sample: 43600\n",
            "INFO:tensorflow:Sample: 43700\n",
            "INFO:tensorflow:Sample: 43800\n",
            "INFO:tensorflow:Sample: 43900\n",
            "INFO:tensorflow:Sample: 44000\n",
            "INFO:tensorflow:Sample: 44100\n",
            "INFO:tensorflow:Sample: 44200\n",
            "INFO:tensorflow:Sample: 44300\n",
            "INFO:tensorflow:Sample: 44400\n",
            "INFO:tensorflow:Sample: 44500\n",
            "INFO:tensorflow:Sample: 44600\n",
            "INFO:tensorflow:Sample: 44700\n",
            "INFO:tensorflow:Sample: 44800\n",
            "INFO:tensorflow:Sample: 44900\n",
            "INFO:tensorflow:Sample: 45000\n",
            "INFO:tensorflow:Sample: 45100\n",
            "INFO:tensorflow:Sample: 45200\n",
            "INFO:tensorflow:Sample: 45300\n",
            "INFO:tensorflow:Sample: 45400\n",
            "INFO:tensorflow:Sample: 45500\n",
            "INFO:tensorflow:Sample: 45600\n",
            "INFO:tensorflow:Sample: 45700\n",
            "INFO:tensorflow:Sample: 45800\n",
            "INFO:tensorflow:Sample: 45900\n",
            "INFO:tensorflow:Sample: 46000\n",
            "INFO:tensorflow:Sample: 46100\n",
            "INFO:tensorflow:Sample: 46200\n",
            "INFO:tensorflow:Sample: 46300\n",
            "INFO:tensorflow:Sample: 46400\n",
            "INFO:tensorflow:Sample: 46500\n",
            "INFO:tensorflow:Sample: 46600\n",
            "INFO:tensorflow:Sample: 46700\n",
            "INFO:tensorflow:Sample: 46800\n",
            "INFO:tensorflow:Sample: 46900\n",
            "INFO:tensorflow:Sample: 47000\n",
            "INFO:tensorflow:Sample: 47100\n",
            "INFO:tensorflow:Sample: 47200\n",
            "INFO:tensorflow:Sample: 47300\n",
            "INFO:tensorflow:Sample: 47400\n",
            "INFO:tensorflow:Sample: 47500\n",
            "INFO:tensorflow:Sample: 47600\n",
            "INFO:tensorflow:Saving: /content/interp_recon_i_TASCAM_0097S12_X_recon_v_TASCAM_0097S12_embeddings_i.wav\n",
            "INFO:tensorflow:Saving: /content/recon_v_TASCAM_0097S12_embeddings_i.wav\n",
            "INFO:tensorflow:Saving: /content/interp_recon_i_TASCAM_0096S12_X_recon_v_TASCAM_0096S12_embeddings_i.wav\n",
            "INFO:tensorflow:Saving: /content/recon_i_TASCAM_0097S12_embeddings_i.wav\n",
            "INFO:tensorflow:Saving: /content/recon_v_TASCAM_0096S12_embeddings_i.wav\n",
            "INFO:tensorflow:Saving: /content/recon_i_TASCAM_0096S12_embeddings_i.wav\n",
            "INFO:tensorflow:Restoring parameters from /content/wavenet-voice-ckpt/model.ckpt-200000\n",
            "INFO:tensorflow:Sample: 0\n",
            "INFO:tensorflow:Saving: /content/interp_recon_i_TASCAM_0097S12_X_recon_v_TASCAM_0097S12_embeddings_v.wav\n",
            "INFO:tensorflow:Saving: /content/recon_v_TASCAM_0097S12_embeddings_v.wav\n",
            "INFO:tensorflow:Saving: /content/interp_recon_i_TASCAM_0096S12_X_recon_v_TASCAM_0096S12_embeddings_v.wav\n",
            "INFO:tensorflow:Saving: /content/recon_i_TASCAM_0097S12_embeddings_v.wav\n",
            "INFO:tensorflow:Saving: /content/recon_v_TASCAM_0096S12_embeddings_v.wav\n",
            "INFO:tensorflow:Saving: /content/recon_i_TASCAM_0096S12_embeddings_v.wav\n",
            "INFO:tensorflow:Sample: 100\n",
            "INFO:tensorflow:Sample: 200\n",
            "INFO:tensorflow:Sample: 300\n",
            "INFO:tensorflow:Sample: 400\n",
            "INFO:tensorflow:Sample: 500\n",
            "INFO:tensorflow:Sample: 600\n",
            "INFO:tensorflow:Sample: 700\n",
            "INFO:tensorflow:Sample: 800\n",
            "INFO:tensorflow:Sample: 900\n",
            "INFO:tensorflow:Sample: 1000\n",
            "INFO:tensorflow:Sample: 1100\n",
            "INFO:tensorflow:Sample: 1200\n",
            "INFO:tensorflow:Sample: 1300\n",
            "INFO:tensorflow:Sample: 1400\n",
            "INFO:tensorflow:Sample: 1500\n",
            "INFO:tensorflow:Sample: 1600\n",
            "INFO:tensorflow:Sample: 1700\n",
            "INFO:tensorflow:Sample: 1800\n",
            "INFO:tensorflow:Sample: 1900\n",
            "INFO:tensorflow:Sample: 2000\n",
            "INFO:tensorflow:Sample: 2100\n",
            "INFO:tensorflow:Sample: 2200\n",
            "INFO:tensorflow:Sample: 2300\n",
            "INFO:tensorflow:Sample: 2400\n",
            "INFO:tensorflow:Sample: 2500\n",
            "INFO:tensorflow:Sample: 2600\n",
            "INFO:tensorflow:Sample: 2700\n",
            "INFO:tensorflow:Sample: 2800\n",
            "INFO:tensorflow:Sample: 2900\n",
            "INFO:tensorflow:Sample: 3000\n",
            "INFO:tensorflow:Sample: 3100\n",
            "INFO:tensorflow:Sample: 3200\n",
            "INFO:tensorflow:Sample: 3300\n",
            "INFO:tensorflow:Sample: 3400\n",
            "INFO:tensorflow:Sample: 3500\n",
            "INFO:tensorflow:Sample: 3600\n",
            "INFO:tensorflow:Sample: 3700\n",
            "INFO:tensorflow:Sample: 3800\n",
            "INFO:tensorflow:Sample: 3900\n",
            "INFO:tensorflow:Sample: 4000\n",
            "INFO:tensorflow:Sample: 4100\n",
            "INFO:tensorflow:Sample: 4200\n",
            "INFO:tensorflow:Sample: 4300\n",
            "INFO:tensorflow:Sample: 4400\n",
            "INFO:tensorflow:Sample: 4500\n",
            "INFO:tensorflow:Sample: 4600\n",
            "INFO:tensorflow:Sample: 4700\n",
            "INFO:tensorflow:Sample: 4800\n",
            "INFO:tensorflow:Saving: /content/interp_recon_i_TASCAM_0097S12_X_recon_v_TASCAM_0097S12_embeddings_v.wav\n",
            "INFO:tensorflow:Saving: /content/recon_v_TASCAM_0097S12_embeddings_v.wav\n",
            "INFO:tensorflow:Saving: /content/interp_recon_i_TASCAM_0096S12_X_recon_v_TASCAM_0096S12_embeddings_v.wav\n",
            "INFO:tensorflow:Saving: /content/recon_i_TASCAM_0097S12_embeddings_v.wav\n",
            "INFO:tensorflow:Saving: /content/recon_v_TASCAM_0096S12_embeddings_v.wav\n",
            "INFO:tensorflow:Saving: /content/recon_i_TASCAM_0096S12_embeddings_v.wav\n",
            "INFO:tensorflow:Sample: 4900\n",
            "INFO:tensorflow:Sample: 5000\n",
            "INFO:tensorflow:Sample: 5100\n",
            "INFO:tensorflow:Sample: 5200\n",
            "INFO:tensorflow:Sample: 5300\n",
            "INFO:tensorflow:Sample: 5400\n",
            "INFO:tensorflow:Sample: 5500\n",
            "INFO:tensorflow:Sample: 5600\n",
            "INFO:tensorflow:Sample: 5700\n",
            "INFO:tensorflow:Sample: 5800\n",
            "INFO:tensorflow:Sample: 5900\n",
            "INFO:tensorflow:Sample: 6000\n",
            "INFO:tensorflow:Sample: 6100\n",
            "INFO:tensorflow:Sample: 6200\n",
            "INFO:tensorflow:Sample: 6300\n",
            "INFO:tensorflow:Sample: 6400\n",
            "INFO:tensorflow:Sample: 6500\n",
            "INFO:tensorflow:Sample: 6600\n",
            "INFO:tensorflow:Sample: 6700\n",
            "INFO:tensorflow:Sample: 6800\n",
            "INFO:tensorflow:Sample: 6900\n",
            "INFO:tensorflow:Sample: 7000\n",
            "INFO:tensorflow:Sample: 7100\n",
            "INFO:tensorflow:Sample: 7200\n",
            "INFO:tensorflow:Sample: 7300\n",
            "INFO:tensorflow:Sample: 7400\n",
            "INFO:tensorflow:Sample: 7500\n",
            "INFO:tensorflow:Sample: 7600\n",
            "INFO:tensorflow:Sample: 7700\n",
            "INFO:tensorflow:Sample: 7800\n",
            "INFO:tensorflow:Sample: 7900\n",
            "INFO:tensorflow:Sample: 8000\n",
            "INFO:tensorflow:Sample: 8100\n",
            "INFO:tensorflow:Sample: 8200\n",
            "INFO:tensorflow:Sample: 8300\n",
            "INFO:tensorflow:Sample: 8400\n",
            "INFO:tensorflow:Sample: 8500\n",
            "INFO:tensorflow:Sample: 8600\n",
            "INFO:tensorflow:Sample: 8700\n",
            "INFO:tensorflow:Sample: 8800\n",
            "INFO:tensorflow:Sample: 8900\n",
            "INFO:tensorflow:Sample: 9000\n",
            "INFO:tensorflow:Sample: 9100\n",
            "INFO:tensorflow:Sample: 9200\n",
            "INFO:tensorflow:Sample: 9300\n",
            "INFO:tensorflow:Sample: 9400\n",
            "INFO:tensorflow:Sample: 9500\n",
            "INFO:tensorflow:Sample: 9600\n",
            "INFO:tensorflow:Saving: /content/interp_recon_i_TASCAM_0097S12_X_recon_v_TASCAM_0097S12_embeddings_v.wav\n",
            "INFO:tensorflow:Saving: /content/recon_v_TASCAM_0097S12_embeddings_v.wav\n",
            "INFO:tensorflow:Saving: /content/interp_recon_i_TASCAM_0096S12_X_recon_v_TASCAM_0096S12_embeddings_v.wav\n",
            "INFO:tensorflow:Saving: /content/recon_i_TASCAM_0097S12_embeddings_v.wav\n",
            "INFO:tensorflow:Saving: /content/recon_v_TASCAM_0096S12_embeddings_v.wav\n",
            "INFO:tensorflow:Saving: /content/recon_i_TASCAM_0096S12_embeddings_v.wav\n",
            "INFO:tensorflow:Sample: 9700\n",
            "INFO:tensorflow:Sample: 9800\n",
            "INFO:tensorflow:Sample: 9900\n",
            "INFO:tensorflow:Sample: 10000\n",
            "INFO:tensorflow:Sample: 10100\n",
            "INFO:tensorflow:Sample: 10200\n",
            "INFO:tensorflow:Sample: 10300\n",
            "INFO:tensorflow:Sample: 10400\n",
            "INFO:tensorflow:Sample: 10500\n",
            "INFO:tensorflow:Sample: 10600\n",
            "INFO:tensorflow:Sample: 10700\n",
            "INFO:tensorflow:Sample: 10800\n",
            "INFO:tensorflow:Sample: 10900\n",
            "INFO:tensorflow:Sample: 11000\n",
            "INFO:tensorflow:Sample: 11100\n",
            "INFO:tensorflow:Sample: 11200\n",
            "INFO:tensorflow:Sample: 11300\n",
            "INFO:tensorflow:Sample: 11400\n",
            "INFO:tensorflow:Sample: 11500\n",
            "INFO:tensorflow:Sample: 11600\n",
            "INFO:tensorflow:Sample: 11700\n",
            "INFO:tensorflow:Sample: 11800\n",
            "INFO:tensorflow:Sample: 11900\n",
            "INFO:tensorflow:Sample: 12000\n",
            "INFO:tensorflow:Sample: 12100\n",
            "INFO:tensorflow:Sample: 12200\n",
            "INFO:tensorflow:Sample: 12300\n",
            "INFO:tensorflow:Sample: 12400\n",
            "INFO:tensorflow:Sample: 12500\n",
            "INFO:tensorflow:Sample: 12600\n",
            "INFO:tensorflow:Sample: 12700\n",
            "INFO:tensorflow:Sample: 12800\n",
            "INFO:tensorflow:Sample: 12900\n",
            "INFO:tensorflow:Sample: 13000\n",
            "INFO:tensorflow:Sample: 13100\n",
            "INFO:tensorflow:Sample: 13200\n",
            "INFO:tensorflow:Sample: 13300\n",
            "INFO:tensorflow:Sample: 13400\n",
            "INFO:tensorflow:Sample: 13500\n",
            "INFO:tensorflow:Sample: 13600\n",
            "INFO:tensorflow:Sample: 13700\n",
            "INFO:tensorflow:Sample: 13800\n",
            "INFO:tensorflow:Sample: 13900\n",
            "INFO:tensorflow:Sample: 14000\n",
            "INFO:tensorflow:Sample: 14100\n",
            "INFO:tensorflow:Sample: 14200\n",
            "INFO:tensorflow:Sample: 14300\n",
            "INFO:tensorflow:Sample: 14400\n",
            "INFO:tensorflow:Saving: /content/interp_recon_i_TASCAM_0097S12_X_recon_v_TASCAM_0097S12_embeddings_v.wav\n",
            "INFO:tensorflow:Saving: /content/recon_v_TASCAM_0097S12_embeddings_v.wav\n",
            "INFO:tensorflow:Saving: /content/interp_recon_i_TASCAM_0096S12_X_recon_v_TASCAM_0096S12_embeddings_v.wav\n",
            "INFO:tensorflow:Saving: /content/recon_i_TASCAM_0097S12_embeddings_v.wav\n",
            "INFO:tensorflow:Saving: /content/recon_v_TASCAM_0096S12_embeddings_v.wav\n",
            "INFO:tensorflow:Saving: /content/recon_i_TASCAM_0096S12_embeddings_v.wav\n",
            "INFO:tensorflow:Sample: 14500\n",
            "INFO:tensorflow:Sample: 14600\n",
            "INFO:tensorflow:Sample: 14700\n",
            "INFO:tensorflow:Sample: 14800\n",
            "INFO:tensorflow:Sample: 14900\n",
            "INFO:tensorflow:Sample: 15000\n",
            "INFO:tensorflow:Sample: 15100\n",
            "INFO:tensorflow:Sample: 15200\n",
            "INFO:tensorflow:Sample: 15300\n",
            "INFO:tensorflow:Sample: 15400\n",
            "INFO:tensorflow:Sample: 15500\n",
            "INFO:tensorflow:Sample: 15600\n",
            "INFO:tensorflow:Sample: 15700\n",
            "INFO:tensorflow:Sample: 15800\n",
            "INFO:tensorflow:Sample: 15900\n",
            "INFO:tensorflow:Sample: 16000\n",
            "INFO:tensorflow:Sample: 16100\n",
            "INFO:tensorflow:Sample: 16200\n",
            "INFO:tensorflow:Sample: 16300\n",
            "INFO:tensorflow:Sample: 16400\n",
            "INFO:tensorflow:Sample: 16500\n",
            "INFO:tensorflow:Sample: 16600\n",
            "INFO:tensorflow:Sample: 16700\n",
            "INFO:tensorflow:Sample: 16800\n",
            "INFO:tensorflow:Sample: 16900\n",
            "INFO:tensorflow:Sample: 17000\n",
            "INFO:tensorflow:Sample: 17100\n",
            "INFO:tensorflow:Sample: 17200\n",
            "INFO:tensorflow:Sample: 17300\n",
            "INFO:tensorflow:Sample: 17400\n",
            "INFO:tensorflow:Sample: 17500\n",
            "INFO:tensorflow:Sample: 17600\n",
            "INFO:tensorflow:Sample: 17700\n",
            "INFO:tensorflow:Sample: 17800\n",
            "INFO:tensorflow:Sample: 17900\n",
            "INFO:tensorflow:Sample: 18000\n",
            "INFO:tensorflow:Sample: 18100\n",
            "INFO:tensorflow:Sample: 18200\n",
            "INFO:tensorflow:Sample: 18300\n",
            "INFO:tensorflow:Sample: 18400\n",
            "INFO:tensorflow:Sample: 18500\n",
            "INFO:tensorflow:Sample: 18600\n",
            "INFO:tensorflow:Sample: 18700\n",
            "INFO:tensorflow:Sample: 18800\n",
            "INFO:tensorflow:Sample: 18900\n",
            "INFO:tensorflow:Sample: 19000\n",
            "INFO:tensorflow:Sample: 19100\n",
            "INFO:tensorflow:Sample: 19200\n",
            "INFO:tensorflow:Saving: /content/interp_recon_i_TASCAM_0097S12_X_recon_v_TASCAM_0097S12_embeddings_v.wav\n",
            "INFO:tensorflow:Saving: /content/recon_v_TASCAM_0097S12_embeddings_v.wav\n",
            "INFO:tensorflow:Saving: /content/interp_recon_i_TASCAM_0096S12_X_recon_v_TASCAM_0096S12_embeddings_v.wav\n",
            "INFO:tensorflow:Saving: /content/recon_i_TASCAM_0097S12_embeddings_v.wav\n",
            "INFO:tensorflow:Saving: /content/recon_v_TASCAM_0096S12_embeddings_v.wav\n",
            "INFO:tensorflow:Saving: /content/recon_i_TASCAM_0096S12_embeddings_v.wav\n",
            "INFO:tensorflow:Sample: 19300\n",
            "INFO:tensorflow:Sample: 19400\n",
            "INFO:tensorflow:Sample: 19500\n",
            "INFO:tensorflow:Sample: 19600\n",
            "INFO:tensorflow:Sample: 19700\n",
            "INFO:tensorflow:Sample: 19800\n",
            "INFO:tensorflow:Sample: 19900\n",
            "INFO:tensorflow:Sample: 20000\n",
            "INFO:tensorflow:Sample: 20100\n",
            "INFO:tensorflow:Sample: 20200\n",
            "INFO:tensorflow:Sample: 20300\n",
            "INFO:tensorflow:Sample: 20400\n",
            "INFO:tensorflow:Sample: 20500\n",
            "INFO:tensorflow:Sample: 20600\n",
            "INFO:tensorflow:Sample: 20700\n",
            "INFO:tensorflow:Sample: 20800\n",
            "INFO:tensorflow:Sample: 20900\n",
            "INFO:tensorflow:Sample: 21000\n",
            "INFO:tensorflow:Sample: 21100\n",
            "INFO:tensorflow:Sample: 21200\n",
            "INFO:tensorflow:Sample: 21300\n",
            "INFO:tensorflow:Sample: 21400\n",
            "INFO:tensorflow:Sample: 21500\n",
            "INFO:tensorflow:Sample: 21600\n",
            "INFO:tensorflow:Sample: 21700\n",
            "INFO:tensorflow:Sample: 21800\n",
            "INFO:tensorflow:Sample: 21900\n",
            "INFO:tensorflow:Sample: 22000\n",
            "INFO:tensorflow:Sample: 22100\n",
            "INFO:tensorflow:Sample: 22200\n",
            "INFO:tensorflow:Sample: 22300\n",
            "INFO:tensorflow:Sample: 22400\n",
            "INFO:tensorflow:Sample: 22500\n",
            "INFO:tensorflow:Sample: 22600\n",
            "INFO:tensorflow:Sample: 22700\n",
            "INFO:tensorflow:Sample: 22800\n",
            "INFO:tensorflow:Sample: 22900\n",
            "INFO:tensorflow:Sample: 23000\n",
            "INFO:tensorflow:Sample: 23100\n",
            "INFO:tensorflow:Sample: 23200\n",
            "INFO:tensorflow:Sample: 23300\n",
            "INFO:tensorflow:Sample: 23400\n",
            "INFO:tensorflow:Sample: 23500\n",
            "INFO:tensorflow:Sample: 23600\n",
            "INFO:tensorflow:Sample: 23700\n",
            "INFO:tensorflow:Sample: 23800\n",
            "INFO:tensorflow:Sample: 23900\n",
            "INFO:tensorflow:Sample: 24000\n",
            "INFO:tensorflow:Saving: /content/interp_recon_i_TASCAM_0097S12_X_recon_v_TASCAM_0097S12_embeddings_v.wav\n",
            "INFO:tensorflow:Saving: /content/recon_v_TASCAM_0097S12_embeddings_v.wav\n",
            "INFO:tensorflow:Saving: /content/interp_recon_i_TASCAM_0096S12_X_recon_v_TASCAM_0096S12_embeddings_v.wav\n",
            "INFO:tensorflow:Saving: /content/recon_i_TASCAM_0097S12_embeddings_v.wav\n",
            "INFO:tensorflow:Saving: /content/recon_v_TASCAM_0096S12_embeddings_v.wav\n",
            "INFO:tensorflow:Saving: /content/recon_i_TASCAM_0096S12_embeddings_v.wav\n",
            "INFO:tensorflow:Sample: 24100\n",
            "INFO:tensorflow:Sample: 24200\n",
            "INFO:tensorflow:Sample: 24300\n",
            "INFO:tensorflow:Sample: 24400\n",
            "INFO:tensorflow:Sample: 24500\n",
            "INFO:tensorflow:Sample: 24600\n",
            "INFO:tensorflow:Sample: 24700\n",
            "INFO:tensorflow:Sample: 24800\n",
            "INFO:tensorflow:Sample: 24900\n",
            "INFO:tensorflow:Sample: 25000\n",
            "INFO:tensorflow:Sample: 25100\n",
            "INFO:tensorflow:Sample: 25200\n",
            "INFO:tensorflow:Sample: 25300\n",
            "INFO:tensorflow:Sample: 25400\n",
            "INFO:tensorflow:Sample: 25500\n",
            "INFO:tensorflow:Sample: 25600\n",
            "INFO:tensorflow:Sample: 25700\n",
            "INFO:tensorflow:Sample: 25800\n",
            "INFO:tensorflow:Sample: 25900\n",
            "INFO:tensorflow:Sample: 26000\n",
            "INFO:tensorflow:Sample: 26100\n",
            "INFO:tensorflow:Sample: 26200\n",
            "INFO:tensorflow:Sample: 26300\n",
            "INFO:tensorflow:Sample: 26400\n",
            "INFO:tensorflow:Sample: 26500\n",
            "INFO:tensorflow:Sample: 26600\n",
            "INFO:tensorflow:Sample: 26700\n",
            "INFO:tensorflow:Sample: 26800\n",
            "INFO:tensorflow:Sample: 26900\n",
            "INFO:tensorflow:Sample: 27000\n",
            "INFO:tensorflow:Sample: 27100\n",
            "INFO:tensorflow:Sample: 27200\n",
            "INFO:tensorflow:Sample: 27300\n",
            "INFO:tensorflow:Sample: 27400\n",
            "INFO:tensorflow:Sample: 27500\n",
            "INFO:tensorflow:Sample: 27600\n",
            "INFO:tensorflow:Sample: 27700\n",
            "INFO:tensorflow:Sample: 27800\n",
            "INFO:tensorflow:Sample: 27900\n",
            "INFO:tensorflow:Sample: 28000\n",
            "INFO:tensorflow:Sample: 28100\n",
            "INFO:tensorflow:Sample: 28200\n",
            "INFO:tensorflow:Sample: 28300\n",
            "INFO:tensorflow:Sample: 28400\n",
            "INFO:tensorflow:Sample: 28500\n",
            "INFO:tensorflow:Sample: 28600\n",
            "INFO:tensorflow:Sample: 28700\n",
            "INFO:tensorflow:Sample: 28800\n",
            "INFO:tensorflow:Saving: /content/interp_recon_i_TASCAM_0097S12_X_recon_v_TASCAM_0097S12_embeddings_v.wav\n",
            "INFO:tensorflow:Saving: /content/recon_v_TASCAM_0097S12_embeddings_v.wav\n",
            "INFO:tensorflow:Saving: /content/interp_recon_i_TASCAM_0096S12_X_recon_v_TASCAM_0096S12_embeddings_v.wav\n",
            "INFO:tensorflow:Saving: /content/recon_i_TASCAM_0097S12_embeddings_v.wav\n",
            "INFO:tensorflow:Saving: /content/recon_v_TASCAM_0096S12_embeddings_v.wav\n",
            "INFO:tensorflow:Saving: /content/recon_i_TASCAM_0096S12_embeddings_v.wav\n",
            "INFO:tensorflow:Sample: 28900\n",
            "INFO:tensorflow:Sample: 29000\n",
            "INFO:tensorflow:Sample: 29100\n",
            "INFO:tensorflow:Sample: 29200\n",
            "INFO:tensorflow:Sample: 29300\n",
            "INFO:tensorflow:Sample: 29400\n",
            "INFO:tensorflow:Sample: 29500\n",
            "INFO:tensorflow:Sample: 29600\n",
            "INFO:tensorflow:Sample: 29700\n",
            "INFO:tensorflow:Sample: 29800\n",
            "INFO:tensorflow:Sample: 29900\n",
            "INFO:tensorflow:Sample: 30000\n",
            "INFO:tensorflow:Sample: 30100\n",
            "INFO:tensorflow:Sample: 30200\n",
            "INFO:tensorflow:Sample: 30300\n",
            "INFO:tensorflow:Sample: 30400\n",
            "INFO:tensorflow:Sample: 30500\n",
            "INFO:tensorflow:Sample: 30600\n",
            "INFO:tensorflow:Sample: 30700\n",
            "INFO:tensorflow:Sample: 30800\n",
            "INFO:tensorflow:Sample: 30900\n",
            "INFO:tensorflow:Sample: 31000\n",
            "INFO:tensorflow:Sample: 31100\n",
            "INFO:tensorflow:Sample: 31200\n",
            "INFO:tensorflow:Sample: 31300\n",
            "INFO:tensorflow:Sample: 31400\n",
            "INFO:tensorflow:Sample: 31500\n",
            "INFO:tensorflow:Sample: 31600\n",
            "INFO:tensorflow:Sample: 31700\n",
            "INFO:tensorflow:Sample: 31800\n",
            "INFO:tensorflow:Sample: 31900\n",
            "INFO:tensorflow:Sample: 32000\n",
            "INFO:tensorflow:Sample: 32100\n",
            "INFO:tensorflow:Sample: 32200\n",
            "INFO:tensorflow:Sample: 32300\n",
            "INFO:tensorflow:Sample: 32400\n",
            "INFO:tensorflow:Sample: 32500\n",
            "INFO:tensorflow:Sample: 32600\n",
            "INFO:tensorflow:Sample: 32700\n",
            "INFO:tensorflow:Sample: 32800\n",
            "INFO:tensorflow:Sample: 32900\n",
            "INFO:tensorflow:Sample: 33000\n",
            "INFO:tensorflow:Sample: 33100\n",
            "INFO:tensorflow:Sample: 33200\n",
            "INFO:tensorflow:Sample: 33300\n",
            "INFO:tensorflow:Sample: 33400\n",
            "INFO:tensorflow:Sample: 33500\n",
            "INFO:tensorflow:Sample: 33600\n",
            "INFO:tensorflow:Saving: /content/interp_recon_i_TASCAM_0097S12_X_recon_v_TASCAM_0097S12_embeddings_v.wav\n",
            "INFO:tensorflow:Saving: /content/recon_v_TASCAM_0097S12_embeddings_v.wav\n",
            "INFO:tensorflow:Saving: /content/interp_recon_i_TASCAM_0096S12_X_recon_v_TASCAM_0096S12_embeddings_v.wav\n",
            "INFO:tensorflow:Saving: /content/recon_i_TASCAM_0097S12_embeddings_v.wav\n",
            "INFO:tensorflow:Saving: /content/recon_v_TASCAM_0096S12_embeddings_v.wav\n",
            "INFO:tensorflow:Saving: /content/recon_i_TASCAM_0096S12_embeddings_v.wav\n",
            "INFO:tensorflow:Sample: 33700\n",
            "INFO:tensorflow:Sample: 33800\n",
            "INFO:tensorflow:Sample: 33900\n",
            "INFO:tensorflow:Sample: 34000\n",
            "INFO:tensorflow:Sample: 34100\n",
            "INFO:tensorflow:Sample: 34200\n",
            "INFO:tensorflow:Sample: 34300\n",
            "INFO:tensorflow:Sample: 34400\n",
            "INFO:tensorflow:Sample: 34500\n",
            "INFO:tensorflow:Sample: 34600\n",
            "INFO:tensorflow:Sample: 34700\n",
            "INFO:tensorflow:Sample: 34800\n",
            "INFO:tensorflow:Sample: 34900\n",
            "INFO:tensorflow:Sample: 35000\n",
            "INFO:tensorflow:Sample: 35100\n",
            "INFO:tensorflow:Sample: 35200\n",
            "INFO:tensorflow:Sample: 35300\n",
            "INFO:tensorflow:Sample: 35400\n",
            "INFO:tensorflow:Sample: 35500\n",
            "INFO:tensorflow:Sample: 35600\n",
            "INFO:tensorflow:Sample: 35700\n",
            "INFO:tensorflow:Sample: 35800\n",
            "INFO:tensorflow:Sample: 35900\n",
            "INFO:tensorflow:Sample: 36000\n",
            "INFO:tensorflow:Sample: 36100\n",
            "INFO:tensorflow:Sample: 36200\n",
            "INFO:tensorflow:Sample: 36300\n",
            "INFO:tensorflow:Sample: 36400\n",
            "INFO:tensorflow:Sample: 36500\n",
            "INFO:tensorflow:Sample: 36600\n",
            "INFO:tensorflow:Sample: 36700\n",
            "INFO:tensorflow:Sample: 36800\n",
            "INFO:tensorflow:Sample: 36900\n",
            "INFO:tensorflow:Sample: 37000\n",
            "INFO:tensorflow:Sample: 37100\n",
            "INFO:tensorflow:Sample: 37200\n",
            "INFO:tensorflow:Sample: 37300\n",
            "INFO:tensorflow:Sample: 37400\n",
            "INFO:tensorflow:Sample: 37500\n",
            "INFO:tensorflow:Sample: 37600\n",
            "INFO:tensorflow:Sample: 37700\n",
            "INFO:tensorflow:Sample: 37800\n",
            "INFO:tensorflow:Sample: 37900\n",
            "INFO:tensorflow:Sample: 38000\n",
            "INFO:tensorflow:Sample: 38100\n",
            "INFO:tensorflow:Sample: 38200\n",
            "INFO:tensorflow:Sample: 38300\n",
            "INFO:tensorflow:Sample: 38400\n",
            "INFO:tensorflow:Saving: /content/interp_recon_i_TASCAM_0097S12_X_recon_v_TASCAM_0097S12_embeddings_v.wav\n",
            "INFO:tensorflow:Saving: /content/recon_v_TASCAM_0097S12_embeddings_v.wav\n",
            "INFO:tensorflow:Saving: /content/interp_recon_i_TASCAM_0096S12_X_recon_v_TASCAM_0096S12_embeddings_v.wav\n",
            "INFO:tensorflow:Saving: /content/recon_i_TASCAM_0097S12_embeddings_v.wav\n",
            "INFO:tensorflow:Saving: /content/recon_v_TASCAM_0096S12_embeddings_v.wav\n",
            "INFO:tensorflow:Saving: /content/recon_i_TASCAM_0096S12_embeddings_v.wav\n",
            "INFO:tensorflow:Sample: 38500\n",
            "INFO:tensorflow:Sample: 38600\n",
            "INFO:tensorflow:Sample: 38700\n",
            "INFO:tensorflow:Sample: 38800\n",
            "INFO:tensorflow:Sample: 38900\n",
            "INFO:tensorflow:Sample: 39000\n",
            "INFO:tensorflow:Sample: 39100\n",
            "INFO:tensorflow:Sample: 39200\n",
            "INFO:tensorflow:Sample: 39300\n",
            "INFO:tensorflow:Sample: 39400\n",
            "INFO:tensorflow:Sample: 39500\n",
            "INFO:tensorflow:Sample: 39600\n",
            "INFO:tensorflow:Sample: 39700\n",
            "INFO:tensorflow:Sample: 39800\n",
            "INFO:tensorflow:Sample: 39900\n",
            "INFO:tensorflow:Sample: 40000\n",
            "INFO:tensorflow:Sample: 40100\n",
            "INFO:tensorflow:Sample: 40200\n",
            "INFO:tensorflow:Sample: 40300\n",
            "INFO:tensorflow:Sample: 40400\n",
            "INFO:tensorflow:Sample: 40500\n",
            "INFO:tensorflow:Sample: 40600\n",
            "INFO:tensorflow:Sample: 40700\n",
            "INFO:tensorflow:Sample: 40800\n",
            "INFO:tensorflow:Sample: 40900\n",
            "INFO:tensorflow:Sample: 41000\n",
            "INFO:tensorflow:Sample: 41100\n",
            "INFO:tensorflow:Sample: 41200\n",
            "INFO:tensorflow:Sample: 41300\n",
            "INFO:tensorflow:Sample: 41400\n",
            "INFO:tensorflow:Sample: 41500\n",
            "INFO:tensorflow:Sample: 41600\n",
            "INFO:tensorflow:Sample: 41700\n",
            "INFO:tensorflow:Sample: 41800\n",
            "INFO:tensorflow:Sample: 41900\n",
            "INFO:tensorflow:Sample: 42000\n",
            "INFO:tensorflow:Sample: 42100\n",
            "INFO:tensorflow:Sample: 42200\n",
            "INFO:tensorflow:Sample: 42300\n",
            "INFO:tensorflow:Sample: 42400\n",
            "INFO:tensorflow:Sample: 42500\n",
            "INFO:tensorflow:Sample: 42600\n",
            "INFO:tensorflow:Sample: 42700\n",
            "INFO:tensorflow:Sample: 42800\n",
            "INFO:tensorflow:Sample: 42900\n",
            "INFO:tensorflow:Sample: 43000\n",
            "INFO:tensorflow:Sample: 43100\n",
            "INFO:tensorflow:Sample: 43200\n",
            "INFO:tensorflow:Saving: /content/interp_recon_i_TASCAM_0097S12_X_recon_v_TASCAM_0097S12_embeddings_v.wav\n",
            "INFO:tensorflow:Saving: /content/recon_v_TASCAM_0097S12_embeddings_v.wav\n",
            "INFO:tensorflow:Saving: /content/interp_recon_i_TASCAM_0096S12_X_recon_v_TASCAM_0096S12_embeddings_v.wav\n",
            "INFO:tensorflow:Saving: /content/recon_i_TASCAM_0097S12_embeddings_v.wav\n",
            "INFO:tensorflow:Saving: /content/recon_v_TASCAM_0096S12_embeddings_v.wav\n",
            "INFO:tensorflow:Saving: /content/recon_i_TASCAM_0096S12_embeddings_v.wav\n",
            "INFO:tensorflow:Sample: 43300\n",
            "INFO:tensorflow:Sample: 43400\n",
            "INFO:tensorflow:Sample: 43500\n",
            "INFO:tensorflow:Sample: 43600\n",
            "INFO:tensorflow:Sample: 43700\n",
            "INFO:tensorflow:Sample: 43800\n",
            "INFO:tensorflow:Sample: 43900\n",
            "INFO:tensorflow:Sample: 44000\n",
            "INFO:tensorflow:Sample: 44100\n",
            "INFO:tensorflow:Sample: 44200\n",
            "INFO:tensorflow:Sample: 44300\n",
            "INFO:tensorflow:Sample: 44400\n",
            "INFO:tensorflow:Sample: 44500\n",
            "INFO:tensorflow:Sample: 44600\n",
            "INFO:tensorflow:Sample: 44700\n",
            "INFO:tensorflow:Sample: 44800\n",
            "INFO:tensorflow:Sample: 44900\n",
            "INFO:tensorflow:Sample: 45000\n",
            "INFO:tensorflow:Sample: 45100\n",
            "INFO:tensorflow:Sample: 45200\n",
            "INFO:tensorflow:Sample: 45300\n",
            "INFO:tensorflow:Sample: 45400\n",
            "INFO:tensorflow:Sample: 45500\n",
            "INFO:tensorflow:Sample: 45600\n",
            "INFO:tensorflow:Sample: 45700\n",
            "INFO:tensorflow:Sample: 45800\n",
            "INFO:tensorflow:Sample: 45900\n",
            "INFO:tensorflow:Sample: 46000\n",
            "INFO:tensorflow:Sample: 46100\n",
            "INFO:tensorflow:Sample: 46200\n",
            "INFO:tensorflow:Sample: 46300\n",
            "INFO:tensorflow:Sample: 46400\n",
            "INFO:tensorflow:Sample: 46500\n",
            "INFO:tensorflow:Sample: 46600\n",
            "INFO:tensorflow:Sample: 46700\n",
            "INFO:tensorflow:Sample: 46800\n",
            "INFO:tensorflow:Sample: 46900\n",
            "INFO:tensorflow:Sample: 47000\n",
            "INFO:tensorflow:Sample: 47100\n",
            "INFO:tensorflow:Sample: 47200\n",
            "INFO:tensorflow:Sample: 47300\n",
            "INFO:tensorflow:Sample: 47400\n",
            "INFO:tensorflow:Sample: 47500\n",
            "INFO:tensorflow:Sample: 47600\n",
            "INFO:tensorflow:Saving: /content/interp_recon_i_TASCAM_0097S12_X_recon_v_TASCAM_0097S12_embeddings_v.wav\n",
            "INFO:tensorflow:Saving: /content/recon_v_TASCAM_0097S12_embeddings_v.wav\n",
            "INFO:tensorflow:Saving: /content/interp_recon_i_TASCAM_0096S12_X_recon_v_TASCAM_0096S12_embeddings_v.wav\n",
            "INFO:tensorflow:Saving: /content/recon_i_TASCAM_0097S12_embeddings_v.wav\n",
            "INFO:tensorflow:Saving: /content/recon_v_TASCAM_0096S12_embeddings_v.wav\n",
            "INFO:tensorflow:Saving: /content/recon_i_TASCAM_0096S12_embeddings_v.wav\n"
          ],
          "name": "stdout"
        }
      ]
    },
    {
      "metadata": {
        "id": "Y1nvs7tOn1XG",
        "colab_type": "code",
        "colab": {
          "autoexec": {
            "startup": false,
            "wait_interval": 0
          },
          "base_uri": "https://localhost:8080/",
          "height": 233
        },
        "outputId": "1d0e2b2a-66cd-48c5-da5d-343c6d0d3ce0",
        "executionInfo": {
          "status": "ok",
          "timestamp": 1533809912899,
          "user_tz": -480,
          "elapsed": 527,
          "user": {
            "displayName": "Jonathan Sherman",
            "photoUrl": "https://lh3.googleusercontent.com/a/default-user=s128",
            "userId": "117611389617249139234"
          }
        }
      },
      "cell_type": "code",
      "source": [
        "# check what temp files exist\n",
        "#os.listdir('.')\n",
        "save_paths"
      ],
      "execution_count": 68,
      "outputs": [
        {
          "output_type": "execute_result",
          "data": {
            "text/plain": [
              "['/content/interp_recon_i_TASCAM_0098S12_X_recon_v_TASCAM_0098S12_embeddings_i.wav',\n",
              " '/content/interp_recon_i_TASCAM_0099S12_X_recon_v_TASCAM_0099S12_embeddings_i.wav',\n",
              " '/content/recon_i_TASCAM_0098S12_embeddings_i.wav',\n",
              " '/content/recon_v_TASCAM_0098S12_embeddings_i.wav',\n",
              " '/content/recon_i_TASCAM_0099S12_embeddings_i.wav',\n",
              " '/content/recon_v_TASCAM_0099S12_embeddings_i.wav',\n",
              " '/content/interp_recon_i_TASCAM_0098S12_X_recon_v_TASCAM_0098S12_embeddings_v.wav',\n",
              " '/content/interp_recon_i_TASCAM_0099S12_X_recon_v_TASCAM_0099S12_embeddings_v.wav',\n",
              " '/content/recon_i_TASCAM_0098S12_embeddings_v.wav',\n",
              " '/content/recon_v_TASCAM_0098S12_embeddings_v.wav',\n",
              " '/content/recon_i_TASCAM_0099S12_embeddings_v.wav',\n",
              " '/content/recon_v_TASCAM_0099S12_embeddings_v.wav']"
            ]
          },
          "metadata": {
            "tags": []
          },
          "execution_count": 68
        }
      ]
    },
    {
      "metadata": {
        "id": "Cm4Yz4VvPyRX",
        "colab_type": "code",
        "colab": {
          "autoexec": {
            "startup": false,
            "wait_interval": 0
          },
          "base_uri": "https://localhost:8080/",
          "height": 469
        },
        "cellView": "both",
        "outputId": "faa78125-9062-4d16-cef6-a204219c0d4b",
        "executionInfo": {
          "status": "ok",
          "timestamp": 1533822794187,
          "user_tz": -480,
          "elapsed": 16898,
          "user": {
            "displayName": "Jonathan Sherman",
            "photoUrl": "https://lh3.googleusercontent.com/a/default-user=s128",
            "userId": "117611389617249139234"
          }
        }
      },
      "cell_type": "code",
      "source": [
        "#@title Download Interpolations\n",
        "for fname in save_paths:\n",
        "  synth_audio = utils.load_audio(fname,\n",
        "                                 sample_length=SAMPLE_LENGTH,\n",
        "                                 sr=SR)\n",
        "  synth_audio, _ = librosa.effects.trim(synth_audio)\n",
        "  synth_audio = librosa.util.normalize(synth_audio)\n",
        "  wfname = fname\n",
        "  librosa.output.write_wav(wfname, synth_audio, SR, norm=False)\n",
        "  print(wfname)\n",
        "  print(wfname,'Downloading: %s' % wfname.split('/')[-1])\n",
        "  download(wfname)"
      ],
      "execution_count": 122,
      "outputs": [
        {
          "output_type": "stream",
          "text": [
            "/content/interp_recon_i_TASCAM_0097S12_X_recon_v_TASCAM_0097S12_embeddings_i.wav\n",
            "('/content/interp_recon_i_TASCAM_0097S12_X_recon_v_TASCAM_0097S12_embeddings_i.wav', 'Downloading: interp_recon_i_TASCAM_0097S12_X_recon_v_TASCAM_0097S12_embeddings_i.wav')\n",
            "/content/recon_v_TASCAM_0097S12_embeddings_i.wav\n",
            "('/content/recon_v_TASCAM_0097S12_embeddings_i.wav', 'Downloading: recon_v_TASCAM_0097S12_embeddings_i.wav')\n",
            "/content/interp_recon_i_TASCAM_0096S12_X_recon_v_TASCAM_0096S12_embeddings_i.wav\n",
            "('/content/interp_recon_i_TASCAM_0096S12_X_recon_v_TASCAM_0096S12_embeddings_i.wav', 'Downloading: interp_recon_i_TASCAM_0096S12_X_recon_v_TASCAM_0096S12_embeddings_i.wav')\n",
            "/content/recon_i_TASCAM_0097S12_embeddings_i.wav\n",
            "('/content/recon_i_TASCAM_0097S12_embeddings_i.wav', 'Downloading: recon_i_TASCAM_0097S12_embeddings_i.wav')\n",
            "/content/recon_v_TASCAM_0096S12_embeddings_i.wav\n",
            "('/content/recon_v_TASCAM_0096S12_embeddings_i.wav', 'Downloading: recon_v_TASCAM_0096S12_embeddings_i.wav')\n",
            "/content/recon_i_TASCAM_0096S12_embeddings_i.wav\n",
            "('/content/recon_i_TASCAM_0096S12_embeddings_i.wav', 'Downloading: recon_i_TASCAM_0096S12_embeddings_i.wav')\n",
            "/content/interp_recon_i_TASCAM_0097S12_X_recon_v_TASCAM_0097S12_embeddings_v.wav\n",
            "('/content/interp_recon_i_TASCAM_0097S12_X_recon_v_TASCAM_0097S12_embeddings_v.wav', 'Downloading: interp_recon_i_TASCAM_0097S12_X_recon_v_TASCAM_0097S12_embeddings_v.wav')\n",
            "/content/recon_v_TASCAM_0097S12_embeddings_v.wav\n",
            "('/content/recon_v_TASCAM_0097S12_embeddings_v.wav', 'Downloading: recon_v_TASCAM_0097S12_embeddings_v.wav')\n",
            "/content/interp_recon_i_TASCAM_0096S12_X_recon_v_TASCAM_0096S12_embeddings_v.wav\n",
            "('/content/interp_recon_i_TASCAM_0096S12_X_recon_v_TASCAM_0096S12_embeddings_v.wav', 'Downloading: interp_recon_i_TASCAM_0096S12_X_recon_v_TASCAM_0096S12_embeddings_v.wav')\n",
            "/content/recon_i_TASCAM_0097S12_embeddings_v.wav\n",
            "('/content/recon_i_TASCAM_0097S12_embeddings_v.wav', 'Downloading: recon_i_TASCAM_0097S12_embeddings_v.wav')\n",
            "/content/recon_v_TASCAM_0096S12_embeddings_v.wav\n",
            "('/content/recon_v_TASCAM_0096S12_embeddings_v.wav', 'Downloading: recon_v_TASCAM_0096S12_embeddings_v.wav')\n",
            "/content/recon_i_TASCAM_0096S12_embeddings_v.wav\n",
            "('/content/recon_i_TASCAM_0096S12_embeddings_v.wav', 'Downloading: recon_i_TASCAM_0096S12_embeddings_v.wav')\n"
          ],
          "name": "stdout"
        }
      ]
    },
    {
      "metadata": {
        "id": "ToDMo5PbC78w",
        "colab_type": "code",
        "colab": {
          "autoexec": {
            "startup": false,
            "wait_interval": 0
          },
          "base_uri": "https://localhost:8080/",
          "height": 989
        },
        "cellView": "both",
        "outputId": "77dfa893-cb23-4af3-e1eb-5e8396e2e08f",
        "executionInfo": {
          "status": "ok",
          "timestamp": 1533822801681,
          "user_tz": -480,
          "elapsed": 3388,
          "user": {
            "displayName": "Jonathan Sherman",
            "photoUrl": "https://lh3.googleusercontent.com/a/default-user=s128",
            "userId": "117611389617249139234"
          }
        }
      },
      "cell_type": "code",
      "source": [
        "#@title Listen to the outputs\n",
        "\n",
        "for i, fname in enumerate(save_paths):\n",
        "  if i == 0:\n",
        "    print(\"Reconstructions:\\n\")\n",
        "  if i == len(file_list):\n",
        "    print(\"Interpolations:\\n\")\n",
        "  synth_audio = utils.load_audio(fname,\n",
        "                                 sample_length=SAMPLE_LENGTH,\n",
        "                                 sr=SR)\n",
        "  print(get_name(fname))\n",
        "  #synth_audio=librosa.util.normalize(synth_audio)\n",
        "  play(synth_audio, sample_rate=SR)"
      ],
      "execution_count": 123,
      "outputs": [
        {
          "output_type": "stream",
          "text": [
            "Reconstructions:\n",
            "\n",
            "interp_recon_i_TASCAM_0097S12_X_recon_v_TASCAM_0097S12_embeddings_i\n"
          ],
          "name": "stdout"
        },
        {
          "output_type": "display_data",
          "data": {
            "text/plain": [
              "<IPython.core.display.HTML object>"
            ],
            "text/html": [
              "<div id=\"id_49\"> </div>"
            ]
          },
          "metadata": {
            "tags": []
          }
        },
        {
          "output_type": "stream",
          "text": [
            "recon_v_TASCAM_0097S12_embeddings_i\n"
          ],
          "name": "stdout"
        },
        {
          "output_type": "display_data",
          "data": {
            "text/plain": [
              "<IPython.core.display.HTML object>"
            ],
            "text/html": [
              "<div id=\"id_50\"> </div>"
            ]
          },
          "metadata": {
            "tags": []
          }
        },
        {
          "output_type": "stream",
          "text": [
            "interp_recon_i_TASCAM_0096S12_X_recon_v_TASCAM_0096S12_embeddings_i\n"
          ],
          "name": "stdout"
        },
        {
          "output_type": "display_data",
          "data": {
            "text/plain": [
              "<IPython.core.display.HTML object>"
            ],
            "text/html": [
              "<div id=\"id_51\"> </div>"
            ]
          },
          "metadata": {
            "tags": []
          }
        },
        {
          "output_type": "stream",
          "text": [
            "recon_i_TASCAM_0097S12_embeddings_i\n"
          ],
          "name": "stdout"
        },
        {
          "output_type": "display_data",
          "data": {
            "text/plain": [
              "<IPython.core.display.HTML object>"
            ],
            "text/html": [
              "<div id=\"id_52\"> </div>"
            ]
          },
          "metadata": {
            "tags": []
          }
        },
        {
          "output_type": "stream",
          "text": [
            "recon_v_TASCAM_0096S12_embeddings_i\n"
          ],
          "name": "stdout"
        },
        {
          "output_type": "display_data",
          "data": {
            "text/plain": [
              "<IPython.core.display.HTML object>"
            ],
            "text/html": [
              "<div id=\"id_53\"> </div>"
            ]
          },
          "metadata": {
            "tags": []
          }
        },
        {
          "output_type": "stream",
          "text": [
            "recon_i_TASCAM_0096S12_embeddings_i\n"
          ],
          "name": "stdout"
        },
        {
          "output_type": "display_data",
          "data": {
            "text/plain": [
              "<IPython.core.display.HTML object>"
            ],
            "text/html": [
              "<div id=\"id_54\"> </div>"
            ]
          },
          "metadata": {
            "tags": []
          }
        },
        {
          "output_type": "stream",
          "text": [
            "Interpolations:\n",
            "\n",
            "interp_recon_i_TASCAM_0097S12_X_recon_v_TASCAM_0097S12_embeddings_v\n"
          ],
          "name": "stdout"
        },
        {
          "output_type": "display_data",
          "data": {
            "text/plain": [
              "<IPython.core.display.HTML object>"
            ],
            "text/html": [
              "<div id=\"id_55\"> </div>"
            ]
          },
          "metadata": {
            "tags": []
          }
        },
        {
          "output_type": "stream",
          "text": [
            "recon_v_TASCAM_0097S12_embeddings_v\n"
          ],
          "name": "stdout"
        },
        {
          "output_type": "display_data",
          "data": {
            "text/plain": [
              "<IPython.core.display.HTML object>"
            ],
            "text/html": [
              "<div id=\"id_56\"> </div>"
            ]
          },
          "metadata": {
            "tags": []
          }
        },
        {
          "output_type": "stream",
          "text": [
            "interp_recon_i_TASCAM_0096S12_X_recon_v_TASCAM_0096S12_embeddings_v\n"
          ],
          "name": "stdout"
        },
        {
          "output_type": "display_data",
          "data": {
            "text/plain": [
              "<IPython.core.display.HTML object>"
            ],
            "text/html": [
              "<div id=\"id_57\"> </div>"
            ]
          },
          "metadata": {
            "tags": []
          }
        },
        {
          "output_type": "stream",
          "text": [
            "recon_i_TASCAM_0097S12_embeddings_v\n"
          ],
          "name": "stdout"
        },
        {
          "output_type": "display_data",
          "data": {
            "text/plain": [
              "<IPython.core.display.HTML object>"
            ],
            "text/html": [
              "<div id=\"id_58\"> </div>"
            ]
          },
          "metadata": {
            "tags": []
          }
        },
        {
          "output_type": "stream",
          "text": [
            "recon_v_TASCAM_0096S12_embeddings_v\n"
          ],
          "name": "stdout"
        },
        {
          "output_type": "display_data",
          "data": {
            "text/plain": [
              "<IPython.core.display.HTML object>"
            ],
            "text/html": [
              "<div id=\"id_59\"> </div>"
            ]
          },
          "metadata": {
            "tags": []
          }
        },
        {
          "output_type": "stream",
          "text": [
            "recon_i_TASCAM_0096S12_embeddings_v\n"
          ],
          "name": "stdout"
        },
        {
          "output_type": "display_data",
          "data": {
            "text/plain": [
              "<IPython.core.display.HTML object>"
            ],
            "text/html": [
              "<div id=\"id_60\"> </div>"
            ]
          },
          "metadata": {
            "tags": []
          }
        }
      ]
    },
    {
      "metadata": {
        "id": "cECWA-M3yOpX",
        "colab_type": "code",
        "colab": {
          "autoexec": {
            "startup": false,
            "wait_interval": 0
          },
          "base_uri": "https://localhost:8080/",
          "height": 55
        },
        "outputId": "00e7a274-d90f-470c-8895-fb3df71d339f",
        "executionInfo": {
          "status": "ok",
          "timestamp": 1533534602343,
          "user_tz": -480,
          "elapsed": 597,
          "user": {
            "displayName": "Jonathan Sherman",
            "photoUrl": "https://lh3.googleusercontent.com/a/default-user=s128",
            "userId": "105267990690274350185"
          }
        }
      },
      "cell_type": "code",
      "source": [
        "print(save_paths)"
      ],
      "execution_count": 0,
      "outputs": [
        {
          "output_type": "stream",
          "text": [
            "['/content/recon_v_TASCAM_0104S12_embeddings (4)_i.wav', '/content/recon_i_TASCAM_0095S12_embeddings_i.wav', '/content/recon_v_TASCAM_0100S12_embeddings (1)_i.wav', '/content/recon_v_TASCAM_0099S12_embeddings (1)_i.wav', '/content/recon_v_TASCAM_0098S12_embeddings (1)_i.wav', '/content/recon_i_TASCAM_0098S12_embeddings (1)_i.wav', '/content/interp_recon_i_TASCAM_0097S12_X_recon_v_TASCAM_0097S12_embeddings (1)_i.wav', '/content/recon_i_TASCAM_0103S12_embeddings (7)_i.wav', '/content/recon_i_TASCAM_0104S12_embeddings (9)_i.wav', '/content/recon_v_TASCAM_0096S12_embeddings_i.wav', '/content/interp_recon_i_TASCAM_0102S12_X_recon_v_TASCAM_0102S12_embeddings (1)_i.wav', '/content/recon_i_TASCAM_0100S12_embeddings (1)_i.wav', '/content/recon_v_TASCAM_0097S12_embeddings (1)_i.wav', '/content/interp_recon_i_TASCAM_0101S12_X_recon_v_TASCAM_0101S12_embeddings (1)_i.wav', '/content/recon_v_TASCAM_0095S12_embeddings_i.wav', '/content/interp_recon_i_TASCAM_0098S12_X_recon_v_TASCAM_0098S12_embeddings (1)_i.wav', '/content/recon_v_TASCAM_0102S12_embeddings (1)_i.wav', '/content/recon_i_TASCAM_0102S12_embeddings (1)_i.wav', '/content/recon_v_TASCAM_0103S12_embeddings (2)_i.wav', '/content/interp_recon_i_TASCAM_0095S12_X_recon_v_TASCAM_0095S12_embeddings_i.wav', '/content/interp_recon_i_TASCAM_0099S12_X_recon_v_TASCAM_0099S12_embeddings (1)_i.wav', '/content/recon_i_TASCAM_0099S12_embeddings (1)_i.wav', '/content/recon_i_TASCAM_0101S12_embeddings (1)_i.wav', '/content/interp_recon_i_TASCAM_0104S12_X_recon_v_TASCAM_0104S12_embeddings (2)_i.wav', '/content/recon_i_TASCAM_0097S12_embeddings (1)_i.wav', '/content/interp_recon_i_TASCAM_0096S12_X_recon_v_TASCAM_0096S12_embeddings_i.wav', '/content/interp_recon_i_TASCAM_0103S12_X_recon_v_TASCAM_0103S12_embeddings (1)_i.wav', '/content/recon_v_TASCAM_0101S12_embeddings (1)_i.wav', '/content/recon_i_TASCAM_0096S12_embeddings_i.wav', '/content/interp_recon_i_TASCAM_0100S12_X_recon_v_TASCAM_0100S12_embeddings (1)_i.wav', '/content/recon_v_TASCAM_0104S12_embeddings (4)_v.wav', '/content/recon_i_TASCAM_0095S12_embeddings_v.wav', '/content/recon_v_TASCAM_0100S12_embeddings (1)_v.wav', '/content/recon_v_TASCAM_0099S12_embeddings (1)_v.wav', '/content/recon_v_TASCAM_0098S12_embeddings (1)_v.wav']\n"
          ],
          "name": "stdout"
        }
      ]
    },
    {
      "metadata": {
        "id": "dVtqgSzM5ifM",
        "colab_type": "code",
        "colab": {
          "autoexec": {
            "startup": false,
            "wait_interval": 0
          }
        }
      },
      "cell_type": "code",
      "source": [
        "\n",
        "\n",
        "# use image interpolation to stretch the encoding: (pip install scikit-image)\n",
        "try:\n",
        "    from skimage.transform import resize\n",
        "except ImportError:\n",
        "    !pip install scikit-image\n",
        "    from skimage.transform import resize"
      ],
      "execution_count": 0,
      "outputs": []
    },
    {
      "metadata": {
        "id": "-uK62cTdBNJV",
        "colab_type": "text"
      },
      "cell_type": "markdown",
      "source": [
        "Here's a utility function to help you stretch your own encoding. It uses skimage.transform and will retain the range of values. Images typically only have a range of 0-1, but the encodings aren't actually images so we'll keep track of their min/max in order to stretch them like images."
      ]
    },
    {
      "metadata": {
        "id": "ZSQ39CFGBTKp",
        "colab_type": "code",
        "colab": {
          "autoexec": {
            "startup": false,
            "wait_interval": 0
          }
        }
      },
      "cell_type": "code",
      "source": [
        "def timestretch(encodings, factor):\n",
        "    min_encoding, max_encoding = encodings.min(), encodings.max()\n",
        "    encodings_norm = (encodings - min_encoding) / (max_encoding - min_encoding)\n",
        "    timestretches = []\n",
        "    for encoding_i in encodings_norm:\n",
        "        stretched = resize(encoding_i, (int(encoding_i.shape[0] * factor), encoding_i.shape[1]), mode='reflect')\n",
        "        stretched = (stretched * (max_encoding - min_encoding)) + min_encoding\n",
        "        timestretches.append(stretched)\n",
        "    return np.array(timestretches)"
      ],
      "execution_count": 0,
      "outputs": []
    },
    {
      "metadata": {
        "id": "tL2jIWgHBcSA",
        "colab_type": "code",
        "colab": {
          "autoexec": {
            "startup": false,
            "wait_interval": 0
          }
        }
      },
      "cell_type": "code",
      "source": [
        "z_encoding_slower = timestretch(encodings, 1.5)\n",
        "z_encoding_faster = timestretch(encodings, 0.5)"
      ],
      "execution_count": 0,
      "outputs": []
    },
    {
      "metadata": {
        "id": "z5PJP1LhJeLf",
        "colab_type": "code",
        "colab": {
          "autoexec": {
            "startup": false,
            "wait_interval": 0
          },
          "base_uri": "https://localhost:8080/",
          "height": 461
        },
        "outputId": "a86b45a2-4e38-4141-c626-48db28e843ce",
        "executionInfo": {
          "status": "ok",
          "timestamp": 1533805796449,
          "user_tz": -480,
          "elapsed": 1517,
          "user": {
            "displayName": "Jonathan Sherman",
            "photoUrl": "https://lh3.googleusercontent.com/a/default-user=s128",
            "userId": "117611389617249139234"
          }
        }
      },
      "cell_type": "code",
      "source": [
        "fig, axs = plt.subplots(3, 1, figsize=(10, 7), sharex=True, sharey=True)\n",
        "axs[0].plot(encodings[0]); \n",
        "axs[0].set_title('Encoding (Normal Speed)')\n",
        "axs[1].plot(z_encoding_faster[0]);\n",
        "axs[1].set_title('Encoding (Faster))')\n",
        "axs[2].plot(z_encoding_slower[0]);\n",
        "axs[2].set_title('Encoding (Slower)')"
      ],
      "execution_count": 38,
      "outputs": [
        {
          "output_type": "execute_result",
          "data": {
            "text/plain": [
              "Text(0.5,1,u'Encoding (Slower)')"
            ]
          },
          "metadata": {
            "tags": []
          },
          "execution_count": 38
        },
        {
          "output_type": "display_data",
          "data": {
            "image/png": "[encoded data removed]",
            "text/plain": [
              "<matplotlib.figure.Figure at 0x7f88f9148490>"
            ]
          },
          "metadata": {
            "tags": []
          }
        }
      ]
    },
    {
      "metadata": {
        "id": "DDfCV0qSLAnS",
        "colab_type": "code",
        "colab": {
          "autoexec": {
            "startup": false,
            "wait_interval": 0
          },
          "base_uri": "https://localhost:8080/",
          "height": 4627
        },
        "outputId": "dce6cc4d-0e30-4f0e-a17b-344e8a71898a",
        "executionInfo": {
          "status": "ok",
          "timestamp": 1533454320989,
          "user_tz": -480,
          "elapsed": 641572,
          "user": {
            "displayName": "Jonathan Sherman",
            "photoUrl": "https://lh3.googleusercontent.com/a/default-user=s128",
            "userId": "105267990690274350185"
          }
        }
      },
      "cell_type": "code",
      "source": [
        "# TO-DO - build all in function w/flags for which processing to apply to batches\n",
        "# Start with reconstructions\n",
        "z_list = [z_ for z_ in encodings]\n",
        "name_list = ['fast_stretch_' + name_ for name_ in name_list]\n",
        "\n",
        "# Add all the mean interpolations\n",
        "n = len(name_list)\n",
        "for i in range(n - 1):\n",
        "  for j in range(i + 1, n):\n",
        "    new_z = (encodings[i] + encodings[j]) / 2.0\n",
        "    new_name = 'interp_' + name_list[i] + '_X_'+ name_list[j]\n",
        "    z_list.append(new_z)\n",
        "    name_list.append(new_name)\n",
        "\n",
        "save_paths = ['/content/' + name + '.wav' for name in name_list]    \n",
        "\n",
        "fastgen.synthesize(z_encoding_faster, save_paths=save_paths,\n",
        "                   checkpoint_path=ckpt_path,\n",
        "                   samples_per_save=int(SAMPLE_LENGTH / 10))"
      ],
      "execution_count": 0,
      "outputs": [
        {
          "output_type": "stream",
          "text": [
            "INFO:tensorflow:Restoring parameters from /content/wavenet-voice-ckpt/model.ckpt-200000\n",
            "INFO:tensorflow:Sample: 0\n",
            "INFO:tensorflow:Saving: /content/fast_stretch_fast_stretch_fast_stretch_fast_stretch_recon_TASCAM_0011S12b_embeddings.npy.wav\n",
            "INFO:tensorflow:Saving: /content/fast_stretch_fast_stretch_fast_stretch_fast_stretch_interp_TASCAM_0011S12a_X_TASCAM_0011S12b_embeddings.npy.wav\n",
            "INFO:tensorflow:Saving: /content/fast_stretch_fast_stretch_fast_stretch_fast_stretch_recon_TASCAM_0011S12a_embeddings.npy.wav\n",
            "INFO:tensorflow:Sample: 100\n",
            "INFO:tensorflow:Sample: 200\n",
            "INFO:tensorflow:Sample: 300\n",
            "INFO:tensorflow:Sample: 400\n",
            "INFO:tensorflow:Sample: 500\n",
            "INFO:tensorflow:Sample: 600\n",
            "INFO:tensorflow:Sample: 700\n",
            "INFO:tensorflow:Sample: 800\n",
            "INFO:tensorflow:Sample: 900\n",
            "INFO:tensorflow:Sample: 1000\n",
            "INFO:tensorflow:Sample: 1100\n",
            "INFO:tensorflow:Sample: 1200\n",
            "INFO:tensorflow:Sample: 1300\n",
            "INFO:tensorflow:Sample: 1400\n",
            "INFO:tensorflow:Sample: 1500\n",
            "INFO:tensorflow:Sample: 1600\n",
            "INFO:tensorflow:Sample: 1700\n",
            "INFO:tensorflow:Sample: 1800\n",
            "INFO:tensorflow:Sample: 1900\n",
            "INFO:tensorflow:Sample: 2000\n",
            "INFO:tensorflow:Sample: 2100\n",
            "INFO:tensorflow:Sample: 2200\n",
            "INFO:tensorflow:Sample: 2300\n",
            "INFO:tensorflow:Sample: 2400\n",
            "INFO:tensorflow:Sample: 2500\n",
            "INFO:tensorflow:Sample: 2600\n",
            "INFO:tensorflow:Sample: 2700\n",
            "INFO:tensorflow:Sample: 2800\n",
            "INFO:tensorflow:Sample: 2900\n",
            "INFO:tensorflow:Sample: 3000\n",
            "INFO:tensorflow:Sample: 3100\n",
            "INFO:tensorflow:Sample: 3200\n",
            "INFO:tensorflow:Sample: 3300\n",
            "INFO:tensorflow:Sample: 3400\n",
            "INFO:tensorflow:Sample: 3500\n",
            "INFO:tensorflow:Sample: 3600\n",
            "INFO:tensorflow:Sample: 3700\n",
            "INFO:tensorflow:Sample: 3800\n",
            "INFO:tensorflow:Sample: 3900\n",
            "INFO:tensorflow:Sample: 4000\n",
            "INFO:tensorflow:Sample: 4100\n",
            "INFO:tensorflow:Sample: 4200\n",
            "INFO:tensorflow:Sample: 4300\n",
            "INFO:tensorflow:Sample: 4400\n",
            "INFO:tensorflow:Sample: 4500\n",
            "INFO:tensorflow:Sample: 4600\n",
            "INFO:tensorflow:Sample: 4700\n",
            "INFO:tensorflow:Sample: 4800\n",
            "INFO:tensorflow:Saving: /content/fast_stretch_fast_stretch_fast_stretch_fast_stretch_recon_TASCAM_0011S12b_embeddings.npy.wav\n",
            "INFO:tensorflow:Saving: /content/fast_stretch_fast_stretch_fast_stretch_fast_stretch_interp_TASCAM_0011S12a_X_TASCAM_0011S12b_embeddings.npy.wav\n",
            "INFO:tensorflow:Saving: /content/fast_stretch_fast_stretch_fast_stretch_fast_stretch_recon_TASCAM_0011S12a_embeddings.npy.wav\n",
            "INFO:tensorflow:Sample: 4900\n",
            "INFO:tensorflow:Sample: 5000\n",
            "INFO:tensorflow:Sample: 5100\n",
            "INFO:tensorflow:Sample: 5200\n",
            "INFO:tensorflow:Sample: 5300\n",
            "INFO:tensorflow:Sample: 5400\n",
            "INFO:tensorflow:Sample: 5500\n",
            "INFO:tensorflow:Sample: 5600\n",
            "INFO:tensorflow:Sample: 5700\n",
            "INFO:tensorflow:Sample: 5800\n",
            "INFO:tensorflow:Sample: 5900\n",
            "INFO:tensorflow:Sample: 6000\n",
            "INFO:tensorflow:Sample: 6100\n"
          ],
          "name": "stdout"
        },
        {
          "output_type": "stream",
          "text": [
            "INFO:tensorflow:Sample: 6200\n",
            "INFO:tensorflow:Sample: 6300\n",
            "INFO:tensorflow:Sample: 6400\n",
            "INFO:tensorflow:Sample: 6500\n",
            "INFO:tensorflow:Sample: 6600\n",
            "INFO:tensorflow:Sample: 6700\n",
            "INFO:tensorflow:Sample: 6800\n",
            "INFO:tensorflow:Sample: 6900\n",
            "INFO:tensorflow:Sample: 7000\n",
            "INFO:tensorflow:Sample: 7100\n",
            "INFO:tensorflow:Sample: 7200\n",
            "INFO:tensorflow:Sample: 7300\n",
            "INFO:tensorflow:Sample: 7400\n",
            "INFO:tensorflow:Sample: 7500\n",
            "INFO:tensorflow:Sample: 7600\n",
            "INFO:tensorflow:Sample: 7700\n",
            "INFO:tensorflow:Sample: 7800\n",
            "INFO:tensorflow:Sample: 7900\n",
            "INFO:tensorflow:Sample: 8000\n",
            "INFO:tensorflow:Sample: 8100\n",
            "INFO:tensorflow:Sample: 8200\n",
            "INFO:tensorflow:Sample: 8300\n",
            "INFO:tensorflow:Sample: 8400\n",
            "INFO:tensorflow:Sample: 8500\n",
            "INFO:tensorflow:Sample: 8600\n",
            "INFO:tensorflow:Sample: 8700\n",
            "INFO:tensorflow:Sample: 8800\n",
            "INFO:tensorflow:Sample: 8900\n",
            "INFO:tensorflow:Sample: 9000\n",
            "INFO:tensorflow:Sample: 9100\n",
            "INFO:tensorflow:Sample: 9200\n",
            "INFO:tensorflow:Sample: 9300\n",
            "INFO:tensorflow:Sample: 9400\n",
            "INFO:tensorflow:Sample: 9500\n",
            "INFO:tensorflow:Sample: 9600\n",
            "INFO:tensorflow:Saving: /content/fast_stretch_fast_stretch_fast_stretch_fast_stretch_recon_TASCAM_0011S12b_embeddings.npy.wav\n",
            "INFO:tensorflow:Saving: /content/fast_stretch_fast_stretch_fast_stretch_fast_stretch_interp_TASCAM_0011S12a_X_TASCAM_0011S12b_embeddings.npy.wav\n",
            "INFO:tensorflow:Saving: /content/fast_stretch_fast_stretch_fast_stretch_fast_stretch_recon_TASCAM_0011S12a_embeddings.npy.wav\n",
            "INFO:tensorflow:Sample: 9700\n",
            "INFO:tensorflow:Sample: 9800\n",
            "INFO:tensorflow:Sample: 9900\n",
            "INFO:tensorflow:Sample: 10000\n",
            "INFO:tensorflow:Sample: 10100\n",
            "INFO:tensorflow:Sample: 10200\n",
            "INFO:tensorflow:Sample: 10300\n",
            "INFO:tensorflow:Sample: 10400\n",
            "INFO:tensorflow:Sample: 10500\n",
            "INFO:tensorflow:Sample: 10600\n",
            "INFO:tensorflow:Sample: 10700\n",
            "INFO:tensorflow:Sample: 10800\n",
            "INFO:tensorflow:Sample: 10900\n",
            "INFO:tensorflow:Sample: 11000\n",
            "INFO:tensorflow:Sample: 11100\n",
            "INFO:tensorflow:Sample: 11200\n",
            "INFO:tensorflow:Sample: 11300\n",
            "INFO:tensorflow:Sample: 11400\n",
            "INFO:tensorflow:Sample: 11500\n",
            "INFO:tensorflow:Sample: 11600\n",
            "INFO:tensorflow:Sample: 11700\n",
            "INFO:tensorflow:Sample: 11800\n",
            "INFO:tensorflow:Sample: 11900\n",
            "INFO:tensorflow:Sample: 12000\n",
            "INFO:tensorflow:Sample: 12100\n",
            "INFO:tensorflow:Sample: 12200\n",
            "INFO:tensorflow:Sample: 12300\n",
            "INFO:tensorflow:Sample: 12400\n",
            "INFO:tensorflow:Sample: 12500\n",
            "INFO:tensorflow:Sample: 12600\n",
            "INFO:tensorflow:Sample: 12700\n",
            "INFO:tensorflow:Sample: 12800\n",
            "INFO:tensorflow:Sample: 12900\n",
            "INFO:tensorflow:Sample: 13000\n",
            "INFO:tensorflow:Sample: 13100\n",
            "INFO:tensorflow:Sample: 13200\n",
            "INFO:tensorflow:Sample: 13300\n",
            "INFO:tensorflow:Sample: 13400\n"
          ],
          "name": "stdout"
        },
        {
          "output_type": "stream",
          "text": [
            "INFO:tensorflow:Sample: 13500\n",
            "INFO:tensorflow:Sample: 13600\n",
            "INFO:tensorflow:Sample: 13700\n",
            "INFO:tensorflow:Sample: 13800\n",
            "INFO:tensorflow:Sample: 13900\n",
            "INFO:tensorflow:Sample: 14000\n",
            "INFO:tensorflow:Sample: 14100\n",
            "INFO:tensorflow:Sample: 14200\n",
            "INFO:tensorflow:Sample: 14300\n",
            "INFO:tensorflow:Sample: 14400\n",
            "INFO:tensorflow:Saving: /content/fast_stretch_fast_stretch_fast_stretch_fast_stretch_recon_TASCAM_0011S12b_embeddings.npy.wav\n",
            "INFO:tensorflow:Saving: /content/fast_stretch_fast_stretch_fast_stretch_fast_stretch_interp_TASCAM_0011S12a_X_TASCAM_0011S12b_embeddings.npy.wav\n",
            "INFO:tensorflow:Saving: /content/fast_stretch_fast_stretch_fast_stretch_fast_stretch_recon_TASCAM_0011S12a_embeddings.npy.wav\n",
            "INFO:tensorflow:Sample: 14500\n",
            "INFO:tensorflow:Sample: 14600\n",
            "INFO:tensorflow:Sample: 14700\n",
            "INFO:tensorflow:Sample: 14800\n",
            "INFO:tensorflow:Sample: 14900\n",
            "INFO:tensorflow:Sample: 15000\n",
            "INFO:tensorflow:Sample: 15100\n",
            "INFO:tensorflow:Sample: 15200\n",
            "INFO:tensorflow:Sample: 15300\n",
            "INFO:tensorflow:Sample: 15400\n",
            "INFO:tensorflow:Sample: 15500\n",
            "INFO:tensorflow:Sample: 15600\n",
            "INFO:tensorflow:Sample: 15700\n",
            "INFO:tensorflow:Sample: 15800\n",
            "INFO:tensorflow:Sample: 15900\n",
            "INFO:tensorflow:Sample: 16000\n",
            "INFO:tensorflow:Sample: 16100\n",
            "INFO:tensorflow:Sample: 16200\n",
            "INFO:tensorflow:Sample: 16300\n",
            "INFO:tensorflow:Sample: 16400\n",
            "INFO:tensorflow:Sample: 16500\n",
            "INFO:tensorflow:Sample: 16600\n",
            "INFO:tensorflow:Sample: 16700\n",
            "INFO:tensorflow:Sample: 16800\n",
            "INFO:tensorflow:Sample: 16900\n",
            "INFO:tensorflow:Sample: 17000\n",
            "INFO:tensorflow:Sample: 17100\n",
            "INFO:tensorflow:Sample: 17200\n",
            "INFO:tensorflow:Sample: 17300\n",
            "INFO:tensorflow:Sample: 17400\n",
            "INFO:tensorflow:Sample: 17500\n",
            "INFO:tensorflow:Sample: 17600\n",
            "INFO:tensorflow:Sample: 17700\n",
            "INFO:tensorflow:Sample: 17800\n",
            "INFO:tensorflow:Sample: 17900\n",
            "INFO:tensorflow:Sample: 18000\n",
            "INFO:tensorflow:Sample: 18100\n",
            "INFO:tensorflow:Sample: 18200\n",
            "INFO:tensorflow:Sample: 18300\n",
            "INFO:tensorflow:Sample: 18400\n",
            "INFO:tensorflow:Sample: 18500\n",
            "INFO:tensorflow:Sample: 18600\n",
            "INFO:tensorflow:Sample: 18700\n",
            "INFO:tensorflow:Sample: 18800\n",
            "INFO:tensorflow:Sample: 18900\n",
            "INFO:tensorflow:Sample: 19000\n",
            "INFO:tensorflow:Sample: 19100\n",
            "INFO:tensorflow:Sample: 19200\n",
            "INFO:tensorflow:Saving: /content/fast_stretch_fast_stretch_fast_stretch_fast_stretch_recon_TASCAM_0011S12b_embeddings.npy.wav\n",
            "INFO:tensorflow:Saving: /content/fast_stretch_fast_stretch_fast_stretch_fast_stretch_interp_TASCAM_0011S12a_X_TASCAM_0011S12b_embeddings.npy.wav\n",
            "INFO:tensorflow:Saving: /content/fast_stretch_fast_stretch_fast_stretch_fast_stretch_recon_TASCAM_0011S12a_embeddings.npy.wav\n",
            "INFO:tensorflow:Sample: 19300\n",
            "INFO:tensorflow:Sample: 19400\n",
            "INFO:tensorflow:Sample: 19500\n",
            "INFO:tensorflow:Sample: 19600\n",
            "INFO:tensorflow:Sample: 19700\n",
            "INFO:tensorflow:Sample: 19800\n",
            "INFO:tensorflow:Sample: 19900\n"
          ],
          "name": "stdout"
        },
        {
          "output_type": "stream",
          "text": [
            "INFO:tensorflow:Sample: 20000\n",
            "INFO:tensorflow:Sample: 20100\n",
            "INFO:tensorflow:Sample: 20200\n",
            "INFO:tensorflow:Sample: 20300\n",
            "INFO:tensorflow:Sample: 20400\n",
            "INFO:tensorflow:Sample: 20500\n",
            "INFO:tensorflow:Sample: 20600\n",
            "INFO:tensorflow:Sample: 20700\n",
            "INFO:tensorflow:Sample: 20800\n",
            "INFO:tensorflow:Sample: 20900\n",
            "INFO:tensorflow:Sample: 21000\n",
            "INFO:tensorflow:Sample: 21100\n",
            "INFO:tensorflow:Sample: 21200\n",
            "INFO:tensorflow:Sample: 21300\n",
            "INFO:tensorflow:Sample: 21400\n",
            "INFO:tensorflow:Sample: 21500\n",
            "INFO:tensorflow:Sample: 21600\n",
            "INFO:tensorflow:Sample: 21700\n",
            "INFO:tensorflow:Sample: 21800\n",
            "INFO:tensorflow:Sample: 21900\n",
            "INFO:tensorflow:Sample: 22000\n",
            "INFO:tensorflow:Sample: 22100\n",
            "INFO:tensorflow:Sample: 22200\n",
            "INFO:tensorflow:Sample: 22300\n",
            "INFO:tensorflow:Sample: 22400\n",
            "INFO:tensorflow:Sample: 22500\n",
            "INFO:tensorflow:Sample: 22600\n",
            "INFO:tensorflow:Sample: 22700\n",
            "INFO:tensorflow:Sample: 22800\n",
            "INFO:tensorflow:Sample: 22900\n",
            "INFO:tensorflow:Sample: 23000\n",
            "INFO:tensorflow:Sample: 23100\n",
            "INFO:tensorflow:Sample: 23200\n",
            "INFO:tensorflow:Sample: 23300\n",
            "INFO:tensorflow:Sample: 23400\n",
            "INFO:tensorflow:Sample: 23500\n",
            "INFO:tensorflow:Saving: /content/fast_stretch_fast_stretch_fast_stretch_fast_stretch_recon_TASCAM_0011S12b_embeddings.npy.wav\n",
            "INFO:tensorflow:Saving: /content/fast_stretch_fast_stretch_fast_stretch_fast_stretch_interp_TASCAM_0011S12a_X_TASCAM_0011S12b_embeddings.npy.wav\n",
            "INFO:tensorflow:Saving: /content/fast_stretch_fast_stretch_fast_stretch_fast_stretch_recon_TASCAM_0011S12a_embeddings.npy.wav\n"
          ],
          "name": "stdout"
        }
      ]
    },
    {
      "metadata": {
        "id": "YyJh10W0Qz5q",
        "colab_type": "code",
        "colab": {
          "autoexec": {
            "startup": false,
            "wait_interval": 0
          },
          "base_uri": "https://localhost:8080/",
          "height": 426
        },
        "outputId": "4a909d93-3524-406b-de25-02a2dc9d3393",
        "executionInfo": {
          "status": "error",
          "timestamp": 1533454337932,
          "user_tz": -480,
          "elapsed": 4685,
          "user": {
            "displayName": "Jonathan Sherman",
            "photoUrl": "https://lh3.googleusercontent.com/a/default-user=s128",
            "userId": "105267990690274350185"
          }
        }
      },
      "cell_type": "code",
      "source": [
        "for fname in save_paths:\n",
        "  print('Downloading: %s' % fname.split('/')[-1])\n",
        "  download(fname)"
      ],
      "execution_count": 0,
      "outputs": [
        {
          "output_type": "stream",
          "text": [
            "Downloading: fast_stretch_fast_stretch_fast_stretch_fast_stretch_recon_TASCAM_0011S12b_embeddings.npy.wav\n",
            "Downloading: fast_stretch_fast_stretch_fast_stretch_fast_stretch_interp_TASCAM_0011S12a_X_TASCAM_0011S12b_embeddings.npy.wav\n",
            "Downloading: fast_stretch_fast_stretch_fast_stretch_fast_stretch_recon_TASCAM_0011S12a_embeddings.npy.wav\n",
            "Downloading: interp_fast_stretch_fast_stretch_fast_stretch_fast_stretch_recon_TASCAM_0011S12b_embeddings.npy_X_fast_stretch_fast_stretch_fast_stretch_fast_stretch_interp_TASCAM_0011S12a_X_TASCAM_0011S12b_embeddings.npy.wav\n"
          ],
          "name": "stdout"
        },
        {
          "output_type": "error",
          "ename": "OSError",
          "evalue": "ignored",
          "traceback": [
            "\u001b[0;31m\u001b[0m",
            "\u001b[0;31mOSError\u001b[0mTraceback (most recent call last)",
            "\u001b[0;32m<ipython-input-33-f67d77d8ad70>\u001b[0m in \u001b[0;36m<module>\u001b[0;34m()\u001b[0m\n\u001b[1;32m      1\u001b[0m \u001b[0;32mfor\u001b[0m \u001b[0mfname\u001b[0m \u001b[0;32min\u001b[0m \u001b[0msave_paths\u001b[0m\u001b[0;34m:\u001b[0m\u001b[0;34m\u001b[0m\u001b[0m\n\u001b[1;32m      2\u001b[0m   \u001b[0;32mprint\u001b[0m\u001b[0;34m(\u001b[0m\u001b[0;34m'Downloading: %s'\u001b[0m \u001b[0;34m%\u001b[0m \u001b[0mfname\u001b[0m\u001b[0;34m.\u001b[0m\u001b[0msplit\u001b[0m\u001b[0;34m(\u001b[0m\u001b[0;34m'/'\u001b[0m\u001b[0;34m)\u001b[0m\u001b[0;34m[\u001b[0m\u001b[0;34m-\u001b[0m\u001b[0;36m1\u001b[0m\u001b[0;34m]\u001b[0m\u001b[0;34m)\u001b[0m\u001b[0;34m\u001b[0m\u001b[0m\n\u001b[0;32m----> 3\u001b[0;31m   \u001b[0mdownload\u001b[0m\u001b[0;34m(\u001b[0m\u001b[0mfname\u001b[0m\u001b[0;34m)\u001b[0m\u001b[0;34m\u001b[0m\u001b[0m\n\u001b[0m",
            "\u001b[0;32m/usr/local/lib/python2.7/dist-packages/google/colab/files.pyc\u001b[0m in \u001b[0;36mdownload\u001b[0;34m(filename)\u001b[0m\n\u001b[1;32m    138\u001b[0m     \u001b[0mmsg\u001b[0m \u001b[0;34m=\u001b[0m \u001b[0;34m'Cannot find file: {}'\u001b[0m\u001b[0;34m.\u001b[0m\u001b[0mformat\u001b[0m\u001b[0;34m(\u001b[0m\u001b[0mfilename\u001b[0m\u001b[0;34m)\u001b[0m\u001b[0;34m\u001b[0m\u001b[0m\n\u001b[1;32m    139\u001b[0m     \u001b[0;32mif\u001b[0m \u001b[0msix\u001b[0m\u001b[0;34m.\u001b[0m\u001b[0mPY2\u001b[0m\u001b[0;34m:\u001b[0m\u001b[0;34m\u001b[0m\u001b[0m\n\u001b[0;32m--> 140\u001b[0;31m       \u001b[0;32mraise\u001b[0m \u001b[0mOSError\u001b[0m\u001b[0;34m(\u001b[0m\u001b[0mmsg\u001b[0m\u001b[0;34m)\u001b[0m\u001b[0;34m\u001b[0m\u001b[0m\n\u001b[0m\u001b[1;32m    141\u001b[0m     \u001b[0;32melse\u001b[0m\u001b[0;34m:\u001b[0m\u001b[0;34m\u001b[0m\u001b[0m\n\u001b[1;32m    142\u001b[0m       \u001b[0;32mraise\u001b[0m \u001b[0mFileNotFoundError\u001b[0m\u001b[0;34m(\u001b[0m\u001b[0mmsg\u001b[0m\u001b[0;34m)\u001b[0m  \u001b[0;31m# pylint: disable=undefined-variable\u001b[0m\u001b[0;34m\u001b[0m\u001b[0m\n",
            "\u001b[0;31mOSError\u001b[0m: Cannot find file: /content/interp_fast_stretch_fast_stretch_fast_stretch_fast_stretch_recon_TASCAM_0011S12b_embeddings.npy_X_fast_stretch_fast_stretch_fast_stretch_fast_stretch_interp_TASCAM_0011S12a_X_TASCAM_0011S12b_embeddings.npy.wav"
          ]
        }
      ]
    },
    {
      "metadata": {
        "id": "uw2rcjD3Q-W6",
        "colab_type": "code",
        "colab": {
          "autoexec": {
            "startup": false,
            "wait_interval": 0
          },
          "base_uri": "https://localhost:8080/",
          "height": 1065
        },
        "outputId": "b02feab0-4f53-4636-a3d7-49e9478dfe96",
        "executionInfo": {
          "status": "error",
          "timestamp": 1533454468895,
          "user_tz": -480,
          "elapsed": 1610,
          "user": {
            "displayName": "Jonathan Sherman",
            "photoUrl": "https://lh3.googleusercontent.com/a/default-user=s128",
            "userId": "105267990690274350185"
          }
        }
      },
      "cell_type": "code",
      "source": [
        "for i, fname in enumerate(save_paths):\n",
        "  if i == 0:\n",
        "    print(\"Reconstructions:\\n\")\n",
        "  if i == len(file_list):\n",
        "    print(\"Interpolations:\\n\")\n",
        "  synth_audio = utils.load_audio(fname,\n",
        "                                 sample_length=SAMPLE_LENGTH,\n",
        "                                 sr=SR)\n",
        "  print(get_name(fname))\n",
        "  play(synth_audio, sample_rate=SR)"
      ],
      "execution_count": 0,
      "outputs": [
        {
          "output_type": "stream",
          "text": [
            "Reconstructions:\n",
            "\n",
            "fast_stretch_fast_stretch_fast_stretch_fast_stretch_recon_TASCAM_0011S12b_embeddings.npy\n"
          ],
          "name": "stdout"
        },
        {
          "output_type": "display_data",
          "data": {
            "text/plain": [
              "<IPython.core.display.HTML object>"
            ],
            "text/html": [
              "<div id=\"id_13\"> </div>"
            ]
          },
          "metadata": {
            "tags": []
          }
        },
        {
          "output_type": "stream",
          "text": [
            "fast_stretch_fast_stretch_fast_stretch_fast_stretch_interp_TASCAM_0011S12a_X_TASCAM_0011S12b_embeddings.npy\n"
          ],
          "name": "stdout"
        },
        {
          "output_type": "display_data",
          "data": {
            "text/plain": [
              "<IPython.core.display.HTML object>"
            ],
            "text/html": [
              "<div id=\"id_14\"> </div>"
            ]
          },
          "metadata": {
            "tags": []
          }
        },
        {
          "output_type": "stream",
          "text": [
            "fast_stretch_fast_stretch_fast_stretch_fast_stretch_recon_TASCAM_0011S12a_embeddings.npy\n"
          ],
          "name": "stdout"
        },
        {
          "output_type": "display_data",
          "data": {
            "text/plain": [
              "<IPython.core.display.HTML object>"
            ],
            "text/html": [
              "<div id=\"id_15\"> </div>"
            ]
          },
          "metadata": {
            "tags": []
          }
        },
        {
          "output_type": "stream",
          "text": [
            "Interpolations:\n",
            "\n"
          ],
          "name": "stdout"
        },
        {
          "output_type": "error",
          "ename": "IOError",
          "evalue": "ignored",
          "traceback": [
            "\u001b[0;31m\u001b[0m",
            "\u001b[0;31mIOError\u001b[0mTraceback (most recent call last)",
            "\u001b[0;32m<ipython-input-36-6dc2d9281c81>\u001b[0m in \u001b[0;36m<module>\u001b[0;34m()\u001b[0m\n\u001b[1;32m      6\u001b[0m   synth_audio = utils.load_audio(fname,\n\u001b[1;32m      7\u001b[0m                                  \u001b[0msample_length\u001b[0m\u001b[0;34m=\u001b[0m\u001b[0mSAMPLE_LENGTH\u001b[0m\u001b[0;34m,\u001b[0m\u001b[0;34m\u001b[0m\u001b[0m\n\u001b[0;32m----> 8\u001b[0;31m                                  sr=SR)\n\u001b[0m\u001b[1;32m      9\u001b[0m   \u001b[0;32mprint\u001b[0m\u001b[0;34m(\u001b[0m\u001b[0mget_name\u001b[0m\u001b[0;34m(\u001b[0m\u001b[0mfname\u001b[0m\u001b[0;34m)\u001b[0m\u001b[0;34m)\u001b[0m\u001b[0;34m\u001b[0m\u001b[0m\n\u001b[1;32m     10\u001b[0m   \u001b[0mplay\u001b[0m\u001b[0;34m(\u001b[0m\u001b[0msynth_audio\u001b[0m\u001b[0;34m,\u001b[0m \u001b[0msample_rate\u001b[0m\u001b[0;34m=\u001b[0m\u001b[0mSR\u001b[0m\u001b[0;34m)\u001b[0m\u001b[0;34m\u001b[0m\u001b[0m\n",
            "\u001b[0;32m/usr/local/lib/python2.7/dist-packages/magenta/models/nsynth/utils.pyc\u001b[0m in \u001b[0;36mload_audio\u001b[0;34m(path, sample_length, sr)\u001b[0m\n\u001b[1;32m     63\u001b[0m     \u001b[0mout\u001b[0m\u001b[0;34m:\u001b[0m \u001b[0mThe\u001b[0m \u001b[0maudio\u001b[0m \u001b[0;32min\u001b[0m \u001b[0msamples\u001b[0m \u001b[0;32mfrom\u001b[0m \u001b[0;34m-\u001b[0m\u001b[0;36m1.0\u001b[0m \u001b[0mto\u001b[0m \u001b[0;36m1.0\u001b[0m\u001b[0;34m\u001b[0m\u001b[0m\n\u001b[1;32m     64\u001b[0m   \"\"\"\n\u001b[0;32m---> 65\u001b[0;31m   \u001b[0maudio\u001b[0m\u001b[0;34m,\u001b[0m \u001b[0m_\u001b[0m \u001b[0;34m=\u001b[0m \u001b[0mlibrosa\u001b[0m\u001b[0;34m.\u001b[0m\u001b[0mload\u001b[0m\u001b[0;34m(\u001b[0m\u001b[0mpath\u001b[0m\u001b[0;34m,\u001b[0m \u001b[0msr\u001b[0m\u001b[0;34m=\u001b[0m\u001b[0msr\u001b[0m\u001b[0;34m)\u001b[0m\u001b[0;34m\u001b[0m\u001b[0m\n\u001b[0m\u001b[1;32m     66\u001b[0m   \u001b[0maudio\u001b[0m \u001b[0;34m=\u001b[0m \u001b[0maudio\u001b[0m\u001b[0;34m[\u001b[0m\u001b[0;34m:\u001b[0m\u001b[0msample_length\u001b[0m\u001b[0;34m]\u001b[0m\u001b[0;34m\u001b[0m\u001b[0m\n\u001b[1;32m     67\u001b[0m   \u001b[0;32mreturn\u001b[0m \u001b[0maudio\u001b[0m\u001b[0;34m\u001b[0m\u001b[0m\n",
            "\u001b[0;32m/usr/local/lib/python2.7/dist-packages/librosa/core/audio.pyc\u001b[0m in \u001b[0;36mload\u001b[0;34m(path, sr, mono, offset, duration, dtype, res_type)\u001b[0m\n\u001b[1;32m    110\u001b[0m \u001b[0;34m\u001b[0m\u001b[0m\n\u001b[1;32m    111\u001b[0m     \u001b[0my\u001b[0m \u001b[0;34m=\u001b[0m \u001b[0;34m[\u001b[0m\u001b[0;34m]\u001b[0m\u001b[0;34m\u001b[0m\u001b[0m\n\u001b[0;32m--> 112\u001b[0;31m     \u001b[0;32mwith\u001b[0m \u001b[0maudioread\u001b[0m\u001b[0;34m.\u001b[0m\u001b[0maudio_open\u001b[0m\u001b[0;34m(\u001b[0m\u001b[0mos\u001b[0m\u001b[0;34m.\u001b[0m\u001b[0mpath\u001b[0m\u001b[0;34m.\u001b[0m\u001b[0mrealpath\u001b[0m\u001b[0;34m(\u001b[0m\u001b[0mpath\u001b[0m\u001b[0;34m)\u001b[0m\u001b[0;34m)\u001b[0m \u001b[0;32mas\u001b[0m \u001b[0minput_file\u001b[0m\u001b[0;34m:\u001b[0m\u001b[0;34m\u001b[0m\u001b[0m\n\u001b[0m\u001b[1;32m    113\u001b[0m         \u001b[0msr_native\u001b[0m \u001b[0;34m=\u001b[0m \u001b[0minput_file\u001b[0m\u001b[0;34m.\u001b[0m\u001b[0msamplerate\u001b[0m\u001b[0;34m\u001b[0m\u001b[0m\n\u001b[1;32m    114\u001b[0m         \u001b[0mn_channels\u001b[0m \u001b[0;34m=\u001b[0m \u001b[0minput_file\u001b[0m\u001b[0;34m.\u001b[0m\u001b[0mchannels\u001b[0m\u001b[0;34m\u001b[0m\u001b[0m\n",
            "\u001b[0;32m/usr/local/lib/python2.7/dist-packages/audioread/__init__.pyc\u001b[0m in \u001b[0;36maudio_open\u001b[0;34m(path)\u001b[0m\n\u001b[1;32m     78\u001b[0m     \u001b[0;32mfrom\u001b[0m \u001b[0;34m.\u001b[0m \u001b[0;32mimport\u001b[0m \u001b[0mrawread\u001b[0m\u001b[0;34m\u001b[0m\u001b[0m\n\u001b[1;32m     79\u001b[0m     \u001b[0;32mtry\u001b[0m\u001b[0;34m:\u001b[0m\u001b[0;34m\u001b[0m\u001b[0m\n\u001b[0;32m---> 80\u001b[0;31m         \u001b[0;32mreturn\u001b[0m \u001b[0mrawread\u001b[0m\u001b[0;34m.\u001b[0m\u001b[0mRawAudioFile\u001b[0m\u001b[0;34m(\u001b[0m\u001b[0mpath\u001b[0m\u001b[0;34m)\u001b[0m\u001b[0;34m\u001b[0m\u001b[0m\n\u001b[0m\u001b[1;32m     81\u001b[0m     \u001b[0;32mexcept\u001b[0m \u001b[0mDecodeError\u001b[0m\u001b[0;34m:\u001b[0m\u001b[0;34m\u001b[0m\u001b[0m\n\u001b[1;32m     82\u001b[0m         \u001b[0;32mpass\u001b[0m\u001b[0;34m\u001b[0m\u001b[0m\n",
            "\u001b[0;32m/usr/local/lib/python2.7/dist-packages/audioread/rawread.pyc\u001b[0m in \u001b[0;36m__init__\u001b[0;34m(self, filename)\u001b[0m\n\u001b[1;32m     59\u001b[0m     \"\"\"\n\u001b[1;32m     60\u001b[0m     \u001b[0;32mdef\u001b[0m \u001b[0m__init__\u001b[0m\u001b[0;34m(\u001b[0m\u001b[0mself\u001b[0m\u001b[0;34m,\u001b[0m \u001b[0mfilename\u001b[0m\u001b[0;34m)\u001b[0m\u001b[0;34m:\u001b[0m\u001b[0;34m\u001b[0m\u001b[0m\n\u001b[0;32m---> 61\u001b[0;31m         \u001b[0mself\u001b[0m\u001b[0;34m.\u001b[0m\u001b[0m_fh\u001b[0m \u001b[0;34m=\u001b[0m \u001b[0mopen\u001b[0m\u001b[0;34m(\u001b[0m\u001b[0mfilename\u001b[0m\u001b[0;34m,\u001b[0m \u001b[0;34m'rb'\u001b[0m\u001b[0;34m)\u001b[0m\u001b[0;34m\u001b[0m\u001b[0m\n\u001b[0m\u001b[1;32m     62\u001b[0m \u001b[0;34m\u001b[0m\u001b[0m\n\u001b[1;32m     63\u001b[0m         \u001b[0;32mtry\u001b[0m\u001b[0;34m:\u001b[0m\u001b[0;34m\u001b[0m\u001b[0m\n",
            "\u001b[0;31mIOError\u001b[0m: [Errno 2] No such file or directory: '/content/interp_fast_stretch_fast_stretch_fast_stretch_fast_stretch_recon_TASCAM_0011S12b_embeddings.npy_X_fast_stretch_fast_stretch_fast_stretch_fast_stretch_interp_TASCAM_0011S12a_X_TASCAM_0011S12b_embeddings.npy.wav'"
          ]
        }
      ]
    },
    {
      "metadata": {
        "id": "8q3G1WDYOxkM",
        "colab_type": "text"
      },
      "cell_type": "markdown",
      "source": [
        "Part 3: Interpolating Sounds\n",
        "Now let's try something more experimental. NSynth released plenty of great examples of what happens when you mix the embeddings of different sounds: https://magenta.tensorflow.org/nsynth-instrument. We'll do the same by combining the original + the fast_stretch with the slow_stretch. To do this we have to concatenate z and z_encoding_faster so they have the same dimension as z_encoding_slower. Otherwise, if your files had the same sizes already you can just simply add them and divide (e.g. (file_1 + file_2)/2.)"
      ]
    },
    {
      "metadata": {
        "id": "tjHwFRuXO51C",
        "colab_type": "code",
        "colab": {
          "autoexec": {
            "startup": false,
            "wait_interval": 0
          },
          "base_uri": "https://localhost:8080/",
          "height": 316
        },
        "outputId": "62d43438-ad4b-4ad8-9c95-e892385c12ac",
        "executionInfo": {
          "status": "ok",
          "timestamp": 1532873977210,
          "user_tz": -480,
          "elapsed": 10163,
          "user": {
            "displayName": "",
            "photoUrl": "",
            "userId": ""
          }
        }
      },
      "cell_type": "code",
      "source": [
        "# TO-DO Change so this is interpolated between well-generalized voice and poorly generalized voice\n",
        "# Concatenate along axis 1 because this axis contains sample lengths\n",
        "z_mix = (np.concatenate((z, z_encoding_faster), axis=1) + z_encoding_slower) / 2.0\n",
        "fastgen.encode(audio, ckpt_path, SAMPLE_LENGTH)\n",
        "plt.figure()\n",
        "plt.plot(z_mix[0])\n",
        "plt.title('z_interpolated')\n"
      ],
      "execution_count": 0,
      "outputs": [
        {
          "output_type": "stream",
          "text": [
            "INFO:tensorflow:Restoring parameters from /content/wavenet-ckpt/model.ckpt-200000\n"
          ],
          "name": "stdout"
        },
        {
          "output_type": "execute_result",
          "data": {
            "text/plain": [
              "Text(0.5,1,u'z_interpolated')"
            ]
          },
          "metadata": {
            "tags": []
          },
          "execution_count": 49
        },
        {
          "output_type": "display_data",
          "data": {
            "image/png": "[encoded data removed]",
            "text/plain": [
              "<matplotlib.figure.Figure at 0x7f77eb288a50>"
            ]
          },
          "metadata": {
            "tags": []
          }
        }
      ]
    },
    {
      "metadata": {
        "id": "9ZvZT_NHQXcH",
        "colab_type": "code",
        "colab": {
          "autoexec": {
            "startup": false,
            "wait_interval": 0
          },
          "base_uri": "https://localhost:8080/",
          "height": 8909
        },
        "outputId": "cb0d17e7-f691-4951-e790-bbbdd5843155",
        "executionInfo": {
          "status": "ok",
          "timestamp": 1532875610140,
          "user_tz": -480,
          "elapsed": 1486366,
          "user": {
            "displayName": "",
            "photoUrl": "",
            "userId": ""
          }
        }
      },
      "cell_type": "code",
      "source": [
        "# TO-DO - build all in function w/flags for which processing to apply to batches\n",
        "# Start with reconstructions\n",
        "z_list = [z_ for z_ in z]\n",
        "name_list = ['z_stretches_interp' + name_ for name_ in names]\n",
        "\n",
        "# Add all the mean interpolations\n",
        "n = len(names)\n",
        "for i in range(n - 1):\n",
        "  for j in range(i + 1, n):\n",
        "    new_z = (z[i] + z[j]) / 2.0\n",
        "    new_name = 'interp_' + names[i] + '_X_'+ names[j]\n",
        "    z_list.append(new_z)\n",
        "    name_list.append(new_name)\n",
        "\n",
        "save_paths = ['/content/' + name + '.wav' for name in name_list]    \n",
        "\n",
        "fastgen.synthesize(z_mix, save_paths=save_paths,\n",
        "                   checkpoint_path=ckpt_path,\n",
        "                   samples_per_save=int(SAMPLE_LENGTH / 10))"
      ],
      "execution_count": 0,
      "outputs": [
        {
          "output_type": "stream",
          "text": [
            "INFO:tensorflow:Restoring parameters from /content/wavenet-ckpt/model.ckpt-200000\n",
            "INFO:tensorflow:Sample: 0\n",
            "INFO:tensorflow:Saving: /content/z_stretches_interpTASCAM_0030S12.wav\n",
            "INFO:tensorflow:Sample: 100\n",
            "INFO:tensorflow:Sample: 200\n",
            "INFO:tensorflow:Sample: 300\n",
            "INFO:tensorflow:Sample: 400\n",
            "INFO:tensorflow:Sample: 500\n",
            "INFO:tensorflow:Sample: 600\n",
            "INFO:tensorflow:Sample: 700\n",
            "INFO:tensorflow:Sample: 800\n",
            "INFO:tensorflow:Sample: 900\n",
            "INFO:tensorflow:Sample: 1000\n",
            "INFO:tensorflow:Sample: 1100\n",
            "INFO:tensorflow:Sample: 1200\n",
            "INFO:tensorflow:Sample: 1300\n",
            "INFO:tensorflow:Sample: 1400\n",
            "INFO:tensorflow:Sample: 1500\n",
            "INFO:tensorflow:Sample: 1600\n",
            "INFO:tensorflow:Sample: 1700\n",
            "INFO:tensorflow:Sample: 1800\n",
            "INFO:tensorflow:Sample: 1900\n",
            "INFO:tensorflow:Sample: 2000\n",
            "INFO:tensorflow:Sample: 2100\n",
            "INFO:tensorflow:Sample: 2200\n",
            "INFO:tensorflow:Sample: 2300\n",
            "INFO:tensorflow:Sample: 2400\n",
            "INFO:tensorflow:Sample: 2500\n",
            "INFO:tensorflow:Sample: 2600\n",
            "INFO:tensorflow:Sample: 2700\n",
            "INFO:tensorflow:Sample: 2800\n",
            "INFO:tensorflow:Sample: 2900\n",
            "INFO:tensorflow:Sample: 3000\n",
            "INFO:tensorflow:Sample: 3100\n",
            "INFO:tensorflow:Sample: 3200\n",
            "INFO:tensorflow:Saving: /content/z_stretches_interpTASCAM_0030S12.wav\n",
            "INFO:tensorflow:Sample: 3300\n",
            "INFO:tensorflow:Sample: 3400\n",
            "INFO:tensorflow:Sample: 3500\n",
            "INFO:tensorflow:Sample: 3600\n",
            "INFO:tensorflow:Sample: 3700\n",
            "INFO:tensorflow:Sample: 3800\n",
            "INFO:tensorflow:Sample: 3900\n",
            "INFO:tensorflow:Sample: 4000\n",
            "INFO:tensorflow:Sample: 4100\n",
            "INFO:tensorflow:Sample: 4200\n",
            "INFO:tensorflow:Sample: 4300\n",
            "INFO:tensorflow:Sample: 4400\n",
            "INFO:tensorflow:Sample: 4500\n",
            "INFO:tensorflow:Sample: 4600\n",
            "INFO:tensorflow:Sample: 4700\n",
            "INFO:tensorflow:Sample: 4800\n",
            "INFO:tensorflow:Sample: 4900\n",
            "INFO:tensorflow:Sample: 5000\n",
            "INFO:tensorflow:Sample: 5100\n",
            "INFO:tensorflow:Sample: 5200\n",
            "INFO:tensorflow:Sample: 5300\n",
            "INFO:tensorflow:Sample: 5400\n",
            "INFO:tensorflow:Sample: 5500\n",
            "INFO:tensorflow:Sample: 5600\n",
            "INFO:tensorflow:Sample: 5700\n",
            "INFO:tensorflow:Sample: 5800\n",
            "INFO:tensorflow:Sample: 5900\n",
            "INFO:tensorflow:Sample: 6000\n",
            "INFO:tensorflow:Sample: 6100\n",
            "INFO:tensorflow:Sample: 6200\n",
            "INFO:tensorflow:Sample: 6300\n",
            "INFO:tensorflow:Sample: 6400\n",
            "INFO:tensorflow:Saving: /content/z_stretches_interpTASCAM_0030S12.wav\n",
            "INFO:tensorflow:Sample: 6500\n",
            "INFO:tensorflow:Sample: 6600\n",
            "INFO:tensorflow:Sample: 6700\n",
            "INFO:tensorflow:Sample: 6800\n",
            "INFO:tensorflow:Sample: 6900\n",
            "INFO:tensorflow:Sample: 7000\n",
            "INFO:tensorflow:Sample: 7100\n",
            "INFO:tensorflow:Sample: 7200\n",
            "INFO:tensorflow:Sample: 7300\n"
          ],
          "name": "stdout"
        },
        {
          "output_type": "stream",
          "text": [
            "INFO:tensorflow:Sample: 7400\n",
            "INFO:tensorflow:Sample: 7500\n",
            "INFO:tensorflow:Sample: 7600\n",
            "INFO:tensorflow:Sample: 7700\n",
            "INFO:tensorflow:Sample: 7800\n",
            "INFO:tensorflow:Sample: 7900\n",
            "INFO:tensorflow:Sample: 8000\n",
            "INFO:tensorflow:Sample: 8100\n",
            "INFO:tensorflow:Sample: 8200\n",
            "INFO:tensorflow:Sample: 8300\n",
            "INFO:tensorflow:Sample: 8400\n",
            "INFO:tensorflow:Sample: 8500\n",
            "INFO:tensorflow:Sample: 8600\n",
            "INFO:tensorflow:Sample: 8700\n",
            "INFO:tensorflow:Sample: 8800\n",
            "INFO:tensorflow:Sample: 8900\n",
            "INFO:tensorflow:Sample: 9000\n",
            "INFO:tensorflow:Sample: 9100\n",
            "INFO:tensorflow:Sample: 9200\n",
            "INFO:tensorflow:Sample: 9300\n",
            "INFO:tensorflow:Sample: 9400\n",
            "INFO:tensorflow:Sample: 9500\n",
            "INFO:tensorflow:Sample: 9600\n",
            "INFO:tensorflow:Saving: /content/z_stretches_interpTASCAM_0030S12.wav\n",
            "INFO:tensorflow:Sample: 9700\n",
            "INFO:tensorflow:Sample: 9800\n",
            "INFO:tensorflow:Sample: 9900\n",
            "INFO:tensorflow:Sample: 10000\n",
            "INFO:tensorflow:Sample: 10100\n",
            "INFO:tensorflow:Sample: 10200\n",
            "INFO:tensorflow:Sample: 10300\n",
            "INFO:tensorflow:Sample: 10400\n",
            "INFO:tensorflow:Sample: 10500\n",
            "INFO:tensorflow:Sample: 10600\n",
            "INFO:tensorflow:Sample: 10700\n",
            "INFO:tensorflow:Sample: 10800\n",
            "INFO:tensorflow:Sample: 10900\n",
            "INFO:tensorflow:Sample: 11000\n",
            "INFO:tensorflow:Sample: 11100\n",
            "INFO:tensorflow:Sample: 11200\n",
            "INFO:tensorflow:Sample: 11300\n",
            "INFO:tensorflow:Sample: 11400\n",
            "INFO:tensorflow:Sample: 11500\n",
            "INFO:tensorflow:Sample: 11600\n",
            "INFO:tensorflow:Sample: 11700\n",
            "INFO:tensorflow:Sample: 11800\n",
            "INFO:tensorflow:Sample: 11900\n",
            "INFO:tensorflow:Sample: 12000\n",
            "INFO:tensorflow:Sample: 12100\n",
            "INFO:tensorflow:Sample: 12200\n",
            "INFO:tensorflow:Sample: 12300\n",
            "INFO:tensorflow:Sample: 12400\n",
            "INFO:tensorflow:Sample: 12500\n",
            "INFO:tensorflow:Sample: 12600\n",
            "INFO:tensorflow:Sample: 12700\n",
            "INFO:tensorflow:Sample: 12800\n",
            "INFO:tensorflow:Saving: /content/z_stretches_interpTASCAM_0030S12.wav\n",
            "INFO:tensorflow:Sample: 12900\n",
            "INFO:tensorflow:Sample: 13000\n",
            "INFO:tensorflow:Sample: 13100\n",
            "INFO:tensorflow:Sample: 13200\n",
            "INFO:tensorflow:Sample: 13300\n",
            "INFO:tensorflow:Sample: 13400\n",
            "INFO:tensorflow:Sample: 13500\n",
            "INFO:tensorflow:Sample: 13600\n",
            "INFO:tensorflow:Sample: 13700\n",
            "INFO:tensorflow:Sample: 13800\n",
            "INFO:tensorflow:Sample: 13900\n",
            "INFO:tensorflow:Sample: 14000\n",
            "INFO:tensorflow:Sample: 14100\n",
            "INFO:tensorflow:Sample: 14200\n",
            "INFO:tensorflow:Sample: 14300\n",
            "INFO:tensorflow:Sample: 14400\n",
            "INFO:tensorflow:Sample: 14500\n",
            "INFO:tensorflow:Sample: 14600\n",
            "INFO:tensorflow:Sample: 14700\n",
            "INFO:tensorflow:Sample: 14800\n",
            "INFO:tensorflow:Sample: 14900\n",
            "INFO:tensorflow:Sample: 15000\n",
            "INFO:tensorflow:Sample: 15100\n"
          ],
          "name": "stdout"
        },
        {
          "output_type": "stream",
          "text": [
            "INFO:tensorflow:Sample: 15200\n",
            "INFO:tensorflow:Sample: 15300\n",
            "INFO:tensorflow:Sample: 15400\n",
            "INFO:tensorflow:Sample: 15500\n",
            "INFO:tensorflow:Sample: 15600\n",
            "INFO:tensorflow:Sample: 15700\n",
            "INFO:tensorflow:Sample: 15800\n",
            "INFO:tensorflow:Sample: 15900\n",
            "INFO:tensorflow:Sample: 16000\n",
            "INFO:tensorflow:Saving: /content/z_stretches_interpTASCAM_0030S12.wav\n",
            "INFO:tensorflow:Sample: 16100\n",
            "INFO:tensorflow:Sample: 16200\n",
            "INFO:tensorflow:Sample: 16300\n",
            "INFO:tensorflow:Sample: 16400\n",
            "INFO:tensorflow:Sample: 16500\n",
            "INFO:tensorflow:Sample: 16600\n",
            "INFO:tensorflow:Sample: 16700\n",
            "INFO:tensorflow:Sample: 16800\n",
            "INFO:tensorflow:Sample: 16900\n",
            "INFO:tensorflow:Sample: 17000\n",
            "INFO:tensorflow:Sample: 17100\n",
            "INFO:tensorflow:Sample: 17200\n",
            "INFO:tensorflow:Sample: 17300\n",
            "INFO:tensorflow:Sample: 17400\n",
            "INFO:tensorflow:Sample: 17500\n",
            "INFO:tensorflow:Sample: 17600\n",
            "INFO:tensorflow:Sample: 17700\n",
            "INFO:tensorflow:Sample: 17800\n",
            "INFO:tensorflow:Sample: 17900\n",
            "INFO:tensorflow:Sample: 18000\n",
            "INFO:tensorflow:Sample: 18100\n",
            "INFO:tensorflow:Sample: 18200\n",
            "INFO:tensorflow:Sample: 18300\n",
            "INFO:tensorflow:Sample: 18400\n",
            "INFO:tensorflow:Sample: 18500\n",
            "INFO:tensorflow:Sample: 18600\n",
            "INFO:tensorflow:Sample: 18700\n",
            "INFO:tensorflow:Sample: 18800\n",
            "INFO:tensorflow:Sample: 18900\n",
            "INFO:tensorflow:Sample: 19000\n",
            "INFO:tensorflow:Sample: 19100\n",
            "INFO:tensorflow:Sample: 19200\n",
            "INFO:tensorflow:Saving: /content/z_stretches_interpTASCAM_0030S12.wav\n",
            "INFO:tensorflow:Sample: 19300\n",
            "INFO:tensorflow:Sample: 19400\n",
            "INFO:tensorflow:Sample: 19500\n",
            "INFO:tensorflow:Sample: 19600\n",
            "INFO:tensorflow:Sample: 19700\n",
            "INFO:tensorflow:Sample: 19800\n",
            "INFO:tensorflow:Sample: 19900\n",
            "INFO:tensorflow:Sample: 20000\n",
            "INFO:tensorflow:Sample: 20100\n",
            "INFO:tensorflow:Sample: 20200\n",
            "INFO:tensorflow:Sample: 20300\n",
            "INFO:tensorflow:Sample: 20400\n",
            "INFO:tensorflow:Sample: 20500\n",
            "INFO:tensorflow:Sample: 20600\n",
            "INFO:tensorflow:Sample: 20700\n",
            "INFO:tensorflow:Sample: 20800\n",
            "INFO:tensorflow:Sample: 20900\n",
            "INFO:tensorflow:Sample: 21000\n",
            "INFO:tensorflow:Sample: 21100\n",
            "INFO:tensorflow:Sample: 21200\n",
            "INFO:tensorflow:Sample: 21300\n",
            "INFO:tensorflow:Sample: 21400\n",
            "INFO:tensorflow:Sample: 21500\n",
            "INFO:tensorflow:Sample: 21600\n",
            "INFO:tensorflow:Sample: 21700\n",
            "INFO:tensorflow:Sample: 21800\n",
            "INFO:tensorflow:Sample: 21900\n",
            "INFO:tensorflow:Sample: 22000\n",
            "INFO:tensorflow:Sample: 22100\n",
            "INFO:tensorflow:Sample: 22200\n",
            "INFO:tensorflow:Sample: 22300\n",
            "INFO:tensorflow:Sample: 22400\n",
            "INFO:tensorflow:Saving: /content/z_stretches_interpTASCAM_0030S12.wav\n",
            "INFO:tensorflow:Sample: 22500\n",
            "INFO:tensorflow:Sample: 22600\n",
            "INFO:tensorflow:Sample: 22700\n"
          ],
          "name": "stdout"
        },
        {
          "output_type": "stream",
          "text": [
            "INFO:tensorflow:Sample: 22800\n",
            "INFO:tensorflow:Sample: 22900\n",
            "INFO:tensorflow:Sample: 23000\n",
            "INFO:tensorflow:Sample: 23100\n",
            "INFO:tensorflow:Sample: 23200\n",
            "INFO:tensorflow:Sample: 23300\n",
            "INFO:tensorflow:Sample: 23400\n",
            "INFO:tensorflow:Sample: 23500\n",
            "INFO:tensorflow:Sample: 23600\n",
            "INFO:tensorflow:Sample: 23700\n",
            "INFO:tensorflow:Sample: 23800\n",
            "INFO:tensorflow:Sample: 23900\n",
            "INFO:tensorflow:Sample: 24000\n",
            "INFO:tensorflow:Sample: 24100\n",
            "INFO:tensorflow:Sample: 24200\n",
            "INFO:tensorflow:Sample: 24300\n",
            "INFO:tensorflow:Sample: 24400\n",
            "INFO:tensorflow:Sample: 24500\n",
            "INFO:tensorflow:Sample: 24600\n",
            "INFO:tensorflow:Sample: 24700\n",
            "INFO:tensorflow:Sample: 24800\n",
            "INFO:tensorflow:Sample: 24900\n",
            "INFO:tensorflow:Sample: 25000\n",
            "INFO:tensorflow:Sample: 25100\n",
            "INFO:tensorflow:Sample: 25200\n",
            "INFO:tensorflow:Sample: 25300\n",
            "INFO:tensorflow:Sample: 25400\n",
            "INFO:tensorflow:Sample: 25500\n",
            "INFO:tensorflow:Sample: 25600\n",
            "INFO:tensorflow:Saving: /content/z_stretches_interpTASCAM_0030S12.wav\n",
            "INFO:tensorflow:Sample: 25700\n",
            "INFO:tensorflow:Sample: 25800\n",
            "INFO:tensorflow:Sample: 25900\n",
            "INFO:tensorflow:Sample: 26000\n",
            "INFO:tensorflow:Sample: 26100\n",
            "INFO:tensorflow:Sample: 26200\n",
            "INFO:tensorflow:Sample: 26300\n",
            "INFO:tensorflow:Sample: 26400\n",
            "INFO:tensorflow:Sample: 26500\n",
            "INFO:tensorflow:Sample: 26600\n",
            "INFO:tensorflow:Sample: 26700\n",
            "INFO:tensorflow:Sample: 26800\n",
            "INFO:tensorflow:Sample: 26900\n",
            "INFO:tensorflow:Sample: 27000\n",
            "INFO:tensorflow:Sample: 27100\n",
            "INFO:tensorflow:Sample: 27200\n",
            "INFO:tensorflow:Sample: 27300\n",
            "INFO:tensorflow:Sample: 27400\n",
            "INFO:tensorflow:Sample: 27500\n",
            "INFO:tensorflow:Sample: 27600\n",
            "INFO:tensorflow:Sample: 27700\n",
            "INFO:tensorflow:Sample: 27800\n",
            "INFO:tensorflow:Sample: 27900\n",
            "INFO:tensorflow:Sample: 28000\n",
            "INFO:tensorflow:Sample: 28100\n",
            "INFO:tensorflow:Sample: 28200\n",
            "INFO:tensorflow:Sample: 28300\n",
            "INFO:tensorflow:Sample: 28400\n",
            "INFO:tensorflow:Sample: 28500\n",
            "INFO:tensorflow:Sample: 28600\n",
            "INFO:tensorflow:Sample: 28700\n",
            "INFO:tensorflow:Sample: 28800\n",
            "INFO:tensorflow:Saving: /content/z_stretches_interpTASCAM_0030S12.wav\n",
            "INFO:tensorflow:Sample: 28900\n",
            "INFO:tensorflow:Sample: 29000\n",
            "INFO:tensorflow:Sample: 29100\n",
            "INFO:tensorflow:Sample: 29200\n",
            "INFO:tensorflow:Sample: 29300\n",
            "INFO:tensorflow:Sample: 29400\n",
            "INFO:tensorflow:Sample: 29500\n",
            "INFO:tensorflow:Sample: 29600\n",
            "INFO:tensorflow:Sample: 29700\n",
            "INFO:tensorflow:Sample: 29800\n",
            "INFO:tensorflow:Sample: 29900\n",
            "INFO:tensorflow:Sample: 30000\n",
            "INFO:tensorflow:Sample: 30100\n",
            "INFO:tensorflow:Sample: 30200\n",
            "INFO:tensorflow:Sample: 30300\n",
            "INFO:tensorflow:Sample: 30400\n",
            "INFO:tensorflow:Sample: 30500\n"
          ],
          "name": "stdout"
        },
        {
          "output_type": "stream",
          "text": [
            "INFO:tensorflow:Sample: 30600\n",
            "INFO:tensorflow:Sample: 30700\n",
            "INFO:tensorflow:Sample: 30800\n",
            "INFO:tensorflow:Sample: 30900\n",
            "INFO:tensorflow:Sample: 31000\n",
            "INFO:tensorflow:Sample: 31100\n",
            "INFO:tensorflow:Sample: 31200\n",
            "INFO:tensorflow:Sample: 31300\n",
            "INFO:tensorflow:Sample: 31400\n",
            "INFO:tensorflow:Sample: 31500\n",
            "INFO:tensorflow:Sample: 31600\n",
            "INFO:tensorflow:Sample: 31700\n",
            "INFO:tensorflow:Sample: 31800\n",
            "INFO:tensorflow:Sample: 31900\n",
            "INFO:tensorflow:Sample: 32000\n",
            "INFO:tensorflow:Saving: /content/z_stretches_interpTASCAM_0030S12.wav\n",
            "INFO:tensorflow:Sample: 32100\n",
            "INFO:tensorflow:Sample: 32200\n",
            "INFO:tensorflow:Sample: 32300\n",
            "INFO:tensorflow:Sample: 32400\n",
            "INFO:tensorflow:Sample: 32500\n",
            "INFO:tensorflow:Sample: 32600\n",
            "INFO:tensorflow:Sample: 32700\n",
            "INFO:tensorflow:Sample: 32800\n",
            "INFO:tensorflow:Sample: 32900\n",
            "INFO:tensorflow:Sample: 33000\n",
            "INFO:tensorflow:Sample: 33100\n",
            "INFO:tensorflow:Sample: 33200\n",
            "INFO:tensorflow:Sample: 33300\n",
            "INFO:tensorflow:Sample: 33400\n",
            "INFO:tensorflow:Sample: 33500\n",
            "INFO:tensorflow:Sample: 33600\n",
            "INFO:tensorflow:Sample: 33700\n",
            "INFO:tensorflow:Sample: 33800\n",
            "INFO:tensorflow:Sample: 33900\n",
            "INFO:tensorflow:Sample: 34000\n",
            "INFO:tensorflow:Sample: 34100\n",
            "INFO:tensorflow:Sample: 34200\n",
            "INFO:tensorflow:Sample: 34300\n",
            "INFO:tensorflow:Sample: 34400\n",
            "INFO:tensorflow:Sample: 34500\n",
            "INFO:tensorflow:Sample: 34600\n",
            "INFO:tensorflow:Sample: 34700\n",
            "INFO:tensorflow:Sample: 34800\n",
            "INFO:tensorflow:Sample: 34900\n",
            "INFO:tensorflow:Sample: 35000\n",
            "INFO:tensorflow:Sample: 35100\n",
            "INFO:tensorflow:Sample: 35200\n",
            "INFO:tensorflow:Saving: /content/z_stretches_interpTASCAM_0030S12.wav\n",
            "INFO:tensorflow:Sample: 35300\n",
            "INFO:tensorflow:Sample: 35400\n",
            "INFO:tensorflow:Sample: 35500\n",
            "INFO:tensorflow:Sample: 35600\n",
            "INFO:tensorflow:Sample: 35700\n",
            "INFO:tensorflow:Sample: 35800\n",
            "INFO:tensorflow:Sample: 35900\n",
            "INFO:tensorflow:Sample: 36000\n",
            "INFO:tensorflow:Sample: 36100\n",
            "INFO:tensorflow:Sample: 36200\n",
            "INFO:tensorflow:Sample: 36300\n",
            "INFO:tensorflow:Sample: 36400\n",
            "INFO:tensorflow:Sample: 36500\n",
            "INFO:tensorflow:Sample: 36600\n",
            "INFO:tensorflow:Sample: 36700\n",
            "INFO:tensorflow:Sample: 36800\n",
            "INFO:tensorflow:Sample: 36900\n",
            "INFO:tensorflow:Sample: 37000\n",
            "INFO:tensorflow:Sample: 37100\n",
            "INFO:tensorflow:Sample: 37200\n",
            "INFO:tensorflow:Sample: 37300\n",
            "INFO:tensorflow:Sample: 37400\n",
            "INFO:tensorflow:Sample: 37500\n",
            "INFO:tensorflow:Sample: 37600\n",
            "INFO:tensorflow:Sample: 37700\n",
            "INFO:tensorflow:Sample: 37800\n",
            "INFO:tensorflow:Sample: 37900\n",
            "INFO:tensorflow:Sample: 38000\n",
            "INFO:tensorflow:Sample: 38100\n",
            "INFO:tensorflow:Sample: 38200\n"
          ],
          "name": "stdout"
        },
        {
          "output_type": "stream",
          "text": [
            "INFO:tensorflow:Sample: 38300\n",
            "INFO:tensorflow:Sample: 38400\n",
            "INFO:tensorflow:Saving: /content/z_stretches_interpTASCAM_0030S12.wav\n",
            "INFO:tensorflow:Sample: 38500\n",
            "INFO:tensorflow:Sample: 38600\n",
            "INFO:tensorflow:Sample: 38700\n",
            "INFO:tensorflow:Sample: 38800\n",
            "INFO:tensorflow:Sample: 38900\n",
            "INFO:tensorflow:Sample: 39000\n",
            "INFO:tensorflow:Sample: 39100\n",
            "INFO:tensorflow:Sample: 39200\n",
            "INFO:tensorflow:Sample: 39300\n",
            "INFO:tensorflow:Sample: 39400\n",
            "INFO:tensorflow:Sample: 39500\n",
            "INFO:tensorflow:Sample: 39600\n",
            "INFO:tensorflow:Sample: 39700\n",
            "INFO:tensorflow:Sample: 39800\n",
            "INFO:tensorflow:Sample: 39900\n",
            "INFO:tensorflow:Sample: 40000\n",
            "INFO:tensorflow:Sample: 40100\n",
            "INFO:tensorflow:Sample: 40200\n",
            "INFO:tensorflow:Sample: 40300\n",
            "INFO:tensorflow:Sample: 40400\n",
            "INFO:tensorflow:Sample: 40500\n",
            "INFO:tensorflow:Sample: 40600\n",
            "INFO:tensorflow:Sample: 40700\n",
            "INFO:tensorflow:Sample: 40800\n",
            "INFO:tensorflow:Sample: 40900\n",
            "INFO:tensorflow:Sample: 41000\n",
            "INFO:tensorflow:Sample: 41100\n",
            "INFO:tensorflow:Sample: 41200\n",
            "INFO:tensorflow:Sample: 41300\n",
            "INFO:tensorflow:Sample: 41400\n",
            "INFO:tensorflow:Sample: 41500\n",
            "INFO:tensorflow:Sample: 41600\n",
            "INFO:tensorflow:Saving: /content/z_stretches_interpTASCAM_0030S12.wav\n",
            "INFO:tensorflow:Sample: 41700\n",
            "INFO:tensorflow:Sample: 41800\n",
            "INFO:tensorflow:Sample: 41900\n",
            "INFO:tensorflow:Sample: 42000\n",
            "INFO:tensorflow:Sample: 42100\n",
            "INFO:tensorflow:Sample: 42200\n",
            "INFO:tensorflow:Sample: 42300\n",
            "INFO:tensorflow:Sample: 42400\n",
            "INFO:tensorflow:Sample: 42500\n",
            "INFO:tensorflow:Sample: 42600\n",
            "INFO:tensorflow:Sample: 42700\n",
            "INFO:tensorflow:Sample: 42800\n",
            "INFO:tensorflow:Sample: 42900\n",
            "INFO:tensorflow:Sample: 43000\n",
            "INFO:tensorflow:Sample: 43100\n",
            "INFO:tensorflow:Sample: 43200\n",
            "INFO:tensorflow:Sample: 43300\n",
            "INFO:tensorflow:Sample: 43400\n",
            "INFO:tensorflow:Sample: 43500\n",
            "INFO:tensorflow:Sample: 43600\n",
            "INFO:tensorflow:Sample: 43700\n",
            "INFO:tensorflow:Sample: 43800\n",
            "INFO:tensorflow:Sample: 43900\n",
            "INFO:tensorflow:Sample: 44000\n",
            "INFO:tensorflow:Sample: 44100\n",
            "INFO:tensorflow:Sample: 44200\n",
            "INFO:tensorflow:Sample: 44300\n",
            "INFO:tensorflow:Sample: 44400\n",
            "INFO:tensorflow:Sample: 44500\n",
            "INFO:tensorflow:Sample: 44600\n",
            "INFO:tensorflow:Sample: 44700\n",
            "INFO:tensorflow:Sample: 44800\n",
            "INFO:tensorflow:Saving: /content/z_stretches_interpTASCAM_0030S12.wav\n",
            "INFO:tensorflow:Sample: 44900\n",
            "INFO:tensorflow:Sample: 45000\n",
            "INFO:tensorflow:Sample: 45100\n",
            "INFO:tensorflow:Sample: 45200\n",
            "INFO:tensorflow:Sample: 45300\n",
            "INFO:tensorflow:Sample: 45400\n",
            "INFO:tensorflow:Sample: 45500\n",
            "INFO:tensorflow:Sample: 45600\n",
            "INFO:tensorflow:Sample: 45700\n"
          ],
          "name": "stdout"
        },
        {
          "output_type": "stream",
          "text": [
            "INFO:tensorflow:Sample: 45800\n",
            "INFO:tensorflow:Sample: 45900\n",
            "INFO:tensorflow:Sample: 46000\n",
            "INFO:tensorflow:Sample: 46100\n",
            "INFO:tensorflow:Sample: 46200\n",
            "INFO:tensorflow:Sample: 46300\n",
            "INFO:tensorflow:Sample: 46400\n",
            "INFO:tensorflow:Sample: 46500\n",
            "INFO:tensorflow:Sample: 46600\n",
            "INFO:tensorflow:Sample: 46700\n",
            "INFO:tensorflow:Sample: 46800\n",
            "INFO:tensorflow:Sample: 46900\n",
            "INFO:tensorflow:Sample: 47000\n",
            "INFO:tensorflow:Sample: 47100\n",
            "INFO:tensorflow:Sample: 47200\n",
            "INFO:tensorflow:Sample: 47300\n",
            "INFO:tensorflow:Sample: 47400\n",
            "INFO:tensorflow:Sample: 47500\n",
            "INFO:tensorflow:Sample: 47600\n",
            "INFO:tensorflow:Saving: /content/z_stretches_interpTASCAM_0030S12.wav\n"
          ],
          "name": "stdout"
        }
      ]
    },
    {
      "metadata": {
        "id": "wGt-2xNFbJ8H",
        "colab_type": "code",
        "colab": {
          "autoexec": {
            "startup": false,
            "wait_interval": 0
          },
          "base_uri": "https://localhost:8080/",
          "height": 35
        },
        "outputId": "563d8aa6-1f79-452a-8182-fcd594e87b45",
        "executionInfo": {
          "status": "ok",
          "timestamp": 1532875622932,
          "user_tz": -480,
          "elapsed": 2206,
          "user": {
            "displayName": "",
            "photoUrl": "",
            "userId": ""
          }
        }
      },
      "cell_type": "code",
      "source": [
        "for fname in save_paths:\n",
        "  print('Downloading: %s' % fname.split('/')[-1])\n",
        "  download(fname)"
      ],
      "execution_count": 0,
      "outputs": [
        {
          "output_type": "stream",
          "text": [
            "Downloading: z_stretches_interpTASCAM_0030S12.wav\n"
          ],
          "name": "stdout"
        }
      ]
    },
    {
      "metadata": {
        "id": "zKQk8APmbLMS",
        "colab_type": "code",
        "colab": {
          "autoexec": {
            "startup": false,
            "wait_interval": 0
          },
          "base_uri": "https://localhost:8080/",
          "height": 239
        },
        "outputId": "e0d92a8a-be75-44af-94ea-75ec93081480",
        "executionInfo": {
          "status": "ok",
          "timestamp": 1532875635617,
          "user_tz": -480,
          "elapsed": 1204,
          "user": {
            "displayName": "",
            "photoUrl": "",
            "userId": ""
          }
        }
      },
      "cell_type": "code",
      "source": [
        "print(\"Originals:\\n\")\n",
        "for fname in file_list:\n",
        "  synth_audio = utils.load_audio(fname,\n",
        "                                 sample_length=SAMPLE_LENGTH,\n",
        "                                 sr=SR)\n",
        "  print(get_name(fname))\n",
        "  play(synth_audio, sample_rate=SR)\n",
        "\n",
        "for i, fname in enumerate(save_paths):\n",
        "  if i == 0:\n",
        "    print(\"Reconstructions:\\n\")\n",
        "  if i == len(file_list):\n",
        "    print(\"Interpolations:\\n\")\n",
        "  synth_audio = utils.load_audio(fname,\n",
        "                                 sample_length=SAMPLE_LENGTH,\n",
        "                                 sr=SR)\n",
        "  print(get_name(fname))\n",
        "  play(synth_audio, sample_rate=SR)"
      ],
      "execution_count": 0,
      "outputs": [
        {
          "output_type": "stream",
          "text": [
            "Originals:\n",
            "\n",
            "TASCAM_0030S12\n"
          ],
          "name": "stdout"
        },
        {
          "output_type": "display_data",
          "data": {
            "text/plain": [
              "<IPython.core.display.HTML object>"
            ],
            "text/html": [
              "<div id=\"id_10\"> </div>"
            ]
          },
          "metadata": {
            "tags": []
          }
        },
        {
          "output_type": "stream",
          "text": [
            "Reconstructions:\n",
            "\n",
            "z_stretches_interpTASCAM_0030S12\n"
          ],
          "name": "stdout"
        },
        {
          "output_type": "display_data",
          "data": {
            "text/plain": [
              "<IPython.core.display.HTML object>"
            ],
            "text/html": [
              "<div id=\"id_11\"> </div>"
            ]
          },
          "metadata": {
            "tags": []
          }
        }
      ]
    },
    {
      "metadata": {
        "id": "6A__68LYbj8v",
        "colab_type": "code",
        "colab": {
          "autoexec": {
            "startup": false,
            "wait_interval": 0
          },
          "base_uri": "https://localhost:8080/",
          "height": 1367
        },
        "outputId": "84dbf48a-6689-4de2-8a3c-7f04e86b2b29",
        "executionInfo": {
          "status": "ok",
          "timestamp": 1532877903526,
          "user_tz": -480,
          "elapsed": 632,
          "user": {
            "displayName": "",
            "photoUrl": "",
            "userId": ""
          }
        }
      },
      "cell_type": "code",
      "source": [
        "help(fastgen)"
      ],
      "execution_count": 0,
      "outputs": [
        {
          "output_type": "stream",
          "text": [
            "Help on module magenta.models.nsynth.wavenet.fastgen in magenta.models.nsynth.wavenet:\n",
            "\n",
            "NAME\n",
            "    magenta.models.nsynth.wavenet.fastgen - Utilities for \"fast\" wavenet generation with queues.\n",
            "\n",
            "FILE\n",
            "    /usr/local/lib/python2.7/dist-packages/magenta/models/nsynth/wavenet/fastgen.py\n",
            "\n",
            "DESCRIPTION\n",
            "    For more information, see:\n",
            "    \n",
            "    Ramachandran, P., Le Paine, T., Khorrami, P., Babaeizadeh, M.,\n",
            "    Chang, S., Zhang, Y., ... Huang, T. (2017).\n",
            "    Fast Generation For Convolutional Autoregressive Models, 1-5.\n",
            "\n",
            "FUNCTIONS\n",
            "    encode(wav_data, checkpoint_path, sample_length=64000)\n",
            "        Generate an array of embeddings from an array of audio.\n",
            "        \n",
            "        Args:\n",
            "          wav_data: Numpy array [batch_size, sample_length]\n",
            "          checkpoint_path: Location of the pretrained model.\n",
            "          sample_length: The total length of the final wave file, padded with 0s.\n",
            "        Returns:\n",
            "          encoding: a [mb, 125, 16] encoding (for 64000 sample audio file).\n",
            "    \n",
            "    load_batch(files, sample_length=64000)\n",
            "        Load a batch of data from either .wav or .npy files.\n",
            "        \n",
            "        Args:\n",
            "          files: A list of filepaths to .wav or .npy files\n",
            "          sample_length: Maximum sample length\n",
            "        \n",
            "        Returns:\n",
            "          batch_data: A padded array of audio or embeddings [batch, length, (dims)]\n",
            "    \n",
            "    load_fastgen_nsynth(batch_size=1)\n",
            "        Load the NSynth fast generation network.\n",
            "        \n",
            "        Args:\n",
            "          batch_size: Batch size number of observations to process. [1]\n",
            "        Returns:\n",
            "          graph: The network as a dict with input placeholder in {\"X\"}\n",
            "    \n",
            "    load_nsynth(batch_size=1, sample_length=64000)\n",
            "        Load the NSynth autoencoder network.\n",
            "        \n",
            "        Args:\n",
            "          batch_size: Batch size number of observations to process. [1]\n",
            "          sample_length: Number of samples in the input audio. [64000]\n",
            "        Returns:\n",
            "          graph: The network as a dict with input placeholder in {\"X\"}\n",
            "    \n",
            "    sample_categorical(pmf)\n",
            "        Sample from a categorical distribution.\n",
            "        \n",
            "        Args:\n",
            "          pmf: Probablity mass function. Output of a softmax over categories.\n",
            "            Array of shape [batch_size, number of categories]. Rows sum to 1.\n",
            "        \n",
            "        Returns:\n",
            "          idxs: Array of size [batch_size, 1]. Integer of category sampled.\n",
            "    \n",
            "    save_batch(batch_audio, batch_save_paths)\n",
            "    \n",
            "    synthesize(encodings, save_paths, checkpoint_path='model.ckpt-200000', samples_per_save=1000)\n",
            "        Synthesize audio from an array of embeddings.\n",
            "        \n",
            "        Args:\n",
            "          encodings: Numpy array with shape [batch_size, time, dim].\n",
            "          save_paths: Iterable of output file names.\n",
            "          checkpoint_path: Location of the pretrained model. [model.ckpt-200000]\n",
            "          samples_per_save: Save files after every amount of generated samples.\n",
            "\n",
            "\n"
          ],
          "name": "stdout"
        }
      ]
    },
    {
      "metadata": {
        "id": "F8ay8Lbgpaji",
        "colab_type": "code",
        "colab": {
          "autoexec": {
            "startup": false,
            "wait_interval": 0
          },
          "base_uri": "https://localhost:8080/",
          "height": 35
        },
        "outputId": "b3abe157-4c90-45b0-de7f-497a2fb5e55c",
        "executionInfo": {
          "status": "ok",
          "timestamp": 1532881954311,
          "user_tz": -480,
          "elapsed": 804,
          "user": {
            "displayName": "",
            "photoUrl": "",
            "userId": ""
          }
        }
      },
      "cell_type": "code",
      "source": [
        "# TO-DO: see wavenet utils.py for possibly linearly mapping samples to closest embeddings\n",
        "\n",
        "fastgen.sample_categorical(utils.load_audio(fname,\n",
        "                                 sample_length=SAMPLE_LENGTH,\n",
        "                                 sr=SR))"
      ],
      "execution_count": 0,
      "outputs": [
        {
          "output_type": "execute_result",
          "data": {
            "text/plain": [
              "array([[7220.]])"
            ]
          },
          "metadata": {
            "tags": []
          },
          "execution_count": 63
        }
      ]
    },
    {
      "metadata": {
        "id": "Bd9bNh2d2U5F",
        "colab_type": "code",
        "colab": {
          "autoexec": {
            "startup": false,
            "wait_interval": 0
          },
          "base_uri": "https://localhost:8080/",
          "height": 298
        },
        "outputId": "12869750-c776-4cc9-f67b-f5e143f03969",
        "executionInfo": {
          "status": "ok",
          "timestamp": 1532881519912,
          "user_tz": -480,
          "elapsed": 1108,
          "user": {
            "displayName": "",
            "photoUrl": "",
            "userId": ""
          }
        }
      },
      "cell_type": "code",
      "source": [
        "spectgram = utils.specgram(utils.load_audio(fname,\n",
        "                                 sample_length=SAMPLE_LENGTH,\n",
        "                                 sr=SR))\n",
        "\n",
        "plt.figure()\n",
        "plt.plot(spectgram[0])\n",
        "plt.title('spectragram')"
      ],
      "execution_count": 0,
      "outputs": [
        {
          "output_type": "execute_result",
          "data": {
            "text/plain": [
              "Text(0.5,1,u'spectragram')"
            ]
          },
          "metadata": {
            "tags": []
          },
          "execution_count": 61
        },
        {
          "output_type": "display_data",
          "data": {
            "image/png": "[encoded data removed]",
            "text/plain": [
              "<matplotlib.figure.Figure at 0x7f778772a850>"
            ]
          },
          "metadata": {
            "tags": []
          }
        }
      ]
    }
  ]
}