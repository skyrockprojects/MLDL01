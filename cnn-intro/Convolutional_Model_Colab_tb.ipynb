{
  "nbformat": 4,
  "nbformat_minor": 0,
  "metadata": {
    "colab": {
      "name": "Convolutional_Model_Colab_tb.ipynb",
      "version": "0.3.2",
      "views": {},
      "default_view": {},
      "provenance": []
    },
    "kernelspec": {
      "name": "python3",
      "display_name": "Python 3"
    },
    "accelerator": "GPU"
  },
  "cells": [
    {
      "metadata": {
        "id": "mtozTEX9w_iw",
        "colab_type": "text"
      },
      "cell_type": "markdown",
      "source": [
        "# TensorFlow Tutorial #02\n",
        "# Convolutional Neural Network\n",
        "\n",
        "by [Magnus Erik Hvass Pedersen](http://www.hvass-labs.org/)\n",
        "/ [GitHub](https://github.com/Hvass-Labs/TensorFlow-Tutorials) / [Videos on YouTube](https://www.youtube.com/playlist?list=PL9Hr9sNUjfsmEu1ZniY0XpHSzl5uihcXZ)"
      ]
    },
    {
      "metadata": {
        "id": "5Ah35xdXw_ix",
        "colab_type": "text"
      },
      "cell_type": "markdown",
      "source": [
        "## Introduction\n",
        "\n",
        "The previous tutorial showed that a simple linear model had about 91% classification accuracy for recognizing hand-written digits in the MNIST data-set.\n",
        "\n",
        "In this tutorial we will implement a simple Convolutional Neural Network in TensorFlow which has a classification accuracy of about 99%, or more if you make some of the suggested exercises.\n",
        "\n",
        "Convolutional Networks work by moving small filters across the input image. This means the filters are re-used for recognizing patterns throughout the entire input image. This makes the Convolutional Networks much more powerful than Fully-Connected networks with the same number of variables. This in turn makes the Convolutional Networks faster to train."
      ]
    },
    {
      "metadata": {
        "id": "_baCeRJ1w_iy",
        "colab_type": "text"
      },
      "cell_type": "markdown",
      "source": [
        "## Flowchart"
      ]
    },
    {
      "metadata": {
        "id": "p7AktEMrw_iz",
        "colab_type": "text"
      },
      "cell_type": "markdown",
      "source": [
        "The following chart shows roughly how the data flows in the Convolutional Neural Network that is implemented below.\n",
        "\n",
        "[Flowchart](https://github.com/Hvass-Labs/TensorFlow-Tutorials/blob/master/images/02_network_flowchart.png)"
      ]
    },
    {
      "metadata": {
        "id": "17QiAMY_w_iz",
        "colab_type": "text"
      },
      "cell_type": "markdown",
      "source": [
        "The input image is processed in the first convolutional layer using the filter-weights. This results in 16 new images, one for each filter in the convolutional layer. The images are also down-sampled so the image resolution is decreased from 28x28 to 14x14.\n",
        "\n",
        "These 16 smaller images are then processed in the second convolutional layer. We need filter-weights for each of these 16 channels, and we need filter-weights for each output channel of this layer. There are 36 output channels so there are a total of 16 x 36 = 576 filters in the second convolutional layer. The resulting images are down-sampled again to 7x7 pixels.\n",
        "\n",
        "The output of the second convolutional layer is 36 images of 7x7 pixels each. These are then flattened to a single vector of length 7 x 7 x 36 = 1764, which is used as the input to a fully-connected layer with 128 neurons (or elements). This feeds into another fully-connected layer with 10 neurons, one for each of the classes, which is used to determine the class of the image, that is, which number is depicted in the image.\n",
        "\n",
        "The convolutional filters are initially chosen at random, so the classification is done randomly. The error between the predicted and true class of the input image is measured as the so-called cross-entropy. The optimizer then automatically propagates this error back through the Convolutional Network using the chain-rule of differentiation and updates the filter-weights so as to improve the classification error. This is done iteratively thousands of times until the classification error is sufficiently low.\n",
        "\n",
        "These particular filter-weights and intermediate images are the results of one optimization run and may look different if you re-run this Notebook.\n",
        "\n",
        "Note that the computation in TensorFlow is actually done on a batch of images instead of a single image, which makes the computation more efficient. This means the flowchart actually has one more data-dimension when implemented in TensorFlow."
      ]
    },
    {
      "metadata": {
        "id": "bHiLLkuAw_i0",
        "colab_type": "text"
      },
      "cell_type": "markdown",
      "source": [
        "## Convolutional Layer"
      ]
    },
    {
      "metadata": {
        "id": "P43eIGaqw_i1",
        "colab_type": "text"
      },
      "cell_type": "markdown",
      "source": [
        "The following chart shows the basic idea of processing an image in the first convolutional layer. The input image depicts the number 7 and four copies of the image are shown here, so we can see more clearly how the filter is being moved to different positions of the image. For each position of the filter, the dot-product is being calculated between the filter and the image pixels under the filter, which results in a single pixel in the output image. So moving the filter across the entire input image results in a new image being generated.\n",
        "\n",
        "The red filter-weights means that the filter has a positive reaction to black pixels in the input image, while blue pixels means the filter has a negative reaction to black pixels.\n",
        "\n",
        "In this case it appears that the filter recognizes the horizontal line of the 7-digit, as can be seen from its stronger reaction to that line in the output image.\n",
        "\n",
        "[Convolution example](https://github.com/Hvass-Labs/TensorFlow-Tutorials/blob/master/images/02_convolution.png)"
      ]
    },
    {
      "metadata": {
        "id": "hkPf27pdw_i2",
        "colab_type": "text"
      },
      "cell_type": "markdown",
      "source": [
        "The step-size for moving the filter across the input is called the stride. There is a stride for moving the filter horizontally (x-axis) and another stride for moving vertically (y-axis).\n",
        "\n",
        "In the source-code below, the stride is set to 1 in both directions, which means the filter starts in the upper left corner of the input image and is being moved 1 pixel to the right in each step. When the filter reaches the end of the image to the right, then the filter is moved back to the left side and 1 pixel down the image. This continues until the filter has reached the lower right corner of the input image and the entire output image has been generated.\n",
        "\n",
        "When the filter reaches the end of the right-side as well as the bottom of the input image, then it can be padded with zeroes (white pixels). This causes the output image to be of the exact same dimension as the input image.\n",
        "\n",
        "Furthermore, the output of the convolution may be passed through a so-called Rectified Linear Unit (ReLU), which merely ensures that the output is positive because negative values are set to zero. The output may also be down-sampled by so-called max-pooling, which considers small windows of 2x2 pixels and only keeps the largest of those pixels. This halves the resolution of the input image e.g. from 28x28 to 14x14 pixels.\n",
        "\n",
        "Note that the second convolutional layer is more complicated because it takes 16 input channels. We want a separate filter for each input channel, so we need 16 filters instead of just one. Furthermore, we want 36 output channels from the second convolutional layer, so in total we need 16 x 36 = 576 filters for the second convolutional layer. It can be a bit challenging to understand how this works."
      ]
    },
    {
      "metadata": {
        "id": "zy0VJblew_i3",
        "colab_type": "text"
      },
      "cell_type": "markdown",
      "source": [
        "## Imports"
      ]
    },
    {
      "metadata": {
        "id": "wi8To-Aow_i4",
        "colab_type": "code",
        "colab": {
          "autoexec": {
            "startup": false,
            "wait_interval": 0
          },
          "base_uri": "https://localhost:8080/",
          "height": 253
        },
        "outputId": "f328e232-8899-4538-c304-976653a887b1",
        "executionInfo": {
          "status": "ok",
          "timestamp": 1533715690414,
          "user_tz": -480,
          "elapsed": 25869,
          "user": {
            "displayName": "Jonathan Sherman",
            "photoUrl": "https://lh3.googleusercontent.com/a/default-user=s128",
            "userId": "105267990690274350185"
          }
        }
      },
      "cell_type": "code",
      "source": [
        "%matplotlib inline\n",
        "import matplotlib.pyplot as plt\n",
        "import tensorflow as tf\n",
        "import numpy as np\n",
        "from sklearn.metrics import confusion_matrix\n",
        "import time\n",
        "import datetime\n",
        "from datetime import timedelta\n",
        "import math\n",
        "import os\n",
        "\n",
        "!pip install -U tensorboardcolab\n",
        "from tensorboardcolab import *\n",
        "import shutil\n",
        "\n",
        "#clean out the directory\n",
        "shutil.rmtree('./Graph', ignore_errors=True)\n",
        "os.mkdir('./Graph')\n",
        "\n",
        "tf.reset_default_graph()\n",
        "\n",
        "#will start the tunneling and will print out a link:\n",
        "tbc=TensorBoardColab()"
      ],
      "execution_count": 1,
      "outputs": [
        {
          "output_type": "stream",
          "text": [
            "Collecting tensorboardcolab\n",
            "  Downloading https://files.pythonhosted.org/packages/3f/aa/f053db4dad2e4a7d49de874f19b2776dd5460b8c95aa410673a3dce4a758/tensorboardcolab-0.0.16.tar.gz\n",
            "Building wheels for collected packages: tensorboardcolab\n",
            "  Running setup.py bdist_wheel for tensorboardcolab ... \u001b[?25l-\b \bdone\n",
            "\u001b[?25h  Stored in directory: /content/.cache/pip/wheels/b6/f6/c1/d31142d4ad0188bf1f383d8b2cddac0c4507903c566ddd1112\n",
            "Successfully built tensorboardcolab\n",
            "Installing collected packages: tensorboardcolab\n",
            "Successfully installed tensorboardcolab-0.0.16\n"
          ],
          "name": "stdout"
        },
        {
          "output_type": "stream",
          "text": [
            "Using TensorFlow backend.\n"
          ],
          "name": "stderr"
        },
        {
          "output_type": "stream",
          "text": [
            "Wait for 8 seconds...\n",
            "TensorBoard link:\n",
            "http://0f94fbac.ngrok.io\n"
          ],
          "name": "stdout"
        }
      ]
    },
    {
      "metadata": {
        "id": "e-PpySVmw_i9",
        "colab_type": "text"
      },
      "cell_type": "markdown",
      "source": [
        "This was developed using Python 3.6.1 (Anaconda) and TensorFlow version:"
      ]
    },
    {
      "metadata": {
        "id": "berIlZjGw_i-",
        "colab_type": "code",
        "colab": {
          "autoexec": {
            "startup": false,
            "wait_interval": 0
          },
          "base_uri": "https://localhost:8080/",
          "height": 35
        },
        "outputId": "4ec1a463-91bb-4c83-9582-6ca186bb3796",
        "executionInfo": {
          "status": "ok",
          "timestamp": 1533715691232,
          "user_tz": -480,
          "elapsed": 788,
          "user": {
            "displayName": "Jonathan Sherman",
            "photoUrl": "https://lh3.googleusercontent.com/a/default-user=s128",
            "userId": "105267990690274350185"
          }
        }
      },
      "cell_type": "code",
      "source": [
        "tf.__version__"
      ],
      "execution_count": 2,
      "outputs": [
        {
          "output_type": "execute_result",
          "data": {
            "text/plain": [
              "'1.9.0'"
            ]
          },
          "metadata": {
            "tags": []
          },
          "execution_count": 2
        }
      ]
    },
    {
      "metadata": {
        "id": "8Qt6TlyGw_jD",
        "colab_type": "text"
      },
      "cell_type": "markdown",
      "source": [
        "## Configuration of Neural Network\n",
        "\n",
        "The configuration of the Convolutional Neural Network is defined here for convenience, so you can easily find and change these numbers and re-run the Notebook."
      ]
    },
    {
      "metadata": {
        "id": "IS5aU8kRw_jE",
        "colab_type": "code",
        "colab": {
          "autoexec": {
            "startup": false,
            "wait_interval": 0
          }
        }
      },
      "cell_type": "code",
      "source": [
        "# Convolutional Layer 1.\n",
        "filter_size1 = 5          # Convolution filters are 5 x 5 pixels.\n",
        "num_filters1 = 16         # There are 16 of these filters.\n",
        "\n",
        "# Convolutional Layer 2.\n",
        "filter_size2 = 5          # Convolution filters are 5 x 5 pixels.\n",
        "num_filters2 = 36         # There are 36 of these filters.\n",
        "\n",
        "# Fully-connected layer.\n",
        "fc_size = 784             # Number of neurons in fully-connected layer."
      ],
      "execution_count": 0,
      "outputs": []
    },
    {
      "metadata": {
        "id": "e9X_hOaXw_jI",
        "colab_type": "text"
      },
      "cell_type": "markdown",
      "source": [
        "## Load Data"
      ]
    },
    {
      "metadata": {
        "id": "d_HDPQzFw_jI",
        "colab_type": "text"
      },
      "cell_type": "markdown",
      "source": [
        "The MNIST data-set is about 12 MB and will be downloaded automatically if it is not located in the given path."
      ]
    },
    {
      "metadata": {
        "id": "eQOvdim_w_jJ",
        "colab_type": "code",
        "colab": {
          "autoexec": {
            "startup": false,
            "wait_interval": 0
          },
          "base_uri": "https://localhost:8080/",
          "height": 559
        },
        "outputId": "b650d10b-28d1-4353-ecf2-b84ea46e4593",
        "executionInfo": {
          "status": "ok",
          "timestamp": 1533715702268,
          "user_tz": -480,
          "elapsed": 8465,
          "user": {
            "displayName": "Jonathan Sherman",
            "photoUrl": "https://lh3.googleusercontent.com/a/default-user=s128",
            "userId": "105267990690274350185"
          }
        }
      },
      "cell_type": "code",
      "source": [
        "from tensorflow.examples.tutorials.mnist import input_data\n",
        "data = input_data.read_data_sets('../data/MNIST/', one_hot=True)\n",
        "#data = input_data.read_data_sets('data/fashion', one_hot=True, source_url='http://fashion-mnist.s3-website.eu-central-1.amazonaws.com/')\n"
      ],
      "execution_count": 4,
      "outputs": [
        {
          "output_type": "stream",
          "text": [
            "WARNING:tensorflow:From <ipython-input-4-2717dc06e17e>:2: read_data_sets (from tensorflow.contrib.learn.python.learn.datasets.mnist) is deprecated and will be removed in a future version.\n",
            "Instructions for updating:\n",
            "Please use alternatives such as official/mnist/dataset.py from tensorflow/models.\n",
            "WARNING:tensorflow:From /usr/local/lib/python3.6/dist-packages/tensorflow/contrib/learn/python/learn/datasets/mnist.py:260: maybe_download (from tensorflow.contrib.learn.python.learn.datasets.base) is deprecated and will be removed in a future version.\n",
            "Instructions for updating:\n",
            "Please write your own downloading logic.\n",
            "WARNING:tensorflow:From /usr/local/lib/python3.6/dist-packages/tensorflow/contrib/learn/python/learn/datasets/base.py:252: _internal_retry.<locals>.wrap.<locals>.wrapped_fn (from tensorflow.contrib.learn.python.learn.datasets.base) is deprecated and will be removed in a future version.\n",
            "Instructions for updating:\n",
            "Please use urllib or similar directly.\n",
            "Successfully downloaded train-images-idx3-ubyte.gz 9912422 bytes.\n",
            "WARNING:tensorflow:From /usr/local/lib/python3.6/dist-packages/tensorflow/contrib/learn/python/learn/datasets/mnist.py:262: extract_images (from tensorflow.contrib.learn.python.learn.datasets.mnist) is deprecated and will be removed in a future version.\n",
            "Instructions for updating:\n",
            "Please use tf.data to implement this functionality.\n",
            "Extracting ../data/MNIST/train-images-idx3-ubyte.gz\n",
            "Successfully downloaded train-labels-idx1-ubyte.gz 28881 bytes.\n",
            "WARNING:tensorflow:From /usr/local/lib/python3.6/dist-packages/tensorflow/contrib/learn/python/learn/datasets/mnist.py:267: extract_labels (from tensorflow.contrib.learn.python.learn.datasets.mnist) is deprecated and will be removed in a future version.\n",
            "Instructions for updating:\n",
            "Please use tf.data to implement this functionality.\n",
            "Extracting ../data/MNIST/train-labels-idx1-ubyte.gz\n",
            "WARNING:tensorflow:From /usr/local/lib/python3.6/dist-packages/tensorflow/contrib/learn/python/learn/datasets/mnist.py:110: dense_to_one_hot (from tensorflow.contrib.learn.python.learn.datasets.mnist) is deprecated and will be removed in a future version.\n",
            "Instructions for updating:\n",
            "Please use tf.one_hot on tensors.\n",
            "Successfully downloaded t10k-images-idx3-ubyte.gz 1648877 bytes.\n",
            "Extracting ../data/MNIST/t10k-images-idx3-ubyte.gz\n",
            "Successfully downloaded t10k-labels-idx1-ubyte.gz 4542 bytes.\n",
            "Extracting ../data/MNIST/t10k-labels-idx1-ubyte.gz\n",
            "WARNING:tensorflow:From /usr/local/lib/python3.6/dist-packages/tensorflow/contrib/learn/python/learn/datasets/mnist.py:290: DataSet.__init__ (from tensorflow.contrib.learn.python.learn.datasets.mnist) is deprecated and will be removed in a future version.\n",
            "Instructions for updating:\n",
            "Please use alternatives such as official/mnist/dataset.py from tensorflow/models.\n"
          ],
          "name": "stdout"
        }
      ]
    },
    {
      "metadata": {
        "id": "C0rNDhgVw_jM",
        "colab_type": "text"
      },
      "cell_type": "markdown",
      "source": [
        "The MNIST data-set has now been loaded and consists of 70,000 images and associated labels (i.e. classifications of the images). The data-set is split into 3 mutually exclusive sub-sets. We will only use the training and test-sets in this tutorial."
      ]
    },
    {
      "metadata": {
        "id": "xj7ThQazw_jN",
        "colab_type": "code",
        "colab": {
          "autoexec": {
            "startup": false,
            "wait_interval": 0
          },
          "base_uri": "https://localhost:8080/",
          "height": 89
        },
        "outputId": "aa0d8497-56b9-4f72-d6c5-264612b48360",
        "executionInfo": {
          "status": "ok",
          "timestamp": 1533715703036,
          "user_tz": -480,
          "elapsed": 741,
          "user": {
            "displayName": "Jonathan Sherman",
            "photoUrl": "https://lh3.googleusercontent.com/a/default-user=s128",
            "userId": "105267990690274350185"
          }
        }
      },
      "cell_type": "code",
      "source": [
        "print(\"Size of:\")\n",
        "print(\"- Training-set:\\t\\t{}\".format(len(data.train.labels)))\n",
        "print(\"- Test-set:\\t\\t{}\".format(len(data.test.labels)))\n",
        "print(\"- Validation-set:\\t{}\".format(len(data.validation.labels)))"
      ],
      "execution_count": 5,
      "outputs": [
        {
          "output_type": "stream",
          "text": [
            "Size of:\n",
            "- Training-set:\t\t55000\n",
            "- Test-set:\t\t10000\n",
            "- Validation-set:\t5000\n"
          ],
          "name": "stdout"
        }
      ]
    },
    {
      "metadata": {
        "id": "GBv-C96Bw_jS",
        "colab_type": "text"
      },
      "cell_type": "markdown",
      "source": [
        "The class-labels are One-Hot encoded, which means that each label is a vector with 10 elements, all of which are zero except for one element. The index of this one element is the class-number, that is, the digit shown in the associated image. We also need the class-numbers as integers for the test-set, so we calculate it now."
      ]
    },
    {
      "metadata": {
        "id": "7cvR3sglw_jT",
        "colab_type": "code",
        "colab": {
          "autoexec": {
            "startup": false,
            "wait_interval": 0
          }
        }
      },
      "cell_type": "code",
      "source": [
        "data.test.cls = np.argmax(data.test.labels, axis=1)"
      ],
      "execution_count": 0,
      "outputs": []
    },
    {
      "metadata": {
        "id": "Hm4Y3lXtw_jY",
        "colab_type": "text"
      },
      "cell_type": "markdown",
      "source": [
        "## Data Dimensions"
      ]
    },
    {
      "metadata": {
        "id": "KAEKyrGOw_jY",
        "colab_type": "text"
      },
      "cell_type": "markdown",
      "source": [
        "The data dimensions are used in several places in the source-code below. They are defined once so we can use these variables instead of numbers throughout the source-code below."
      ]
    },
    {
      "metadata": {
        "id": "VyHCeJMcw_jZ",
        "colab_type": "code",
        "colab": {
          "autoexec": {
            "startup": false,
            "wait_interval": 0
          }
        }
      },
      "cell_type": "code",
      "source": [
        "# We know that MNIST images are 28 pixels in each dimension.\n",
        "img_size = 28\n",
        "\n",
        "# Images are stored in one-dimensional arrays of this length.\n",
        "img_size_flat = img_size * img_size\n",
        "\n",
        "# Tuple with height and width of images used to reshape arrays.\n",
        "img_shape = (img_size, img_size)\n",
        "\n",
        "# Number of colour channels for the images: 1 channel for gray-scale.\n",
        "num_channels = 1\n",
        "\n",
        "# Number of classes, one class for each of 10 digits.\n",
        "num_classes = 10"
      ],
      "execution_count": 0,
      "outputs": []
    },
    {
      "metadata": {
        "id": "uu8mO313w_jc",
        "colab_type": "text"
      },
      "cell_type": "markdown",
      "source": [
        "### Helper-function for plotting images"
      ]
    },
    {
      "metadata": {
        "id": "cL9uxyihw_jd",
        "colab_type": "text"
      },
      "cell_type": "markdown",
      "source": [
        "Function used to plot 9 images in a 3x3 grid, and writing the true and predicted classes below each image."
      ]
    },
    {
      "metadata": {
        "id": "yt6KIKunw_ji",
        "colab_type": "code",
        "colab": {
          "autoexec": {
            "startup": false,
            "wait_interval": 0
          }
        }
      },
      "cell_type": "code",
      "source": [
        "def plot_images(images, cls_true, cls_pred=None):\n",
        "    assert len(images) == len(cls_true) == 9\n",
        "    \n",
        "    # Create figure with 3x3 sub-plots.\n",
        "    fig, axes = plt.subplots(3, 3)\n",
        "    fig.subplots_adjust(hspace=0.3, wspace=0.3)\n",
        "\n",
        "    for i, ax in enumerate(axes.flat):\n",
        "        # Plot image.\n",
        "        ax.imshow(images[i].reshape(img_shape), cmap='binary')\n",
        "\n",
        "        # Show true and predicted classes.\n",
        "        if cls_pred is None:\n",
        "            xlabel = \"True: {0}\".format(cls_true[i])\n",
        "        else:\n",
        "            xlabel = \"True: {0}, Pred: {1}\".format(cls_true[i], cls_pred[i])\n",
        "\n",
        "        # Show the classes as the label on the x-axis.\n",
        "        ax.set_xlabel(xlabel)\n",
        "        \n",
        "        # Remove ticks from the plot.\n",
        "        ax.set_xticks([])\n",
        "        ax.set_yticks([])\n",
        "    \n",
        "    # Ensure the plot is shown correctly with multiple plots\n",
        "    # in a single Notebook cell.\n",
        "    plt.show()"
      ],
      "execution_count": 0,
      "outputs": []
    },
    {
      "metadata": {
        "id": "5XB8Xx5yw_jk",
        "colab_type": "text"
      },
      "cell_type": "markdown",
      "source": [
        "### Plot a few images to see if data is correct"
      ]
    },
    {
      "metadata": {
        "id": "HwIjhB5lw_jl",
        "colab_type": "code",
        "colab": {
          "autoexec": {
            "startup": false,
            "wait_interval": 0
          },
          "base_uri": "https://localhost:8080/",
          "height": 262
        },
        "outputId": "ddfd9a1c-7376-45f9-b900-8ad05b309104",
        "executionInfo": {
          "status": "ok",
          "timestamp": 1533715708023,
          "user_tz": -480,
          "elapsed": 1231,
          "user": {
            "displayName": "Jonathan Sherman",
            "photoUrl": "https://lh3.googleusercontent.com/a/default-user=s128",
            "userId": "105267990690274350185"
          }
        }
      },
      "cell_type": "code",
      "source": [
        "# Get the first images from the test-set.\n",
        "images = data.test.images[0:9]\n",
        "\n",
        "# Get the true classes for those images.\n",
        "cls_true = data.test.cls[0:9]\n",
        "\n",
        "# Plot the images and labels using our helper-function above.\n",
        "plot_images(images=images, cls_true=cls_true)"
      ],
      "execution_count": 9,
      "outputs": [
        {
          "output_type": "display_data",
          "data": {
            "image/png": "[encoded data removed]",
            "text/plain": [
              "<matplotlib.figure.Figure at 0x7f72da3d1cf8>"
            ]
          },
          "metadata": {
            "tags": []
          }
        }
      ]
    },
    {
      "metadata": {
        "id": "OcOBY8nww_jo",
        "colab_type": "text"
      },
      "cell_type": "markdown",
      "source": [
        "## TensorFlow Graph\n",
        "\n",
        "The entire purpose of TensorFlow is to have a so-called computational graph that can be executed much more efficiently than if the same calculations were to be performed directly in Python. TensorFlow can be more efficient than NumPy because TensorFlow knows the entire computation graph that must be executed, while NumPy only knows the computation of a single mathematical operation at a time.\n",
        "\n",
        "TensorFlow can also automatically calculate the gradients that are needed to optimize the variables of the graph so as to make the model perform better. This is because the graph is a combination of simple mathematical expressions so the gradient of the entire graph can be calculated using the chain-rule for derivatives.\n",
        "\n",
        "TensorFlow can also take advantage of multi-core CPUs as well as GPUs - and Google has even built special chips just for TensorFlow which are called TPUs (Tensor Processing Units) and are even faster than GPUs.\n",
        "\n",
        "A TensorFlow graph consists of the following parts which will be detailed below:\n",
        "\n",
        "* Placeholder variables used for inputting data to the graph.\n",
        "* Variables that are going to be optimized so as to make the convolutional network perform better.\n",
        "* The mathematical formulas for the convolutional network.\n",
        "* A cost measure that can be used to guide the optimization of the variables.\n",
        "* An optimization method which updates the variables.\n",
        "\n",
        "In addition, the TensorFlow graph may also contain various debugging statements e.g. for logging data to be displayed using TensorBoard, which is not covered in this tutorial."
      ]
    },
    {
      "metadata": {
        "id": "q-HaIa91w_jp",
        "colab_type": "text"
      },
      "cell_type": "markdown",
      "source": [
        "### Helper-functions for creating new variables"
      ]
    },
    {
      "metadata": {
        "id": "_XxzUhHIw_jr",
        "colab_type": "text"
      },
      "cell_type": "markdown",
      "source": [
        "Functions for creating new TensorFlow variables in the given shape and initializing them with random values. Note that the initialization is not actually done at this point, it is merely being defined in the TensorFlow graph."
      ]
    },
    {
      "metadata": {
        "id": "ad4wweKUw_jr",
        "colab_type": "code",
        "colab": {
          "autoexec": {
            "startup": false,
            "wait_interval": 0
          }
        }
      },
      "cell_type": "code",
      "source": [
        "def new_weights(shape):\n",
        "    return tf.Variable(tf.truncated_normal(shape, stddev=0.05))"
      ],
      "execution_count": 0,
      "outputs": []
    },
    {
      "metadata": {
        "id": "Bzwh_x-Jw_ju",
        "colab_type": "code",
        "colab": {
          "autoexec": {
            "startup": false,
            "wait_interval": 0
          }
        }
      },
      "cell_type": "code",
      "source": [
        "def new_biases(length):\n",
        "    return tf.Variable(tf.constant(0.05, shape=[length]))"
      ],
      "execution_count": 0,
      "outputs": []
    },
    {
      "metadata": {
        "id": "W70GULmsw_jx",
        "colab_type": "text"
      },
      "cell_type": "markdown",
      "source": [
        "### Helper-function for creating a new Convolutional Layer"
      ]
    },
    {
      "metadata": {
        "id": "VE5pXbhnw_jz",
        "colab_type": "text"
      },
      "cell_type": "markdown",
      "source": [
        "This function creates a new convolutional layer in the computational graph for TensorFlow. Nothing is actually calculated here, we are just adding the mathematical formulas to the TensorFlow graph.\n",
        "\n",
        "It is assumed that the input is a 4-dim tensor with the following dimensions:\n",
        "\n",
        "1. Image number.\n",
        "2. Y-axis of each image.\n",
        "3. X-axis of each image.\n",
        "4. Channels of each image.\n",
        "\n",
        "Note that the input channels may either be colour-channels, or it may be filter-channels if the input is produced from a previous convolutional layer.\n",
        "\n",
        "The output is another 4-dim tensor with the following dimensions:\n",
        "\n",
        "1. Image number, same as input.\n",
        "2. Y-axis of each image. If 2x2 pooling is used, then the height and width of the input images is divided by 2.\n",
        "3. X-axis of each image. Ditto.\n",
        "4. Channels produced by the convolutional filters."
      ]
    },
    {
      "metadata": {
        "id": "4U7Q9KgXw_jz",
        "colab_type": "code",
        "colab": {
          "autoexec": {
            "startup": false,
            "wait_interval": 0
          }
        }
      },
      "cell_type": "code",
      "source": [
        "def new_conv_layer(input,              # The previous layer.\n",
        "                   num_input_channels, # Num. channels in prev. layer.\n",
        "                   filter_size,        # Width and height of each filter.\n",
        "                   num_filters,        # Number of filters.\n",
        "                   use_pooling=True):  # Use 2x2 max-pooling.\n",
        "\n",
        "    # Shape of the filter-weights for the convolution.\n",
        "    # This format is determined by the TensorFlow API.\n",
        "    shape = [filter_size, filter_size, num_input_channels, num_filters]\n",
        "\n",
        "    # Create new weights aka. filters with the given shape.\n",
        "    weights = new_weights(shape=shape)\n",
        "    tf.summary.histogram(\"weights\", weights)\n",
        "\n",
        "    # Create new biases, one for each filter.\n",
        "    biases = new_biases(length=num_filters)\n",
        "    tf.summary.histogram(\"biases\", biases)\n",
        "\n",
        "    # Create the TensorFlow operation for convolution.\n",
        "    # Note the strides are set to 1 in all dimensions.\n",
        "    # The first and last stride must always be 1,\n",
        "    # because the first is for the image-number and\n",
        "    # the last is for the input-channel.\n",
        "    # But e.g. strides=[1, 2, 2, 1] would mean that the filter\n",
        "    # is moved 2 pixels across the x- and y-axis of the image.\n",
        "    # The padding is set to 'SAME' which means the input image\n",
        "    # is padded with zeroes so the size of the output is the same.\n",
        "    layer = tf.nn.conv2d(input=input,\n",
        "                         filter=weights,\n",
        "                         strides=[1, 1, 1, 1],\n",
        "                         padding='SAME')\n",
        "\n",
        "    # Add the biases to the results of the convolution.\n",
        "    # A bias-value is added to each filter-channel.\n",
        "    layer += biases\n",
        "\n",
        "    # Use pooling to down-sample the image resolution?\n",
        "    if use_pooling:\n",
        "        # This is 2x2 max-pooling, which means that we\n",
        "        # consider 2x2 windows and select the largest value\n",
        "        # in each window. Then we move 2 pixels to the next window.\n",
        "        layer = tf.nn.max_pool(value=layer,\n",
        "                               ksize=[1, 2, 2, 1],\n",
        "                               strides=[1, 2, 2, 1],\n",
        "                               padding='SAME')\n",
        "\n",
        "    # Rectified Linear Unit (ReLU).\n",
        "    # It calculates max(x, 0) for each input pixel x.\n",
        "    # This adds some non-linearity to the formula and allows us\n",
        "    # to learn more complicated functions.\n",
        "    layer = tf.nn.relu(layer)\n",
        "\n",
        "    # Note that ReLU is normally executed before the pooling,\n",
        "    # but since relu(max_pool(x)) == max_pool(relu(x)) we can\n",
        "    # save 75% of the relu-operations by max-pooling first.\n",
        "\n",
        "    # We return both the resulting layer and the filter-weights\n",
        "    # because we will plot the weights later.\n",
        "    return layer, weights"
      ],
      "execution_count": 0,
      "outputs": []
    },
    {
      "metadata": {
        "id": "hqgAwQ9mw_j1",
        "colab_type": "text"
      },
      "cell_type": "markdown",
      "source": [
        "### Helper-function for flattening a layer\n",
        "\n",
        "A convolutional layer produces an output tensor with 4 dimensions. We will add fully-connected layers after the convolution layers, so we need to reduce the 4-dim tensor to 2-dim which can be used as input to the fully-connected layer."
      ]
    },
    {
      "metadata": {
        "id": "RYSSoI7Ww_j2",
        "colab_type": "code",
        "colab": {
          "autoexec": {
            "startup": false,
            "wait_interval": 0
          }
        }
      },
      "cell_type": "code",
      "source": [
        "def flatten_layer(layer):\n",
        "    # Get the shape of the input layer.\n",
        "    layer_shape = layer.get_shape()\n",
        "\n",
        "    # The shape of the input layer is assumed to be:\n",
        "    # layer_shape == [num_images, img_height, img_width, num_channels]\n",
        "\n",
        "    # The number of features is: img_height * img_width * num_channels\n",
        "    # We can use a function from TensorFlow to calculate this.\n",
        "    num_features = layer_shape[1:4].num_elements()\n",
        "    \n",
        "    # Reshape the layer to [num_images, num_features].\n",
        "    # Note that we just set the size of the second dimension\n",
        "    # to num_features and the size of the first dimension to -1\n",
        "    # which means the size in that dimension is calculated\n",
        "    # so the total size of the tensor is unchanged from the reshaping.\n",
        "    layer_flat = tf.reshape(layer, [-1, num_features])\n",
        "\n",
        "    # The shape of the flattened layer is now:\n",
        "    # [num_images, img_height * img_width * num_channels]\n",
        "\n",
        "    # Return both the flattened layer and the number of features.\n",
        "    return layer_flat, num_features"
      ],
      "execution_count": 0,
      "outputs": []
    },
    {
      "metadata": {
        "id": "s45TxekTw_j5",
        "colab_type": "text"
      },
      "cell_type": "markdown",
      "source": [
        "### Helper-function for creating a new Fully-Connected Layer"
      ]
    },
    {
      "metadata": {
        "id": "weMZi4QXw_j6",
        "colab_type": "text"
      },
      "cell_type": "markdown",
      "source": [
        "This function creates a new fully-connected layer in the computational graph for TensorFlow. Nothing is actually calculated here, we are just adding the mathematical formulas to the TensorFlow graph.\n",
        "\n",
        "It is assumed that the input is a 2-dim tensor of shape `[num_images, num_inputs]`. The output is a 2-dim tensor of shape `[num_images, num_outputs]`."
      ]
    },
    {
      "metadata": {
        "id": "CLunkfUtw_j7",
        "colab_type": "code",
        "colab": {
          "autoexec": {
            "startup": false,
            "wait_interval": 0
          }
        }
      },
      "cell_type": "code",
      "source": [
        "def new_fc_layer(input,          # The previous layer.\n",
        "                 num_inputs,     # Num. inputs from prev. layer.\n",
        "                 num_outputs,    # Num. outputs.\n",
        "                 use_relu=True): # Use Rectified Linear Unit (ReLU)?\n",
        "\n",
        "    # Create new weights and biases.\n",
        "    weights = new_weights(shape=[num_inputs, num_outputs])\n",
        "    biases = new_biases(length=num_outputs)\n",
        "\n",
        "    # Calculate the layer as the matrix multiplication of\n",
        "    # the input and weights, and then add the bias-values.\n",
        "    layer = tf.matmul(input, weights) + biases\n",
        "\n",
        "    # Use ReLU?\n",
        "    if use_relu:\n",
        "        layer = tf.nn.relu(layer)\n",
        "\n",
        "    return layer"
      ],
      "execution_count": 0,
      "outputs": []
    },
    {
      "metadata": {
        "id": "gITj9eHyw_j-",
        "colab_type": "text"
      },
      "cell_type": "markdown",
      "source": [
        "### Placeholder variables"
      ]
    },
    {
      "metadata": {
        "id": "R_iZ0GtNw_j_",
        "colab_type": "text"
      },
      "cell_type": "markdown",
      "source": [
        "Placeholder variables serve as the input to the TensorFlow computational graph that we may change each time we execute the graph. We call this feeding the placeholder variables and it is demonstrated further below.\n",
        "\n",
        "First we define the placeholder variable for the input images. This allows us to change the images that are input to the TensorFlow graph. This is a so-called tensor, which just means that it is a multi-dimensional vector or matrix. The data-type is set to `float32` and the shape is set to `[None, img_size_flat]`, where `None` means that the tensor may hold an arbitrary number of images with each image being a vector of length `img_size_flat`."
      ]
    },
    {
      "metadata": {
        "id": "r9aTPWNxw_kA",
        "colab_type": "code",
        "colab": {
          "autoexec": {
            "startup": false,
            "wait_interval": 0
          }
        }
      },
      "cell_type": "code",
      "source": [
        "x = tf.placeholder(tf.float32, shape=[None, img_size_flat], name='x')"
      ],
      "execution_count": 0,
      "outputs": []
    },
    {
      "metadata": {
        "id": "j-i9pdVdw_kE",
        "colab_type": "text"
      },
      "cell_type": "markdown",
      "source": [
        "The convolutional layers expect `x` to be encoded as a 4-dim tensor so we have to reshape it so its shape is instead `[num_images, img_height, img_width, num_channels]`. Note that `img_height == img_width == img_size` and `num_images` can be inferred automatically by using -1 for the size of the first dimension. So the reshape operation is:"
      ]
    },
    {
      "metadata": {
        "id": "cjoljFTCw_kE",
        "colab_type": "code",
        "colab": {
          "autoexec": {
            "startup": false,
            "wait_interval": 0
          }
        }
      },
      "cell_type": "code",
      "source": [
        "x_image = tf.reshape(x, [-1, img_size, img_size, num_channels])"
      ],
      "execution_count": 0,
      "outputs": []
    },
    {
      "metadata": {
        "id": "otCFlt5Yw_kG",
        "colab_type": "text"
      },
      "cell_type": "markdown",
      "source": [
        "Next we have the placeholder variable for the true labels associated with the images that were input in the placeholder variable `x`. The shape of this placeholder variable is `[None, num_classes]` which means it may hold an arbitrary number of labels and each label is a vector of length `num_classes` which is 10 in this case."
      ]
    },
    {
      "metadata": {
        "id": "D4P5giL3w_kH",
        "colab_type": "code",
        "colab": {
          "autoexec": {
            "startup": false,
            "wait_interval": 0
          }
        }
      },
      "cell_type": "code",
      "source": [
        "y_true = tf.placeholder(tf.float32, shape=[None, num_classes], name='y_true')"
      ],
      "execution_count": 0,
      "outputs": []
    },
    {
      "metadata": {
        "id": "oT6xVkcsw_kL",
        "colab_type": "text"
      },
      "cell_type": "markdown",
      "source": [
        "We could also have a placeholder variable for the class-number, but we will instead calculate it using argmax. Note that this is a TensorFlow operator so nothing is calculated at this point."
      ]
    },
    {
      "metadata": {
        "id": "eGb5Al_Bw_kL",
        "colab_type": "code",
        "colab": {
          "autoexec": {
            "startup": false,
            "wait_interval": 0
          }
        }
      },
      "cell_type": "code",
      "source": [
        "y_true_cls = tf.argmax(y_true, axis=1)"
      ],
      "execution_count": 0,
      "outputs": []
    },
    {
      "metadata": {
        "id": "u3GD0sfYw_kO",
        "colab_type": "text"
      },
      "cell_type": "markdown",
      "source": [
        "### Convolutional Layer 1\n",
        "\n",
        "Create the first convolutional layer. It takes `x_image` as input and creates `num_filters1` different filters, each having width and height equal to `filter_size1`. Finally we wish to down-sample the image so it is half the size by using 2x2 max-pooling."
      ]
    },
    {
      "metadata": {
        "id": "zsbQKXSPw_kP",
        "colab_type": "code",
        "colab": {
          "autoexec": {
            "startup": false,
            "wait_interval": 0
          }
        }
      },
      "cell_type": "code",
      "source": [
        "layer_conv1, weights_conv1 = \\\n",
        "    new_conv_layer(input=x_image,\n",
        "                   num_input_channels=num_channels,\n",
        "                   filter_size=filter_size1,\n",
        "                   num_filters=num_filters1,\n",
        "                   use_pooling=True)"
      ],
      "execution_count": 0,
      "outputs": []
    },
    {
      "metadata": {
        "id": "GX2gx03uw_kR",
        "colab_type": "text"
      },
      "cell_type": "markdown",
      "source": [
        "Check the shape of the tensor that will be output by the convolutional layer. It is (?, 14, 14, 16) which means that there is an arbitrary number of images (this is the ?), each image is 14 pixels wide and 14 pixels high, and there are 16 different channels, one channel for each of the filters."
      ]
    },
    {
      "metadata": {
        "id": "dxSc7_oCw_kR",
        "colab_type": "code",
        "colab": {
          "autoexec": {
            "startup": false,
            "wait_interval": 0
          },
          "base_uri": "https://localhost:8080/",
          "height": 35
        },
        "outputId": "fcac6af8-4f49-4910-db6c-a054a7835f36",
        "executionInfo": {
          "status": "ok",
          "timestamp": 1533715720338,
          "user_tz": -480,
          "elapsed": 556,
          "user": {
            "displayName": "Jonathan Sherman",
            "photoUrl": "https://lh3.googleusercontent.com/a/default-user=s128",
            "userId": "105267990690274350185"
          }
        }
      },
      "cell_type": "code",
      "source": [
        "layer_conv1"
      ],
      "execution_count": 20,
      "outputs": [
        {
          "output_type": "execute_result",
          "data": {
            "text/plain": [
              "<tf.Tensor 'Relu:0' shape=(?, 14, 14, 16) dtype=float32>"
            ]
          },
          "metadata": {
            "tags": []
          },
          "execution_count": 20
        }
      ]
    },
    {
      "metadata": {
        "id": "Kkk1s3Lgw_kW",
        "colab_type": "text"
      },
      "cell_type": "markdown",
      "source": [
        "### Convolutional Layer 2\n",
        "\n",
        "Create the second convolutional layer, which takes as input the output from the first convolutional layer. The number of input channels corresponds to the number of filters in the first convolutional layer."
      ]
    },
    {
      "metadata": {
        "id": "_g6Alszow_kX",
        "colab_type": "code",
        "colab": {
          "autoexec": {
            "startup": false,
            "wait_interval": 0
          }
        }
      },
      "cell_type": "code",
      "source": [
        "layer_conv2, weights_conv2 = \\\n",
        "    new_conv_layer(input=layer_conv1,\n",
        "                   num_input_channels=num_filters1,\n",
        "                   filter_size=filter_size2,\n",
        "                   num_filters=num_filters2,\n",
        "                   use_pooling=True)"
      ],
      "execution_count": 0,
      "outputs": []
    },
    {
      "metadata": {
        "id": "ul4n9pCmw_kZ",
        "colab_type": "text"
      },
      "cell_type": "markdown",
      "source": [
        "Check the shape of the tensor that will be output from this convolutional layer. The shape is (?, 7, 7, 36) where the ? again means that there is an arbitrary number of images, with each image having width and height of 7 pixels, and there are 36 channels, one for each filter."
      ]
    },
    {
      "metadata": {
        "id": "WjmjC7Fdw_ka",
        "colab_type": "code",
        "colab": {
          "autoexec": {
            "startup": false,
            "wait_interval": 0
          },
          "base_uri": "https://localhost:8080/",
          "height": 35
        },
        "outputId": "0206df7c-72f7-4355-8212-52c3c417ef90",
        "executionInfo": {
          "status": "ok",
          "timestamp": 1533715722422,
          "user_tz": -480,
          "elapsed": 595,
          "user": {
            "displayName": "Jonathan Sherman",
            "photoUrl": "https://lh3.googleusercontent.com/a/default-user=s128",
            "userId": "105267990690274350185"
          }
        }
      },
      "cell_type": "code",
      "source": [
        "layer_conv2"
      ],
      "execution_count": 22,
      "outputs": [
        {
          "output_type": "execute_result",
          "data": {
            "text/plain": [
              "<tf.Tensor 'Relu_1:0' shape=(?, 7, 7, 36) dtype=float32>"
            ]
          },
          "metadata": {
            "tags": []
          },
          "execution_count": 22
        }
      ]
    },
    {
      "metadata": {
        "id": "UwFIsgSjw_kc",
        "colab_type": "text"
      },
      "cell_type": "markdown",
      "source": [
        "### Flatten Layer\n",
        "\n",
        "The convolutional layers output 4-dim tensors. We now wish to use these as input in a fully-connected network, which requires for the tensors to be reshaped or flattened to 2-dim tensors."
      ]
    },
    {
      "metadata": {
        "id": "Vi42kcJ9w_kd",
        "colab_type": "code",
        "colab": {
          "autoexec": {
            "startup": false,
            "wait_interval": 0
          }
        }
      },
      "cell_type": "code",
      "source": [
        "layer_flat, num_features = flatten_layer(layer_conv2)"
      ],
      "execution_count": 0,
      "outputs": []
    },
    {
      "metadata": {
        "id": "u6s8TBd9w_kf",
        "colab_type": "text"
      },
      "cell_type": "markdown",
      "source": [
        "Check that the tensors now have shape (?, 1764) which means there's an arbitrary number of images which have been flattened to vectors of length 1764 each. Note that 1764 = 7 x 7 x 36."
      ]
    },
    {
      "metadata": {
        "id": "hyp8GfsQw_kf",
        "colab_type": "code",
        "colab": {
          "autoexec": {
            "startup": false,
            "wait_interval": 0
          },
          "base_uri": "https://localhost:8080/",
          "height": 35
        },
        "outputId": "3fe6061f-155f-4114-ea28-c79fa9cba885",
        "executionInfo": {
          "status": "ok",
          "timestamp": 1533715724467,
          "user_tz": -480,
          "elapsed": 572,
          "user": {
            "displayName": "Jonathan Sherman",
            "photoUrl": "https://lh3.googleusercontent.com/a/default-user=s128",
            "userId": "105267990690274350185"
          }
        }
      },
      "cell_type": "code",
      "source": [
        "layer_flat"
      ],
      "execution_count": 24,
      "outputs": [
        {
          "output_type": "execute_result",
          "data": {
            "text/plain": [
              "<tf.Tensor 'Reshape_1:0' shape=(?, 1764) dtype=float32>"
            ]
          },
          "metadata": {
            "tags": []
          },
          "execution_count": 24
        }
      ]
    },
    {
      "metadata": {
        "id": "Pvynx_p7w_ki",
        "colab_type": "code",
        "colab": {
          "autoexec": {
            "startup": false,
            "wait_interval": 0
          },
          "base_uri": "https://localhost:8080/",
          "height": 35
        },
        "outputId": "34b1817d-faac-4633-9c39-500f6a5f8e35",
        "executionInfo": {
          "status": "ok",
          "timestamp": 1533715726309,
          "user_tz": -480,
          "elapsed": 506,
          "user": {
            "displayName": "Jonathan Sherman",
            "photoUrl": "https://lh3.googleusercontent.com/a/default-user=s128",
            "userId": "105267990690274350185"
          }
        }
      },
      "cell_type": "code",
      "source": [
        "num_features"
      ],
      "execution_count": 25,
      "outputs": [
        {
          "output_type": "execute_result",
          "data": {
            "text/plain": [
              "1764"
            ]
          },
          "metadata": {
            "tags": []
          },
          "execution_count": 25
        }
      ]
    },
    {
      "metadata": {
        "id": "WbEnMsU7w_kk",
        "colab_type": "text"
      },
      "cell_type": "markdown",
      "source": [
        "### Fully-Connected Layer 1\n",
        "\n",
        "Add a fully-connected layer to the network. The input is the flattened layer from the previous convolution. The number of neurons or nodes in the fully-connected layer is `fc_size`. ReLU is used so we can learn non-linear relations."
      ]
    },
    {
      "metadata": {
        "id": "edFDQB0Rw_kl",
        "colab_type": "code",
        "colab": {
          "autoexec": {
            "startup": false,
            "wait_interval": 0
          }
        }
      },
      "cell_type": "code",
      "source": [
        "layer_fc1 = new_fc_layer(input=layer_flat,\n",
        "                         num_inputs=num_features,\n",
        "                         num_outputs=fc_size,\n",
        "                         use_relu=True)"
      ],
      "execution_count": 0,
      "outputs": []
    },
    {
      "metadata": {
        "id": "mjzKgIVww_ko",
        "colab_type": "text"
      },
      "cell_type": "markdown",
      "source": [
        "Check that the output of the fully-connected layer is a tensor with shape (?, 128) where the ? means there is an arbitrary number of images and `fc_size` == 128."
      ]
    },
    {
      "metadata": {
        "id": "eFsOgCqVw_ko",
        "colab_type": "code",
        "colab": {
          "autoexec": {
            "startup": false,
            "wait_interval": 0
          },
          "base_uri": "https://localhost:8080/",
          "height": 35
        },
        "outputId": "7cbfcd75-2f96-4ee3-9d07-82902d8a5941",
        "executionInfo": {
          "status": "ok",
          "timestamp": 1533715728361,
          "user_tz": -480,
          "elapsed": 570,
          "user": {
            "displayName": "Jonathan Sherman",
            "photoUrl": "https://lh3.googleusercontent.com/a/default-user=s128",
            "userId": "105267990690274350185"
          }
        }
      },
      "cell_type": "code",
      "source": [
        "layer_fc1"
      ],
      "execution_count": 27,
      "outputs": [
        {
          "output_type": "execute_result",
          "data": {
            "text/plain": [
              "<tf.Tensor 'Relu_2:0' shape=(?, 784) dtype=float32>"
            ]
          },
          "metadata": {
            "tags": []
          },
          "execution_count": 27
        }
      ]
    },
    {
      "metadata": {
        "id": "ba3v4_Qbw_ks",
        "colab_type": "text"
      },
      "cell_type": "markdown",
      "source": [
        "### Fully-Connected Layer 2\n",
        "\n",
        "Add another fully-connected layer that outputs vectors of length 10 for determining which of the 10 classes the input image belongs to. Note that ReLU is not used in this layer."
      ]
    },
    {
      "metadata": {
        "id": "39_sVjzbw_ks",
        "colab_type": "code",
        "colab": {
          "autoexec": {
            "startup": false,
            "wait_interval": 0
          }
        }
      },
      "cell_type": "code",
      "source": [
        "layer_fc2 = new_fc_layer(input=layer_fc1,\n",
        "                         num_inputs=fc_size,\n",
        "                         num_outputs=num_classes,\n",
        "                         use_relu=False)"
      ],
      "execution_count": 0,
      "outputs": []
    },
    {
      "metadata": {
        "id": "yqzeHfk0w_kv",
        "colab_type": "code",
        "colab": {
          "autoexec": {
            "startup": false,
            "wait_interval": 0
          },
          "base_uri": "https://localhost:8080/",
          "height": 35
        },
        "outputId": "467160a7-22ee-4702-ec80-82eb1b16869f",
        "executionInfo": {
          "status": "ok",
          "timestamp": 1533715731330,
          "user_tz": -480,
          "elapsed": 558,
          "user": {
            "displayName": "Jonathan Sherman",
            "photoUrl": "https://lh3.googleusercontent.com/a/default-user=s128",
            "userId": "105267990690274350185"
          }
        }
      },
      "cell_type": "code",
      "source": [
        "layer_fc2"
      ],
      "execution_count": 29,
      "outputs": [
        {
          "output_type": "execute_result",
          "data": {
            "text/plain": [
              "<tf.Tensor 'add_3:0' shape=(?, 10) dtype=float32>"
            ]
          },
          "metadata": {
            "tags": []
          },
          "execution_count": 29
        }
      ]
    },
    {
      "metadata": {
        "id": "FccpVAIaw_kz",
        "colab_type": "text"
      },
      "cell_type": "markdown",
      "source": [
        "### Predicted Class"
      ]
    },
    {
      "metadata": {
        "id": "_kn9aWifw_kz",
        "colab_type": "text"
      },
      "cell_type": "markdown",
      "source": [
        "The second fully-connected layer estimates how likely it is that the input image belongs to each of the 10 classes. However, these estimates are a bit rough and difficult to interpret because the numbers may be very small or large, so we want to normalize them so that each element is limited between zero and one and the 10 elements sum to one. This is calculated using the so-called softmax function and the result is stored in `y_pred`."
      ]
    },
    {
      "metadata": {
        "id": "3O6aPom0w_k0",
        "colab_type": "code",
        "colab": {
          "autoexec": {
            "startup": false,
            "wait_interval": 0
          }
        }
      },
      "cell_type": "code",
      "source": [
        "y_pred = tf.nn.softmax(layer_fc2)"
      ],
      "execution_count": 0,
      "outputs": []
    },
    {
      "metadata": {
        "id": "9ZrzX7k-w_k2",
        "colab_type": "text"
      },
      "cell_type": "markdown",
      "source": [
        "The class-number is the index of the largest element."
      ]
    },
    {
      "metadata": {
        "id": "pv-IS31cw_k2",
        "colab_type": "code",
        "colab": {
          "autoexec": {
            "startup": false,
            "wait_interval": 0
          }
        }
      },
      "cell_type": "code",
      "source": [
        "y_pred_cls = tf.argmax(y_pred, axis=1)"
      ],
      "execution_count": 0,
      "outputs": []
    },
    {
      "metadata": {
        "id": "KNvRjVR0w_k4",
        "colab_type": "text"
      },
      "cell_type": "markdown",
      "source": [
        "### Cost-function to be optimized"
      ]
    },
    {
      "metadata": {
        "id": "hsDbgenGw_k6",
        "colab_type": "text"
      },
      "cell_type": "markdown",
      "source": [
        "To make the model better at classifying the input images, we must somehow change the variables for all the network layers. To do this we first need to know how well the model currently performs by comparing the predicted output of the model `y_pred` to the desired output `y_true`.\n",
        "\n",
        "The cross-entropy is a performance measure used in classification. The cross-entropy is a continuous function that is always positive and if the predicted output of the model exactly matches the desired output then the cross-entropy equals zero. The goal of optimization is therefore to minimize the cross-entropy so it gets as close to zero as possible by changing the variables of the network layers.\n",
        "\n",
        "TensorFlow has a built-in function for calculating the cross-entropy. Note that the function calculates the softmax internally so we must use the output of `layer_fc2` directly rather than `y_pred` which has already had the softmax applied."
      ]
    },
    {
      "metadata": {
        "id": "v9AKHOwLw_k6",
        "colab_type": "code",
        "colab": {
          "autoexec": {
            "startup": false,
            "wait_interval": 0
          },
          "base_uri": "https://localhost:8080/",
          "height": 181
        },
        "outputId": "bc4a5b6f-a234-4153-f6da-4203c9fdc728",
        "executionInfo": {
          "status": "ok",
          "timestamp": 1533715734352,
          "user_tz": -480,
          "elapsed": 545,
          "user": {
            "displayName": "Jonathan Sherman",
            "photoUrl": "https://lh3.googleusercontent.com/a/default-user=s128",
            "userId": "105267990690274350185"
          }
        }
      },
      "cell_type": "code",
      "source": [
        "cross_entropy = tf.nn.softmax_cross_entropy_with_logits(logits=layer_fc2,\n",
        "                                                        labels=y_true)"
      ],
      "execution_count": 32,
      "outputs": [
        {
          "output_type": "stream",
          "text": [
            "WARNING:tensorflow:From <ipython-input-32-2dd067a7547b>:2: softmax_cross_entropy_with_logits (from tensorflow.python.ops.nn_ops) is deprecated and will be removed in a future version.\n",
            "Instructions for updating:\n",
            "\n",
            "Future major versions of TensorFlow will allow gradients to flow\n",
            "into the labels input on backprop by default.\n",
            "\n",
            "See @{tf.nn.softmax_cross_entropy_with_logits_v2}.\n",
            "\n"
          ],
          "name": "stdout"
        }
      ]
    },
    {
      "metadata": {
        "id": "ZvaRZxhvw_k8",
        "colab_type": "text"
      },
      "cell_type": "markdown",
      "source": [
        "We have now calculated the cross-entropy for each of the image classifications so we have a measure of how well the model performs on each image individually. But in order to use the cross-entropy to guide the optimization of the model's variables we need a single scalar value, so we simply take the average of the cross-entropy for all the image classifications."
      ]
    },
    {
      "metadata": {
        "id": "ac7Sda3Yw_k8",
        "colab_type": "code",
        "colab": {
          "autoexec": {
            "startup": false,
            "wait_interval": 0
          },
          "base_uri": "https://localhost:8080/",
          "height": 35
        },
        "outputId": "e1487a1d-e201-4cb6-a2a3-ac55a0e0f8cf",
        "executionInfo": {
          "status": "ok",
          "timestamp": 1533715735370,
          "user_tz": -480,
          "elapsed": 561,
          "user": {
            "displayName": "Jonathan Sherman",
            "photoUrl": "https://lh3.googleusercontent.com/a/default-user=s128",
            "userId": "105267990690274350185"
          }
        }
      },
      "cell_type": "code",
      "source": [
        "cost = tf.reduce_mean(cross_entropy)\n",
        "tf.summary.scalar(\"cost\", cost)\n"
      ],
      "execution_count": 33,
      "outputs": [
        {
          "output_type": "execute_result",
          "data": {
            "text/plain": [
              "<tf.Tensor 'cost:0' shape=() dtype=string>"
            ]
          },
          "metadata": {
            "tags": []
          },
          "execution_count": 33
        }
      ]
    },
    {
      "metadata": {
        "id": "B4qHO2YAw_k_",
        "colab_type": "text"
      },
      "cell_type": "markdown",
      "source": [
        "### Optimization Method"
      ]
    },
    {
      "metadata": {
        "id": "U62d8Atfw_k_",
        "colab_type": "text"
      },
      "cell_type": "markdown",
      "source": [
        "Now that we have a cost measure that must be minimized, we can then create an optimizer. In this case it is the `AdamOptimizer` which is an advanced form of Gradient Descent.\n",
        "\n",
        "Note that optimization is not performed at this point. In fact, nothing is calculated at all, we just add the optimizer-object to the TensorFlow graph for later execution."
      ]
    },
    {
      "metadata": {
        "id": "n4kg_MEyw_k_",
        "colab_type": "code",
        "colab": {
          "autoexec": {
            "startup": false,
            "wait_interval": 0
          }
        }
      },
      "cell_type": "code",
      "source": [
        "optimizer = tf.train.AdamOptimizer(learning_rate=1e-4).minimize(cost)"
      ],
      "execution_count": 0,
      "outputs": []
    },
    {
      "metadata": {
        "id": "xiSGL7Udw_lB",
        "colab_type": "text"
      },
      "cell_type": "markdown",
      "source": [
        "### Performance Measures"
      ]
    },
    {
      "metadata": {
        "id": "_kxDeOw8w_lC",
        "colab_type": "text"
      },
      "cell_type": "markdown",
      "source": [
        "We need a few more performance measures to display the progress to the user.\n",
        "\n",
        "This is a vector of booleans whether the predicted class equals the true class of each image."
      ]
    },
    {
      "metadata": {
        "id": "FfRF8lgww_lC",
        "colab_type": "code",
        "colab": {
          "autoexec": {
            "startup": false,
            "wait_interval": 0
          }
        }
      },
      "cell_type": "code",
      "source": [
        "correct_prediction = tf.equal(y_pred_cls, y_true_cls)"
      ],
      "execution_count": 0,
      "outputs": []
    },
    {
      "metadata": {
        "id": "qqv8bTw2w_lF",
        "colab_type": "text"
      },
      "cell_type": "markdown",
      "source": [
        "This calculates the classification accuracy by first type-casting the vector of booleans to floats, so that False becomes 0 and True becomes 1, and then calculating the average of these numbers."
      ]
    },
    {
      "metadata": {
        "id": "48A2-lkgw_lG",
        "colab_type": "code",
        "colab": {
          "autoexec": {
            "startup": false,
            "wait_interval": 0
          }
        }
      },
      "cell_type": "code",
      "source": [
        "accuracy = tf.reduce_mean(tf.cast(correct_prediction, tf.float32))"
      ],
      "execution_count": 0,
      "outputs": []
    },
    {
      "metadata": {
        "id": "OdMesBBIw_lL",
        "colab_type": "text"
      },
      "cell_type": "markdown",
      "source": [
        "## TensorFlow Run"
      ]
    },
    {
      "metadata": {
        "id": "EbRQrcq_w_lM",
        "colab_type": "text"
      },
      "cell_type": "markdown",
      "source": [
        "### Create TensorFlow session\n",
        "\n",
        "Once the TensorFlow graph has been created, we have to create a TensorFlow session which is used to execute the graph."
      ]
    },
    {
      "metadata": {
        "id": "ZoDlN5K2w_lM",
        "colab_type": "code",
        "colab": {
          "autoexec": {
            "startup": false,
            "wait_interval": 0
          }
        }
      },
      "cell_type": "code",
      "source": [
        "session = tf.Session()\n",
        "## merge all our Tensorboard summaries and create file directory\n",
        "summaryMerged = tf.summary.merge_all()\n",
        "#filename=\"./summary_log/run\"+datetime.datetime.now().strftime(\"%Y-%m-%d--%H-%M-%S\")\n",
        "#writer = tf.summary.FileWriter(filename, session.graph)\n",
        "\n",
        "#if on colab\n",
        "writer = tbc.get_writer();\n",
        "writer.add_graph(session.graph)"
      ],
      "execution_count": 0,
      "outputs": []
    },
    {
      "metadata": {
        "id": "bGqMtwsew_lO",
        "colab_type": "text"
      },
      "cell_type": "markdown",
      "source": [
        "### Initialize variables\n",
        "\n",
        "The variables for `weights` and `biases` must be initialized before we start optimizing them."
      ]
    },
    {
      "metadata": {
        "id": "p1tPv3flw_lQ",
        "colab_type": "code",
        "colab": {
          "autoexec": {
            "startup": false,
            "wait_interval": 0
          }
        }
      },
      "cell_type": "code",
      "source": [
        "session.run(tf.global_variables_initializer())"
      ],
      "execution_count": 0,
      "outputs": []
    },
    {
      "metadata": {
        "id": "p_IANzU0w_lV",
        "colab_type": "text"
      },
      "cell_type": "markdown",
      "source": [
        "### Helper-function to perform optimization iterations"
      ]
    },
    {
      "metadata": {
        "id": "1q5nM7JFw_lV",
        "colab_type": "text"
      },
      "cell_type": "markdown",
      "source": [
        "There are 55,000 images in the training-set. It takes a long time to calculate the gradient of the model using all these images. We therefore only use a small batch of images in each iteration of the optimizer.\n",
        "\n",
        "If your computer crashes or becomes very slow because you run out of RAM, then you may try and lower this number, but you may then need to perform more optimization iterations."
      ]
    },
    {
      "metadata": {
        "id": "c0c3Jr6aw_lW",
        "colab_type": "code",
        "colab": {
          "autoexec": {
            "startup": false,
            "wait_interval": 0
          }
        }
      },
      "cell_type": "code",
      "source": [
        "train_batch_size = 64"
      ],
      "execution_count": 0,
      "outputs": []
    },
    {
      "metadata": {
        "id": "Q4EenVRQw_lY",
        "colab_type": "text"
      },
      "cell_type": "markdown",
      "source": [
        "Function for performing a number of optimization iterations so as to gradually improve the variables of the network layers. In each iteration, a new batch of data is selected from the training-set and then TensorFlow executes the optimizer using those training samples.  The progress is printed every 100 iterations."
      ]
    },
    {
      "metadata": {
        "id": "QuNO8hfDw_lY",
        "colab_type": "code",
        "colab": {
          "autoexec": {
            "startup": false,
            "wait_interval": 0
          }
        }
      },
      "cell_type": "code",
      "source": [
        "# Counter for total number of iterations performed so far.\n",
        "total_iterations = 0\n",
        "\n",
        "def optimize(num_iterations):\n",
        "    # Ensure we update the global variable rather than a local copy.\n",
        "    global total_iterations\n",
        "\n",
        "    # Start-time used for printing time-usage below.\n",
        "    start_time = time.time()\n",
        "\n",
        "    for i in range(total_iterations,\n",
        "                   total_iterations + num_iterations):\n",
        "\n",
        "        # Get a batch of training examples.\n",
        "        # x_batch now holds a batch of images and\n",
        "        # y_true_batch are the true labels for those images.\n",
        "        x_batch, y_true_batch = data.train.next_batch(train_batch_size)\n",
        "\n",
        "        # Put the batch into a dict with the proper names\n",
        "        # for placeholder variables in the TensorFlow graph.\n",
        "        feed_dict_train = {x: x_batch,\n",
        "                           y_true: y_true_batch}\n",
        "\n",
        "        # Run the optimizer using this batch of training data.\n",
        "        # TensorFlow assigns the variables in feed_dict_train\n",
        "        # to the placeholder variables and then runs the optimizer.\n",
        "        _, sumOut = session.run([optimizer,summaryMerged], feed_dict=feed_dict_train)\n",
        "\n",
        "        # Print status every 100 iterations.\n",
        "        if i % 100 == 0:\n",
        "            # write out tensorboard             \n",
        "            writer.add_summary(sumOut, i)\n",
        "            #for colab\n",
        "            \n",
        "            writer.flush()\n",
        "            # Calculate the accuracy on the training-set.\n",
        "            acc = session.run(accuracy, feed_dict=feed_dict_train)\n",
        "\n",
        "            # Message for printing.\n",
        "            msg = \"Optimization Iteration: {0:>6}, Training Accuracy: {1:>6.1%}\"\n",
        "\n",
        "            # Print it.\n",
        "            print(msg.format(i + 1, acc))\n",
        "\n",
        "    # Update the total number of iterations performed.\n",
        "    total_iterations += num_iterations\n",
        "\n",
        "    # Ending time.\n",
        "    end_time = time.time()\n",
        "\n",
        "    # Difference between start and end-times.\n",
        "    time_dif = end_time - start_time\n",
        "\n",
        "    # Print the time-usage.\n",
        "    print(\"Time usage: \" + str(timedelta(seconds=int(round(time_dif)))))"
      ],
      "execution_count": 0,
      "outputs": []
    },
    {
      "metadata": {
        "id": "0yrJEFUOw_lZ",
        "colab_type": "text"
      },
      "cell_type": "markdown",
      "source": [
        "### Helper-function to plot example errors"
      ]
    },
    {
      "metadata": {
        "id": "h3iXx3BZw_la",
        "colab_type": "text"
      },
      "cell_type": "markdown",
      "source": [
        "Function for plotting examples of images from the test-set that have been mis-classified."
      ]
    },
    {
      "metadata": {
        "id": "qNy4ht9Lw_la",
        "colab_type": "code",
        "colab": {
          "autoexec": {
            "startup": false,
            "wait_interval": 0
          }
        }
      },
      "cell_type": "code",
      "source": [
        "def plot_example_errors(cls_pred, correct):\n",
        "    # This function is called from print_test_accuracy() below.\n",
        "\n",
        "    # cls_pred is an array of the predicted class-number for\n",
        "    # all images in the test-set.\n",
        "\n",
        "    # correct is a boolean array whether the predicted class\n",
        "    # is equal to the true class for each image in the test-set.\n",
        "\n",
        "    # Negate the boolean array.\n",
        "    incorrect = (correct == False)\n",
        "    \n",
        "    # Get the images from the test-set that have been\n",
        "    # incorrectly classified.\n",
        "    images = data.test.images[incorrect]\n",
        "    \n",
        "    # Get the predicted classes for those images.\n",
        "    cls_pred = cls_pred[incorrect]\n",
        "\n",
        "    # Get the true classes for those images.\n",
        "    cls_true = data.test.cls[incorrect]\n",
        "    \n",
        "    # Plot the first 9 images.\n",
        "    plot_images(images=images[0:9],\n",
        "                cls_true=cls_true[0:9],\n",
        "                cls_pred=cls_pred[0:9])"
      ],
      "execution_count": 0,
      "outputs": []
    },
    {
      "metadata": {
        "id": "jLcOaJ9kw_ld",
        "colab_type": "text"
      },
      "cell_type": "markdown",
      "source": [
        "### Helper-function to plot confusion matrix"
      ]
    },
    {
      "metadata": {
        "id": "z8w0P_WPw_le",
        "colab_type": "code",
        "colab": {
          "autoexec": {
            "startup": false,
            "wait_interval": 0
          }
        }
      },
      "cell_type": "code",
      "source": [
        "def plot_confusion_matrix(cls_pred):\n",
        "    # This is called from print_test_accuracy() below.\n",
        "\n",
        "    # cls_pred is an array of the predicted class-number for\n",
        "    # all images in the test-set.\n",
        "\n",
        "    # Get the true classifications for the test-set.\n",
        "    cls_true = data.test.cls\n",
        "    \n",
        "    # Get the confusion matrix using sklearn.\n",
        "    cm = confusion_matrix(y_true=cls_true,\n",
        "                          y_pred=cls_pred)\n",
        "\n",
        "    # Print the confusion matrix as text.\n",
        "    print(cm)\n",
        "\n",
        "    # Plot the confusion matrix as an image.\n",
        "    plt.matshow(cm)\n",
        "\n",
        "    # Make various adjustments to the plot.\n",
        "    plt.colorbar()\n",
        "    tick_marks = np.arange(num_classes)\n",
        "    plt.xticks(tick_marks, range(num_classes))\n",
        "    plt.yticks(tick_marks, range(num_classes))\n",
        "    plt.xlabel('Predicted')\n",
        "    plt.ylabel('True')\n",
        "\n",
        "    # Ensure the plot is shown correctly with multiple plots\n",
        "    # in a single Notebook cell.\n",
        "    plt.show()"
      ],
      "execution_count": 0,
      "outputs": []
    },
    {
      "metadata": {
        "id": "4h8hgVptw_lf",
        "colab_type": "text"
      },
      "cell_type": "markdown",
      "source": [
        "### Helper-function for showing the performance"
      ]
    },
    {
      "metadata": {
        "id": "Nu50f9hWw_lg",
        "colab_type": "text"
      },
      "cell_type": "markdown",
      "source": [
        "Function for printing the classification accuracy on the test-set.\n",
        "\n",
        "It takes a while to compute the classification for all the images in the test-set, that's why the results are re-used by calling the above functions directly from this function, so the classifications don't have to be recalculated by each function.\n",
        "\n",
        "Note that this function can use a lot of computer memory, which is why the test-set is split into smaller batches. If you have little RAM in your computer and it crashes, then you can try and lower the batch-size."
      ]
    },
    {
      "metadata": {
        "id": "kB82G3mkw_lg",
        "colab_type": "code",
        "colab": {
          "autoexec": {
            "startup": false,
            "wait_interval": 0
          }
        }
      },
      "cell_type": "code",
      "source": [
        "# Split the test-set into smaller batches of this size.\n",
        "test_batch_size = 256\n",
        "\n",
        "def print_test_accuracy(show_example_errors=False,\n",
        "                        show_confusion_matrix=False):\n",
        "\n",
        "    # Number of images in the test-set.\n",
        "    num_test = len(data.test.images)\n",
        "\n",
        "    # Allocate an array for the predicted classes which\n",
        "    # will be calculated in batches and filled into this array.\n",
        "    cls_pred = np.zeros(shape=num_test, dtype=np.int)\n",
        "\n",
        "    # Now calculate the predicted classes for the batches.\n",
        "    # We will just iterate through all the batches.\n",
        "    # There might be a more clever and Pythonic way of doing this.\n",
        "\n",
        "    # The starting index for the next batch is denoted i.\n",
        "    i = 0\n",
        "\n",
        "    while i < num_test:\n",
        "        # The ending index for the next batch is denoted j.\n",
        "        j = min(i + test_batch_size, num_test)\n",
        "\n",
        "        # Get the images from the test-set between index i and j.\n",
        "        images = data.test.images[i:j, :]\n",
        "\n",
        "        # Get the associated labels.\n",
        "        labels = data.test.labels[i:j, :]\n",
        "\n",
        "        # Create a feed-dict with these images and labels.\n",
        "        feed_dict = {x: images,\n",
        "                     y_true: labels}\n",
        "\n",
        "        # Calculate the predicted class using TensorFlow.\n",
        "        cls_pred[i:j] = session.run(y_pred_cls, feed_dict=feed_dict)\n",
        "\n",
        "        # Set the start-index for the next batch to the\n",
        "        # end-index of the current batch.\n",
        "        i = j\n",
        "\n",
        "    # Convenience variable for the true class-numbers of the test-set.\n",
        "    cls_true = data.test.cls\n",
        "\n",
        "    # Create a boolean array whether each image is correctly classified.\n",
        "    correct = (cls_true == cls_pred)\n",
        "\n",
        "    # Calculate the number of correctly classified images.\n",
        "    # When summing a boolean array, False means 0 and True means 1.\n",
        "    correct_sum = correct.sum()\n",
        "\n",
        "    # Classification accuracy is the number of correctly classified\n",
        "    # images divided by the total number of images in the test-set.\n",
        "    acc = float(correct_sum) / num_test\n",
        "\n",
        "    # Print the accuracy.\n",
        "    msg = \"Accuracy on Test-Set: {0:.1%} ({1} / {2})\"\n",
        "    print(msg.format(acc, correct_sum, num_test))\n",
        "\n",
        "    # Plot some examples of mis-classifications, if desired.\n",
        "    if show_example_errors:\n",
        "        print(\"Example errors:\")\n",
        "        plot_example_errors(cls_pred=cls_pred, correct=correct)\n",
        "\n",
        "    # Plot the confusion matrix, if desired.\n",
        "    if show_confusion_matrix:\n",
        "        print(\"Confusion Matrix:\")\n",
        "        plot_confusion_matrix(cls_pred=cls_pred)"
      ],
      "execution_count": 0,
      "outputs": []
    },
    {
      "metadata": {
        "id": "zFrDRhHxw_li",
        "colab_type": "text"
      },
      "cell_type": "markdown",
      "source": [
        "## Performance before any optimization\n",
        "\n",
        "The accuracy on the test-set is very low because the model variables have only been initialized and not optimized at all, so it just classifies the images randomly."
      ]
    },
    {
      "metadata": {
        "id": "UIcm0tBFw_li",
        "colab_type": "code",
        "colab": {
          "autoexec": {
            "startup": false,
            "wait_interval": 0
          },
          "base_uri": "https://localhost:8080/",
          "height": 35
        },
        "outputId": "6aa901ac-d137-45e5-958c-eeaa356f6705",
        "executionInfo": {
          "status": "ok",
          "timestamp": 1533715748025,
          "user_tz": -480,
          "elapsed": 1882,
          "user": {
            "displayName": "Jonathan Sherman",
            "photoUrl": "https://lh3.googleusercontent.com/a/default-user=s128",
            "userId": "105267990690274350185"
          }
        }
      },
      "cell_type": "code",
      "source": [
        "print_test_accuracy()"
      ],
      "execution_count": 44,
      "outputs": [
        {
          "output_type": "stream",
          "text": [
            "Accuracy on Test-Set: 10.1% (1005 / 10000)\n"
          ],
          "name": "stdout"
        }
      ]
    },
    {
      "metadata": {
        "id": "EtQ-tQxpw_ll",
        "colab_type": "text"
      },
      "cell_type": "markdown",
      "source": [
        "## Performance after 1 optimization iteration\n",
        "\n",
        "The classification accuracy does not improve much from just 1 optimization iteration, because the learning-rate for the optimizer is set very low."
      ]
    },
    {
      "metadata": {
        "id": "N4LREv4Vw_ll",
        "colab_type": "code",
        "colab": {
          "autoexec": {
            "startup": false,
            "wait_interval": 0
          },
          "base_uri": "https://localhost:8080/",
          "height": 53
        },
        "outputId": "82386435-883b-42e1-bfa4-988692183f70",
        "executionInfo": {
          "status": "ok",
          "timestamp": 1533715748939,
          "user_tz": -480,
          "elapsed": 893,
          "user": {
            "displayName": "Jonathan Sherman",
            "photoUrl": "https://lh3.googleusercontent.com/a/default-user=s128",
            "userId": "105267990690274350185"
          }
        }
      },
      "cell_type": "code",
      "source": [
        "optimize(num_iterations=1)"
      ],
      "execution_count": 45,
      "outputs": [
        {
          "output_type": "stream",
          "text": [
            "Optimization Iteration:      1, Training Accuracy:  25.0%\n",
            "Time usage: 0:00:00\n"
          ],
          "name": "stdout"
        }
      ]
    },
    {
      "metadata": {
        "id": "rGtE2Z1dw_ln",
        "colab_type": "code",
        "colab": {
          "autoexec": {
            "startup": false,
            "wait_interval": 0
          },
          "base_uri": "https://localhost:8080/",
          "height": 35
        },
        "outputId": "7f47d9a1-2b12-450e-ded5-93776cc7a859",
        "executionInfo": {
          "status": "ok",
          "timestamp": 1533715749908,
          "user_tz": -480,
          "elapsed": 834,
          "user": {
            "displayName": "Jonathan Sherman",
            "photoUrl": "https://lh3.googleusercontent.com/a/default-user=s128",
            "userId": "105267990690274350185"
          }
        }
      },
      "cell_type": "code",
      "source": [
        "print_test_accuracy()"
      ],
      "execution_count": 46,
      "outputs": [
        {
          "output_type": "stream",
          "text": [
            "Accuracy on Test-Set: 17.1% (1712 / 10000)\n"
          ],
          "name": "stdout"
        }
      ]
    },
    {
      "metadata": {
        "id": "FEFNIZGvw_lp",
        "colab_type": "text"
      },
      "cell_type": "markdown",
      "source": [
        "## Performance after 100 optimization iterations\n",
        "\n",
        "After 100 optimization iterations, the model has significantly improved its classification accuracy."
      ]
    },
    {
      "metadata": {
        "id": "jKdU6fKgw_lp",
        "colab_type": "code",
        "colab": {
          "autoexec": {
            "startup": false,
            "wait_interval": 0
          },
          "base_uri": "https://localhost:8080/",
          "height": 35
        },
        "outputId": "910d8e0f-4714-4397-bfcc-58bc39310d3b",
        "executionInfo": {
          "status": "ok",
          "timestamp": 1533715751357,
          "user_tz": -480,
          "elapsed": 1331,
          "user": {
            "displayName": "Jonathan Sherman",
            "photoUrl": "https://lh3.googleusercontent.com/a/default-user=s128",
            "userId": "105267990690274350185"
          }
        }
      },
      "cell_type": "code",
      "source": [
        "optimize(num_iterations=99) # We already performed 1 iteration above."
      ],
      "execution_count": 47,
      "outputs": [
        {
          "output_type": "stream",
          "text": [
            "Time usage: 0:00:01\n"
          ],
          "name": "stdout"
        }
      ]
    },
    {
      "metadata": {
        "id": "tl9hCWkQw_lr",
        "colab_type": "code",
        "colab": {
          "autoexec": {
            "startup": false,
            "wait_interval": 0
          },
          "base_uri": "https://localhost:8080/",
          "height": 298
        },
        "outputId": "b5a8a418-4058-422e-8e9c-4dda212974a8",
        "executionInfo": {
          "status": "ok",
          "timestamp": 1533715752951,
          "user_tz": -480,
          "elapsed": 1569,
          "user": {
            "displayName": "Jonathan Sherman",
            "photoUrl": "https://lh3.googleusercontent.com/a/default-user=s128",
            "userId": "105267990690274350185"
          }
        }
      },
      "cell_type": "code",
      "source": [
        "print_test_accuracy(show_example_errors=True)"
      ],
      "execution_count": 48,
      "outputs": [
        {
          "output_type": "stream",
          "text": [
            "Accuracy on Test-Set: 80.5% (8052 / 10000)\n",
            "Example errors:\n"
          ],
          "name": "stdout"
        },
        {
          "output_type": "display_data",
          "data": {
            "image/png": "[encoded data removed]",
            "text/plain": [
              "<matplotlib.figure.Figure at 0x7f72d7469cf8>"
            ]
          },
          "metadata": {
            "tags": []
          }
        }
      ]
    },
    {
      "metadata": {
        "id": "F-N-kP_Hw_ls",
        "colab_type": "text"
      },
      "cell_type": "markdown",
      "source": [
        "## Performance after 1000 optimization iterations\n",
        "\n",
        "After 1000 optimization iterations, the model has greatly increased its accuracy on the test-set to more than 90%."
      ]
    },
    {
      "metadata": {
        "id": "v_nSRA_tw_lt",
        "colab_type": "code",
        "colab": {
          "autoexec": {
            "startup": false,
            "wait_interval": 0
          },
          "base_uri": "https://localhost:8080/",
          "height": 197
        },
        "outputId": "29bd0faa-0707-41c6-87d7-656cb4c8fab4",
        "executionInfo": {
          "status": "ok",
          "timestamp": 1533715761052,
          "user_tz": -480,
          "elapsed": 8077,
          "user": {
            "displayName": "Jonathan Sherman",
            "photoUrl": "https://lh3.googleusercontent.com/a/default-user=s128",
            "userId": "105267990690274350185"
          }
        }
      },
      "cell_type": "code",
      "source": [
        "optimize(num_iterations=900) # We performed 100 iterations above."
      ],
      "execution_count": 49,
      "outputs": [
        {
          "output_type": "stream",
          "text": [
            "Optimization Iteration:    101, Training Accuracy:  78.1%\n",
            "Optimization Iteration:    201, Training Accuracy:  89.1%\n",
            "Optimization Iteration:    301, Training Accuracy:  85.9%\n",
            "Optimization Iteration:    401, Training Accuracy:  93.8%\n",
            "Optimization Iteration:    501, Training Accuracy:  96.9%\n",
            "Optimization Iteration:    601, Training Accuracy:  98.4%\n",
            "Optimization Iteration:    701, Training Accuracy:  93.8%\n",
            "Optimization Iteration:    801, Training Accuracy:  96.9%\n",
            "Optimization Iteration:    901, Training Accuracy:  89.1%\n",
            "Time usage: 0:00:06\n"
          ],
          "name": "stdout"
        }
      ]
    },
    {
      "metadata": {
        "id": "RKSfDdy8w_lu",
        "colab_type": "code",
        "colab": {
          "autoexec": {
            "startup": false,
            "wait_interval": 0
          },
          "base_uri": "https://localhost:8080/",
          "height": 298
        },
        "outputId": "91c0e257-04e9-491b-9d58-35314ffda47b",
        "executionInfo": {
          "status": "ok",
          "timestamp": 1533715762731,
          "user_tz": -480,
          "elapsed": 1575,
          "user": {
            "displayName": "Jonathan Sherman",
            "photoUrl": "https://lh3.googleusercontent.com/a/default-user=s128",
            "userId": "105267990690274350185"
          }
        }
      },
      "cell_type": "code",
      "source": [
        "print_test_accuracy(show_example_errors=True)"
      ],
      "execution_count": 50,
      "outputs": [
        {
          "output_type": "stream",
          "text": [
            "Accuracy on Test-Set: 96.2% (9621 / 10000)\n",
            "Example errors:\n"
          ],
          "name": "stdout"
        },
        {
          "output_type": "display_data",
          "data": {
            "image/png": "[encoded data removed]",
            "text/plain": [
              "<matplotlib.figure.Figure at 0x7f72d74f3390>"
            ]
          },
          "metadata": {
            "tags": []
          }
        }
      ]
    },
    {
      "metadata": {
        "id": "flWHR4_-w_lw",
        "colab_type": "text"
      },
      "cell_type": "markdown",
      "source": [
        "## Performance after 10,000 optimization iterations\n",
        "\n",
        "After 10,000 optimization iterations, the model has a classification accuracy on the test-set of about 99%."
      ]
    },
    {
      "metadata": {
        "id": "HcSIaA-Dw_lw",
        "colab_type": "code",
        "colab": {
          "autoexec": {
            "startup": false,
            "wait_interval": 0
          },
          "base_uri": "https://localhost:8080/",
          "height": 1457
        },
        "outputId": "5769d94d-4699-4bdb-e5a7-8402d67b30fc"
      },
      "cell_type": "code",
      "source": [
        "optimize(num_iterations=9000) # We performed 1000 iterations above."
      ],
      "execution_count": 0,
      "outputs": [
        {
          "output_type": "stream",
          "text": [
            "Optimization Iteration:   1001, Training Accuracy:  96.9%\n",
            "Optimization Iteration:   1101, Training Accuracy:  98.4%\n",
            "Optimization Iteration:   1201, Training Accuracy:  98.4%\n",
            "Optimization Iteration:   1301, Training Accuracy:  95.3%\n",
            "Optimization Iteration:   1401, Training Accuracy:  95.3%\n",
            "Optimization Iteration:   1501, Training Accuracy: 100.0%\n",
            "Optimization Iteration:   1601, Training Accuracy:  96.9%\n",
            "Optimization Iteration:   1701, Training Accuracy: 100.0%\n",
            "Optimization Iteration:   1801, Training Accuracy:  93.8%\n",
            "Optimization Iteration:   1901, Training Accuracy: 100.0%\n",
            "Optimization Iteration:   2001, Training Accuracy:  93.8%\n",
            "Optimization Iteration:   2101, Training Accuracy: 100.0%\n",
            "Optimization Iteration:   2201, Training Accuracy:  98.4%\n",
            "Optimization Iteration:   2301, Training Accuracy:  98.4%\n",
            "Optimization Iteration:   2401, Training Accuracy:  95.3%\n",
            "Optimization Iteration:   2501, Training Accuracy:  98.4%\n",
            "Optimization Iteration:   2601, Training Accuracy:  98.4%\n",
            "Optimization Iteration:   2701, Training Accuracy:  98.4%\n",
            "Optimization Iteration:   2801, Training Accuracy: 100.0%\n",
            "Optimization Iteration:   2901, Training Accuracy:  98.4%\n",
            "Optimization Iteration:   3001, Training Accuracy:  98.4%\n",
            "Optimization Iteration:   3101, Training Accuracy: 100.0%\n",
            "Optimization Iteration:   3201, Training Accuracy:  98.4%\n",
            "Optimization Iteration:   3301, Training Accuracy:  98.4%\n",
            "Optimization Iteration:   3401, Training Accuracy: 100.0%\n",
            "Optimization Iteration:   3501, Training Accuracy: 100.0%\n",
            "Optimization Iteration:   3601, Training Accuracy:  98.4%\n",
            "Optimization Iteration:   3701, Training Accuracy: 100.0%\n",
            "Optimization Iteration:   3801, Training Accuracy: 100.0%\n",
            "Optimization Iteration:   3901, Training Accuracy: 100.0%\n",
            "Optimization Iteration:   4001, Training Accuracy:  98.4%\n",
            "Optimization Iteration:   4101, Training Accuracy:  98.4%\n",
            "Optimization Iteration:   4201, Training Accuracy: 100.0%\n",
            "Optimization Iteration:   4301, Training Accuracy: 100.0%\n",
            "Optimization Iteration:   4401, Training Accuracy: 100.0%\n",
            "Optimization Iteration:   4501, Training Accuracy: 100.0%\n",
            "Optimization Iteration:   4601, Training Accuracy:  98.4%\n",
            "Optimization Iteration:   4701, Training Accuracy: 100.0%\n",
            "Optimization Iteration:   4801, Training Accuracy: 100.0%\n",
            "Optimization Iteration:   4901, Training Accuracy: 100.0%\n",
            "Optimization Iteration:   5001, Training Accuracy: 100.0%\n",
            "Optimization Iteration:   5101, Training Accuracy: 100.0%\n",
            "Optimization Iteration:   5201, Training Accuracy:  98.4%\n",
            "Optimization Iteration:   5301, Training Accuracy: 100.0%\n",
            "Optimization Iteration:   5401, Training Accuracy: 100.0%\n",
            "Optimization Iteration:   5501, Training Accuracy: 100.0%\n",
            "Optimization Iteration:   5601, Training Accuracy: 100.0%\n",
            "Optimization Iteration:   5701, Training Accuracy: 100.0%\n",
            "Optimization Iteration:   5801, Training Accuracy: 100.0%\n",
            "Optimization Iteration:   5901, Training Accuracy:  96.9%\n",
            "Optimization Iteration:   6001, Training Accuracy: 100.0%\n",
            "Optimization Iteration:   6101, Training Accuracy:  98.4%\n",
            "Optimization Iteration:   6201, Training Accuracy:  96.9%\n",
            "Optimization Iteration:   6301, Training Accuracy:  98.4%\n",
            "Optimization Iteration:   6401, Training Accuracy:  98.4%\n",
            "Optimization Iteration:   6501, Training Accuracy: 100.0%\n",
            "Optimization Iteration:   6601, Training Accuracy: 100.0%\n",
            "Optimization Iteration:   6701, Training Accuracy: 100.0%\n",
            "Optimization Iteration:   6801, Training Accuracy: 100.0%\n",
            "Optimization Iteration:   6901, Training Accuracy:  98.4%\n",
            "Optimization Iteration:   7001, Training Accuracy: 100.0%\n",
            "Optimization Iteration:   7101, Training Accuracy: 100.0%\n",
            "Optimization Iteration:   7201, Training Accuracy: 100.0%\n",
            "Optimization Iteration:   7301, Training Accuracy:  96.9%\n",
            "Optimization Iteration:   7401, Training Accuracy:  98.4%\n",
            "Optimization Iteration:   7501, Training Accuracy: 100.0%\n",
            "Optimization Iteration:   7601, Training Accuracy: 100.0%\n",
            "Optimization Iteration:   7701, Training Accuracy: 100.0%\n",
            "Optimization Iteration:   7801, Training Accuracy: 100.0%\n",
            "Optimization Iteration:   7901, Training Accuracy: 100.0%\n",
            "Optimization Iteration:   8001, Training Accuracy:  98.4%\n",
            "Optimization Iteration:   8101, Training Accuracy:  98.4%\n",
            "Optimization Iteration:   8201, Training Accuracy: 100.0%\n",
            "Optimization Iteration:   8301, Training Accuracy: 100.0%\n",
            "Optimization Iteration:   8401, Training Accuracy: 100.0%\n",
            "Optimization Iteration:   8501, Training Accuracy: 100.0%\n",
            "Optimization Iteration:   8601, Training Accuracy: 100.0%\n",
            "Optimization Iteration:   8701, Training Accuracy: 100.0%\n",
            "Optimization Iteration:   8801, Training Accuracy: 100.0%\n",
            "Optimization Iteration:   8901, Training Accuracy: 100.0%\n"
          ],
          "name": "stdout"
        }
      ]
    },
    {
      "metadata": {
        "id": "YXGm-99qw_lz",
        "colab_type": "code",
        "colab": {
          "autoexec": {
            "startup": false,
            "wait_interval": 0
          },
          "base_uri": "https://localhost:8080/",
          "height": 739
        },
        "outputId": "7c75d95a-fc1b-4fd4-8197-67752d6cb4f7",
        "executionInfo": {
          "status": "ok",
          "timestamp": 1532070522902,
          "user_tz": -480,
          "elapsed": 2027,
          "user": {
            "displayName": "Jonathan Sherman",
            "photoUrl": "https://lh3.googleusercontent.com/a/default-user=s128",
            "userId": "105267990690274350185"
          }
        }
      },
      "cell_type": "code",
      "source": [
        "print_test_accuracy(show_example_errors=True,\n",
        "                    show_confusion_matrix=True)"
      ],
      "execution_count": 0,
      "outputs": [
        {
          "output_type": "stream",
          "text": [
            "Accuracy on Test-Set: 89.8% (8983 / 10000)\n",
            "Example errors:\n"
          ],
          "name": "stdout"
        },
        {
          "output_type": "display_data",
          "data": {
            "image/png": "[encoded data removed]",
            "text/plain": [
              "<matplotlib.figure.Figure at 0x7efc2c97c9e8>"
            ]
          },
          "metadata": {
            "tags": []
          }
        },
        {
          "output_type": "stream",
          "text": [
            "Confusion Matrix:\n",
            "[[862   0  10  17   4   1 101   0   5   0]\n",
            " [  2 982   0  11   2   0   2   0   1   0]\n",
            " [ 16   2 800  10  88   0  83   0   1   0]\n",
            " [ 17   7   8 907  29   0  29   0   3   0]\n",
            " [  1   2  49  33 850   0  64   0   1   0]\n",
            " [  0   0   0   1   0 972   0  14   0  13]\n",
            " [135   3  49  23  68   0 714   0   8   0]\n",
            " [  0   0   0   0   0  14   0 946   0  40]\n",
            " [  3   2   1   4   2   1   1   5 981   0]\n",
            " [  0   0   0   0   0   3   1  27   0 969]]\n"
          ],
          "name": "stdout"
        },
        {
          "output_type": "display_data",
          "data": {
            "image/png": "[encoded data removed]",
            "text/plain": [
              "<matplotlib.figure.Figure at 0x7efc2f45deb8>"
            ]
          },
          "metadata": {
            "tags": []
          }
        }
      ]
    },
    {
      "metadata": {
        "id": "y8FRifVDw_l0",
        "colab_type": "text"
      },
      "cell_type": "markdown",
      "source": [
        "## Visualization of Weights and Layers\n",
        "\n",
        "In trying to understand why the convolutional neural network can recognize handwritten digits, we will now visualize the weights of the convolutional filters and the resulting output images."
      ]
    },
    {
      "metadata": {
        "id": "wUUg5Dgyw_l2",
        "colab_type": "text"
      },
      "cell_type": "markdown",
      "source": [
        "### Helper-function for plotting convolutional weights"
      ]
    },
    {
      "metadata": {
        "id": "JoAsiQ0Ew_l2",
        "colab_type": "code",
        "colab": {
          "autoexec": {
            "startup": false,
            "wait_interval": 0
          }
        }
      },
      "cell_type": "code",
      "source": [
        "def plot_conv_weights(weights, input_channel=0):\n",
        "    # Assume weights are TensorFlow ops for 4-dim variables\n",
        "    # e.g. weights_conv1 or weights_conv2.\n",
        "    \n",
        "    # Retrieve the values of the weight-variables from TensorFlow.\n",
        "    # A feed-dict is not necessary because nothing is calculated.\n",
        "    w = session.run(weights)\n",
        "\n",
        "    # Get the lowest and highest values for the weights.\n",
        "    # This is used to correct the colour intensity across\n",
        "    # the images so they can be compared with each other.\n",
        "    w_min = np.min(w)\n",
        "    w_max = np.max(w)\n",
        "\n",
        "    # Number of filters used in the conv. layer.\n",
        "    num_filters = w.shape[3]\n",
        "\n",
        "    # Number of grids to plot.\n",
        "    # Rounded-up, square-root of the number of filters.\n",
        "    num_grids = math.ceil(math.sqrt(num_filters))\n",
        "    \n",
        "    # Create figure with a grid of sub-plots.\n",
        "    fig, axes = plt.subplots(num_grids, num_grids)\n",
        "\n",
        "    # Plot all the filter-weights.\n",
        "    for i, ax in enumerate(axes.flat):\n",
        "        # Only plot the valid filter-weights.\n",
        "        if i<num_filters:\n",
        "            # Get the weights for the i'th filter of the input channel.\n",
        "            # See new_conv_layer() for details on the format\n",
        "            # of this 4-dim tensor.\n",
        "            img = w[:, :, input_channel, i]\n",
        "\n",
        "            # Plot image.\n",
        "            ax.imshow(img, vmin=w_min, vmax=w_max,\n",
        "                      interpolation='nearest', cmap='seismic')\n",
        "        \n",
        "        # Remove ticks from the plot.\n",
        "        ax.set_xticks([])\n",
        "        ax.set_yticks([])\n",
        "    \n",
        "    # Ensure the plot is shown correctly with multiple plots\n",
        "    # in a single Notebook cell.\n",
        "    plt.show()"
      ],
      "execution_count": 0,
      "outputs": []
    },
    {
      "metadata": {
        "id": "OwfTsTQAw_l5",
        "colab_type": "text"
      },
      "cell_type": "markdown",
      "source": [
        "### Helper-function for plotting the output of a convolutional layer"
      ]
    },
    {
      "metadata": {
        "id": "DRuqQVmUw_l5",
        "colab_type": "code",
        "colab": {
          "autoexec": {
            "startup": false,
            "wait_interval": 0
          }
        }
      },
      "cell_type": "code",
      "source": [
        "def plot_conv_layer(layer, image):\n",
        "    # Assume layer is a TensorFlow op that outputs a 4-dim tensor\n",
        "    # which is the output of a convolutional layer,\n",
        "    # e.g. layer_conv1 or layer_conv2.\n",
        "\n",
        "    # Create a feed-dict containing just one image.\n",
        "    # Note that we don't need to feed y_true because it is\n",
        "    # not used in this calculation.\n",
        "    feed_dict = {x: [image]}\n",
        "\n",
        "    # Calculate and retrieve the output values of the layer\n",
        "    # when inputting that image.\n",
        "    values = session.run(layer, feed_dict=feed_dict)\n",
        "\n",
        "    # Number of filters used in the conv. layer.\n",
        "    num_filters = values.shape[3]\n",
        "\n",
        "    # Number of grids to plot.\n",
        "    # Rounded-up, square-root of the number of filters.\n",
        "    num_grids = math.ceil(math.sqrt(num_filters))\n",
        "    \n",
        "    # Create figure with a grid of sub-plots.\n",
        "    fig, axes = plt.subplots(num_grids, num_grids)\n",
        "\n",
        "    # Plot the output images of all the filters.\n",
        "    for i, ax in enumerate(axes.flat):\n",
        "        # Only plot the images for valid filters.\n",
        "        if i<num_filters:\n",
        "            # Get the output image of using the i'th filter.\n",
        "            # See new_conv_layer() for details on the format\n",
        "            # of this 4-dim tensor.\n",
        "            img = values[0, :, :, i]\n",
        "\n",
        "            # Plot image.\n",
        "            ax.imshow(img, interpolation='nearest', cmap='binary')\n",
        "        \n",
        "        # Remove ticks from the plot.\n",
        "        ax.set_xticks([])\n",
        "        ax.set_yticks([])\n",
        "    \n",
        "    # Ensure the plot is shown correctly with multiple plots\n",
        "    # in a single Notebook cell.\n",
        "    plt.show()"
      ],
      "execution_count": 0,
      "outputs": []
    },
    {
      "metadata": {
        "id": "fPGMrEp0Uhvw",
        "colab_type": "code",
        "colab": {
          "autoexec": {
            "startup": false,
            "wait_interval": 0
          }
        }
      },
      "cell_type": "code",
      "source": [
        "def plot_fullc_layer(layer, image):\n",
        "    # Assume layer is a TensorFlow op that outputs a 4-dim tensor\n",
        "    # which is the output of a convolutional layer,\n",
        "    # e.g. layer_conv1 or layer_conv2.\n",
        "\n",
        "    # Create a feed-dict containing just one image.\n",
        "    # Note that we don't need to feed y_true because it is\n",
        "    # not used in this calculation.\n",
        "    feed_dict = {x: [image]}\n",
        "\n",
        "    # Calculate and retrieve the output values of the layer\n",
        "    # when inputting that image.\n",
        "    values = np.asarray(session.run(layer, feed_dict=feed_dict))\n",
        "    \n",
        "    values_r = np.squeeze(values)\n",
        "        \n",
        "    values_r.shape = (28, 28)\n",
        "    \n",
        "    image_r = image\n",
        "    \n",
        "    image_r.shape = (28, 28)\n",
        "    \n",
        "     #Remove ticks from the plot.\n",
        "    fig, ax = plt.subplots()\n",
        "\n",
        "    ax.set_xticks([])\n",
        "    ax.set_yticks([])\n",
        "    \n",
        "    plt.imshow(np.matmul(values_r,image_r),\n",
        "               interpolation='nearest',\n",
        "               cmap='binary')\n",
        "\n",
        "    plt.show()\n",
        "\n",
        "    # Number of filters used in the conv. layer.\n",
        "    #num_filters = values.shape[1]\n",
        "\n",
        "    # Number of grids to plot.\n",
        "    # Rounded-up, square-root of the number of filters.\n",
        "    #num_grids = math.ceil(math.sqrt(num_filters))\n",
        "    \n",
        "    # Create figure with a grid of sub-plots.\n",
        "    #fig, axes = plt.subplots(num_grids, num_grids)\n",
        "\n",
        "    # Plot the output images of all the filters.\n",
        "    #for i, ax in enumerate(axes.flat):\n",
        "        # Only plot the images for valid filters.\n",
        "    #    if i<num_filters:\n",
        "            # Get the output image of using the i'th filter.\n",
        "            # See new_conv_layer() for details on the format\n",
        "            # of this 4-dim tensor.\n",
        "     #       img = values_r[:, i]\n",
        "            \n",
        "            \n",
        "\n",
        "            # Plot image.\n",
        "      #      ax.imshow(img, interpolation='nearest', cmap='binary')\n",
        "        \n",
        "        # Remove ticks from the plot.\n",
        "     #   ax.set_xticks([])\n",
        "      #  ax.set_yticks([])\n",
        "    \n",
        "    # Ensure the plot is shown correctly with multiple plots\n",
        "    # in a single Notebook cell.\n",
        "    #plt.show()"
      ],
      "execution_count": 0,
      "outputs": []
    },
    {
      "metadata": {
        "id": "m_irZ3J7w_l7",
        "colab_type": "text"
      },
      "cell_type": "markdown",
      "source": [
        "### Input Images"
      ]
    },
    {
      "metadata": {
        "id": "MQ_DVJhRw_l7",
        "colab_type": "text"
      },
      "cell_type": "markdown",
      "source": [
        "Helper-function for plotting an image."
      ]
    },
    {
      "metadata": {
        "id": "Wv29FzJRw_l8",
        "colab_type": "code",
        "colab": {
          "autoexec": {
            "startup": false,
            "wait_interval": 0
          }
        }
      },
      "cell_type": "code",
      "source": [
        "def plot_image(image):\n",
        "    plt.imshow(image.reshape(img_shape),\n",
        "               interpolation='nearest',\n",
        "               cmap='binary')\n",
        "\n",
        "    plt.show()"
      ],
      "execution_count": 0,
      "outputs": []
    },
    {
      "metadata": {
        "id": "7bTBUQBhw_l9",
        "colab_type": "text"
      },
      "cell_type": "markdown",
      "source": [
        "Plot an image from the test-set which will be used as an example below."
      ]
    },
    {
      "metadata": {
        "id": "BSHOk_rEw_l-",
        "colab_type": "code",
        "colab": {
          "autoexec": {
            "startup": false,
            "wait_interval": 0
          },
          "base_uri": "https://localhost:8080/",
          "height": 265
        },
        "outputId": "9f4307bb-aaa2-4491-d447-c1fa07681cab",
        "executionInfo": {
          "status": "ok",
          "timestamp": 1532071062331,
          "user_tz": -480,
          "elapsed": 815,
          "user": {
            "displayName": "Jonathan Sherman",
            "photoUrl": "https://lh3.googleusercontent.com/a/default-user=s128",
            "userId": "105267990690274350185"
          }
        }
      },
      "cell_type": "code",
      "source": [
        "image1 = data.test.images[0]\n",
        "plot_image(image1)"
      ],
      "execution_count": 0,
      "outputs": [
        {
          "output_type": "display_data",
          "data": {
            "image/png": "[encoded data removed]",
            "text/plain": [
              "<matplotlib.figure.Figure at 0x7efbfe206198>"
            ]
          },
          "metadata": {
            "tags": []
          }
        }
      ]
    },
    {
      "metadata": {
        "id": "beMH2lQQw_mA",
        "colab_type": "text"
      },
      "cell_type": "markdown",
      "source": [
        "Plot another example image from the test-set."
      ]
    },
    {
      "metadata": {
        "id": "9dGudt8hw_mB",
        "colab_type": "code",
        "colab": {
          "autoexec": {
            "startup": false,
            "wait_interval": 0
          },
          "base_uri": "https://localhost:8080/",
          "height": 265
        },
        "outputId": "aceacf85-3719-411b-fcbd-fdb37f3477e0",
        "executionInfo": {
          "status": "ok",
          "timestamp": 1532070529158,
          "user_tz": -480,
          "elapsed": 1109,
          "user": {
            "displayName": "Jonathan Sherman",
            "photoUrl": "https://lh3.googleusercontent.com/a/default-user=s128",
            "userId": "105267990690274350185"
          }
        }
      },
      "cell_type": "code",
      "source": [
        "image2 = data.test.images[13]\n",
        "plot_image(image2)"
      ],
      "execution_count": 0,
      "outputs": [
        {
          "output_type": "display_data",
          "data": {
            "image/png": "[encoded data removed]",
            "text/plain": [
              "<matplotlib.figure.Figure at 0x7efbfeb71cc0>"
            ]
          },
          "metadata": {
            "tags": []
          }
        }
      ]
    },
    {
      "metadata": {
        "id": "Xi4teWiI2hJv",
        "colab_type": "code",
        "colab": {
          "autoexec": {
            "startup": false,
            "wait_interval": 0
          },
          "base_uri": "https://localhost:8080/",
          "height": 55
        },
        "outputId": "3cf434ce-eb12-44c8-80c5-b4e358ef71dd",
        "executionInfo": {
          "status": "ok",
          "timestamp": 1532070530004,
          "user_tz": -480,
          "elapsed": 683,
          "user": {
            "displayName": "Jonathan Sherman",
            "photoUrl": "https://lh3.googleusercontent.com/a/default-user=s128",
            "userId": "105267990690274350185"
          }
        }
      },
      "cell_type": "code",
      "source": [
        "layers = [op for op in tf.get_default_graph().get_operations()]\n",
        "print(layers)"
      ],
      "execution_count": 0,
      "outputs": [
        {
          "output_type": "stream",
          "text": [
            "[<tf.Operation 'x' type=Placeholder>, <tf.Operation 'Reshape/shape' type=Const>, <tf.Operation 'Reshape' type=Reshape>, <tf.Operation 'y_true' type=Placeholder>, <tf.Operation 'ArgMax/dimension' type=Const>, <tf.Operation 'ArgMax' type=ArgMax>, <tf.Operation 'truncated_normal/shape' type=Const>, <tf.Operation 'truncated_normal/mean' type=Const>, <tf.Operation 'truncated_normal/stddev' type=Const>, <tf.Operation 'truncated_normal/TruncatedNormal' type=TruncatedNormal>, <tf.Operation 'truncated_normal/mul' type=Mul>, <tf.Operation 'truncated_normal' type=Add>, <tf.Operation 'Variable' type=VariableV2>, <tf.Operation 'Variable/Assign' type=Assign>, <tf.Operation 'Variable/read' type=Identity>, <tf.Operation 'weights/tag' type=Const>, <tf.Operation 'weights' type=HistogramSummary>, <tf.Operation 'Const' type=Const>, <tf.Operation 'Variable_1' type=VariableV2>, <tf.Operation 'Variable_1/Assign' type=Assign>, <tf.Operation 'Variable_1/read' type=Identity>, <tf.Operation 'biases/tag' type=Const>, <tf.Operation 'biases' type=HistogramSummary>, <tf.Operation 'Conv2D' type=Conv2D>, <tf.Operation 'add' type=Add>, <tf.Operation 'MaxPool' type=MaxPool>, <tf.Operation 'Relu' type=Relu>, <tf.Operation 'truncated_normal_1/shape' type=Const>, <tf.Operation 'truncated_normal_1/mean' type=Const>, <tf.Operation 'truncated_normal_1/stddev' type=Const>, <tf.Operation 'truncated_normal_1/TruncatedNormal' type=TruncatedNormal>, <tf.Operation 'truncated_normal_1/mul' type=Mul>, <tf.Operation 'truncated_normal_1' type=Add>, <tf.Operation 'Variable_2' type=VariableV2>, <tf.Operation 'Variable_2/Assign' type=Assign>, <tf.Operation 'Variable_2/read' type=Identity>, <tf.Operation 'weights_1/tag' type=Const>, <tf.Operation 'weights_1' type=HistogramSummary>, <tf.Operation 'Const_1' type=Const>, <tf.Operation 'Variable_3' type=VariableV2>, <tf.Operation 'Variable_3/Assign' type=Assign>, <tf.Operation 'Variable_3/read' type=Identity>, <tf.Operation 'biases_1/tag' type=Const>, <tf.Operation 'biases_1' type=HistogramSummary>, <tf.Operation 'Conv2D_1' type=Conv2D>, <tf.Operation 'add_1' type=Add>, <tf.Operation 'MaxPool_1' type=MaxPool>, <tf.Operation 'Relu_1' type=Relu>, <tf.Operation 'Reshape_1/shape' type=Const>, <tf.Operation 'Reshape_1' type=Reshape>, <tf.Operation 'truncated_normal_2/shape' type=Const>, <tf.Operation 'truncated_normal_2/mean' type=Const>, <tf.Operation 'truncated_normal_2/stddev' type=Const>, <tf.Operation 'truncated_normal_2/TruncatedNormal' type=TruncatedNormal>, <tf.Operation 'truncated_normal_2/mul' type=Mul>, <tf.Operation 'truncated_normal_2' type=Add>, <tf.Operation 'Variable_4' type=VariableV2>, <tf.Operation 'Variable_4/Assign' type=Assign>, <tf.Operation 'Variable_4/read' type=Identity>, <tf.Operation 'Const_2' type=Const>, <tf.Operation 'Variable_5' type=VariableV2>, <tf.Operation 'Variable_5/Assign' type=Assign>, <tf.Operation 'Variable_5/read' type=Identity>, <tf.Operation 'MatMul' type=MatMul>, <tf.Operation 'add_2' type=Add>, <tf.Operation 'Relu_2' type=Relu>, <tf.Operation 'truncated_normal_3/shape' type=Const>, <tf.Operation 'truncated_normal_3/mean' type=Const>, <tf.Operation 'truncated_normal_3/stddev' type=Const>, <tf.Operation 'truncated_normal_3/TruncatedNormal' type=TruncatedNormal>, <tf.Operation 'truncated_normal_3/mul' type=Mul>, <tf.Operation 'truncated_normal_3' type=Add>, <tf.Operation 'Variable_6' type=VariableV2>, <tf.Operation 'Variable_6/Assign' type=Assign>, <tf.Operation 'Variable_6/read' type=Identity>, <tf.Operation 'Const_3' type=Const>, <tf.Operation 'Variable_7' type=VariableV2>, <tf.Operation 'Variable_7/Assign' type=Assign>, <tf.Operation 'Variable_7/read' type=Identity>, <tf.Operation 'MatMul_1' type=MatMul>, <tf.Operation 'add_3' type=Add>, <tf.Operation 'Softmax' type=Softmax>, <tf.Operation 'ArgMax_1/dimension' type=Const>, <tf.Operation 'ArgMax_1' type=ArgMax>, <tf.Operation 'softmax_cross_entropy_with_logits_sg/labels_stop_gradient' type=StopGradient>, <tf.Operation 'softmax_cross_entropy_with_logits_sg/Rank' type=Const>, <tf.Operation 'softmax_cross_entropy_with_logits_sg/Shape' type=Shape>, <tf.Operation 'softmax_cross_entropy_with_logits_sg/Rank_1' type=Const>, <tf.Operation 'softmax_cross_entropy_with_logits_sg/Shape_1' type=Shape>, <tf.Operation 'softmax_cross_entropy_with_logits_sg/Sub/y' type=Const>, <tf.Operation 'softmax_cross_entropy_with_logits_sg/Sub' type=Sub>, <tf.Operation 'softmax_cross_entropy_with_logits_sg/Slice/begin' type=Pack>, <tf.Operation 'softmax_cross_entropy_with_logits_sg/Slice/size' type=Const>, <tf.Operation 'softmax_cross_entropy_with_logits_sg/Slice' type=Slice>, <tf.Operation 'softmax_cross_entropy_with_logits_sg/concat/values_0' type=Const>, <tf.Operation 'softmax_cross_entropy_with_logits_sg/concat/axis' type=Const>, <tf.Operation 'softmax_cross_entropy_with_logits_sg/concat' type=ConcatV2>, <tf.Operation 'softmax_cross_entropy_with_logits_sg/Reshape' type=Reshape>, <tf.Operation 'softmax_cross_entropy_with_logits_sg/Rank_2' type=Const>, <tf.Operation 'softmax_cross_entropy_with_logits_sg/Shape_2' type=Shape>, <tf.Operation 'softmax_cross_entropy_with_logits_sg/Sub_1/y' type=Const>, <tf.Operation 'softmax_cross_entropy_with_logits_sg/Sub_1' type=Sub>, <tf.Operation 'softmax_cross_entropy_with_logits_sg/Slice_1/begin' type=Pack>, <tf.Operation 'softmax_cross_entropy_with_logits_sg/Slice_1/size' type=Const>, <tf.Operation 'softmax_cross_entropy_with_logits_sg/Slice_1' type=Slice>, <tf.Operation 'softmax_cross_entropy_with_logits_sg/concat_1/values_0' type=Const>, <tf.Operation 'softmax_cross_entropy_with_logits_sg/concat_1/axis' type=Const>, <tf.Operation 'softmax_cross_entropy_with_logits_sg/concat_1' type=ConcatV2>, <tf.Operation 'softmax_cross_entropy_with_logits_sg/Reshape_1' type=Reshape>, <tf.Operation 'softmax_cross_entropy_with_logits_sg' type=SoftmaxCrossEntropyWithLogits>, <tf.Operation 'softmax_cross_entropy_with_logits_sg/Sub_2/y' type=Const>, <tf.Operation 'softmax_cross_entropy_with_logits_sg/Sub_2' type=Sub>, <tf.Operation 'softmax_cross_entropy_with_logits_sg/Slice_2/begin' type=Const>, <tf.Operation 'softmax_cross_entropy_with_logits_sg/Slice_2/size' type=Pack>, <tf.Operation 'softmax_cross_entropy_with_logits_sg/Slice_2' type=Slice>, <tf.Operation 'softmax_cross_entropy_with_logits_sg/Reshape_2' type=Reshape>, <tf.Operation 'Const_4' type=Const>, <tf.Operation 'Mean' type=Mean>, <tf.Operation 'cost/tags' type=Const>, <tf.Operation 'cost' type=ScalarSummary>, <tf.Operation 'gradients/Shape' type=Const>, <tf.Operation 'gradients/grad_ys_0' type=Const>, <tf.Operation 'gradients/Fill' type=Fill>, <tf.Operation 'gradients/Mean_grad/Reshape/shape' type=Const>, <tf.Operation 'gradients/Mean_grad/Reshape' type=Reshape>, <tf.Operation 'gradients/Mean_grad/Shape' type=Shape>, <tf.Operation 'gradients/Mean_grad/Tile' type=Tile>, <tf.Operation 'gradients/Mean_grad/Shape_1' type=Shape>, <tf.Operation 'gradients/Mean_grad/Shape_2' type=Const>, <tf.Operation 'gradients/Mean_grad/Const' type=Const>, <tf.Operation 'gradients/Mean_grad/Prod' type=Prod>, <tf.Operation 'gradients/Mean_grad/Const_1' type=Const>, <tf.Operation 'gradients/Mean_grad/Prod_1' type=Prod>, <tf.Operation 'gradients/Mean_grad/Maximum/y' type=Const>, <tf.Operation 'gradients/Mean_grad/Maximum' type=Maximum>, <tf.Operation 'gradients/Mean_grad/floordiv' type=FloorDiv>, <tf.Operation 'gradients/Mean_grad/Cast' type=Cast>, <tf.Operation 'gradients/Mean_grad/truediv' type=RealDiv>, <tf.Operation 'gradients/softmax_cross_entropy_with_logits_sg/Reshape_2_grad/Shape' type=Shape>, <tf.Operation 'gradients/softmax_cross_entropy_with_logits_sg/Reshape_2_grad/Reshape' type=Reshape>, <tf.Operation 'gradients/zeros_like' type=ZerosLike>, <tf.Operation 'gradients/softmax_cross_entropy_with_logits_sg_grad/ExpandDims/dim' type=Const>, <tf.Operation 'gradients/softmax_cross_entropy_with_logits_sg_grad/ExpandDims' type=ExpandDims>, <tf.Operation 'gradients/softmax_cross_entropy_with_logits_sg_grad/mul' type=Mul>, <tf.Operation 'gradients/softmax_cross_entropy_with_logits_sg_grad/LogSoftmax' type=LogSoftmax>, <tf.Operation 'gradients/softmax_cross_entropy_with_logits_sg_grad/Neg' type=Neg>, <tf.Operation 'gradients/softmax_cross_entropy_with_logits_sg_grad/ExpandDims_1/dim' type=Const>, <tf.Operation 'gradients/softmax_cross_entropy_with_logits_sg_grad/ExpandDims_1' type=ExpandDims>, <tf.Operation 'gradients/softmax_cross_entropy_with_logits_sg_grad/mul_1' type=Mul>, <tf.Operation 'gradients/softmax_cross_entropy_with_logits_sg_grad/tuple/group_deps' type=NoOp>, <tf.Operation 'gradients/softmax_cross_entropy_with_logits_sg_grad/tuple/control_dependency' type=Identity>, <tf.Operation 'gradients/softmax_cross_entropy_with_logits_sg_grad/tuple/control_dependency_1' type=Identity>, <tf.Operation 'gradients/softmax_cross_entropy_with_logits_sg/Reshape_grad/Shape' type=Shape>, <tf.Operation 'gradients/softmax_cross_entropy_with_logits_sg/Reshape_grad/Reshape' type=Reshape>, <tf.Operation 'gradients/add_3_grad/Shape' type=Shape>, <tf.Operation 'gradients/add_3_grad/Shape_1' type=Const>, <tf.Operation 'gradients/add_3_grad/BroadcastGradientArgs' type=BroadcastGradientArgs>, <tf.Operation 'gradients/add_3_grad/Sum' type=Sum>, <tf.Operation 'gradients/add_3_grad/Reshape' type=Reshape>, <tf.Operation 'gradients/add_3_grad/Sum_1' type=Sum>, <tf.Operation 'gradients/add_3_grad/Reshape_1' type=Reshape>, <tf.Operation 'gradients/add_3_grad/tuple/group_deps' type=NoOp>, <tf.Operation 'gradients/add_3_grad/tuple/control_dependency' type=Identity>, <tf.Operation 'gradients/add_3_grad/tuple/control_dependency_1' type=Identity>, <tf.Operation 'gradients/MatMul_1_grad/MatMul' type=MatMul>, <tf.Operation 'gradients/MatMul_1_grad/MatMul_1' type=MatMul>, <tf.Operation 'gradients/MatMul_1_grad/tuple/group_deps' type=NoOp>, <tf.Operation 'gradients/MatMul_1_grad/tuple/control_dependency' type=Identity>, <tf.Operation 'gradients/MatMul_1_grad/tuple/control_dependency_1' type=Identity>, <tf.Operation 'gradients/Relu_2_grad/ReluGrad' type=ReluGrad>, <tf.Operation 'gradients/add_2_grad/Shape' type=Shape>, <tf.Operation 'gradients/add_2_grad/Shape_1' type=Const>, <tf.Operation 'gradients/add_2_grad/BroadcastGradientArgs' type=BroadcastGradientArgs>, <tf.Operation 'gradients/add_2_grad/Sum' type=Sum>, <tf.Operation 'gradients/add_2_grad/Reshape' type=Reshape>, <tf.Operation 'gradients/add_2_grad/Sum_1' type=Sum>, <tf.Operation 'gradients/add_2_grad/Reshape_1' type=Reshape>, <tf.Operation 'gradients/add_2_grad/tuple/group_deps' type=NoOp>, <tf.Operation 'gradients/add_2_grad/tuple/control_dependency' type=Identity>, <tf.Operation 'gradients/add_2_grad/tuple/control_dependency_1' type=Identity>, <tf.Operation 'gradients/MatMul_grad/MatMul' type=MatMul>, <tf.Operation 'gradients/MatMul_grad/MatMul_1' type=MatMul>, <tf.Operation 'gradients/MatMul_grad/tuple/group_deps' type=NoOp>, <tf.Operation 'gradients/MatMul_grad/tuple/control_dependency' type=Identity>, <tf.Operation 'gradients/MatMul_grad/tuple/control_dependency_1' type=Identity>, <tf.Operation 'gradients/Reshape_1_grad/Shape' type=Shape>, <tf.Operation 'gradients/Reshape_1_grad/Reshape' type=Reshape>, <tf.Operation 'gradients/Relu_1_grad/ReluGrad' type=ReluGrad>, <tf.Operation 'gradients/MaxPool_1_grad/MaxPoolGrad' type=MaxPoolGrad>, <tf.Operation 'gradients/add_1_grad/Shape' type=Shape>, <tf.Operation 'gradients/add_1_grad/Shape_1' type=Const>, <tf.Operation 'gradients/add_1_grad/BroadcastGradientArgs' type=BroadcastGradientArgs>, <tf.Operation 'gradients/add_1_grad/Sum' type=Sum>, <tf.Operation 'gradients/add_1_grad/Reshape' type=Reshape>, <tf.Operation 'gradients/add_1_grad/Sum_1' type=Sum>, <tf.Operation 'gradients/add_1_grad/Reshape_1' type=Reshape>, <tf.Operation 'gradients/add_1_grad/tuple/group_deps' type=NoOp>, <tf.Operation 'gradients/add_1_grad/tuple/control_dependency' type=Identity>, <tf.Operation 'gradients/add_1_grad/tuple/control_dependency_1' type=Identity>, <tf.Operation 'gradients/Conv2D_1_grad/ShapeN' type=ShapeN>, <tf.Operation 'gradients/Conv2D_1_grad/Conv2DBackpropInput' type=Conv2DBackpropInput>, <tf.Operation 'gradients/Conv2D_1_grad/Conv2DBackpropFilter' type=Conv2DBackpropFilter>, <tf.Operation 'gradients/Conv2D_1_grad/tuple/group_deps' type=NoOp>, <tf.Operation 'gradients/Conv2D_1_grad/tuple/control_dependency' type=Identity>, <tf.Operation 'gradients/Conv2D_1_grad/tuple/control_dependency_1' type=Identity>, <tf.Operation 'gradients/Relu_grad/ReluGrad' type=ReluGrad>, <tf.Operation 'gradients/MaxPool_grad/MaxPoolGrad' type=MaxPoolGrad>, <tf.Operation 'gradients/add_grad/Shape' type=Shape>, <tf.Operation 'gradients/add_grad/Shape_1' type=Const>, <tf.Operation 'gradients/add_grad/BroadcastGradientArgs' type=BroadcastGradientArgs>, <tf.Operation 'gradients/add_grad/Sum' type=Sum>, <tf.Operation 'gradients/add_grad/Reshape' type=Reshape>, <tf.Operation 'gradients/add_grad/Sum_1' type=Sum>, <tf.Operation 'gradients/add_grad/Reshape_1' type=Reshape>, <tf.Operation 'gradients/add_grad/tuple/group_deps' type=NoOp>, <tf.Operation 'gradients/add_grad/tuple/control_dependency' type=Identity>, <tf.Operation 'gradients/add_grad/tuple/control_dependency_1' type=Identity>, <tf.Operation 'gradients/Conv2D_grad/ShapeN' type=ShapeN>, <tf.Operation 'gradients/Conv2D_grad/Conv2DBackpropInput' type=Conv2DBackpropInput>, <tf.Operation 'gradients/Conv2D_grad/Conv2DBackpropFilter' type=Conv2DBackpropFilter>, <tf.Operation 'gradients/Conv2D_grad/tuple/group_deps' type=NoOp>, <tf.Operation 'gradients/Conv2D_grad/tuple/control_dependency' type=Identity>, <tf.Operation 'gradients/Conv2D_grad/tuple/control_dependency_1' type=Identity>, <tf.Operation 'beta1_power/initial_value' type=Const>, <tf.Operation 'beta1_power' type=VariableV2>, <tf.Operation 'beta1_power/Assign' type=Assign>, <tf.Operation 'beta1_power/read' type=Identity>, <tf.Operation 'beta2_power/initial_value' type=Const>, <tf.Operation 'beta2_power' type=VariableV2>, <tf.Operation 'beta2_power/Assign' type=Assign>, <tf.Operation 'beta2_power/read' type=Identity>, <tf.Operation 'Variable/Adam/Initializer/zeros' type=Const>, <tf.Operation 'Variable/Adam' type=VariableV2>, <tf.Operation 'Variable/Adam/Assign' type=Assign>, <tf.Operation 'Variable/Adam/read' type=Identity>, <tf.Operation 'Variable/Adam_1/Initializer/zeros' type=Const>, <tf.Operation 'Variable/Adam_1' type=VariableV2>, <tf.Operation 'Variable/Adam_1/Assign' type=Assign>, <tf.Operation 'Variable/Adam_1/read' type=Identity>, <tf.Operation 'Variable_1/Adam/Initializer/zeros' type=Const>, <tf.Operation 'Variable_1/Adam' type=VariableV2>, <tf.Operation 'Variable_1/Adam/Assign' type=Assign>, <tf.Operation 'Variable_1/Adam/read' type=Identity>, <tf.Operation 'Variable_1/Adam_1/Initializer/zeros' type=Const>, <tf.Operation 'Variable_1/Adam_1' type=VariableV2>, <tf.Operation 'Variable_1/Adam_1/Assign' type=Assign>, <tf.Operation 'Variable_1/Adam_1/read' type=Identity>, <tf.Operation 'Variable_2/Adam/Initializer/zeros/shape_as_tensor' type=Const>, <tf.Operation 'Variable_2/Adam/Initializer/zeros/Const' type=Const>, <tf.Operation 'Variable_2/Adam/Initializer/zeros' type=Fill>, <tf.Operation 'Variable_2/Adam' type=VariableV2>, <tf.Operation 'Variable_2/Adam/Assign' type=Assign>, <tf.Operation 'Variable_2/Adam/read' type=Identity>, <tf.Operation 'Variable_2/Adam_1/Initializer/zeros/shape_as_tensor' type=Const>, <tf.Operation 'Variable_2/Adam_1/Initializer/zeros/Const' type=Const>, <tf.Operation 'Variable_2/Adam_1/Initializer/zeros' type=Fill>, <tf.Operation 'Variable_2/Adam_1' type=VariableV2>, <tf.Operation 'Variable_2/Adam_1/Assign' type=Assign>, <tf.Operation 'Variable_2/Adam_1/read' type=Identity>, <tf.Operation 'Variable_3/Adam/Initializer/zeros' type=Const>, <tf.Operation 'Variable_3/Adam' type=VariableV2>, <tf.Operation 'Variable_3/Adam/Assign' type=Assign>, <tf.Operation 'Variable_3/Adam/read' type=Identity>, <tf.Operation 'Variable_3/Adam_1/Initializer/zeros' type=Const>, <tf.Operation 'Variable_3/Adam_1' type=VariableV2>, <tf.Operation 'Variable_3/Adam_1/Assign' type=Assign>, <tf.Operation 'Variable_3/Adam_1/read' type=Identity>, <tf.Operation 'Variable_4/Adam/Initializer/zeros/shape_as_tensor' type=Const>, <tf.Operation 'Variable_4/Adam/Initializer/zeros/Const' type=Const>, <tf.Operation 'Variable_4/Adam/Initializer/zeros' type=Fill>, <tf.Operation 'Variable_4/Adam' type=VariableV2>, <tf.Operation 'Variable_4/Adam/Assign' type=Assign>, <tf.Operation 'Variable_4/Adam/read' type=Identity>, <tf.Operation 'Variable_4/Adam_1/Initializer/zeros/shape_as_tensor' type=Const>, <tf.Operation 'Variable_4/Adam_1/Initializer/zeros/Const' type=Const>, <tf.Operation 'Variable_4/Adam_1/Initializer/zeros' type=Fill>, <tf.Operation 'Variable_4/Adam_1' type=VariableV2>, <tf.Operation 'Variable_4/Adam_1/Assign' type=Assign>, <tf.Operation 'Variable_4/Adam_1/read' type=Identity>, <tf.Operation 'Variable_5/Adam/Initializer/zeros' type=Const>, <tf.Operation 'Variable_5/Adam' type=VariableV2>, <tf.Operation 'Variable_5/Adam/Assign' type=Assign>, <tf.Operation 'Variable_5/Adam/read' type=Identity>, <tf.Operation 'Variable_5/Adam_1/Initializer/zeros' type=Const>, <tf.Operation 'Variable_5/Adam_1' type=VariableV2>, <tf.Operation 'Variable_5/Adam_1/Assign' type=Assign>, <tf.Operation 'Variable_5/Adam_1/read' type=Identity>, <tf.Operation 'Variable_6/Adam/Initializer/zeros/shape_as_tensor' type=Const>, <tf.Operation 'Variable_6/Adam/Initializer/zeros/Const' type=Const>, <tf.Operation 'Variable_6/Adam/Initializer/zeros' type=Fill>, <tf.Operation 'Variable_6/Adam' type=VariableV2>, <tf.Operation 'Variable_6/Adam/Assign' type=Assign>, <tf.Operation 'Variable_6/Adam/read' type=Identity>, <tf.Operation 'Variable_6/Adam_1/Initializer/zeros/shape_as_tensor' type=Const>, <tf.Operation 'Variable_6/Adam_1/Initializer/zeros/Const' type=Const>, <tf.Operation 'Variable_6/Adam_1/Initializer/zeros' type=Fill>, <tf.Operation 'Variable_6/Adam_1' type=VariableV2>, <tf.Operation 'Variable_6/Adam_1/Assign' type=Assign>, <tf.Operation 'Variable_6/Adam_1/read' type=Identity>, <tf.Operation 'Variable_7/Adam/Initializer/zeros' type=Const>, <tf.Operation 'Variable_7/Adam' type=VariableV2>, <tf.Operation 'Variable_7/Adam/Assign' type=Assign>, <tf.Operation 'Variable_7/Adam/read' type=Identity>, <tf.Operation 'Variable_7/Adam_1/Initializer/zeros' type=Const>, <tf.Operation 'Variable_7/Adam_1' type=VariableV2>, <tf.Operation 'Variable_7/Adam_1/Assign' type=Assign>, <tf.Operation 'Variable_7/Adam_1/read' type=Identity>, <tf.Operation 'Adam/learning_rate' type=Const>, <tf.Operation 'Adam/beta1' type=Const>, <tf.Operation 'Adam/beta2' type=Const>, <tf.Operation 'Adam/epsilon' type=Const>, <tf.Operation 'Adam/update_Variable/ApplyAdam' type=ApplyAdam>, <tf.Operation 'Adam/update_Variable_1/ApplyAdam' type=ApplyAdam>, <tf.Operation 'Adam/update_Variable_2/ApplyAdam' type=ApplyAdam>, <tf.Operation 'Adam/update_Variable_3/ApplyAdam' type=ApplyAdam>, <tf.Operation 'Adam/update_Variable_4/ApplyAdam' type=ApplyAdam>, <tf.Operation 'Adam/update_Variable_5/ApplyAdam' type=ApplyAdam>, <tf.Operation 'Adam/update_Variable_6/ApplyAdam' type=ApplyAdam>, <tf.Operation 'Adam/update_Variable_7/ApplyAdam' type=ApplyAdam>, <tf.Operation 'Adam/mul' type=Mul>, <tf.Operation 'Adam/Assign' type=Assign>, <tf.Operation 'Adam/mul_1' type=Mul>, <tf.Operation 'Adam/Assign_1' type=Assign>, <tf.Operation 'Adam' type=NoOp>, <tf.Operation 'Equal' type=Equal>, <tf.Operation 'Cast' type=Cast>, <tf.Operation 'Const_5' type=Const>, <tf.Operation 'Mean_1' type=Mean>, <tf.Operation 'Merge/MergeSummary' type=MergeSummary>, <tf.Operation 'init' type=NoOp>]\n"
          ],
          "name": "stdout"
        }
      ]
    },
    {
      "metadata": {
        "id": "NDtYO21rw_mE",
        "colab_type": "text"
      },
      "cell_type": "markdown",
      "source": [
        "### Convolution Layer 1"
      ]
    },
    {
      "metadata": {
        "id": "cD-JHgTMw_mE",
        "colab_type": "text"
      },
      "cell_type": "markdown",
      "source": [
        "Now plot the filter-weights for the first convolutional layer.\n",
        "\n",
        "Note that positive weights are red and negative weights are blue."
      ]
    },
    {
      "metadata": {
        "id": "vg0ji5Zjw_mE",
        "colab_type": "code",
        "colab": {
          "autoexec": {
            "startup": false,
            "wait_interval": 0
          },
          "base_uri": "https://localhost:8080/",
          "height": 248
        },
        "outputId": "45526a07-d7f3-4ca7-ec1c-ec222707042d",
        "executionInfo": {
          "status": "ok",
          "timestamp": 1532070532099,
          "user_tz": -480,
          "elapsed": 1860,
          "user": {
            "displayName": "Jonathan Sherman",
            "photoUrl": "https://lh3.googleusercontent.com/a/default-user=s128",
            "userId": "105267990690274350185"
          }
        }
      },
      "cell_type": "code",
      "source": [
        "plot_conv_weights(weights=weights_conv1)"
      ],
      "execution_count": 0,
      "outputs": [
        {
          "output_type": "display_data",
          "data": {
            "image/png": "[encoded data removed]",
            "text/plain": [
              "<matplotlib.figure.Figure at 0x7efbfeb3ca90>"
            ]
          },
          "metadata": {
            "tags": []
          }
        }
      ]
    },
    {
      "metadata": {
        "id": "TfDk46HOw_mF",
        "colab_type": "text"
      },
      "cell_type": "markdown",
      "source": [
        "Applying each of these convolutional filters to the first input image gives the following output images, which are then used as input to the second convolutional layer. Note that these images are down-sampled to 14 x 14 pixels which is half the resolution of the original input image."
      ]
    },
    {
      "metadata": {
        "id": "W7TqrRRgw_mG",
        "colab_type": "code",
        "colab": {
          "autoexec": {
            "startup": false,
            "wait_interval": 0
          },
          "base_uri": "https://localhost:8080/",
          "height": 248
        },
        "outputId": "4f4b4a07-3fb9-4289-8b97-9214cea705f4",
        "executionInfo": {
          "status": "ok",
          "timestamp": 1532070533999,
          "user_tz": -480,
          "elapsed": 1842,
          "user": {
            "displayName": "Jonathan Sherman",
            "photoUrl": "https://lh3.googleusercontent.com/a/default-user=s128",
            "userId": "105267990690274350185"
          }
        }
      },
      "cell_type": "code",
      "source": [
        "plot_conv_layer(layer=layer_conv1, image=image1)"
      ],
      "execution_count": 0,
      "outputs": [
        {
          "output_type": "display_data",
          "data": {
            "image/png": "[encoded data removed]",
            "text/plain": [
              "<matplotlib.figure.Figure at 0x7efc2f43fa20>"
            ]
          },
          "metadata": {
            "tags": []
          }
        }
      ]
    },
    {
      "metadata": {
        "id": "ZfyyKHeew_mI",
        "colab_type": "text"
      },
      "cell_type": "markdown",
      "source": [
        "The following images are the results of applying the convolutional filters to the second image."
      ]
    },
    {
      "metadata": {
        "id": "P9caAhLkw_mI",
        "colab_type": "code",
        "colab": {
          "autoexec": {
            "startup": false,
            "wait_interval": 0
          },
          "base_uri": "https://localhost:8080/",
          "height": 248
        },
        "outputId": "b8213942-e86f-4443-e1c4-b84887cc32c1",
        "executionInfo": {
          "status": "ok",
          "timestamp": 1532070536010,
          "user_tz": -480,
          "elapsed": 1967,
          "user": {
            "displayName": "Jonathan Sherman",
            "photoUrl": "https://lh3.googleusercontent.com/a/default-user=s128",
            "userId": "105267990690274350185"
          }
        }
      },
      "cell_type": "code",
      "source": [
        "plot_conv_layer(layer=layer_conv1, image=image2)"
      ],
      "execution_count": 0,
      "outputs": [
        {
          "output_type": "display_data",
          "data": {
            "image/png": "[encoded data removed]",
            "text/plain": [
              "<matplotlib.figure.Figure at 0x7efbfefaec88>"
            ]
          },
          "metadata": {
            "tags": []
          }
        }
      ]
    },
    {
      "metadata": {
        "id": "mZFrEvIC0fo3",
        "colab_type": "code",
        "colab": {
          "autoexec": {
            "startup": false,
            "wait_interval": 0
          },
          "base_uri": "https://localhost:8080/",
          "height": 248
        },
        "outputId": "232c514f-274e-4f2b-fb79-598818e26b98",
        "executionInfo": {
          "status": "ok",
          "timestamp": 1532071176703,
          "user_tz": -480,
          "elapsed": 2032,
          "user": {
            "displayName": "Jonathan Sherman",
            "photoUrl": "https://lh3.googleusercontent.com/a/default-user=s128",
            "userId": "105267990690274350185"
          }
        }
      },
      "cell_type": "code",
      "source": [
        "# start with a gray image with a little noise\n",
        "img_noise = np.random.normal(0., 0.5,size=(784))\n",
        "plot_conv_layer(layer=layer_conv1, image=img_noise)"
      ],
      "execution_count": 0,
      "outputs": [
        {
          "output_type": "display_data",
          "data": {
            "image/png": "[encoded data removed]",
            "text/plain": [
              "<matplotlib.figure.Figure at 0x7efc2f646358>"
            ]
          },
          "metadata": {
            "tags": []
          }
        }
      ]
    },
    {
      "metadata": {
        "id": "jfcJujfaw_mK",
        "colab_type": "text"
      },
      "cell_type": "markdown",
      "source": [
        "It is difficult to see from these images what the purpose of the convolutional filters might be. It appears that they have merely created several variations of the input image, as if light was shining from different angles and casting shadows in the image."
      ]
    },
    {
      "metadata": {
        "id": "cDwGR_hKw_mK",
        "colab_type": "text"
      },
      "cell_type": "markdown",
      "source": [
        "### Convolution Layer 2"
      ]
    },
    {
      "metadata": {
        "id": "TxECiRBBw_mK",
        "colab_type": "text"
      },
      "cell_type": "markdown",
      "source": [
        "Now plot the filter-weights for the second convolutional layer.\n",
        "\n",
        "There are 16 output channels from the first conv-layer, which means there are 16 input channels to the second conv-layer. The second conv-layer has a set of filter-weights for each of its input channels. We start by plotting the filter-weigths for the first channel.\n",
        "\n",
        "Note again that positive weights are red and negative weights are blue."
      ]
    },
    {
      "metadata": {
        "id": "9tulFeMGw_mL",
        "colab_type": "code",
        "colab": {
          "autoexec": {
            "startup": false,
            "wait_interval": 0
          },
          "base_uri": "https://localhost:8080/",
          "height": 248
        },
        "outputId": "9ee93b48-c8ef-4bca-ce7c-5815333e7759",
        "executionInfo": {
          "status": "ok",
          "timestamp": 1532070541037,
          "user_tz": -480,
          "elapsed": 2891,
          "user": {
            "displayName": "Jonathan Sherman",
            "photoUrl": "https://lh3.googleusercontent.com/a/default-user=s128",
            "userId": "105267990690274350185"
          }
        }
      },
      "cell_type": "code",
      "source": [
        "plot_conv_weights(weights=weights_conv2, input_channel=0)"
      ],
      "execution_count": 0,
      "outputs": [
        {
          "output_type": "display_data",
          "data": {
            "image/png": "[encoded data removed]",
            "text/plain": [
              "<matplotlib.figure.Figure at 0x7efbfe7aa400>"
            ]
          },
          "metadata": {
            "tags": []
          }
        }
      ]
    },
    {
      "metadata": {
        "id": "VAQDeAmfw_mN",
        "colab_type": "text"
      },
      "cell_type": "markdown",
      "source": [
        "There are 16 input channels to the second convolutional layer, so we can make another 15 plots of filter-weights like this. We just make one more with the filter-weights for the second channel. "
      ]
    },
    {
      "metadata": {
        "id": "XON2QXNrw_mN",
        "colab_type": "code",
        "colab": {
          "autoexec": {
            "startup": false,
            "wait_interval": 0
          },
          "base_uri": "https://localhost:8080/",
          "height": 248
        },
        "outputId": "9679e51d-5b54-4701-deea-f70c45d46f5f",
        "executionInfo": {
          "status": "ok",
          "timestamp": 1532070543860,
          "user_tz": -480,
          "elapsed": 2794,
          "user": {
            "displayName": "Jonathan Sherman",
            "photoUrl": "https://lh3.googleusercontent.com/a/default-user=s128",
            "userId": "105267990690274350185"
          }
        }
      },
      "cell_type": "code",
      "source": [
        "plot_conv_weights(weights=weights_conv2, input_channel=1)"
      ],
      "execution_count": 0,
      "outputs": [
        {
          "output_type": "display_data",
          "data": {
            "image/png": "[encoded data removed]",
            "text/plain": [
              "<matplotlib.figure.Figure at 0x7efbfec407b8>"
            ]
          },
          "metadata": {
            "tags": []
          }
        }
      ]
    },
    {
      "metadata": {
        "id": "rsZW7NLQw_mP",
        "colab_type": "text"
      },
      "cell_type": "markdown",
      "source": [
        "It can be difficult to understand and keep track of how these filters are applied because of the high dimensionality.\n",
        "\n",
        "Applying these convolutional filters to the images that were ouput from the first conv-layer gives the following images.\n",
        "\n",
        "Note that these are down-sampled yet again to 7 x 7 pixels which is half the resolution of the images from the first conv-layer."
      ]
    },
    {
      "metadata": {
        "id": "TvEFSkPZw_mP",
        "colab_type": "code",
        "colab": {
          "autoexec": {
            "startup": false,
            "wait_interval": 0
          },
          "base_uri": "https://localhost:8080/",
          "height": 248
        },
        "outputId": "015f4572-7ed0-44b3-bebd-8ef18710ca35",
        "executionInfo": {
          "status": "ok",
          "timestamp": 1532070546831,
          "user_tz": -480,
          "elapsed": 2882,
          "user": {
            "displayName": "Jonathan Sherman",
            "photoUrl": "https://lh3.googleusercontent.com/a/default-user=s128",
            "userId": "105267990690274350185"
          }
        }
      },
      "cell_type": "code",
      "source": [
        "plot_conv_layer(layer=layer_conv2, image=image1)"
      ],
      "execution_count": 0,
      "outputs": [
        {
          "output_type": "display_data",
          "data": {
            "image/png": "[encoded data removed]",
            "text/plain": [
              "<matplotlib.figure.Figure at 0x7efbfeee15f8>"
            ]
          },
          "metadata": {
            "tags": []
          }
        }
      ]
    },
    {
      "metadata": {
        "id": "Wp7FdzJ3w_mR",
        "colab_type": "text"
      },
      "cell_type": "markdown",
      "source": [
        "And these are the results of applying the filter-weights to the second image."
      ]
    },
    {
      "metadata": {
        "id": "sPkfOYMQw_mR",
        "colab_type": "code",
        "colab": {
          "autoexec": {
            "startup": false,
            "wait_interval": 0
          },
          "base_uri": "https://localhost:8080/",
          "height": 248
        },
        "outputId": "9be02ec7-8322-4d03-9401-c5dc220ce80a",
        "executionInfo": {
          "status": "ok",
          "timestamp": 1532070549754,
          "user_tz": -480,
          "elapsed": 2894,
          "user": {
            "displayName": "Jonathan Sherman",
            "photoUrl": "https://lh3.googleusercontent.com/a/default-user=s128",
            "userId": "105267990690274350185"
          }
        }
      },
      "cell_type": "code",
      "source": [
        "plot_conv_layer(layer=layer_conv2, image=image2)"
      ],
      "execution_count": 0,
      "outputs": [
        {
          "output_type": "display_data",
          "data": {
            "image/png": "[encoded data removed]",
            "text/plain": [
              "<matplotlib.figure.Figure at 0x7efbfe7fa518>"
            ]
          },
          "metadata": {
            "tags": []
          }
        }
      ]
    },
    {
      "metadata": {
        "id": "uATWmIdsw_mU",
        "colab_type": "text"
      },
      "cell_type": "markdown",
      "source": [
        "From these images, it looks like the second convolutional layer might detect lines and patterns in the input images, which are less sensitive to local variations in the original input images.\n",
        "\n",
        "These images are then flattened and input to the fully-connected layer, but that is not shown here."
      ]
    },
    {
      "metadata": {
        "id": "HGTZ8Kcs2QUK",
        "colab_type": "code",
        "colab": {
          "autoexec": {
            "startup": false,
            "wait_interval": 0
          },
          "base_uri": "https://localhost:8080/",
          "height": 2096
        },
        "outputId": "8a8a9a09-8075-42f7-8d41-412cb393e373",
        "executionInfo": {
          "status": "ok",
          "timestamp": 1532071721828,
          "user_tz": -480,
          "elapsed": 1379,
          "user": {
            "displayName": "Jonathan Sherman",
            "photoUrl": "https://lh3.googleusercontent.com/a/default-user=s128",
            "userId": "105267990690274350185"
          }
        }
      },
      "cell_type": "code",
      "source": [
        "#plot_fullc_layer(layer=layer_fc1, image=image1)\n",
        "for i in range(0, 9):\n",
        "#    plot_fullc_layer(layer=layer_fc1, image=np.random.normal(0, np.abs(np.random.normal()),size=(784)))\n",
        "    plot_fullc_layer(layer=layer_fc1, image=data.test.images[i])\n"
      ],
      "execution_count": 0,
      "outputs": [
        {
          "output_type": "display_data",
          "data": {
            "image/png": "[encoded data removed]",
            "text/plain": [
              "<matplotlib.figure.Figure at 0x7efbfee03da0>"
            ]
          },
          "metadata": {
            "tags": []
          }
        },
        {
          "output_type": "display_data",
          "data": {
            "image/png": "[encoded data removed]",
            "text/plain": [
              "<matplotlib.figure.Figure at 0x7efbfe374b70>"
            ]
          },
          "metadata": {
            "tags": []
          }
        },
        {
          "output_type": "display_data",
          "data": {
            "image/png": "[encoded data removed]",
            "text/plain": [
              "<matplotlib.figure.Figure at 0x7efc2f5f2908>"
            ]
          },
          "metadata": {
            "tags": []
          }
        },
        {
          "output_type": "display_data",
          "data": {
            "image/png": "[encoded data removed]",
            "text/plain": [
              "<matplotlib.figure.Figure at 0x7efc2f5f4240>"
            ]
          },
          "metadata": {
            "tags": []
          }
        },
        {
          "output_type": "display_data",
          "data": {
            "image/png": "[encoded data removed]",
            "text/plain": [
              "<matplotlib.figure.Figure at 0x7efbfec3df98>"
            ]
          },
          "metadata": {
            "tags": []
          }
        },
        {
          "output_type": "display_data",
          "data": {
            "image/png": "[encoded data removed]",
            "text/plain": [
              "<matplotlib.figure.Figure at 0x7efbfefaea20>"
            ]
          },
          "metadata": {
            "tags": []
          }
        },
        {
          "output_type": "display_data",
          "data": {
            "image/png": "[encoded data removed]",
            "text/plain": [
              "<matplotlib.figure.Figure at 0x7efbfebfc2e8>"
            ]
          },
          "metadata": {
            "tags": []
          }
        },
        {
          "output_type": "display_data",
          "data": {
            "image/png": "[encoded data removed]",
            "text/plain": [
              "<matplotlib.figure.Figure at 0x7efbfec11240>"
            ]
          },
          "metadata": {
            "tags": []
          }
        },
        {
          "output_type": "display_data",
          "data": {
            "image/png": "[encoded data removed]",
            "text/plain": [
              "<matplotlib.figure.Figure at 0x7efc2f43fe10>"
            ]
          },
          "metadata": {
            "tags": []
          }
        }
      ]
    },
    {
      "metadata": {
        "id": "lwpsGc5Zw_mU",
        "colab_type": "text"
      },
      "cell_type": "markdown",
      "source": [
        "### Close TensorFlow Session"
      ]
    },
    {
      "metadata": {
        "id": "OaKYYdxEw_mU",
        "colab_type": "text"
      },
      "cell_type": "markdown",
      "source": [
        "We are now done using TensorFlow, so we close the session to release its resources."
      ]
    },
    {
      "metadata": {
        "id": "bzt966PTw_mU",
        "colab_type": "code",
        "colab": {
          "autoexec": {
            "startup": false,
            "wait_interval": 0
          }
        }
      },
      "cell_type": "code",
      "source": [
        "# This has been commented out in case you want to modify and experiment\n",
        "# with the Notebook without having to restart it.\n",
        "#session.close()\n",
        "tbc.close()\n"
      ],
      "execution_count": 0,
      "outputs": []
    },
    {
      "metadata": {
        "id": "PthRdH6ow_mW",
        "colab_type": "text"
      },
      "cell_type": "markdown",
      "source": [
        "## Conclusion\n",
        "\n",
        "We have seen that a Convolutional Neural Network works much better at recognizing hand-written digits than the simple linear model in Tutorial #01. The Convolutional Network gets a classification accuracy of about 99%, or even more if you make some adjustments, compared to only 91% for the simple linear model.\n",
        "\n",
        "However, the Convolutional Network is also much more complicated to implement, and it is not obvious from looking at the filter-weights why it works and why it sometimes fails.\n",
        "\n",
        "So we would like an easier way to program Convolutional Neural Networks and we would also like a better way of visualizing their inner workings."
      ]
    },
    {
      "metadata": {
        "id": "TYzzsUpUw_mX",
        "colab_type": "text"
      },
      "cell_type": "markdown",
      "source": [
        "## Exercises\n",
        "\n",
        "These are a few suggestions for exercises that may help improve your skills with TensorFlow. It is important to get hands-on experience with TensorFlow in order to learn how to use it properly.\n",
        "\n",
        "You may want to backup this Notebook before making any changes.\n",
        "\n",
        "* Do you get the exact same results if you run the Notebook multiple times without changing any parameters? What are the sources of randomness?\n",
        "* Run another 10,000 optimization iterations. Are the results better?\n",
        "* Change the learning-rate for the optimizer.\n",
        "* Change the configuration of the layers, such as the number of convolutional filters, the size of those filters, the number of neurons in the fully-connected layer, etc.\n",
        "* Add a so-called drop-out layer after the fully-connected layer. Note that the drop-out probability should be zero when calculating the classification accuracy, so you will need a placeholder variable for this probability.\n",
        "* Change the order of ReLU and max-pooling in the convolutional layer. Does it calculate the same thing? What is the fastest way of computing it? How many calculations are saved? Does it also work for Sigmoid-functions and average-pooling?\n",
        "* Add one or more convolutional and fully-connected layers. Does it help performance?\n",
        "* What is the smallest possible configuration that still gives good results?\n",
        "* Try using ReLU in the last fully-connected layer. Does the performance change? Why?\n",
        "* Try not using pooling in the convolutional layers. Does it change the classification accuracy and training time?\n",
        "* Try using a 2x2 stride in the convolution instead of max-pooling? What is the difference?\n",
        "* Remake the program yourself without looking too much at this source-code.\n",
        "* Explain to a friend how the program works."
      ]
    },
    {
      "metadata": {
        "id": "6ox6CXrtw_mX",
        "colab_type": "text"
      },
      "cell_type": "markdown",
      "source": [
        "## License (MIT)\n",
        "\n",
        "Copyright (c) 2016 by [Magnus Erik Hvass Pedersen](http://www.hvass-labs.org/)\n",
        "\n",
        "Permission is hereby granted, free of charge, to any person obtaining a copy of this software and associated documentation files (the \"Software\"), to deal in the Software without restriction, including without limitation the rights to use, copy, modify, merge, publish, distribute, sublicense, and/or sell copies of the Software, and to permit persons to whom the Software is furnished to do so, subject to the following conditions:\n",
        "\n",
        "The above copyright notice and this permission notice shall be included in all copies or substantial portions of the Software.\n",
        "\n",
        "THE SOFTWARE IS PROVIDED \"AS IS\", WITHOUT WARRANTY OF ANY KIND, EXPRESS OR IMPLIED, INCLUDING BUT NOT LIMITED TO THE WARRANTIES OF MERCHANTABILITY, FITNESS FOR A PARTICULAR PURPOSE AND NONINFRINGEMENT. IN NO EVENT SHALL THE AUTHORS OR COPYRIGHT HOLDERS BE LIABLE FOR ANY CLAIM, DAMAGES OR OTHER LIABILITY, WHETHER IN AN ACTION OF CONTRACT, TORT OR OTHERWISE, ARISING FROM, OUT OF OR IN CONNECTION WITH THE SOFTWARE OR THE USE OR OTHER DEALINGS IN THE SOFTWARE."
      ]
    }
  ]
}